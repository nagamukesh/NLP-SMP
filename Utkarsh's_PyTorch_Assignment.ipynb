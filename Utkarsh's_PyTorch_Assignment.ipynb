{
  "nbformat": 4,
  "nbformat_minor": 0,
  "metadata": {
    "colab": {
      "provenance": [],
      "collapsed_sections": [
        "1tRkI1j1xGzl",
        "IxOFseFaxEQu",
        "DNTlDxZ4C4-R"
      ],
      "include_colab_link": true
    },
    "kernelspec": {
      "name": "python3",
      "display_name": "Python 3"
    },
    "language_info": {
      "name": "python"
    }
  },
  "cells": [
    {
      "cell_type": "markdown",
      "metadata": {
        "id": "view-in-github",
        "colab_type": "text"
      },
      "source": [
        "<a href=\"https://colab.research.google.com/github/nagamukesh/NLP-SMP/blob/Utkarsh_Shukla/Utkarsh's_PyTorch_Assignment.ipynb\" target=\"_parent\"><img src=\"https://colab.research.google.com/assets/colab-badge.svg\" alt=\"Open In Colab\"/></a>"
      ]
    },
    {
      "cell_type": "markdown",
      "source": [
        "#  **PyTorch Practice Assignment**\n",
        "**Name**: Utkarsh Shukla\n",
        "\n",
        "**Roll Number**: 231AI040"
      ],
      "metadata": {
        "id": "CDn9wbMS0a0r"
      }
    },
    {
      "cell_type": "markdown",
      "source": [
        "## **Instructions:**\n",
        "\n",
        "- Copy this Notebook to your own Drive! You cannot directly modify it.\n",
        "- Please show the output of the cells, in case of some operation. You can specify your own **non-trivial** test-case. Also, try and make your snippets into functions to organize your logic.\n",
        "- You can use any number of cells for a question, you are not restricted to just 1 cell!\n",
        "- **No using ChatGPT for this assignment**: we highly recommend using the [Pytorch Docs](https://pytorch.org/docs/stable/index.html) as your start reference, as well as the vast internet however. You can also contact any of your mentors for some hints/help!\n",
        "- You can work on this assignment in Google Colab or on Your Local Machine!"
      ],
      "metadata": {
        "id": "ENyCsRHv1gqA"
      }
    },
    {
      "cell_type": "markdown",
      "source": [
        "### **Build Up Your Understanding**"
      ],
      "metadata": {
        "id": "1tRkI1j1xGzl"
      }
    },
    {
      "cell_type": "markdown",
      "source": [
        "1. Write a PyTorch snippet to test whether none of the elements of a given tensor are zero."
      ],
      "metadata": {
        "id": "R75QYzJlz874"
      }
    },
    {
      "cell_type": "code",
      "execution_count": 35,
      "metadata": {
        "id": "YrnLJibzzT0d",
        "colab": {
          "base_uri": "https://localhost:8080/"
        },
        "outputId": "4562c6d0-07c0-45f2-fe05-b515ef3c0145"
      },
      "outputs": [
        {
          "output_type": "stream",
          "name": "stdout",
          "text": [
            "tensor(True)\n",
            "tensor(False)\n"
          ]
        }
      ],
      "source": [
        "import torch\n",
        "tensor1 = torch.tensor([1,2,3,4])\n",
        "tensor2 = torch.tensor([0,1,2,3])\n",
        "check1 = torch.all(tensor1 != 0)\n",
        "check2 = torch.all(tensor2 !=0)\n",
        "print(check1)\n",
        "print(check2)"
      ]
    },
    {
      "cell_type": "markdown",
      "source": [
        "2. Write a PyTorch snippet to test element-wise for NaN of a given tensor."
      ],
      "metadata": {
        "id": "N65zZ0B20CcN"
      }
    },
    {
      "cell_type": "code",
      "source": [
        "tensor1 = torch.tensor([1.,2.,3.,float('nan'),5.])\n",
        "check1 = torch.isnan(tensor1)\n",
        "print(check1)\n"
      ],
      "metadata": {
        "id": "09XtXleK0Yqx",
        "colab": {
          "base_uri": "https://localhost:8080/"
        },
        "outputId": "b8d0f05e-32f9-44b6-da93-47cd3aef6ed5"
      },
      "execution_count": 36,
      "outputs": [
        {
          "output_type": "stream",
          "name": "stdout",
          "text": [
            "tensor([False, False, False,  True, False])\n"
          ]
        }
      ]
    },
    {
      "cell_type": "markdown",
      "source": [
        "3. Write a PyTorch snippet to test whether two tensors are element-wise equal within a tolerance."
      ],
      "metadata": {
        "id": "nPgqdCS60ZLy"
      }
    },
    {
      "cell_type": "code",
      "source": [
        "tensor1 = torch.tensor([1,2,3,4])\n",
        "tensor2 = torch.tensor([1,2,4,3])\n",
        "tensor3 = torch.tensor([1,2,3,4])\n",
        "torch.equal(tensor1,tensor2) , torch.equal(tensor1,tensor3)"
      ],
      "metadata": {
        "id": "nZlp4IJh1TAG",
        "colab": {
          "base_uri": "https://localhost:8080/"
        },
        "outputId": "e370098b-0cbd-4d2a-f3f2-d42175338bee"
      },
      "execution_count": 37,
      "outputs": [
        {
          "output_type": "execute_result",
          "data": {
            "text/plain": [
              "(False, True)"
            ]
          },
          "metadata": {},
          "execution_count": 37
        }
      ]
    },
    {
      "cell_type": "markdown",
      "source": [
        "4. Write a PyTorch snippet to create a tensor of 10 zeros, 10 ones, and 10 fives stacked on top of each other (try & accomplish everything using nested function calls)."
      ],
      "metadata": {
        "id": "6erc53t11ToS"
      }
    },
    {
      "cell_type": "code",
      "source": [
        "tensor = torch.vstack((torch.zeros(10) , torch.ones(10), torch.full((10,) ,5)))\n",
        "tensor"
      ],
      "metadata": {
        "id": "DX2o4rH81cXb",
        "colab": {
          "base_uri": "https://localhost:8080/"
        },
        "outputId": "41023d85-cb28-4e26-ea84-9322eb82d5fd"
      },
      "execution_count": 38,
      "outputs": [
        {
          "output_type": "execute_result",
          "data": {
            "text/plain": [
              "tensor([[0., 0., 0., 0., 0., 0., 0., 0., 0., 0.],\n",
              "        [1., 1., 1., 1., 1., 1., 1., 1., 1., 1.],\n",
              "        [5., 5., 5., 5., 5., 5., 5., 5., 5., 5.]])"
            ]
          },
          "metadata": {},
          "execution_count": 38
        }
      ]
    },
    {
      "cell_type": "markdown",
      "source": [
        "5. Write a PyTorch snippet to generate a random number between 0 and 1."
      ],
      "metadata": {
        "id": "HVZFHjER15fI"
      }
    },
    {
      "cell_type": "code",
      "source": [
        "temp = torch.rand(1).item()\n",
        "temp"
      ],
      "metadata": {
        "id": "D2sDJxaL16ev",
        "colab": {
          "base_uri": "https://localhost:8080/"
        },
        "outputId": "80f92652-9bba-4c6e-e3d1-252c5bbde548"
      },
      "execution_count": 39,
      "outputs": [
        {
          "output_type": "execute_result",
          "data": {
            "text/plain": [
              "0.6181580424308777"
            ]
          },
          "metadata": {},
          "execution_count": 39
        }
      ]
    },
    {
      "cell_type": "markdown",
      "source": [
        "6. Write a PyTorch snippet to generate a tensor of 15 random numbers from a standard normal distribution."
      ],
      "metadata": {
        "id": "v-bl_RmJ19U2"
      }
    },
    {
      "cell_type": "code",
      "source": [
        "tensor = torch.randn(15)\n",
        "tensor"
      ],
      "metadata": {
        "id": "TwOTzLLz1-Oj",
        "colab": {
          "base_uri": "https://localhost:8080/"
        },
        "outputId": "d2b73471-2ecf-4c14-859d-85c7c8c5bb99"
      },
      "execution_count": 40,
      "outputs": [
        {
          "output_type": "execute_result",
          "data": {
            "text/plain": [
              "tensor([-1.0763, -0.4187, -0.0721, -0.1699, -0.2190,  1.4466,  0.0422, -0.3879,\n",
              "        -0.7586, -0.5039,  0.1146, -1.2711, -0.1306, -0.7882,  0.1213])"
            ]
          },
          "metadata": {},
          "execution_count": 40
        }
      ]
    },
    {
      "cell_type": "markdown",
      "source": [
        "7. Write a Pytorch snippet to create a tensor of length 10 with values evenly distributed between 5 and 50."
      ],
      "metadata": {
        "id": "QbsLwc2e1-wI"
      }
    },
    {
      "cell_type": "code",
      "source": [
        "tensor = torch.linspace(5,50,10)\n",
        "tensor"
      ],
      "metadata": {
        "id": "4x-aEGJy2F_J",
        "colab": {
          "base_uri": "https://localhost:8080/"
        },
        "outputId": "ba4d10fc-3983-487e-f61d-3be13e867cee"
      },
      "execution_count": 41,
      "outputs": [
        {
          "output_type": "execute_result",
          "data": {
            "text/plain": [
              "tensor([ 5., 10., 15., 20., 25., 30., 35., 40., 45., 50.])"
            ]
          },
          "metadata": {},
          "execution_count": 41
        }
      ]
    },
    {
      "cell_type": "markdown",
      "source": [
        "8. Write a Pyorch program to create a tensor with values from 0 to 20 and change the sign of the numbers in the range from 9 to 15."
      ],
      "metadata": {
        "id": "z4t6r6xR2IyJ"
      }
    },
    {
      "cell_type": "code",
      "source": [
        "tensor = torch.arange(0,21)\n",
        "tensor[(tensor>=9) & (tensor<=15)] *= -1\n",
        "tensor"
      ],
      "metadata": {
        "id": "2ckG-mcF2Jda",
        "colab": {
          "base_uri": "https://localhost:8080/"
        },
        "outputId": "be0c40d2-0b23-4575-a39b-1f72727adf48"
      },
      "execution_count": 42,
      "outputs": [
        {
          "output_type": "execute_result",
          "data": {
            "text/plain": [
              "tensor([  0,   1,   2,   3,   4,   5,   6,   7,   8,  -9, -10, -11, -12, -13,\n",
              "        -14, -15,  16,  17,  18,  19,  20])"
            ]
          },
          "metadata": {},
          "execution_count": 42
        }
      ]
    },
    {
      "cell_type": "markdown",
      "source": [
        "9. Write a PyTorch snippet to create a 3x4 2-tensor filled with values from 10 to 21. Same but 12 to 24."
      ],
      "metadata": {
        "id": "n5piPDEY2NXK"
      }
    },
    {
      "cell_type": "code",
      "source": [
        "tensor1 = torch.arange(10,22).reshape(3,4)\n",
        "tensor2 = torch.arange(12,24).reshape(3,4)\n",
        "tensor1,tensor2"
      ],
      "metadata": {
        "id": "zKzFvfPP2OOy",
        "colab": {
          "base_uri": "https://localhost:8080/"
        },
        "outputId": "ff06189d-7014-4fe2-e269-93c7b0f9d538"
      },
      "execution_count": 43,
      "outputs": [
        {
          "output_type": "execute_result",
          "data": {
            "text/plain": [
              "(tensor([[10, 11, 12, 13],\n",
              "         [14, 15, 16, 17],\n",
              "         [18, 19, 20, 21]]),\n",
              " tensor([[12, 13, 14, 15],\n",
              "         [16, 17, 18, 19],\n",
              "         [20, 21, 22, 23]]))"
            ]
          },
          "metadata": {},
          "execution_count": 43
        }
      ]
    },
    {
      "cell_type": "markdown",
      "source": [
        "10. Write a PyTorch snippet to create a 10x10 2-tensor, in which the elements on the borders will be equal to 1, and inside 0."
      ],
      "metadata": {
        "id": "BMbpvCE12UAA"
      }
    },
    {
      "cell_type": "code",
      "source": [
        "tensor = torch.zeros(100).reshape(10,10)\n",
        "tensor[:,0] =1\n",
        "tensor[0,:] =1\n",
        "tensor[9,:]=1\n",
        "tensor[:,9]=1\n",
        "tensor"
      ],
      "metadata": {
        "id": "-e2dvNB12Uv4",
        "colab": {
          "base_uri": "https://localhost:8080/"
        },
        "outputId": "24e57d6a-971c-4990-a6c4-a5086499e783"
      },
      "execution_count": 44,
      "outputs": [
        {
          "output_type": "execute_result",
          "data": {
            "text/plain": [
              "tensor([[1., 1., 1., 1., 1., 1., 1., 1., 1., 1.],\n",
              "        [1., 0., 0., 0., 0., 0., 0., 0., 0., 1.],\n",
              "        [1., 0., 0., 0., 0., 0., 0., 0., 0., 1.],\n",
              "        [1., 0., 0., 0., 0., 0., 0., 0., 0., 1.],\n",
              "        [1., 0., 0., 0., 0., 0., 0., 0., 0., 1.],\n",
              "        [1., 0., 0., 0., 0., 0., 0., 0., 0., 1.],\n",
              "        [1., 0., 0., 0., 0., 0., 0., 0., 0., 1.],\n",
              "        [1., 0., 0., 0., 0., 0., 0., 0., 0., 1.],\n",
              "        [1., 0., 0., 0., 0., 0., 0., 0., 0., 1.],\n",
              "        [1., 1., 1., 1., 1., 1., 1., 1., 1., 1.]])"
            ]
          },
          "metadata": {},
          "execution_count": 44
        }
      ]
    },
    {
      "cell_type": "markdown",
      "source": [
        "11. Write a PyTorch snippet to create a 5x5 zero 2-tensor with elements on the main diagonal equal to 1, 2, 3, 4, 5."
      ],
      "metadata": {
        "id": "3pf24Y0R2YKX"
      }
    },
    {
      "cell_type": "code",
      "source": [
        "# tensor =torch.zeros(5,5)\n",
        "# for i in range(5):\n",
        "#   tensor[i,i] = i+1\n",
        "\n",
        "# tensor = torch.diag(torch.tensor([1,2,3,4,5]))\n",
        "# tensor\n",
        "\n",
        "a = torch.tensor([1,2,3,4,5])\n",
        "torch.diag(a)"
      ],
      "metadata": {
        "id": "eb_vYa5n2Y8O",
        "colab": {
          "base_uri": "https://localhost:8080/"
        },
        "outputId": "b5445576-479e-43e9-ee8c-5f6344a5f604"
      },
      "execution_count": 45,
      "outputs": [
        {
          "output_type": "execute_result",
          "data": {
            "text/plain": [
              "tensor([[1, 0, 0, 0, 0],\n",
              "        [0, 2, 0, 0, 0],\n",
              "        [0, 0, 3, 0, 0],\n",
              "        [0, 0, 0, 4, 0],\n",
              "        [0, 0, 0, 0, 5]])"
            ]
          },
          "metadata": {},
          "execution_count": 45
        }
      ]
    },
    {
      "cell_type": "markdown",
      "source": [
        "12. Write a PyTorch snippet to save a given tensor as a binary to a given path."
      ],
      "metadata": {
        "id": "-BkVD0CA2hWL"
      }
    },
    {
      "cell_type": "code",
      "source": [
        "tensor = torch.tensor([1,2,3])\n",
        "path = 'tensor.path'\n",
        "torch.save(tensor,path)\n",
        "print(f\"Tensor saved to {path}\")"
      ],
      "metadata": {
        "id": "DrpbNVax2igN",
        "colab": {
          "base_uri": "https://localhost:8080/"
        },
        "outputId": "a667d77d-558f-4034-cb82-a4457833bba7"
      },
      "execution_count": 46,
      "outputs": [
        {
          "output_type": "stream",
          "name": "stdout",
          "text": [
            "Tensor saved to tensor.path\n"
          ]
        }
      ]
    },
    {
      "cell_type": "markdown",
      "source": [
        "13. Write a NumPy program to create a two-dimensional array of a specified format."
      ],
      "metadata": {
        "id": "1zoIfD1k2i71"
      }
    },
    {
      "cell_type": "code",
      "source": [
        "tensor =torch.arange(0,10).reshape(2,5)\n",
        "tensor"
      ],
      "metadata": {
        "id": "xXnOECag2zvz",
        "colab": {
          "base_uri": "https://localhost:8080/"
        },
        "outputId": "fa9e62ba-4283-4dda-f5e1-beaf24b279f0"
      },
      "execution_count": 47,
      "outputs": [
        {
          "output_type": "execute_result",
          "data": {
            "text/plain": [
              "tensor([[0, 1, 2, 3, 4],\n",
              "        [5, 6, 7, 8, 9]])"
            ]
          },
          "metadata": {},
          "execution_count": 47
        }
      ]
    },
    {
      "cell_type": "markdown",
      "source": [
        "14. Write a PyTorch snippet to create a 2-tensor with shape (8,5) of random numbers. Select these random numbers (to create the tensor) from a normal distribution (200,7) (mean, variance)."
      ],
      "metadata": {
        "id": "1V6fwGje28Ak"
      }
    },
    {
      "cell_type": "code",
      "source": [
        "mean = 100\n",
        "variance =5\n",
        "std_dev = variance**0.5\n",
        "\n",
        "tensor =torch.normal(mean=mean,std=std_dev,size=(8,5))\n",
        "tensor"
      ],
      "metadata": {
        "id": "f5pdwN9d27Rr",
        "colab": {
          "base_uri": "https://localhost:8080/"
        },
        "outputId": "d44cecf4-6d4e-4269-cb37-c499e5de32fa"
      },
      "execution_count": 48,
      "outputs": [
        {
          "output_type": "execute_result",
          "data": {
            "text/plain": [
              "tensor([[101.9647,  99.8522,  97.3778, 103.0653, 101.0074],\n",
              "        [103.0261, 103.7859,  98.6616,  98.3889, 100.4632],\n",
              "        [ 98.0516, 103.5687,  98.1560,  99.1783,  99.1854],\n",
              "        [101.9067,  98.9280,  97.0661, 105.1781,  98.8094],\n",
              "        [100.2861,  97.1982,  98.8043,  96.8922, 105.1283],\n",
              "        [100.1967,  96.3606,  99.9137,  99.8962, 102.0260],\n",
              "        [ 94.4723,  99.1463, 100.5945, 101.9837,  97.2140],\n",
              "        [ 97.8389, 102.3685, 100.4323, 101.8993, 101.0116]])"
            ]
          },
          "metadata": {},
          "execution_count": 48
        }
      ]
    },
    {
      "cell_type": "markdown",
      "source": [
        "15. Write a PyTorch snippet to generate a uniform, non-uniform random sample from a given vector with and without replacement (do all 4 combinations possible)."
      ],
      "metadata": {
        "id": "hSVeltdw3IoY"
      }
    },
    {
      "cell_type": "code",
      "source": [
        "vector = torch.tensor([1,2,3,4,5,6])\n",
        "\n",
        "#1.) uniform with replacement\n",
        "tensor1 =vector[torch.randint(len(vector),(5,))]\n",
        "print(tensor1)\n",
        "\n",
        "#2.) uniform without replacement\n",
        "tensor2 = vector[torch.randperm(len(vector))[:3]]\n",
        "print(tensor2)\n",
        "\n",
        "#3.) non-uniform with replacement\n",
        "prob = torch.tensor([0.1,0.2,0.3,0.1,0.1,0.2])\n",
        "tensor3 = torch.multinomial(prob,6,replacement=True)\n",
        "tensor3 = vector[tensor3]\n",
        "print(tensor3)\n",
        "\n",
        "#4.) non-uniform without replacement\n",
        "prob = torch.tensor([0.1,0.2,0.3,0.3,0.1,0.0])\n",
        "tensor4 = torch.multinomial(prob,4,replacement=False)\n",
        "tensor4 = vector[tensor4]\n",
        "print(tensor4)"
      ],
      "metadata": {
        "id": "ZfDNMghS3Jof",
        "colab": {
          "base_uri": "https://localhost:8080/"
        },
        "outputId": "76f0a718-12e2-427c-ae94-40ca07b5d671"
      },
      "execution_count": 49,
      "outputs": [
        {
          "output_type": "stream",
          "name": "stdout",
          "text": [
            "tensor([5, 2, 2, 1, 2])\n",
            "tensor([1, 3, 6])\n",
            "tensor([4, 2, 2, 3, 1, 6])\n",
            "tensor([4, 3, 2, 5])\n"
          ]
        }
      ]
    },
    {
      "cell_type": "markdown",
      "source": [
        "16. Write a Pyorch snippet to create an nxn(input to function) tensor with random values. Create an array from the said array swapping first and last rows."
      ],
      "metadata": {
        "id": "DOIrjKBq3MjM"
      }
    },
    {
      "cell_type": "code",
      "source": [
        "def create(n):\n",
        "  tensor = torch.randn(n,n)\n",
        "\n",
        "  print(tensor)\n",
        "  temp =tensor[0].clone()\n",
        "  tensor[0] = tensor[-1]\n",
        "  tensor[-1] =temp\n",
        "  print(\"\\nAfter excahnging\\n\")\n",
        "  print(tensor)\n",
        "\n",
        "n=4\n",
        "create(n)"
      ],
      "metadata": {
        "id": "xFkWtcTN3MI3",
        "colab": {
          "base_uri": "https://localhost:8080/"
        },
        "outputId": "9f2e95a3-af63-49d2-b49d-e222151a3a08"
      },
      "execution_count": 50,
      "outputs": [
        {
          "output_type": "stream",
          "name": "stdout",
          "text": [
            "tensor([[ 0.5431,  0.5509, -0.3650,  0.5430],\n",
            "        [ 1.0790,  0.6896,  0.4424,  0.4024],\n",
            "        [ 1.5815,  2.0017,  0.7321,  1.2462],\n",
            "        [-1.3742,  2.1164,  0.4051, -0.3922]])\n",
            "\n",
            "After excahnging\n",
            "\n",
            "tensor([[-1.3742,  2.1164,  0.4051, -0.3922],\n",
            "        [ 1.0790,  0.6896,  0.4424,  0.4024],\n",
            "        [ 1.5815,  2.0017,  0.7321,  1.2462],\n",
            "        [ 0.5431,  0.5509, -0.3650,  0.5430]])\n"
          ]
        }
      ]
    },
    {
      "cell_type": "markdown",
      "source": [
        "17. Write a PyTorch snippet to sort a given tensor (1D or 2D) in ascending order."
      ],
      "metadata": {
        "id": "e2yl3FJI3SOW"
      }
    },
    {
      "cell_type": "code",
      "source": [
        "tensor1 = torch.tensor([5,54,1,46,9])\n",
        "tensor2 =torch.tensor([10,1,9,2,8,5,3,4,6,7]).reshape(2,5)\n",
        "print(torch.sort(tensor1).values)\n",
        "print(\"\\n\\n\")\n",
        "print(torch.sort(tensor2).values)"
      ],
      "metadata": {
        "id": "FxiCfs8y3R8W",
        "colab": {
          "base_uri": "https://localhost:8080/"
        },
        "outputId": "a1c368d5-3e0d-411e-fa3c-15ba54c8da54"
      },
      "execution_count": 51,
      "outputs": [
        {
          "output_type": "stream",
          "name": "stdout",
          "text": [
            "tensor([ 1,  5,  9, 46, 54])\n",
            "\n",
            "\n",
            "\n",
            "tensor([[ 1,  2,  8,  9, 10],\n",
            "        [ 3,  4,  5,  6,  7]])\n"
          ]
        }
      ]
    },
    {
      "cell_type": "markdown",
      "source": [
        "18. Write a PyTorch snippet to create a tensor of equal shape and data type for a given tensor (any dimensional)"
      ],
      "metadata": {
        "id": "TY1htljY3X50"
      }
    },
    {
      "cell_type": "code",
      "source": [
        "def equal(n):\n",
        "  tensor = torch.randn(n,n)\n",
        "  print(tensor,tensor.dtype)\n",
        "\n",
        "n =3\n",
        "equal(n)\n"
      ],
      "metadata": {
        "id": "br714aF43Xax",
        "colab": {
          "base_uri": "https://localhost:8080/"
        },
        "outputId": "45c282ba-3988-495a-def9-b75a9c12411b"
      },
      "execution_count": 52,
      "outputs": [
        {
          "output_type": "stream",
          "name": "stdout",
          "text": [
            "tensor([[-0.9470,  0.7910, -0.7059],\n",
            "        [ 2.0390, -0.1667, -0.1644],\n",
            "        [ 1.7480,  2.6779,  1.2296]]) torch.float32\n"
          ]
        }
      ]
    },
    {
      "cell_type": "markdown",
      "source": [
        "19. Write a PyTorch snippet to create an 8x8 matrix and fill it with a checkerboard pattern.\n",
        "Checkerboard pattern:\n",
        "```py\n",
        "[[0 1 0 1 0 1 0 1]\n",
        "..........\n",
        "[0 1 0 1 0 1 0 1]\n",
        "[1 0 1 0 1 0 1 0]]\n",
        "```"
      ],
      "metadata": {
        "id": "jWZmWlDz3kE-"
      }
    },
    {
      "cell_type": "code",
      "source": [
        "tensor = torch.ones(8,8)\n",
        "\n",
        "indices = [(i,j) for i in range(8) for j in range(8) if (i+j)%2==0]\n",
        "\n",
        "rows,cols = zip(*indices)\n",
        "\n",
        "tensor[rows,cols]=0\n",
        "\n",
        "tensor"
      ],
      "metadata": {
        "id": "gUQpw8Fg3lag",
        "colab": {
          "base_uri": "https://localhost:8080/"
        },
        "outputId": "58fe3e6a-5a4b-41c4-faec-baf940482315"
      },
      "execution_count": 53,
      "outputs": [
        {
          "output_type": "execute_result",
          "data": {
            "text/plain": [
              "tensor([[0., 1., 0., 1., 0., 1., 0., 1.],\n",
              "        [1., 0., 1., 0., 1., 0., 1., 0.],\n",
              "        [0., 1., 0., 1., 0., 1., 0., 1.],\n",
              "        [1., 0., 1., 0., 1., 0., 1., 0.],\n",
              "        [0., 1., 0., 1., 0., 1., 0., 1.],\n",
              "        [1., 0., 1., 0., 1., 0., 1., 0.],\n",
              "        [0., 1., 0., 1., 0., 1., 0., 1.],\n",
              "        [1., 0., 1., 0., 1., 0., 1., 0.]])"
            ]
          },
          "metadata": {},
          "execution_count": 53
        }
      ]
    },
    {
      "cell_type": "markdown",
      "source": [
        "20. Write a Pytorch snippet to convert Centigrade to Fahrenheit and vice versa (controlled by a parameter). Ensure you operation is vectorized i.e **no explicit looping**\n",
        "\n",
        "Sample Array: `[0, 12, 45.21, 34, 99.91]`"
      ],
      "metadata": {
        "id": "yB4L7Usg364D"
      }
    },
    {
      "cell_type": "code",
      "source": [
        "Celsius = torch.tensor([0, 12, 45.21, 34, 99.91])\n",
        "Farenheit = torch.tensor([0, 12, 45.21, 34, 99.91])\n",
        "#Celsius to Fareheit\n",
        "Faren = Celsius*9/5 +32\n",
        "Cels = (Farenheit-32)*5/9\n",
        "print(Faren)\n",
        "print(Cels)"
      ],
      "metadata": {
        "id": "IPTecJEQ3_JC",
        "colab": {
          "base_uri": "https://localhost:8080/"
        },
        "outputId": "a57a7033-eb18-4b48-d7b3-d8b8ec73cfaa"
      },
      "execution_count": 54,
      "outputs": [
        {
          "output_type": "stream",
          "name": "stdout",
          "text": [
            "tensor([ 32.0000,  53.6000, 113.3780,  93.2000, 211.8380])\n",
            "tensor([-17.7778, -11.1111,   7.3389,   1.1111,  37.7278])\n"
          ]
        }
      ]
    },
    {
      "cell_type": "markdown",
      "source": [
        "21. Write a PyTorch snippet to get the values of the elements that are bigger than a given *number* in a given tensor.\n",
        "\n",
        "Original tensor:\n",
        "```\n",
        "[[ 0 10 20]\n",
        "[20 30 40]]\n",
        "```\n",
        "Number: 10\n",
        "\n",
        "Values bigger than 10 = `[20 20 30 40]`"
      ],
      "metadata": {
        "id": "n8dqXvMZ4oFb"
      }
    },
    {
      "cell_type": "code",
      "source": [
        "tensor = torch.tensor([[9,10,20],[20,30,40]])\n",
        "tensor[tensor>10]"
      ],
      "metadata": {
        "id": "HwoDL-Kr4ww4",
        "colab": {
          "base_uri": "https://localhost:8080/"
        },
        "outputId": "2ada0091-bcb5-4a2f-aafc-a9815229bd20"
      },
      "execution_count": 55,
      "outputs": [
        {
          "output_type": "execute_result",
          "data": {
            "text/plain": [
              "tensor([20, 20, 30, 40])"
            ]
          },
          "metadata": {},
          "execution_count": 55
        }
      ]
    },
    {
      "cell_type": "markdown",
      "source": [
        "22. Write a PyTorch snippet to create another shape from an array without changing its data. After carrying out the operation, change the data in one place and see if the other tensor changes\n",
        "\n",
        "Reshape 3x2:\n",
        "```\n",
        "[[1 2]\n",
        "[3 4]\n",
        "[5 6]]\n",
        "```\n",
        "Reshape 2x3:\n",
        "```\n",
        "[[1 2 3]\n",
        "[4 5 6]]\n",
        "```"
      ],
      "metadata": {
        "id": "QmR9luYk4xaa"
      }
    },
    {
      "cell_type": "code",
      "source": [
        "tensor = torch.arange(1,7).reshape(3,2)\n",
        "print(tensor)\n",
        "tensor.reshape(2,3)"
      ],
      "metadata": {
        "id": "oUvXdmtV5ZRJ",
        "colab": {
          "base_uri": "https://localhost:8080/"
        },
        "outputId": "deca9e05-0e86-4d66-ced4-554b4a38268e"
      },
      "execution_count": 56,
      "outputs": [
        {
          "output_type": "stream",
          "name": "stdout",
          "text": [
            "tensor([[1, 2],\n",
            "        [3, 4],\n",
            "        [5, 6]])\n"
          ]
        },
        {
          "output_type": "execute_result",
          "data": {
            "text/plain": [
              "tensor([[1, 2, 3],\n",
              "        [4, 5, 6]])"
            ]
          },
          "metadata": {},
          "execution_count": 56
        }
      ]
    },
    {
      "cell_type": "markdown",
      "source": [
        "23. Write a PyTorch snipppet to change an tensor's data type.\n",
        "```\n",
        "[[ 2 4 6]\n",
        "[ 6 8 10]]\n",
        "```\n",
        "Data type of the array x is: `int32`\n",
        "\n",
        "New Type: `float64`\n",
        "```\n",
        "[[ 2. 4. 6.]\n",
        "[ 6. 8. 10.]]\n",
        "```"
      ],
      "metadata": {
        "id": "ew1n8aUg5QZA"
      }
    },
    {
      "cell_type": "code",
      "source": [
        "tensor = torch.tensor([2,4,6,6,8,10],dtype=torch.int32).reshape(2,3)\n",
        "print(tensor)\n",
        "print(\"\\n\\n\")\n",
        "tensor = tensor.to(torch.float64)\n",
        "print(tensor)"
      ],
      "metadata": {
        "colab": {
          "base_uri": "https://localhost:8080/"
        },
        "id": "UYsvKDLYVfYE",
        "outputId": "37629391-a586-42f5-85bb-2d13a4a9f2a2"
      },
      "execution_count": 57,
      "outputs": [
        {
          "output_type": "stream",
          "name": "stdout",
          "text": [
            "tensor([[ 2,  4,  6],\n",
            "        [ 6,  8, 10]], dtype=torch.int32)\n",
            "\n",
            "\n",
            "\n",
            "tensor([[ 2.,  4.,  6.],\n",
            "        [ 6.,  8., 10.]], dtype=torch.float64)\n"
          ]
        }
      ]
    },
    {
      "cell_type": "markdown",
      "source": [
        "24. Write a PyTorch snippet to insert a new axis within a 2-tensor, based on a **parameter**.\n",
        "\n",
        "Ex: If 2-tensor has shape (3, 4).\n",
        "\n",
        "Then, new shape can be (1, 3, 4), (3, 1, 4), or (3, 4, 1) depending on...."
      ],
      "metadata": {
        "id": "0hf1vOk75-Df"
      }
    },
    {
      "cell_type": "code",
      "source": [
        "tensor = torch.randn(3,4)\n",
        "tensor1 =torch.unsqueeze(tensor,0)\n",
        "tensor2 =torch.unsqueeze(tensor,1)\n",
        "tensor3 =torch.unsqueeze(tensor,2)\n",
        "print(tensor1.shape,tensor2.shape,tensor3.shape)"
      ],
      "metadata": {
        "id": "38vF5Dwk5Dbi",
        "colab": {
          "base_uri": "https://localhost:8080/"
        },
        "outputId": "5b8fddba-338f-4c0e-badf-140aea5bbf1f"
      },
      "execution_count": 58,
      "outputs": [
        {
          "output_type": "stream",
          "name": "stdout",
          "text": [
            "torch.Size([1, 3, 4]) torch.Size([3, 1, 4]) torch.Size([3, 4, 1])\n"
          ]
        }
      ]
    },
    {
      "cell_type": "markdown",
      "source": [
        "25. Write a PyTorch snippet to stack tensors based on a parameter, **axis**.\n",
        "First discover what this means with 2-tensors, then extend it to 3-tensors. Print your findings.\n",
        "\n",
        "Sample Output:\n",
        "\n",
        "Original tensors:\n",
        "\n",
        "Tensor-1\n",
        "```\n",
        "[[0 1 2]\n",
        "[3 4 5]\n",
        "[6 7 8]]\n",
        "```\n",
        "Tensor-2\n",
        "```\n",
        "[[ 0 3 6]\n",
        "[ 9 12 15]\n",
        "[18 21 24]]\n",
        "```\n",
        "Stack tensors such that axis=1:\n",
        "```\n",
        "[[ 0 1 2 0 3 6]\n",
        "[ 3 4 5 9 12 15]\n",
        "[ 6 7 8 18 21 24]]\n",
        "```"
      ],
      "metadata": {
        "id": "K4GeygLp7wAt"
      }
    },
    {
      "cell_type": "code",
      "source": [
        "tensor1 = torch.tensor([[0, 1, 2],\n",
        "                        [3, 4, 5],\n",
        "                        [6, 7, 8]])\n",
        "\n",
        "tensor2 = torch.tensor([[ 0 ,3, 6],\n",
        "                        [ 9 ,12 ,15],\n",
        "                        [18, 21, 24]])\n",
        "tensor = torch.hstack((tensor1,tensor2))\n",
        "tensor"
      ],
      "metadata": {
        "id": "-37mCkKH75fN",
        "colab": {
          "base_uri": "https://localhost:8080/"
        },
        "outputId": "7d9ee0b7-dbfd-4b65-81d8-0c1af16bd6da"
      },
      "execution_count": 59,
      "outputs": [
        {
          "output_type": "execute_result",
          "data": {
            "text/plain": [
              "tensor([[ 0,  1,  2,  0,  3,  6],\n",
              "        [ 3,  4,  5,  9, 12, 15],\n",
              "        [ 6,  7,  8, 18, 21, 24]])"
            ]
          },
          "metadata": {},
          "execution_count": 59
        }
      ]
    },
    {
      "cell_type": "markdown",
      "source": [
        "26. Write a PyTorch snippet to extract the **m**th to **n**th elements of the **m**th to **n**th rows from the **m**th to nth elemnts of given 3-tensor, of shape `(p, q, r)` where m, n < p, q, r.\n",
        "\n",
        "Take a 3-tensor of (say) size `(5,6,7)` and `(m, n)` = `(4, 5)` as a test case!"
      ],
      "metadata": {
        "id": "6kix-xlh8hFz"
      }
    },
    {
      "cell_type": "code",
      "source": [
        "tensor =torch.randn(3,4,5)\n",
        "print(tensor)\n",
        "tensor[:,:,4:5]"
      ],
      "metadata": {
        "colab": {
          "base_uri": "https://localhost:8080/"
        },
        "id": "9rHLZOxDZo0j",
        "outputId": "d336a5f6-c5ef-48f5-bf3e-cf6014db618d"
      },
      "execution_count": 60,
      "outputs": [
        {
          "output_type": "stream",
          "name": "stdout",
          "text": [
            "tensor([[[-0.0779,  0.4561, -1.0058, -1.8725,  0.6293],\n",
            "         [ 0.8023,  0.1544, -0.9976, -1.1103, -0.1112],\n",
            "         [-2.4766,  0.4462,  1.1233,  0.1677, -1.1646],\n",
            "         [ 0.1312, -0.2329,  0.2001,  0.0685,  0.8460]],\n",
            "\n",
            "        [[-0.2611, -1.5518, -1.2210,  0.9234,  1.0329],\n",
            "         [-2.2934, -0.7097,  0.3261,  0.3914,  1.3670],\n",
            "         [-1.0354,  0.1813,  0.5936, -1.5767,  0.8161],\n",
            "         [ 0.9519,  0.0398,  0.6992,  0.4026,  0.1921]],\n",
            "\n",
            "        [[ 0.7135,  0.5722, -0.3505, -0.7830, -0.7182],\n",
            "         [-0.1164, -0.7077, -0.0804,  1.2338,  0.4430],\n",
            "         [-0.0893, -1.3548, -0.6584,  1.6727, -0.7142],\n",
            "         [ 0.2317, -1.0156, -0.9957, -1.7676,  0.0963]]])\n"
          ]
        },
        {
          "output_type": "execute_result",
          "data": {
            "text/plain": [
              "tensor([[[ 0.6293],\n",
              "         [-0.1112],\n",
              "         [-1.1646],\n",
              "         [ 0.8460]],\n",
              "\n",
              "        [[ 1.0329],\n",
              "         [ 1.3670],\n",
              "         [ 0.8161],\n",
              "         [ 0.1921]],\n",
              "\n",
              "        [[-0.7182],\n",
              "         [ 0.4430],\n",
              "         [-0.7142],\n",
              "         [ 0.0963]]])"
            ]
          },
          "metadata": {},
          "execution_count": 60
        }
      ]
    },
    {
      "cell_type": "markdown",
      "source": [
        "### **Test your Understanding**"
      ],
      "metadata": {
        "id": "IxOFseFaxEQu"
      }
    },
    {
      "cell_type": "markdown",
      "source": [
        "1. Given a 3D tensor of shape `(a, b, c)`*italicised text*, permute its axes to obtain tensors of all other shape combinations (i.e 5)."
      ],
      "metadata": {
        "id": "Vzbo4s_KAsE9"
      }
    },
    {
      "cell_type": "code",
      "source": [
        "tensor = torch.randn(2, 3, 4)\n",
        "\n",
        "# Permute the 3 axes\n",
        "permutations = [(0, 1, 2), (0, 2, 1), (1, 0, 2), (1, 2, 0), (2, 0, 1), (2, 1, 0)]\n",
        "\n",
        "for permutation in permutations:\n",
        "  print(tensor.permute(permutation))\n"
      ],
      "metadata": {
        "id": "R791RvsIAh3O",
        "colab": {
          "base_uri": "https://localhost:8080/"
        },
        "outputId": "3eb502cd-da53-4f66-bd38-d3eef697474c"
      },
      "execution_count": 61,
      "outputs": [
        {
          "output_type": "stream",
          "name": "stdout",
          "text": [
            "tensor([[[-0.5197,  0.9782,  0.3639, -1.0314],\n",
            "         [ 0.4811,  0.8252,  2.1161, -0.7358],\n",
            "         [ 1.9320,  2.7355,  1.8170, -1.2256]],\n",
            "\n",
            "        [[-0.8524, -0.9851,  0.1307, -0.4046],\n",
            "         [-0.9706,  1.1470, -0.2620,  0.4972],\n",
            "         [ 0.1415,  1.3657,  1.5868,  1.2806]]])\n",
            "tensor([[[-0.5197,  0.4811,  1.9320],\n",
            "         [ 0.9782,  0.8252,  2.7355],\n",
            "         [ 0.3639,  2.1161,  1.8170],\n",
            "         [-1.0314, -0.7358, -1.2256]],\n",
            "\n",
            "        [[-0.8524, -0.9706,  0.1415],\n",
            "         [-0.9851,  1.1470,  1.3657],\n",
            "         [ 0.1307, -0.2620,  1.5868],\n",
            "         [-0.4046,  0.4972,  1.2806]]])\n",
            "tensor([[[-0.5197,  0.9782,  0.3639, -1.0314],\n",
            "         [-0.8524, -0.9851,  0.1307, -0.4046]],\n",
            "\n",
            "        [[ 0.4811,  0.8252,  2.1161, -0.7358],\n",
            "         [-0.9706,  1.1470, -0.2620,  0.4972]],\n",
            "\n",
            "        [[ 1.9320,  2.7355,  1.8170, -1.2256],\n",
            "         [ 0.1415,  1.3657,  1.5868,  1.2806]]])\n",
            "tensor([[[-0.5197, -0.8524],\n",
            "         [ 0.9782, -0.9851],\n",
            "         [ 0.3639,  0.1307],\n",
            "         [-1.0314, -0.4046]],\n",
            "\n",
            "        [[ 0.4811, -0.9706],\n",
            "         [ 0.8252,  1.1470],\n",
            "         [ 2.1161, -0.2620],\n",
            "         [-0.7358,  0.4972]],\n",
            "\n",
            "        [[ 1.9320,  0.1415],\n",
            "         [ 2.7355,  1.3657],\n",
            "         [ 1.8170,  1.5868],\n",
            "         [-1.2256,  1.2806]]])\n",
            "tensor([[[-0.5197,  0.4811,  1.9320],\n",
            "         [-0.8524, -0.9706,  0.1415]],\n",
            "\n",
            "        [[ 0.9782,  0.8252,  2.7355],\n",
            "         [-0.9851,  1.1470,  1.3657]],\n",
            "\n",
            "        [[ 0.3639,  2.1161,  1.8170],\n",
            "         [ 0.1307, -0.2620,  1.5868]],\n",
            "\n",
            "        [[-1.0314, -0.7358, -1.2256],\n",
            "         [-0.4046,  0.4972,  1.2806]]])\n",
            "tensor([[[-0.5197, -0.8524],\n",
            "         [ 0.4811, -0.9706],\n",
            "         [ 1.9320,  0.1415]],\n",
            "\n",
            "        [[ 0.9782, -0.9851],\n",
            "         [ 0.8252,  1.1470],\n",
            "         [ 2.7355,  1.3657]],\n",
            "\n",
            "        [[ 0.3639,  0.1307],\n",
            "         [ 2.1161, -0.2620],\n",
            "         [ 1.8170,  1.5868]],\n",
            "\n",
            "        [[-1.0314, -0.4046],\n",
            "         [-0.7358,  0.4972],\n",
            "         [-1.2256,  1.2806]]])\n"
          ]
        }
      ]
    },
    {
      "cell_type": "markdown",
      "source": [
        "2. Given a 4D tensor of shape `(2, 3, 4, 5)`, transpose it to obtain a tensor of shape `(2, 4, 5, 3)`. Also explore what is_contiguous() means..."
      ],
      "metadata": {
        "id": "CwETJF5fAz-j"
      }
    },
    {
      "cell_type": "code",
      "source": [
        "\n",
        "tensor = torch.randn(2, 3, 4, 5)\n",
        "\n",
        "#transpose\n",
        "transposed_tensor = tensor.transpose(1, 2)\n",
        "\n",
        "print(\"Original tensor shape:\", tensor.shape)\n",
        "print(\"Transposed tensor shape:\", transposed_tensor.shape)\n",
        "\n",
        "print(\"\\n\\n\")\n",
        "\n",
        "# Check\n",
        "print(\"Is the transposed tensor contiguous?\", transposed_tensor.is_contiguous())\n",
        "\n",
        "print(\"Is the original tensor contiguous?\", tensor.is_contiguous())\n"
      ],
      "metadata": {
        "id": "tfdlEGx3Ag2B",
        "colab": {
          "base_uri": "https://localhost:8080/"
        },
        "outputId": "715903d6-9fa7-478c-b2e7-00b2c7c94f3e"
      },
      "execution_count": 62,
      "outputs": [
        {
          "output_type": "stream",
          "name": "stdout",
          "text": [
            "Original tensor shape: torch.Size([2, 3, 4, 5])\n",
            "Transposed tensor shape: torch.Size([2, 4, 3, 5])\n",
            "\n",
            "\n",
            "\n",
            "Is the transposed tensor contiguous? False\n",
            "Is the original tensor contiguous? True\n"
          ]
        }
      ]
    },
    {
      "cell_type": "markdown",
      "source": [
        "3. Given two tensors, one of shape (n, 1) and another of shape (m, ), perform an element-wise addition **manually**. Then, test out what direct addition does and compare your results!"
      ],
      "metadata": {
        "id": "W13ajP4aBO3v"
      }
    },
    {
      "cell_type": "code",
      "source": [
        "n=3\n",
        "m=2\n",
        "tensor1 = torch.randn(n,1)\n",
        "tensor2 = torch.randn(m)\n",
        "print(tensor1)\n",
        "print(tensor2)\n",
        "tensor = tensor1 + tensor2\n",
        "print(\"\\n\\n\")\n",
        "print(tensor)\n",
        "\n",
        "manual_tensor1 = tensor1.expand(n,m)\n",
        "manual_tensor2 = tensor2.expand(n,m)\n",
        "manual_tensor = manual_tensor1 + manual_tensor2\n",
        "print(\"\\n\\n\")\n",
        "print(manual_tensor)\n",
        "print(\"\\n\\n\")\n",
        "\n",
        "torch.equal(tensor,manual_tensor)"
      ],
      "metadata": {
        "id": "3AtpWGh1Bdpd",
        "colab": {
          "base_uri": "https://localhost:8080/"
        },
        "outputId": "1894907b-7180-45de-d9fd-587b7baa5d0b"
      },
      "execution_count": 63,
      "outputs": [
        {
          "output_type": "stream",
          "name": "stdout",
          "text": [
            "tensor([[0.8133],\n",
            "        [0.2877],\n",
            "        [1.1858]])\n",
            "tensor([1.3962, 1.6996])\n",
            "\n",
            "\n",
            "\n",
            "tensor([[2.2095, 2.5129],\n",
            "        [1.6840, 1.9873],\n",
            "        [2.5820, 2.8853]])\n",
            "\n",
            "\n",
            "\n",
            "tensor([[2.2095, 2.5129],\n",
            "        [1.6840, 1.9873],\n",
            "        [2.5820, 2.8853]])\n",
            "\n",
            "\n",
            "\n"
          ]
        },
        {
          "output_type": "execute_result",
          "data": {
            "text/plain": [
              "True"
            ]
          },
          "metadata": {},
          "execution_count": 63
        }
      ]
    },
    {
      "cell_type": "markdown",
      "source": [
        "4. Given a 3D tensor of shape `(4, 4, 4)`, extract a sub-tensor of shape `(2, 2, 2)` starting from the element at index `(1, 1, 1)`**bold text**."
      ],
      "metadata": {
        "id": "LnyUlwKWBeUz"
      }
    },
    {
      "cell_type": "code",
      "source": [
        "tensor = torch.randn(4, 4, 4)\n",
        "sub_tensor = tensor[1:3, 1:3, 1:3]\n",
        "print(sub_tensor)"
      ],
      "metadata": {
        "id": "1oRhgDE6BqKg",
        "colab": {
          "base_uri": "https://localhost:8080/"
        },
        "outputId": "c0d095c4-0a8a-4df1-f788-8208b0a27d8a"
      },
      "execution_count": 64,
      "outputs": [
        {
          "output_type": "stream",
          "name": "stdout",
          "text": [
            "tensor([[[-0.8953,  0.6720],\n",
            "         [ 0.4203,  0.1919]],\n",
            "\n",
            "        [[-0.0616, -0.8516],\n",
            "         [-0.2585, -0.1012]]])\n"
          ]
        }
      ]
    },
    {
      "cell_type": "markdown",
      "source": [
        "5. Given a 2-tensor of arbitrary shape, rotate it 90 degrees anticlockwise.\n",
        "\n"
      ],
      "metadata": {
        "id": "-GJaZaZyBsaU"
      }
    },
    {
      "cell_type": "code",
      "source": [
        "tensor = torch.randn(3,4)\n",
        "print(tensor)\n",
        "print(\"\\n\\n\")\n",
        "tensor = torch.rot90(tensor,3) #3 means rotating clockwise 3 times\n",
        "print(tensor)"
      ],
      "metadata": {
        "id": "fb5enhEsB1Um",
        "colab": {
          "base_uri": "https://localhost:8080/"
        },
        "outputId": "f550c3d3-e6d3-4a22-e4c8-eb6172775097"
      },
      "execution_count": 65,
      "outputs": [
        {
          "output_type": "stream",
          "name": "stdout",
          "text": [
            "tensor([[-0.8320,  0.2048,  0.1083,  0.2677],\n",
            "        [-0.4786,  1.4555, -0.7568, -0.0229],\n",
            "        [-0.4035, -0.9299, -0.2689, -0.2635]])\n",
            "\n",
            "\n",
            "\n",
            "tensor([[-0.4035, -0.4786, -0.8320],\n",
            "        [-0.9299,  1.4555,  0.2048],\n",
            "        [-0.2689, -0.7568,  0.1083],\n",
            "        [-0.2635, -0.0229,  0.2677]])\n"
          ]
        }
      ]
    },
    {
      "cell_type": "markdown",
      "source": [
        "### **EVEN I HAD TO THINK...**"
      ],
      "metadata": {
        "id": "DNTlDxZ4C4-R"
      }
    },
    {
      "cell_type": "markdown",
      "source": [
        "1. Implement a custom operation that computes the **element-wise** **sine** of a tensor *and* its **gradient** using torch.autograd.Function.\n",
        "- You need to implement both the forward() and backward() methods.\n",
        "- For an example, look no further than the [PyTorch docs](https://pytorch.org/docs/stable/autograd.html#function)!\n",
        "- Test it out on a matrix of arbitrary size!"
      ],
      "metadata": {
        "id": "Mh71KC4rDAcY"
      }
    },
    {
      "cell_type": "code",
      "source": [],
      "metadata": {
        "id": "0Ntq8CgFC9jy"
      },
      "execution_count": 65,
      "outputs": []
    },
    {
      "cell_type": "markdown",
      "source": [
        "2. One of the most important aspects of improving model performance ins normalization. Implement a custom NN normalization layer that performs either a **batch** or **layer** normalization (based on a **dim** parameter)and integrate it into a simple feedforward neural network.\n",
        "- Note that you dont need to implement any backward() here, for simplicity.\n",
        "- Consider your input tensor to the neural network as of shape (m, n) where m is num of examples, n is num of features.\n",
        "- Which value of **dim** leads to batch and layer normalization?"
      ],
      "metadata": {
        "id": "s6GDwW-dFCyT"
      }
    },
    {
      "cell_type": "code",
      "source": [
        "import torch\n",
        "import torch.nn as nn\n",
        "\n",
        "class normalization(nn.Module):\n",
        "  def __init__(self,dim):\n",
        "    super(normalization,self).__init__()\n",
        "    self.dim =dim\n",
        "\n",
        "  def forward(self,x):\n",
        "    if self.dim ==0:\n",
        "      mean = x.mean(dim=0,keepdim=True)\n",
        "      std = x.std(dim=0,keepdim=True)\n",
        "\n",
        "    elif self.dim==1:\n",
        "      mean = x.mean(dim=1,keepdim=True)\n",
        "      std = x.std(dim=1,keepdim=1)\n",
        "\n",
        "    else:\n",
        "      raise ValueError(\"Not Correct\")\n",
        "\n",
        "    x_norm = (x-mean)/(std+1e-5)\n",
        "    return x_norm\n",
        "\n",
        "class SimpleNN(nn.Module):\n",
        "  def __init__(self,input_size,hidden_size,output_size,norm_dim):\n",
        "    super(SimpleNN,self).__init__()\n",
        "    self.fc1 = nn.Linear(input_size,hidden_size)\n",
        "    self.norm = normalization(norm_dim)\n",
        "    self.relu = nn.ReLU()\n",
        "    self.fc2 = nn.Linear(hidden_size,output_size)\n",
        "\n",
        "  def forward(self,x):\n",
        "    x = self.fc1(x)\n",
        "    x = self.norm(x)\n",
        "    x = self.relu(x)\n",
        "    x = self.fc2(x)\n",
        "    return x\n",
        "\n",
        "if __name__ == \"__main__\":\n",
        "  m,n =5,3\n",
        "  tensor = torch.randn(5,3)\n",
        "\n",
        "  #batch\n",
        "  model_batch = SimpleNN(input_size=n,hidden_size=4,output_size=2,norm_dim=0)\n",
        "  output_batch = model_batch(tensor)\n",
        "  print(output_batch)\n",
        "\n",
        "  print(\"\\n\\n\")\n",
        "\n",
        "  #layer\n",
        "  model_layer = SimpleNN(input_size=n,hidden_size=4,output_size=2,norm_dim=0)\n",
        "  output_layer = model_layer(tensor)\n",
        "  print(output_layer)\n",
        "\n"
      ],
      "metadata": {
        "id": "KiofKZz_FgHd",
        "colab": {
          "base_uri": "https://localhost:8080/"
        },
        "outputId": "8604bb94-b234-473b-c615-04adda5b930d"
      },
      "execution_count": 66,
      "outputs": [
        {
          "output_type": "stream",
          "name": "stdout",
          "text": [
            "tensor([[ 0.3836,  0.1007],\n",
            "        [ 1.4172, -0.1265],\n",
            "        [ 0.3043,  0.3521],\n",
            "        [ 0.2875,  0.1386],\n",
            "        [ 0.3626,  0.1772]], grad_fn=<AddmmBackward0>)\n",
            "\n",
            "\n",
            "\n",
            "tensor([[-0.0420,  0.0778],\n",
            "        [ 0.3311, -0.6246],\n",
            "        [ 0.0943, -0.3324],\n",
            "        [ 0.2444,  0.1055],\n",
            "        [ 0.3223,  0.3490]], grad_fn=<AddmmBackward0>)\n"
          ]
        }
      ]
    },
    {
      "cell_type": "markdown",
      "source": [
        "3. Given a 4D tensor of shape (2, 3, 4, 5), create a mask that sets all elements in positions where the sum of indices is even to zero."
      ],
      "metadata": {
        "id": "YEc0BxM8GGcL"
      }
    },
    {
      "cell_type": "code",
      "source": [
        "tensor = torch.randn(2,3,4,5)\n",
        "i = torch.arange(2).view(-1, 1, 1, 1)\n",
        "j = torch.arange(3).view(1, -1, 1, 1)\n",
        "k = torch.arange(4).view(1, 1, -1, 1)\n",
        "l = torch.arange(5).view(1, 1, 1, -1)\n",
        "\n",
        "index_sum = i+j+k+l\n",
        "\n",
        "mask = (index_sum%2==0)\n",
        "tensor[mask] =0\n",
        "\n",
        "print(tensor)"
      ],
      "metadata": {
        "id": "pJ3FD5XiGLh8",
        "colab": {
          "base_uri": "https://localhost:8080/"
        },
        "outputId": "8ee40248-40e2-46e1-b7b5-c3b3341a17a9"
      },
      "execution_count": 67,
      "outputs": [
        {
          "output_type": "stream",
          "name": "stdout",
          "text": [
            "tensor([[[[ 0.0000,  1.2557,  0.0000,  0.1397,  0.0000],\n",
            "          [ 0.7438,  0.0000,  0.1897,  0.0000, -0.8333],\n",
            "          [ 0.0000,  0.6784,  0.0000, -0.5687,  0.0000],\n",
            "          [ 1.4207,  0.0000,  1.2804,  0.0000,  2.2463]],\n",
            "\n",
            "         [[ 1.3629,  0.0000,  1.4021,  0.0000, -0.6124],\n",
            "          [ 0.0000,  1.0391,  0.0000,  0.2045,  0.0000],\n",
            "          [-1.3030,  0.0000, -0.6112,  0.0000, -1.5240],\n",
            "          [ 0.0000,  0.6780,  0.0000,  0.7339,  0.0000]],\n",
            "\n",
            "         [[ 0.0000,  1.6859,  0.0000,  0.1993,  0.0000],\n",
            "          [ 0.1867,  0.0000,  1.1641,  0.0000, -0.0512],\n",
            "          [ 0.0000,  0.7173,  0.0000, -0.5566,  0.0000],\n",
            "          [ 0.2305,  0.0000,  1.4207,  0.0000, -1.0724]]],\n",
            "\n",
            "\n",
            "        [[[ 0.0301,  0.0000,  0.9711,  0.0000, -2.2609],\n",
            "          [ 0.0000, -0.7113,  0.0000, -0.8947,  0.0000],\n",
            "          [ 0.2279,  0.0000, -1.1782,  0.0000,  0.9799],\n",
            "          [ 0.0000,  0.0682,  0.0000, -0.9271,  0.0000]],\n",
            "\n",
            "         [[ 0.0000,  0.2725,  0.0000, -1.3730,  0.0000],\n",
            "          [ 0.3387,  0.0000, -0.6136,  0.0000, -0.9379],\n",
            "          [ 0.0000, -0.3486,  0.0000, -0.3657,  0.0000],\n",
            "          [-0.3858,  0.0000,  0.4201,  0.0000,  0.3246]],\n",
            "\n",
            "         [[ 0.3345,  0.0000,  0.6791,  0.0000,  1.8518],\n",
            "          [ 0.0000, -0.4851,  0.0000,  0.1479,  0.0000],\n",
            "          [ 1.0345,  0.0000, -0.0687,  0.0000,  0.4616],\n",
            "          [ 0.0000,  0.9947,  0.0000,  0.2031,  0.0000]]]])\n"
          ]
        }
      ]
    },
    {
      "cell_type": "markdown",
      "source": [
        "3. Given two tensors, one of shape `(3, 1, 4)` and another of shape `(1, 5, 1)`, compute their element-wise multiplication using broadcasting and then sum over specific axes to obtain a tensor of shape `(3, 5)`."
      ],
      "metadata": {
        "id": "Tv557NaJGMlQ"
      }
    },
    {
      "cell_type": "code",
      "source": [
        "tensor1 =torch.randn(3,1,4)\n",
        "tensor2 = torch.randn(1,5,1)\n",
        "\n",
        "resultant = tensor1*tensor2\n",
        "\n",
        "summed = resultant.sum(dim=2)\n",
        "print(tensor1)\n",
        "print(\"\\n\")\n",
        "print(tensor2)\n",
        "print(\"\\n\")\n",
        "print(resultant)\n",
        "print(\"\\n\")\n",
        "print(summed)\n",
        "print(\"\\n\")"
      ],
      "metadata": {
        "id": "qP3EGgyXGMMH",
        "colab": {
          "base_uri": "https://localhost:8080/"
        },
        "outputId": "3a134fbc-5f79-4608-969f-64c62f948d5e"
      },
      "execution_count": 68,
      "outputs": [
        {
          "output_type": "stream",
          "name": "stdout",
          "text": [
            "tensor([[[ 0.2926, -1.0588,  0.1333, -0.9669]],\n",
            "\n",
            "        [[ 0.5134,  1.3692, -0.0501, -1.0764]],\n",
            "\n",
            "        [[-0.7274, -0.9880, -0.5844,  0.6881]]])\n",
            "\n",
            "\n",
            "tensor([[[ 0.7202],\n",
            "         [-0.9762],\n",
            "         [-1.0445],\n",
            "         [ 1.2190],\n",
            "         [-1.0967]]])\n",
            "\n",
            "\n",
            "tensor([[[ 0.2107, -0.7625,  0.0960, -0.6963],\n",
            "         [-0.2856,  1.0335, -0.1301,  0.9438],\n",
            "         [-0.3056,  1.1059, -0.1392,  1.0099],\n",
            "         [ 0.3566, -1.2907,  0.1625, -1.1787],\n",
            "         [-0.3209,  1.1612, -0.1462,  1.0604]],\n",
            "\n",
            "        [[ 0.3698,  0.9861, -0.0361, -0.7752],\n",
            "         [-0.5012, -1.3365,  0.0489,  1.0507],\n",
            "         [-0.5363, -1.4301,  0.0524,  1.1242],\n",
            "         [ 0.6259,  1.6691, -0.0611, -1.3121],\n",
            "         [-0.5631, -1.5016,  0.0550,  1.1804]],\n",
            "\n",
            "        [[-0.5239, -0.7116, -0.4209,  0.4956],\n",
            "         [ 0.7101,  0.9645,  0.5705, -0.6717],\n",
            "         [ 0.7598,  1.0320,  0.6104, -0.7187],\n",
            "         [-0.8868, -1.2045, -0.7124,  0.8388],\n",
            "         [ 0.7978,  1.0836,  0.6409, -0.7546]]])\n",
            "\n",
            "\n",
            "tensor([[-1.1522,  1.5617,  1.6710, -1.9502,  1.7545],\n",
            "        [ 0.5446, -0.7381, -0.7898,  0.9217, -0.8292],\n",
            "        [-1.1608,  1.5734,  1.6835, -1.9648,  1.7676]])\n",
            "\n",
            "\n"
          ]
        }
      ]
    },
    {
      "cell_type": "code",
      "source": [],
      "metadata": {
        "id": "-HVK0vXxOmVe"
      },
      "execution_count": 68,
      "outputs": []
    }
  ]
}