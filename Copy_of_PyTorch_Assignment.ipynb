{
  "nbformat": 4,
  "nbformat_minor": 0,
  "metadata": {
    "colab": {
      "provenance": [],
      "include_colab_link": true
    },
    "kernelspec": {
      "name": "python3",
      "display_name": "Python 3"
    },
    "language_info": {
      "name": "python"
    }
  },
  "cells": [
    {
      "cell_type": "markdown",
      "metadata": {
        "id": "view-in-github",
        "colab_type": "text"
      },
      "source": [
        "<a href=\"https://colab.research.google.com/github/nagamukesh/NLP-SMP/blob/Sanstuti_Mishra/Copy_of_PyTorch_Assignment.ipynb\" target=\"_parent\"><img src=\"https://colab.research.google.com/assets/colab-badge.svg\" alt=\"Open In Colab\"/></a>"
      ]
    },
    {
      "cell_type": "markdown",
      "source": [
        "#  **PyTorch Practice Assignment**\n",
        "**Name**: Sanstuti Mishra\n",
        "\n",
        "**Roll Number**: 231ME247\n"
      ],
      "metadata": {
        "id": "CDn9wbMS0a0r"
      }
    },
    {
      "cell_type": "markdown",
      "source": [
        "## **Instructions:**\n",
        "\n",
        "- Copy this Notebook to your own Drive! You cannot directly modify it.\n",
        "- Please show the output of the cells, in case of some operation. You can specify your own **non-trivial** test-case. Also, try and make your snippets into functions to organize your logic.\n",
        "- You can use any number of cells for a question, you are not restricted to just 1 cell!\n",
        "- **No using ChatGPT for this assignment**: we highly recommend using the [Pytorch Docs](https://pytorch.org/docs/stable/index.html) as your start reference, as well as the vast internet however. You can also contact any of your mentors for some hints/help!\n",
        "- You can work on this assignment in Google Colab or on Your Local Machine!"
      ],
      "metadata": {
        "id": "ENyCsRHv1gqA"
      }
    },
    {
      "cell_type": "markdown",
      "source": [
        "### **Build Up Your Understanding**"
      ],
      "metadata": {
        "id": "1tRkI1j1xGzl"
      }
    },
    {
      "cell_type": "markdown",
      "source": [
        "1. Write a PyTorch snippet to test whether none of the elements of a given tensor are zero."
      ],
      "metadata": {
        "id": "R75QYzJlz874"
      }
    },
    {
      "cell_type": "code",
      "execution_count": null,
      "metadata": {
        "id": "YrnLJibzzT0d",
        "colab": {
          "base_uri": "https://localhost:8080/"
        },
        "outputId": "57cafdf6-e191-4e07-c0d1-47d9e0fd3f29"
      },
      "outputs": [
        {
          "output_type": "stream",
          "name": "stdout",
          "text": [
            "True\n"
          ]
        }
      ],
      "source": [
        "import torch\n",
        "\n",
        "def nonzero_elements(tensor):\n",
        "    return len(torch.nonzero(tensor)) > 0\n",
        "\n",
        "# Example usage:\n",
        "tensor = torch.tensor([1, 2, 0, 3, 0])\n",
        "print(nonzero_elements(tensor))        #Output:True"
      ]
    },
    {
      "cell_type": "markdown",
      "source": [
        "2. Write a PyTorch snippet to test element-wise for NaN of a given tensor."
      ],
      "metadata": {
        "id": "N65zZ0B20CcN"
      }
    },
    {
      "cell_type": "code",
      "source": [
        "import torch\n",
        "\n",
        "def nan_elements(tensor):\n",
        "    return torch.isnan(tensor).any()\n",
        "\n",
        "# Example usage:\n",
        "tensor = torch.tensor([1.0, 2.0, float('nan'), 3.0])\n",
        "print(nan_elements(tensor))       #Output:tensor(True)"
      ],
      "metadata": {
        "id": "09XtXleK0Yqx",
        "colab": {
          "base_uri": "https://localhost:8080/"
        },
        "outputId": "14bf44a1-aca0-4906-c674-2b36915d6802"
      },
      "execution_count": null,
      "outputs": [
        {
          "output_type": "stream",
          "name": "stdout",
          "text": [
            "tensor(True)\n"
          ]
        }
      ]
    },
    {
      "cell_type": "markdown",
      "source": [
        "3. Write a PyTorch snippet to test whether two tensors are element-wise equal within a tolerance."
      ],
      "metadata": {
        "id": "nPgqdCS60ZLy"
      }
    },
    {
      "cell_type": "code",
      "source": [
        "import torch\n",
        "\n",
        "def equal_or_not(tensor1, tensor2, tolerance):\n",
        "    return torch.allclose(tensor1, tensor2, tolerance)\n",
        "\n",
        "# Example usage:\n",
        "tensor1 = torch.tensor([1.0, 2.0, 3.0])\n",
        "tensor2 = torch.tensor([1.01, 2.02, 3.03])\n",
        "tolerance = 1e-2\n",
        "\n",
        "print(equal_or_not(tensor1, tensor2, tolerance)) #Output: True"
      ],
      "metadata": {
        "id": "nZlp4IJh1TAG",
        "colab": {
          "base_uri": "https://localhost:8080/"
        },
        "outputId": "8718725e-afa6-4fbf-d2f3-445ceb46972e"
      },
      "execution_count": null,
      "outputs": [
        {
          "output_type": "stream",
          "name": "stdout",
          "text": [
            "True\n"
          ]
        }
      ]
    },
    {
      "cell_type": "markdown",
      "source": [
        "4. Write a PyTorch snippet to create a tensor of 10 zeros, 10 ones, and 10 fives stacked on top of each other (try & accomplish everything using nested function calls)."
      ],
      "metadata": {
        "id": "6erc53t11ToS"
      }
    },
    {
      "cell_type": "code",
      "source": [],
      "metadata": {
        "id": "DX2o4rH81cXb"
      },
      "execution_count": null,
      "outputs": []
    },
    {
      "cell_type": "markdown",
      "source": [
        "5. Write a PyTorch snippet to generate a random number between 0 and 1."
      ],
      "metadata": {
        "id": "HVZFHjER15fI"
      }
    },
    {
      "cell_type": "code",
      "source": [
        "import torch\n",
        "\n",
        "def random_number():\n",
        "    return torch.rand(1).item()\n",
        "\n",
        "# Example usage:\n",
        "print(random_number())"
      ],
      "metadata": {
        "id": "D2sDJxaL16ev",
        "colab": {
          "base_uri": "https://localhost:8080/"
        },
        "outputId": "811276ff-34f1-460e-ac4b-3b262e6a1fce"
      },
      "execution_count": null,
      "outputs": [
        {
          "output_type": "stream",
          "name": "stdout",
          "text": [
            "0.38988208770751953\n"
          ]
        }
      ]
    },
    {
      "cell_type": "markdown",
      "source": [
        "6. Write a PyTorch snippet to generate a tensor of 15 random numbers from a standard normal distribution."
      ],
      "metadata": {
        "id": "v-bl_RmJ19U2"
      }
    },
    {
      "cell_type": "code",
      "source": [
        "import torch\n",
        "\n",
        "def random_tensor():\n",
        "    return torch.randn(15)\n",
        "\n",
        "# Example usage:\n",
        "print(random_tensor())"
      ],
      "metadata": {
        "id": "TwOTzLLz1-Oj",
        "colab": {
          "base_uri": "https://localhost:8080/"
        },
        "outputId": "86a42630-a932-4957-a63c-6d02375b2d1d"
      },
      "execution_count": null,
      "outputs": [
        {
          "output_type": "stream",
          "name": "stdout",
          "text": [
            "tensor([ 0.7600,  0.5972, -0.1885, -0.0633,  1.1972,  1.6491, -1.7098, -0.9246,\n",
            "         1.2610, -1.2940,  0.8311, -0.1468, -1.7141,  0.5369,  0.1142])\n"
          ]
        }
      ]
    },
    {
      "cell_type": "markdown",
      "source": [
        "7. Write a Pytorch snippet to create a tensor of length 10 with values evenly distributed between 5 and 50."
      ],
      "metadata": {
        "id": "QbsLwc2e1-wI"
      }
    },
    {
      "cell_type": "code",
      "source": [
        "import torch\n",
        "\n",
        "def even_tensor():\n",
        "    return torch.linspace(5, 50, 10)\n",
        "\n",
        "# Example usage:\n",
        "print(even_tensor())\n",
        "#Output: tensor([ 5., 10., 15., 20., 25., 30., 35., 40., 45., 50.])"
      ],
      "metadata": {
        "id": "4x-aEGJy2F_J",
        "colab": {
          "base_uri": "https://localhost:8080/"
        },
        "outputId": "b339b3ab-f439-4702-8c37-479e2dc8898c"
      },
      "execution_count": null,
      "outputs": [
        {
          "output_type": "stream",
          "name": "stdout",
          "text": [
            "tensor([ 5., 10., 15., 20., 25., 30., 35., 40., 45., 50.])\n"
          ]
        }
      ]
    },
    {
      "cell_type": "markdown",
      "source": [
        "8. Write a Pyorch program to create a tensor with values from 0 to 20 and change the sign of the numbers in the range from 9 to 15."
      ],
      "metadata": {
        "id": "z4t6r6xR2IyJ"
      }
    },
    {
      "cell_type": "code",
      "source": [
        "import torch\n",
        "\n",
        "tensor = torch.arange(21)\n",
        "tensor[9:16] *= -1\n",
        "\n",
        "print(tensor)\n"
      ],
      "metadata": {
        "id": "2ckG-mcF2Jda",
        "colab": {
          "base_uri": "https://localhost:8080/"
        },
        "outputId": "2ba3d5e8-5508-4cc4-a722-8e727c04de1c"
      },
      "execution_count": 58,
      "outputs": [
        {
          "output_type": "stream",
          "name": "stdout",
          "text": [
            "tensor([  0,   1,   2,   3,   4,   5,   6,   7,   8,  -9, -10, -11, -12, -13,\n",
            "        -14, -15,  16,  17,  18,  19,  20])\n"
          ]
        }
      ]
    },
    {
      "cell_type": "markdown",
      "source": [
        "9. Write a PyTorch snippet to create a 3x4 2-tensor filled with values from 10 to 21. Same but 12 to 24."
      ],
      "metadata": {
        "id": "n5piPDEY2NXK"
      }
    },
    {
      "cell_type": "code",
      "source": [
        "import torch\n",
        "\n",
        "def create_tensor(lower_range, higher_range):\n",
        "    new_tensor = torch.arange(lower_range, (higher_range+1)).reshape(3, 4)\n",
        "    return new_tensor\n",
        "\n",
        "# Example usage:\n",
        "print(create_tensor(10, 21))\n",
        "print(create_tensor(12, 23))"
      ],
      "metadata": {
        "id": "zKzFvfPP2OOy",
        "colab": {
          "base_uri": "https://localhost:8080/"
        },
        "outputId": "deaf9324-6cfa-4329-c385-a7f3346bb469"
      },
      "execution_count": 65,
      "outputs": [
        {
          "output_type": "stream",
          "name": "stdout",
          "text": [
            "tensor([[10, 11, 12, 13],\n",
            "        [14, 15, 16, 17],\n",
            "        [18, 19, 20, 21]])\n",
            "tensor([[12, 13, 14, 15],\n",
            "        [16, 17, 18, 19],\n",
            "        [20, 21, 22, 23]])\n"
          ]
        }
      ]
    },
    {
      "cell_type": "markdown",
      "source": [
        "10. Write a PyTorch snippet to create a 10x10 2-tensor, in which the elements on the borders will be equal to 1, and inside 0."
      ],
      "metadata": {
        "id": "BMbpvCE12UAA"
      }
    },
    {
      "cell_type": "code",
      "source": [
        "import torch\n",
        "\n",
        "tensor = torch.zeros(10, 10)\n",
        "\n",
        "tensor[0, :] = 1\n",
        "tensor[:, 0] = 1\n",
        "tensor[-1, :] = 1\n",
        "tensor[:, -1] = 1\n",
        "\n",
        "print(tensor)"
      ],
      "metadata": {
        "id": "-e2dvNB12Uv4",
        "colab": {
          "base_uri": "https://localhost:8080/"
        },
        "outputId": "a5d942f2-cc28-474e-f639-645291af4c6f"
      },
      "execution_count": 68,
      "outputs": [
        {
          "output_type": "stream",
          "name": "stdout",
          "text": [
            "tensor([[1., 1., 1., 1., 1., 1., 1., 1., 1., 1.],\n",
            "        [1., 0., 0., 0., 0., 0., 0., 0., 0., 1.],\n",
            "        [1., 0., 0., 0., 0., 0., 0., 0., 0., 1.],\n",
            "        [1., 0., 0., 0., 0., 0., 0., 0., 0., 1.],\n",
            "        [1., 0., 0., 0., 0., 0., 0., 0., 0., 1.],\n",
            "        [1., 0., 0., 0., 0., 0., 0., 0., 0., 1.],\n",
            "        [1., 0., 0., 0., 0., 0., 0., 0., 0., 1.],\n",
            "        [1., 0., 0., 0., 0., 0., 0., 0., 0., 1.],\n",
            "        [1., 0., 0., 0., 0., 0., 0., 0., 0., 1.],\n",
            "        [1., 1., 1., 1., 1., 1., 1., 1., 1., 1.]])\n"
          ]
        }
      ]
    },
    {
      "cell_type": "markdown",
      "source": [
        "11. Write a PyTorch snippet to create a 5x5 zero 2-tensor with elements on the main diagonal equal to 1, 2, 3, 4, 5."
      ],
      "metadata": {
        "id": "3pf24Y0R2YKX"
      }
    },
    {
      "cell_type": "code",
      "source": [
        "import torch\n",
        "\n",
        "tensor = torch.zeros(5, 5)\n",
        "\n",
        "values = torch.tensor([1, 2, 3, 4, 5])\n",
        "tensor = torch.diag_embed(values, offset=0, dim1=-2, dim2=-1)\n",
        "\n",
        "print(tensor)"
      ],
      "metadata": {
        "id": "eb_vYa5n2Y8O",
        "colab": {
          "base_uri": "https://localhost:8080/"
        },
        "outputId": "7fe36649-634d-43a0-8bba-685b2e45a4c8"
      },
      "execution_count": 76,
      "outputs": [
        {
          "output_type": "stream",
          "name": "stdout",
          "text": [
            "tensor([[1, 0, 0, 0, 0],\n",
            "        [0, 2, 0, 0, 0],\n",
            "        [0, 0, 3, 0, 0],\n",
            "        [0, 0, 0, 4, 0],\n",
            "        [0, 0, 0, 0, 5]])\n"
          ]
        }
      ]
    },
    {
      "cell_type": "markdown",
      "source": [
        "12. Write a PyTorch snippet to save a given tensor as a binary to a given path."
      ],
      "metadata": {
        "id": "-BkVD0CA2hWL"
      }
    },
    {
      "cell_type": "code",
      "source": [
        "import torch\n",
        "\n",
        "def save_tensor(tensor, path):\n",
        "    torch.save(tensor, path)\n",
        "\n",
        "# Example usage:\n",
        "tensor = torch.tensor([[1, 2, 3],\n",
        "                       [4, 5, 6]])\n",
        "\n",
        "path = 'tensor.pt'\n",
        "save_tensor(tensor, path)"
      ],
      "metadata": {
        "id": "DrpbNVax2igN"
      },
      "execution_count": 78,
      "outputs": []
    },
    {
      "cell_type": "markdown",
      "source": [
        "13. Write a NumPy program to create a two-dimensional array of a specified format."
      ],
      "metadata": {
        "id": "1zoIfD1k2i71"
      }
    },
    {
      "cell_type": "code",
      "source": [
        "import numpy as np\n",
        "\n",
        "numpy_array = np.full((2, 2), 2)\n",
        "print(numpy_array)"
      ],
      "metadata": {
        "id": "xXnOECag2zvz",
        "colab": {
          "base_uri": "https://localhost:8080/"
        },
        "outputId": "ebcbf718-eccb-4e1b-a2c3-3d10e7f9cf1b"
      },
      "execution_count": 83,
      "outputs": [
        {
          "output_type": "stream",
          "name": "stdout",
          "text": [
            "[[2 2]\n",
            " [2 2]]\n"
          ]
        }
      ]
    },
    {
      "cell_type": "markdown",
      "source": [
        "14. Write a PyTorch snippet to create a 2-tensor with shape (8,5) of random numbers. Select these random numbers (to create the tensor) from a normal distribution (200,7) (mean, variance)."
      ],
      "metadata": {
        "id": "1V6fwGje28Ak"
      }
    },
    {
      "cell_type": "code",
      "source": [
        "import torch\n",
        "\n",
        "mean = 200\n",
        "variance = 7\n",
        "normal_distribution = torch.normal(mean=torch.tensor(mean), std=torch.tensor(variance))\n",
        "tensor_shape = (8, 5)\n",
        "random_tensor = normal_distribution.view(*tensor_shape)\n",
        "\n",
        "print(random_tensor)\n"
      ],
      "metadata": {
        "id": "f5pdwN9d27Rr",
        "colab": {
          "base_uri": "https://localhost:8080/",
          "height": 211
        },
        "outputId": "dc98cfb2-1aec-4229-8731-7a28b6a47d24"
      },
      "execution_count": 92,
      "outputs": [
        {
          "output_type": "error",
          "ename": "RuntimeError",
          "evalue": "\"normal_kernel_cpu\" not implemented for 'Long'",
          "traceback": [
            "\u001b[0;31m---------------------------------------------------------------------------\u001b[0m",
            "\u001b[0;31mRuntimeError\u001b[0m                              Traceback (most recent call last)",
            "\u001b[0;32m<ipython-input-92-779af655a25c>\u001b[0m in \u001b[0;36m<cell line: 5>\u001b[0;34m()\u001b[0m\n\u001b[1;32m      3\u001b[0m \u001b[0mmean\u001b[0m \u001b[0;34m=\u001b[0m \u001b[0;36m200\u001b[0m\u001b[0;34m\u001b[0m\u001b[0;34m\u001b[0m\u001b[0m\n\u001b[1;32m      4\u001b[0m \u001b[0mvariance\u001b[0m \u001b[0;34m=\u001b[0m \u001b[0;36m7\u001b[0m\u001b[0;34m\u001b[0m\u001b[0;34m\u001b[0m\u001b[0m\n\u001b[0;32m----> 5\u001b[0;31m \u001b[0mnormal_distribution\u001b[0m \u001b[0;34m=\u001b[0m \u001b[0mtorch\u001b[0m\u001b[0;34m.\u001b[0m\u001b[0mnormal\u001b[0m\u001b[0;34m(\u001b[0m\u001b[0mmean\u001b[0m\u001b[0;34m=\u001b[0m\u001b[0mtorch\u001b[0m\u001b[0;34m.\u001b[0m\u001b[0mtensor\u001b[0m\u001b[0;34m(\u001b[0m\u001b[0mmean\u001b[0m\u001b[0;34m)\u001b[0m\u001b[0;34m,\u001b[0m \u001b[0mstd\u001b[0m\u001b[0;34m=\u001b[0m\u001b[0mtorch\u001b[0m\u001b[0;34m.\u001b[0m\u001b[0mtensor\u001b[0m\u001b[0;34m(\u001b[0m\u001b[0mvariance\u001b[0m\u001b[0;34m)\u001b[0m\u001b[0;34m)\u001b[0m\u001b[0;34m\u001b[0m\u001b[0;34m\u001b[0m\u001b[0m\n\u001b[0m\u001b[1;32m      6\u001b[0m \u001b[0mtensor_shape\u001b[0m \u001b[0;34m=\u001b[0m \u001b[0;34m(\u001b[0m\u001b[0;36m8\u001b[0m\u001b[0;34m,\u001b[0m \u001b[0;36m5\u001b[0m\u001b[0;34m)\u001b[0m\u001b[0;34m\u001b[0m\u001b[0;34m\u001b[0m\u001b[0m\n\u001b[1;32m      7\u001b[0m \u001b[0mrandom_tensor\u001b[0m \u001b[0;34m=\u001b[0m \u001b[0mnormal_distribution\u001b[0m\u001b[0;34m.\u001b[0m\u001b[0mview\u001b[0m\u001b[0;34m(\u001b[0m\u001b[0;34m*\u001b[0m\u001b[0mtensor_shape\u001b[0m\u001b[0;34m)\u001b[0m\u001b[0;34m\u001b[0m\u001b[0;34m\u001b[0m\u001b[0m\n",
            "\u001b[0;31mRuntimeError\u001b[0m: \"normal_kernel_cpu\" not implemented for 'Long'"
          ]
        }
      ]
    },
    {
      "cell_type": "markdown",
      "source": [
        "15. Write a PyTorch snippet to generate a uniform, non-uniform random sample from a given vector with and without replacement (do all 4 combinations possible)."
      ],
      "metadata": {
        "id": "hSVeltdw3IoY"
      }
    },
    {
      "cell_type": "code",
      "source": [],
      "metadata": {
        "id": "ZfDNMghS3Jof"
      },
      "execution_count": 91,
      "outputs": []
    },
    {
      "cell_type": "markdown",
      "source": [
        "16. Write a Pyorch snippet to create an nxn(input to function) tensor with random values. Create an array from the said array swapping first and last rows."
      ],
      "metadata": {
        "id": "DOIrjKBq3MjM"
      }
    },
    {
      "cell_type": "code",
      "source": [
        "import torch\n",
        "\n",
        "def random_tensor(n):\n",
        "    return torch.rand((n, n))\n",
        "\n",
        "# Example usage\n",
        "n = 5\n",
        "new_tensor = random_tensor(n)\n",
        "print(new_tensor)\n",
        "\n",
        "def swap(tensor):\n",
        "    tensor[0], tensor[-1] = tensor[-1], tensor[0]\n",
        "    return tensor\n",
        "\n",
        "swap(new_tensor)\n",
        "print(new_tensor)\n"
      ],
      "metadata": {
        "id": "xFkWtcTN3MI3",
        "colab": {
          "base_uri": "https://localhost:8080/"
        },
        "outputId": "8633aa11-5a07-4bd2-9510-e37931a5137b"
      },
      "execution_count": 99,
      "outputs": [
        {
          "output_type": "stream",
          "name": "stdout",
          "text": [
            "tensor([[0.9938, 0.4837, 0.1191, 0.6261, 0.2492],\n",
            "        [0.1238, 0.8463, 0.8669, 0.9866, 0.7566],\n",
            "        [0.7651, 0.6654, 0.1065, 0.1313, 0.7377],\n",
            "        [0.9805, 0.9058, 0.1119, 0.3761, 0.2116],\n",
            "        [0.2598, 0.1797, 0.0566, 0.7213, 0.0283]])\n",
            "tensor([[0.2598, 0.1797, 0.0566, 0.7213, 0.0283],\n",
            "        [0.1238, 0.8463, 0.8669, 0.9866, 0.7566],\n",
            "        [0.7651, 0.6654, 0.1065, 0.1313, 0.7377],\n",
            "        [0.9805, 0.9058, 0.1119, 0.3761, 0.2116],\n",
            "        [0.2598, 0.1797, 0.0566, 0.7213, 0.0283]])\n"
          ]
        }
      ]
    },
    {
      "cell_type": "markdown",
      "source": [
        "17. Write a PyTorch snippet to sort a given tensor (1D or 2D) in ascending order."
      ],
      "metadata": {
        "id": "e2yl3FJI3SOW"
      }
    },
    {
      "cell_type": "code",
      "source": [
        "import torch\n",
        "\n",
        "def sort_tensor(input_tensor):\n",
        "    sorted_tensor, _ = torch.sort(input_tensor)\n",
        "    return sorted_tensor\n",
        "\n",
        "# Example usage:\n",
        "tensor = torch.tensor([5, 3, 7, 1, 4])\n",
        "print(sort_tensor(tensor))"
      ],
      "metadata": {
        "id": "FxiCfs8y3R8W",
        "colab": {
          "base_uri": "https://localhost:8080/"
        },
        "outputId": "d46a70aa-39a1-4c1c-c2e4-57c0d2a4a755"
      },
      "execution_count": 88,
      "outputs": [
        {
          "output_type": "stream",
          "name": "stdout",
          "text": [
            "tensor([1, 3, 4, 5, 7])\n"
          ]
        }
      ]
    },
    {
      "cell_type": "markdown",
      "source": [
        "18. Write a PyTorch snippet to create a tensor of equal shape and data type for a given tensor (any dimensional)"
      ],
      "metadata": {
        "id": "TY1htljY3X50"
      }
    },
    {
      "cell_type": "code",
      "source": [
        "import torch\n",
        "\n",
        "def equal_tensor(given_tensor):\n",
        "    new_tensor = torch.empty_like(given_tensor)\n",
        "    return new_tensor\n",
        "\n",
        "# Example usage:\n",
        "tensor = torch.tensor([[1, 2, 3],\n",
        "                       [4, 5, 6]])\n",
        "print(equal_tensor(tensor))"
      ],
      "metadata": {
        "id": "br714aF43Xax",
        "colab": {
          "base_uri": "https://localhost:8080/"
        },
        "outputId": "2d3d414a-1ca9-44f1-f20d-e9357cbfc607"
      },
      "execution_count": 57,
      "outputs": [
        {
          "output_type": "stream",
          "name": "stdout",
          "text": [
            "tensor([[7309453675965983778, 8315168162784306286, 8367752027310484831],\n",
            "        [7954801838398993778, 2459029315949324647, 3544390503882568245]])\n"
          ]
        }
      ]
    },
    {
      "cell_type": "markdown",
      "source": [
        "19. Write a PyTorch snippet to create an 8x8 matrix and fill it with a checkerboard pattern.\n",
        "Checkerboard pattern:\n",
        "```py\n",
        "[[0 1 0 1 0 1 0 1]\n",
        "..........\n",
        "[0 1 0 1 0 1 0 1]\n",
        "[1 0 1 0 1 0 1 0]]\n",
        "```"
      ],
      "metadata": {
        "id": "jWZmWlDz3kE-"
      }
    },
    {
      "cell_type": "code",
      "source": [
        "import torch\n",
        "\n",
        "matrix = torch.zeros(8, 8, dtype=torch.int32)\n",
        "\n",
        "matrix[::2, ::2] = 1\n",
        "matrix[1::2, 1::2] = 1\n",
        "\n",
        "print(matrix)"
      ],
      "metadata": {
        "id": "gUQpw8Fg3lag",
        "colab": {
          "base_uri": "https://localhost:8080/"
        },
        "outputId": "22aac241-3b37-4396-f38e-6597f3b93ac6"
      },
      "execution_count": 52,
      "outputs": [
        {
          "output_type": "stream",
          "name": "stdout",
          "text": [
            "tensor([[1, 0, 1, 0, 1, 0, 1, 0],\n",
            "        [0, 1, 0, 1, 0, 1, 0, 1],\n",
            "        [1, 0, 1, 0, 1, 0, 1, 0],\n",
            "        [0, 1, 0, 1, 0, 1, 0, 1],\n",
            "        [1, 0, 1, 0, 1, 0, 1, 0],\n",
            "        [0, 1, 0, 1, 0, 1, 0, 1],\n",
            "        [1, 0, 1, 0, 1, 0, 1, 0],\n",
            "        [0, 1, 0, 1, 0, 1, 0, 1]], dtype=torch.int32)\n"
          ]
        }
      ]
    },
    {
      "cell_type": "markdown",
      "source": [
        "20. Write a Pytorch snippet to convert Centigrade to Fahrenheit and vice versa (controlled by a parameter). Ensure you operation is vectorized i.e **no explicit looping**\n",
        "\n",
        "Sample Array: `[0, 12, 45.21, 34, 99.91]`"
      ],
      "metadata": {
        "id": "yB4L7Usg364D"
      }
    },
    {
      "cell_type": "code",
      "source": [
        "import torch\n",
        "\n",
        "def celsius_to_fahrenheit(celsius_temp):\n",
        "    return (celsius_temp * 9/5) + 32\n",
        "\n",
        "def fahrenheit_to_celsius(fahrenheit_temp):\n",
        "    return (fahrenheit_temp - 32) * 5/9\n",
        "\n",
        "# Example usage:\n",
        "celsius_value = torch.tensor([0, 12, 45.21, 34, 99.91])\n",
        "fahrenheit_value = celsius_to_fahrenheit(celsius_value)\n",
        "celsius_again = fahrenheit_to_celsius(fahrenheit_value)\n",
        "\n",
        "print(fahrenheit_value)\n",
        "print(celsius_again)\n"
      ],
      "metadata": {
        "id": "IPTecJEQ3_JC",
        "colab": {
          "base_uri": "https://localhost:8080/"
        },
        "outputId": "db8fb75f-f03b-4be6-e9f7-6bef62511222"
      },
      "execution_count": 49,
      "outputs": [
        {
          "output_type": "stream",
          "name": "stdout",
          "text": [
            "tensor([ 32.0000,  53.6000, 113.3780,  93.2000, 211.8380])\n",
            "tensor([ 0.0000, 12.0000, 45.2100, 34.0000, 99.9100])\n"
          ]
        }
      ]
    },
    {
      "cell_type": "markdown",
      "source": [
        "21. Write a PyTorch snippet to get the values of the elements that are bigger than a given *number* in a given tensor.\n",
        "\n",
        "Original tensor:\n",
        "```\n",
        "[[ 0 10 20]\n",
        "[20 30 40]]\n",
        "```\n",
        "Number: 10\n",
        "\n",
        "Values bigger than 10 = `[20 20 30 40]`"
      ],
      "metadata": {
        "id": "n8dqXvMZ4oFb"
      }
    },
    {
      "cell_type": "code",
      "source": [
        "import torch\n",
        "\n",
        "def greater_elements(tensor, number):\n",
        "    return tensor[tensor > number]\n",
        "\n",
        "# Example usage:\n",
        "tensor = torch.tensor([[0, 10, 20],\n",
        "                      [20, 30, 40]])\n",
        "number = 10\n",
        "values = greater_elements(tensor, number)\n",
        "print(values)"
      ],
      "metadata": {
        "id": "HwoDL-Kr4ww4",
        "colab": {
          "base_uri": "https://localhost:8080/"
        },
        "outputId": "5b4cc31a-d330-4ceb-e7ae-ca0da7d7186e"
      },
      "execution_count": 46,
      "outputs": [
        {
          "output_type": "stream",
          "name": "stdout",
          "text": [
            "tensor([20, 20, 30, 40])\n"
          ]
        }
      ]
    },
    {
      "cell_type": "markdown",
      "source": [
        "22. Write a PyTorch snippet to create another shape from an array without changing its data. After carrying out the operation, change the data in one place and see if the other tensor changes\n",
        "\n",
        "Reshape 3x2:\n",
        "```\n",
        "[[1 2]\n",
        "[3 4]\n",
        "[5 6]]\n",
        "```\n",
        "Reshape 2x3:\n",
        "```\n",
        "[[1 2 3]\n",
        "[4 5 6]]\n",
        "```"
      ],
      "metadata": {
        "id": "QmR9luYk4xaa"
      }
    },
    {
      "cell_type": "code",
      "source": [
        "import torch\n",
        "\n",
        "def reshape_tensor(original_tensor, new_shape):\n",
        "    reshaped_tensor = original_tensor.reshape(*new_shape)\n",
        "    return reshaped_tensor\n",
        "\n",
        "# Example usage:\n",
        "original_tensor = torch.tensor([1, 2, 3, 4, 5, 6])\n",
        "new_shape = (3, 2)\n",
        "reshaped_tensor = reshape_tensor(original_tensor, new_shape)\n",
        "print(reshaped_tensor)\n",
        "\n",
        "# Changing data in reshaped tensor\n",
        "reshaped_tensor[0, 1] = 99\n",
        "\n",
        "# Checking if original tensor also changes\n",
        "print(original_tensor)\n",
        "print(reshaped_tensor)\n",
        "# Output: It changes the data in original tensor as well"
      ],
      "metadata": {
        "id": "oUvXdmtV5ZRJ",
        "colab": {
          "base_uri": "https://localhost:8080/"
        },
        "outputId": "527ff2b1-9b9c-4613-9db7-22245022205f"
      },
      "execution_count": 43,
      "outputs": [
        {
          "output_type": "stream",
          "name": "stdout",
          "text": [
            "tensor([[1, 2],\n",
            "        [3, 4],\n",
            "        [5, 6]])\n",
            "tensor([ 1, 99,  3,  4,  5,  6])\n",
            "tensor([[ 1, 99],\n",
            "        [ 3,  4],\n",
            "        [ 5,  6]])\n"
          ]
        }
      ]
    },
    {
      "cell_type": "markdown",
      "source": [
        "23. Write a PyTorch snipppet to change an tensor's data type.\n",
        "```\n",
        "[[ 2 4 6]\n",
        "[ 6 8 10]]\n",
        "```\n",
        "Data type of the array x is: `int32`\n",
        "\n",
        "New Type: `float64`\n",
        "```\n",
        "[[ 2. 4. 6.]\n",
        "[ 6. 8. 10.]]\n",
        "```"
      ],
      "metadata": {
        "id": "ew1n8aUg5QZA"
      }
    },
    {
      "cell_type": "code",
      "source": [
        "import torch\n",
        "\n",
        "def change_datatype(tensor, new_datatype):\n",
        "    return tensor.to(new_datatype)\n",
        "\n",
        "#Example usage\n",
        "tensor = torch.tensor([[2, 4, 6],\n",
        "                       [6, 8, 10]])\n",
        "print(tensor.dtype)\n",
        "\n",
        "new_datatype = torch.float64\n",
        "new_tensor = change_datatype(tensor, new_datatype)\n",
        "print(new_tensor)"
      ],
      "metadata": {
        "colab": {
          "base_uri": "https://localhost:8080/"
        },
        "id": "wcdDgLGXcXLb",
        "outputId": "a6f16558-5bff-4189-c788-069edab69e48"
      },
      "execution_count": 37,
      "outputs": [
        {
          "output_type": "stream",
          "name": "stdout",
          "text": [
            "torch.int64\n",
            "tensor([[ 2.,  4.,  6.],\n",
            "        [ 6.,  8., 10.]], dtype=torch.float64)\n"
          ]
        }
      ]
    },
    {
      "cell_type": "markdown",
      "source": [
        "24. Write a PyTorch snippet to insert a new axis within a 2-tensor, based on a **parameter**.\n",
        "\n",
        "Ex: If 2-tensor has shape (3, 4).\n",
        "\n",
        "Then, new shape can be (1, 3, 4), (3, 1, 4), or (3, 4, 1) depending on...."
      ],
      "metadata": {
        "id": "0hf1vOk75-Df"
      }
    },
    {
      "cell_type": "code",
      "source": [
        "import torch\n",
        "\n",
        "def insert_axis(tensor, axis):\n",
        "    return tensor.unsqueeze(axis)\n",
        "\n",
        "# Example usage:\n",
        "a = torch.zeros(3, 4)\n",
        "result = insert_axis(a, 1)\n",
        "print(result.shape)  # Output: torch.Size([3, 1, 4])"
      ],
      "metadata": {
        "id": "38vF5Dwk5Dbi",
        "colab": {
          "base_uri": "https://localhost:8080/"
        },
        "outputId": "e91d7dc1-7da6-45db-ba93-c950fe7fd852"
      },
      "execution_count": 5,
      "outputs": [
        {
          "output_type": "stream",
          "name": "stdout",
          "text": [
            "torch.Size([3, 1, 4])\n"
          ]
        }
      ]
    },
    {
      "cell_type": "markdown",
      "source": [
        "25. Write a PyTorch snippet to stack tensors based on a parameter, **axis**.\n",
        "First discover what this means with 2-tensors, then extend it to 3-tensors. Print your findings.\n",
        "\n",
        "Sample Output:\n",
        "\n",
        "Original tensors:\n",
        "\n",
        "Tensor-1\n",
        "```\n",
        "[[0 1 2]\n",
        "[3 4 5]\n",
        "[6 7 8]]\n",
        "```\n",
        "Tensor-2\n",
        "```\n",
        "[[ 0 3 6]\n",
        "[ 9 12 15]\n",
        "[18 21 24]]\n",
        "```\n",
        "Stack tensors such that axis=1:\n",
        "```\n",
        "[[ 0 1 2 0 3 6]\n",
        "[ 3 4 5 9 12 15]\n",
        "[ 6 7 8 18 21 24]]\n",
        "```"
      ],
      "metadata": {
        "id": "K4GeygLp7wAt"
      }
    },
    {
      "cell_type": "code",
      "source": [
        "def stack_tensors(tensor1, tensor2, axis):\n",
        "    return torch.cat((tensor1, tensor2), axis)\n",
        "\n",
        "# Example usage with 2-tensors:\n",
        "a = torch.tensor([[0, 1, 2],\n",
        "                  [3, 4, 5],\n",
        "                  [6, 7, 8]])\n",
        "\n",
        "b = torch.tensor([[ 0,  3,  6],\n",
        "                  [ 9, 12, 15],\n",
        "                  [18, 21, 24]])\n",
        "stacked_tensor = stack_tensors(a, b, axis=1)\n",
        "print(stacked_tensor)\n",
        "\n",
        "# Example usage for 3-tensors\n",
        "a = torch.tensor([[[0, 1, 2],\n",
        "                   [3, 4, 5],\n",
        "                   [6, 7, 8]],\n",
        "\n",
        "                  [[9, 10, 11],\n",
        "                   [12, 13, 14],\n",
        "                   [15, 16, 17]]])\n",
        "\n",
        "b = torch.tensor([[[18, 19, 20],\n",
        "                   [21, 22, 23],\n",
        "                   [24, 25, 26]],\n",
        "\n",
        "                  [[27, 28, 29],\n",
        "                   [30, 31, 32],\n",
        "                   [33, 34, 35]]])\n",
        "stacked_tensor = stack_tensors(a, b, axis=1)\n",
        "print(stacked_tensor)"
      ],
      "metadata": {
        "id": "-37mCkKH75fN",
        "colab": {
          "base_uri": "https://localhost:8080/"
        },
        "outputId": "7005d30f-9225-49a3-eaf4-f1a804d7adab"
      },
      "execution_count": 20,
      "outputs": [
        {
          "output_type": "stream",
          "name": "stdout",
          "text": [
            "tensor([[ 0,  1,  2,  0,  3,  6],\n",
            "        [ 3,  4,  5,  9, 12, 15],\n",
            "        [ 6,  7,  8, 18, 21, 24]])\n",
            "tensor([[[ 0,  1,  2],\n",
            "         [ 3,  4,  5],\n",
            "         [ 6,  7,  8],\n",
            "         [18, 19, 20],\n",
            "         [21, 22, 23],\n",
            "         [24, 25, 26]],\n",
            "\n",
            "        [[ 9, 10, 11],\n",
            "         [12, 13, 14],\n",
            "         [15, 16, 17],\n",
            "         [27, 28, 29],\n",
            "         [30, 31, 32],\n",
            "         [33, 34, 35]]])\n"
          ]
        }
      ]
    },
    {
      "cell_type": "markdown",
      "source": [
        "26. Write a PyTorch snippet to extract the **m**th to **n**th elements of the **m**th to **n**th rows from the **m**th to nth elemnts of given 3-tensor, of shape `(p, q, r)` where m, n < p, q, r.\n",
        "\n",
        "Take a 3-tensor of (say) size `(5,6,7)` and `(m, n)` = `(4, 5)` as a test case!"
      ],
      "metadata": {
        "id": "6kix-xlh8hFz"
      }
    },
    {
      "cell_type": "code",
      "source": [
        "import torch\n",
        "\n",
        "def extract_tensor(tensor, m, n):\n",
        "    return tensor[m:n+1, m:n+1, m:n+1]\n",
        "\n",
        "# Example usage:\n",
        "tensor_shape = (5, 6, 7)\n",
        "m, n = 4, 5\n",
        "print(extract_tensor(tensor, m, n))"
      ],
      "metadata": {
        "colab": {
          "base_uri": "https://localhost:8080/"
        },
        "id": "7a9KqngQD-5U",
        "outputId": "2735445a-f791-421c-f7a5-46cb9b604e61"
      },
      "execution_count": null,
      "outputs": [
        {
          "output_type": "stream",
          "name": "stdout",
          "text": [
            "tensor([[[1.0366, 0.1832],\n",
            "         [0.7528, 1.8704]]])\n"
          ]
        }
      ]
    },
    {
      "cell_type": "markdown",
      "source": [
        "### **Test your Understanding**"
      ],
      "metadata": {
        "id": "IxOFseFaxEQu"
      }
    },
    {
      "cell_type": "markdown",
      "source": [
        "1. Given a 3D tensor of shape `(a, b, c)`*italicised text*, permute its axes to obtain tensors of all other shape combinations (i.e 5)."
      ],
      "metadata": {
        "id": "Vzbo4s_KAsE9"
      }
    },
    {
      "cell_type": "code",
      "source": [
        "import torch\n",
        "\n",
        "def permute_axes(tensor):\n",
        "    permutations = [(0, 1, 2),\n",
        "                    (0, 2, 1),\n",
        "                    (1, 0, 2),\n",
        "                    (1, 2, 0),\n",
        "                    (2, 0, 1),\n",
        "                    (2, 1, 0)]\n",
        "    return [tensor.permute(i) for i in permutations]\n",
        "\n",
        "# Example usage:\n",
        "original_tensor = torch.randn(2, 4 ,5)\n",
        "print(permute_axes(original_tensor))"
      ],
      "metadata": {
        "id": "R791RvsIAh3O",
        "colab": {
          "base_uri": "https://localhost:8080/"
        },
        "outputId": "cfec3750-9fc1-4242-cc40-30ac7d473b26"
      },
      "execution_count": 33,
      "outputs": [
        {
          "output_type": "stream",
          "name": "stdout",
          "text": [
            "[tensor([[[ 0.6790, -1.4020,  0.5383,  0.0896, -0.2544],\n",
            "         [ 0.1654,  1.2860,  0.6851,  0.3731, -0.3579],\n",
            "         [-1.0351, -0.3293,  1.4889,  1.5361,  0.3572],\n",
            "         [-0.7358,  2.2874, -0.2308,  0.0544, -0.8444]],\n",
            "\n",
            "        [[ 0.6092, -0.6432,  0.4797, -1.1051, -0.7015],\n",
            "         [-0.2104,  0.3929,  0.6973, -2.8372,  0.8182],\n",
            "         [ 1.1326,  2.6702,  1.2828, -0.2966, -1.3022],\n",
            "         [-0.0385,  0.1172, -0.5642,  0.1300,  0.9224]]]), tensor([[[ 0.6790,  0.1654, -1.0351, -0.7358],\n",
            "         [-1.4020,  1.2860, -0.3293,  2.2874],\n",
            "         [ 0.5383,  0.6851,  1.4889, -0.2308],\n",
            "         [ 0.0896,  0.3731,  1.5361,  0.0544],\n",
            "         [-0.2544, -0.3579,  0.3572, -0.8444]],\n",
            "\n",
            "        [[ 0.6092, -0.2104,  1.1326, -0.0385],\n",
            "         [-0.6432,  0.3929,  2.6702,  0.1172],\n",
            "         [ 0.4797,  0.6973,  1.2828, -0.5642],\n",
            "         [-1.1051, -2.8372, -0.2966,  0.1300],\n",
            "         [-0.7015,  0.8182, -1.3022,  0.9224]]]), tensor([[[ 0.6790, -1.4020,  0.5383,  0.0896, -0.2544],\n",
            "         [ 0.6092, -0.6432,  0.4797, -1.1051, -0.7015]],\n",
            "\n",
            "        [[ 0.1654,  1.2860,  0.6851,  0.3731, -0.3579],\n",
            "         [-0.2104,  0.3929,  0.6973, -2.8372,  0.8182]],\n",
            "\n",
            "        [[-1.0351, -0.3293,  1.4889,  1.5361,  0.3572],\n",
            "         [ 1.1326,  2.6702,  1.2828, -0.2966, -1.3022]],\n",
            "\n",
            "        [[-0.7358,  2.2874, -0.2308,  0.0544, -0.8444],\n",
            "         [-0.0385,  0.1172, -0.5642,  0.1300,  0.9224]]]), tensor([[[ 0.6790,  0.6092],\n",
            "         [-1.4020, -0.6432],\n",
            "         [ 0.5383,  0.4797],\n",
            "         [ 0.0896, -1.1051],\n",
            "         [-0.2544, -0.7015]],\n",
            "\n",
            "        [[ 0.1654, -0.2104],\n",
            "         [ 1.2860,  0.3929],\n",
            "         [ 0.6851,  0.6973],\n",
            "         [ 0.3731, -2.8372],\n",
            "         [-0.3579,  0.8182]],\n",
            "\n",
            "        [[-1.0351,  1.1326],\n",
            "         [-0.3293,  2.6702],\n",
            "         [ 1.4889,  1.2828],\n",
            "         [ 1.5361, -0.2966],\n",
            "         [ 0.3572, -1.3022]],\n",
            "\n",
            "        [[-0.7358, -0.0385],\n",
            "         [ 2.2874,  0.1172],\n",
            "         [-0.2308, -0.5642],\n",
            "         [ 0.0544,  0.1300],\n",
            "         [-0.8444,  0.9224]]]), tensor([[[ 0.6790,  0.1654, -1.0351, -0.7358],\n",
            "         [ 0.6092, -0.2104,  1.1326, -0.0385]],\n",
            "\n",
            "        [[-1.4020,  1.2860, -0.3293,  2.2874],\n",
            "         [-0.6432,  0.3929,  2.6702,  0.1172]],\n",
            "\n",
            "        [[ 0.5383,  0.6851,  1.4889, -0.2308],\n",
            "         [ 0.4797,  0.6973,  1.2828, -0.5642]],\n",
            "\n",
            "        [[ 0.0896,  0.3731,  1.5361,  0.0544],\n",
            "         [-1.1051, -2.8372, -0.2966,  0.1300]],\n",
            "\n",
            "        [[-0.2544, -0.3579,  0.3572, -0.8444],\n",
            "         [-0.7015,  0.8182, -1.3022,  0.9224]]]), tensor([[[ 0.6790,  0.6092],\n",
            "         [ 0.1654, -0.2104],\n",
            "         [-1.0351,  1.1326],\n",
            "         [-0.7358, -0.0385]],\n",
            "\n",
            "        [[-1.4020, -0.6432],\n",
            "         [ 1.2860,  0.3929],\n",
            "         [-0.3293,  2.6702],\n",
            "         [ 2.2874,  0.1172]],\n",
            "\n",
            "        [[ 0.5383,  0.4797],\n",
            "         [ 0.6851,  0.6973],\n",
            "         [ 1.4889,  1.2828],\n",
            "         [-0.2308, -0.5642]],\n",
            "\n",
            "        [[ 0.0896, -1.1051],\n",
            "         [ 0.3731, -2.8372],\n",
            "         [ 1.5361, -0.2966],\n",
            "         [ 0.0544,  0.1300]],\n",
            "\n",
            "        [[-0.2544, -0.7015],\n",
            "         [-0.3579,  0.8182],\n",
            "         [ 0.3572, -1.3022],\n",
            "         [-0.8444,  0.9224]]])]\n"
          ]
        }
      ]
    },
    {
      "cell_type": "markdown",
      "source": [
        "2. Given a 4D tensor of shape `(2, 3, 4, 5)`, transpose it to obtain a tensor of shape `(2, 4, 5, 3)`. Also explore what is_contiguous() means..."
      ],
      "metadata": {
        "id": "CwETJF5fAz-j"
      }
    },
    {
      "cell_type": "code",
      "source": [
        "import torch\n",
        "\n",
        "tensor = torch.randn(2, 3, 4, 5)\n",
        "transposed_tensor = tensor.transpose(2, 3)\n",
        "transposed_tensor = transposed_tensor.transpose(1, 3)\n",
        "\n",
        "print(transposed_tensor.shape)\n",
        "print(transposed_tensor)"
      ],
      "metadata": {
        "id": "tfdlEGx3Ag2B",
        "colab": {
          "base_uri": "https://localhost:8080/"
        },
        "outputId": "a4d19b9f-4012-4271-e6d5-31298142b185"
      },
      "execution_count": null,
      "outputs": [
        {
          "output_type": "stream",
          "name": "stdout",
          "text": [
            "torch.Size([2, 4, 5, 3])\n",
            "tensor([[[[ 0.7068, -0.8304, -0.0231],\n",
            "          [ 0.8708, -0.6613, -1.0567],\n",
            "          [ 0.7315, -1.0097,  0.4622],\n",
            "          [ 1.1516, -0.2933,  0.6300],\n",
            "          [-1.0263, -0.3773, -0.4838]],\n",
            "\n",
            "         [[-0.7692,  0.4892, -0.8640],\n",
            "          [-1.2688,  1.1114,  0.9330],\n",
            "          [ 0.5496,  0.1260, -1.0150],\n",
            "          [-0.0653,  0.3990,  0.0253],\n",
            "          [-0.2764, -1.4378, -1.4530]],\n",
            "\n",
            "         [[-0.2507, -0.3169,  1.8980],\n",
            "          [ 0.2121,  0.0205,  0.5908],\n",
            "          [-1.5223, -0.6931,  1.0523],\n",
            "          [ 0.6414, -1.2129,  0.9456],\n",
            "          [ 1.7891,  0.6697,  0.5333]],\n",
            "\n",
            "         [[-1.7217, -1.5795, -1.4623],\n",
            "          [ 0.3157, -1.4710, -0.6845],\n",
            "          [ 0.0264, -1.6196, -0.3152],\n",
            "          [ 0.9831,  0.9202,  0.6696],\n",
            "          [-0.1942,  0.9141, -0.0047]]],\n",
            "\n",
            "\n",
            "        [[[-0.5461,  0.1659,  0.5767],\n",
            "          [-0.5637,  0.1548, -1.5013],\n",
            "          [-1.6061,  0.2966, -0.9212],\n",
            "          [ 1.1221,  0.4159, -0.2510],\n",
            "          [-0.2127, -0.0940, -0.6487]],\n",
            "\n",
            "         [[-1.8794, -0.0465,  0.1997],\n",
            "          [-0.7559,  0.1620,  1.5369],\n",
            "          [-1.0752,  1.4338,  0.3506],\n",
            "          [-0.3118, -2.4743, -0.1330],\n",
            "          [ 0.5494, -1.4324, -0.4532]],\n",
            "\n",
            "         [[ 0.6045,  1.4619,  0.6809],\n",
            "          [ 0.4968, -0.1514,  0.4183],\n",
            "          [-0.5840, -1.3313,  0.0721],\n",
            "          [ 0.0417, -0.0775, -0.3771],\n",
            "          [ 1.3815,  0.6112,  0.2964]],\n",
            "\n",
            "         [[ 1.3185, -1.4066, -0.0257],\n",
            "          [ 0.4220,  0.0735,  1.5512],\n",
            "          [-1.8122, -1.0957, -1.0590],\n",
            "          [ 0.5517,  0.9341, -0.3960],\n",
            "          [-0.5241,  0.8124,  0.4076]]]])\n"
          ]
        }
      ]
    },
    {
      "cell_type": "markdown",
      "source": [
        "3. Given two tensors, one of shape (n, 1) and another of shape (m, ), perform an element-wise addition **manually**. Then, test out what direct addition does and compare your results!"
      ],
      "metadata": {
        "id": "W13ajP4aBO3v"
      }
    },
    {
      "cell_type": "code",
      "source": [],
      "metadata": {
        "id": "3AtpWGh1Bdpd"
      },
      "execution_count": null,
      "outputs": []
    },
    {
      "cell_type": "markdown",
      "source": [
        "4. Given a 3D tensor of shape `(4, 4, 4)`, extract a sub-tensor of shape `(2, 2, 2)` starting from the element at index `(1, 1, 1)`**bold text**."
      ],
      "metadata": {
        "id": "LnyUlwKWBeUz"
      }
    },
    {
      "cell_type": "code",
      "source": [
        "import torch\n",
        "\n",
        "tensor = torch.arange(64).reshape(4, 4, 4)\n",
        "sub_tensor = tensor[1:3, 1:3, 1:3]\n",
        "print(tensor)\n",
        "print(sub_tensor)"
      ],
      "metadata": {
        "id": "1oRhgDE6BqKg",
        "colab": {
          "base_uri": "https://localhost:8080/"
        },
        "outputId": "a85e16a6-bc65-4fa2-9a03-93509c447a98"
      },
      "execution_count": 24,
      "outputs": [
        {
          "output_type": "stream",
          "name": "stdout",
          "text": [
            "tensor([[[ 0,  1,  2,  3],\n",
            "         [ 4,  5,  6,  7],\n",
            "         [ 8,  9, 10, 11],\n",
            "         [12, 13, 14, 15]],\n",
            "\n",
            "        [[16, 17, 18, 19],\n",
            "         [20, 21, 22, 23],\n",
            "         [24, 25, 26, 27],\n",
            "         [28, 29, 30, 31]],\n",
            "\n",
            "        [[32, 33, 34, 35],\n",
            "         [36, 37, 38, 39],\n",
            "         [40, 41, 42, 43],\n",
            "         [44, 45, 46, 47]],\n",
            "\n",
            "        [[48, 49, 50, 51],\n",
            "         [52, 53, 54, 55],\n",
            "         [56, 57, 58, 59],\n",
            "         [60, 61, 62, 63]]])\n",
            "tensor([[[21, 22],\n",
            "         [25, 26]],\n",
            "\n",
            "        [[37, 38],\n",
            "         [41, 42]]])\n"
          ]
        }
      ]
    },
    {
      "cell_type": "markdown",
      "source": [
        "5. Given a 2-tensor of arbitrary shape, rotate it 90 degrees anticlockwise.\n",
        "\n"
      ],
      "metadata": {
        "id": "-GJaZaZyBsaU"
      }
    },
    {
      "cell_type": "code",
      "source": [
        "import torch\n",
        "\n",
        "def rotate_tensor(x):\n",
        "    rotated_x = torch.rot90(x, k=1, dims=[0, 1])\n",
        "    return rotated_x\n",
        "\n",
        "# Example usage:\n",
        "tensor = torch.tensor([[1, 2, 3],\n",
        "                       [4, 5, 6],\n",
        "                       [7, 8, 9]])\n",
        "print(rotate_tensor(tensor))\n"
      ],
      "metadata": {
        "id": "fb5enhEsB1Um",
        "colab": {
          "base_uri": "https://localhost:8080/"
        },
        "outputId": "fd9f8aa7-c444-41cd-e98e-70cc3667dc8d"
      },
      "execution_count": null,
      "outputs": [
        {
          "output_type": "stream",
          "name": "stdout",
          "text": [
            "tensor([[3, 6, 9],\n",
            "        [2, 5, 8],\n",
            "        [1, 4, 7]])\n"
          ]
        }
      ]
    },
    {
      "cell_type": "markdown",
      "source": [
        "### **EVEN I HAD TO THINK...**"
      ],
      "metadata": {
        "id": "DNTlDxZ4C4-R"
      }
    },
    {
      "cell_type": "markdown",
      "source": [
        "1. Implement a custom operation that computes the **element-wise** **sine** of a tensor *and* its **gradient** using torch.autograd.Function.\n",
        "- You need to implement both the forward() and backward() methods.\n",
        "- For an example, look no further than the [PyTorch docs](https://pytorch.org/docs/stable/autograd.html#function)!\n",
        "- Test it out on a matrix of arbitrary size!"
      ],
      "metadata": {
        "id": "Mh71KC4rDAcY"
      }
    },
    {
      "cell_type": "code",
      "source": [],
      "metadata": {
        "id": "0Ntq8CgFC9jy"
      },
      "execution_count": null,
      "outputs": []
    },
    {
      "cell_type": "markdown",
      "source": [
        "2. One of the most important aspects of improving model performance ins normalization. Implement a custom NN normalization layer that performs either a **batch** or **layer** normalization (based on a **dim** parameter)and integrate it into a simple feedforward neural network.\n",
        "- Note that you dont need to implement any backward() here, for simplicity.\n",
        "- Consider your input tensor to the neural network as of shape (m, n) where m is num of examples, n is num of features.\n",
        "- Which value of **dim** leads to batch and layer normalization?"
      ],
      "metadata": {
        "id": "s6GDwW-dFCyT"
      }
    },
    {
      "cell_type": "code",
      "source": [],
      "metadata": {
        "id": "KiofKZz_FgHd"
      },
      "execution_count": null,
      "outputs": []
    },
    {
      "cell_type": "markdown",
      "source": [
        "3. Given a 4D tensor of shape (2, 3, 4, 5), create a mask that sets all elements in positions where the sum of indices is even to zero."
      ],
      "metadata": {
        "id": "YEc0BxM8GGcL"
      }
    },
    {
      "cell_type": "code",
      "source": [],
      "metadata": {
        "id": "pJ3FD5XiGLh8"
      },
      "execution_count": 27,
      "outputs": []
    },
    {
      "cell_type": "markdown",
      "source": [
        "3. Given two tensors, one of shape `(3, 1, 4)` and another of shape `(1, 5, 1)`, compute their element-wise multiplication using broadcasting and then sum over specific axes to obtain a tensor of shape `(3, 5)`."
      ],
      "metadata": {
        "id": "Tv557NaJGMlQ"
      }
    },
    {
      "cell_type": "code",
      "source": [
        "import torch\n",
        "\n",
        "tensor1 = torch.randn(3, 1, 4)\n",
        "tensor2 = torch.randn(1, 5, 1)\n",
        "\n",
        "result = tensor1 * tensor2\n",
        "sum = result.sum(dim=2)\n",
        "\n",
        "print(sum.shape)    # output: (3, 5)\n"
      ],
      "metadata": {
        "id": "qP3EGgyXGMMH",
        "colab": {
          "base_uri": "https://localhost:8080/"
        },
        "outputId": "a52d75b6-1b1b-4de9-d875-cc9de7a14d8c"
      },
      "execution_count": 29,
      "outputs": [
        {
          "output_type": "stream",
          "name": "stdout",
          "text": [
            "torch.Size([3, 5])\n"
          ]
        }
      ]
    }
  ]
}