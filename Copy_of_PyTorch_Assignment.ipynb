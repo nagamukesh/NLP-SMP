{
  "nbformat": 4,
  "nbformat_minor": 0,
  "metadata": {
    "colab": {
      "provenance": []
    },
    "kernelspec": {
      "name": "python3",
      "display_name": "Python 3"
    },
    "language_info": {
      "name": "python"
    }
  },
  "cells": [
    {
      "cell_type": "markdown",
      "source": [
        "#  **PyTorch Practice Assignment**\n",
        "**Name**: Akhilesh\n",
        "\n",
        "**Roll Number**: 231DS003"
      ],
      "metadata": {
        "id": "CDn9wbMS0a0r"
      }
    },
    {
      "cell_type": "markdown",
      "source": [
        "## **Instructions:**\n",
        "\n",
        "- Copy this Notebook to your own Drive! You cannot directly modify it.\n",
        "- Please show the output of the cells, in case of some operation. You can specify your own **non-trivial** test-case. Also, try and make your snippets into functions to organize your logic.\n",
        "- You can use any number of cells for a question, you are not restricted to just 1 cell!\n",
        "- **No using ChatGPT for this assignment**: we highly recommend using the [Pytorch Docs](https://pytorch.org/docs/stable/index.html) as your start reference, as well as the vast internet however. You can also contact any of your mentors for some hints/help!\n",
        "- You can work on this assignment in Google Colab or on Your Local Machine!"
      ],
      "metadata": {
        "id": "ENyCsRHv1gqA"
      }
    },
    {
      "cell_type": "markdown",
      "source": [
        "### **Build Up Your Understanding**"
      ],
      "metadata": {
        "id": "1tRkI1j1xGzl"
      }
    },
    {
      "cell_type": "markdown",
      "source": [
        "1. Write a PyTorch snippet to test whether none of the elements of a given tensor are zero."
      ],
      "metadata": {
        "id": "R75QYzJlz874"
      }
    },
    {
      "cell_type": "code",
      "execution_count": null,
      "metadata": {
        "id": "YrnLJibzzT0d",
        "colab": {
          "base_uri": "https://localhost:8080/"
        },
        "outputId": "1ad9f8b6-fc27-4301-eebb-2ddd05818aee"
      },
      "outputs": [
        {
          "output_type": "stream",
          "name": "stdout",
          "text": [
            "tensor([[ 1.1797, -1.1479,  0.0000,  0.7635,  0.4631, -0.8080],\n",
            "        [ 0.0487,     nan,  0.1145, -0.6957,  0.6298,  0.2639],\n",
            "        [ 0.6617, -0.1064,  0.1295, -1.9208, -0.7464,  0.0528],\n",
            "        [ 0.1729, -0.6884, -0.8203,  0.0000, -0.1578,  0.1512]])\n"
          ]
        }
      ],
      "source": [
        "import torch\n",
        "tensor_1 = torch.randn(4,6)\n",
        "tensor_1[3,3]=0\n",
        "tensor_1[0,2]=0\n",
        "tensor_1[1,1]=torch.nan\n",
        "print(tensor_1)"
      ]
    },
    {
      "cell_type": "code",
      "source": [
        "bool(torch.nonzero(tensor_1).numel())"
      ],
      "metadata": {
        "colab": {
          "base_uri": "https://localhost:8080/"
        },
        "id": "i2bonLLmYDBx",
        "outputId": "ade7dd03-6ad4-4beb-fddb-029e296ff5b6"
      },
      "execution_count": null,
      "outputs": [
        {
          "output_type": "execute_result",
          "data": {
            "text/plain": [
              "True"
            ]
          },
          "metadata": {},
          "execution_count": 16
        }
      ]
    },
    {
      "cell_type": "markdown",
      "source": [
        "2. Write a PyTorch snippet to test element-wise for NaN of a given tensor."
      ],
      "metadata": {
        "id": "N65zZ0B20CcN"
      }
    },
    {
      "cell_type": "code",
      "source": [
        "torch.isnan(tensor_1).any()"
      ],
      "metadata": {
        "id": "09XtXleK0Yqx",
        "colab": {
          "base_uri": "https://localhost:8080/"
        },
        "outputId": "b547f83b-844f-441c-ee92-f006728c5756"
      },
      "execution_count": null,
      "outputs": [
        {
          "output_type": "execute_result",
          "data": {
            "text/plain": [
              "tensor(True)"
            ]
          },
          "metadata": {},
          "execution_count": 17
        }
      ]
    },
    {
      "cell_type": "markdown",
      "source": [
        "3. Write a PyTorch snippet to test whether two tensors are element-wise equal within a tolerance."
      ],
      "metadata": {
        "id": "nPgqdCS60ZLy"
      }
    },
    {
      "cell_type": "code",
      "source": [],
      "metadata": {
        "id": "nZlp4IJh1TAG"
      },
      "execution_count": null,
      "outputs": []
    },
    {
      "cell_type": "markdown",
      "source": [
        "4. Write a PyTorch snippet to create a tensor of 10 zeros, 10 ones, and 10 fives stacked on top of each other (try & accomplish everything using nested function calls)."
      ],
      "metadata": {
        "id": "6erc53t11ToS"
      }
    },
    {
      "cell_type": "code",
      "source": [
        "layer1=torch.zeros(10)\n",
        "layer2=torch.ones(10)\n",
        "layer3=torch.ones(10)*5\n",
        "torch.stack([layer1,layer2,layer3])"
      ],
      "metadata": {
        "id": "DX2o4rH81cXb",
        "colab": {
          "base_uri": "https://localhost:8080/"
        },
        "outputId": "22af55a4-f4b3-4a92-ec7d-6507517d9196"
      },
      "execution_count": null,
      "outputs": [
        {
          "output_type": "execute_result",
          "data": {
            "text/plain": [
              "tensor([[0., 0., 0., 0., 0., 0., 0., 0., 0., 0.],\n",
              "        [1., 1., 1., 1., 1., 1., 1., 1., 1., 1.],\n",
              "        [5., 5., 5., 5., 5., 5., 5., 5., 5., 5.]])"
            ]
          },
          "metadata": {},
          "execution_count": 18
        }
      ]
    },
    {
      "cell_type": "markdown",
      "source": [
        "5. Write a PyTorch snippet to generate a random number between 0 and 1."
      ],
      "metadata": {
        "id": "HVZFHjER15fI"
      }
    },
    {
      "cell_type": "code",
      "source": [
        "torch.rand(1).abs()"
      ],
      "metadata": {
        "id": "D2sDJxaL16ev",
        "colab": {
          "base_uri": "https://localhost:8080/"
        },
        "outputId": "58f5c160-1169-4273-9610-0021a6648246"
      },
      "execution_count": null,
      "outputs": [
        {
          "output_type": "execute_result",
          "data": {
            "text/plain": [
              "tensor([0.8675])"
            ]
          },
          "metadata": {},
          "execution_count": 21
        }
      ]
    },
    {
      "cell_type": "markdown",
      "source": [
        "6. Write a PyTorch snippet to generate a tensor of 15 random numbers from a standard normal distribution."
      ],
      "metadata": {
        "id": "v-bl_RmJ19U2"
      }
    },
    {
      "cell_type": "code",
      "source": [
        "torch.randn(15)"
      ],
      "metadata": {
        "id": "TwOTzLLz1-Oj",
        "colab": {
          "base_uri": "https://localhost:8080/"
        },
        "outputId": "94d79c96-cbf2-4ffb-d98a-0d379b7f9d2c"
      },
      "execution_count": null,
      "outputs": [
        {
          "output_type": "execute_result",
          "data": {
            "text/plain": [
              "tensor([-0.1508,  0.8436, -0.3967,  1.6421, -0.3996,  1.1746, -1.7237,  0.6377,\n",
              "         1.0934,  0.3077,  0.7954, -1.3500,  0.5313, -0.0218,  1.2190])"
            ]
          },
          "metadata": {},
          "execution_count": 22
        }
      ]
    },
    {
      "cell_type": "markdown",
      "source": [
        "7. Write a Pytorch snippet to create a tensor of length 10 with values evenly distributed between 5 and 50."
      ],
      "metadata": {
        "id": "QbsLwc2e1-wI"
      }
    },
    {
      "cell_type": "code",
      "source": [
        "torch.linspace(5,50,10)"
      ],
      "metadata": {
        "id": "4x-aEGJy2F_J",
        "colab": {
          "base_uri": "https://localhost:8080/"
        },
        "outputId": "1d021866-0886-4405-9e6e-a568272225aa"
      },
      "execution_count": null,
      "outputs": [
        {
          "output_type": "execute_result",
          "data": {
            "text/plain": [
              "tensor([ 5., 10., 15., 20., 25., 30., 35., 40., 45., 50.])"
            ]
          },
          "metadata": {},
          "execution_count": 23
        }
      ]
    },
    {
      "cell_type": "markdown",
      "source": [
        "8. Write a Pyorch program to create a tensor with values from 0 to 20 and change the sign of the numbers in the range from 9 to 15."
      ],
      "metadata": {
        "id": "z4t6r6xR2IyJ"
      }
    },
    {
      "cell_type": "code",
      "source": [
        "tensor1=torch.arange(21)\n",
        "tensor1[(tensor1>=9) & (tensor1<=15)]*=-1\n",
        "tensor1"
      ],
      "metadata": {
        "id": "2ckG-mcF2Jda",
        "colab": {
          "base_uri": "https://localhost:8080/"
        },
        "outputId": "b7c9b854-8915-4b7a-de9d-d48457c65daa"
      },
      "execution_count": null,
      "outputs": [
        {
          "output_type": "execute_result",
          "data": {
            "text/plain": [
              "tensor([  0,   1,   2,   3,   4,   5,   6,   7,   8,  -9, -10, -11, -12, -13,\n",
              "        -14, -15,  16,  17,  18,  19,  20])"
            ]
          },
          "metadata": {},
          "execution_count": 31
        }
      ]
    },
    {
      "cell_type": "markdown",
      "source": [
        "9. Write a PyTorch snippet to create a 3x4 2-tensor filled with values from 10 to 21. Same but 12 to 24."
      ],
      "metadata": {
        "id": "n5piPDEY2NXK"
      }
    },
    {
      "cell_type": "code",
      "source": [
        "t1=torch.arange(10,22).reshape(3,4)\n",
        "t2=torch.arange(12,24).reshape(3,4)\n",
        "torch.stack([t1,t2])"
      ],
      "metadata": {
        "id": "zKzFvfPP2OOy",
        "colab": {
          "base_uri": "https://localhost:8080/"
        },
        "outputId": "08d2f0e0-d81f-4475-c235-9ca6ce9265f4"
      },
      "execution_count": null,
      "outputs": [
        {
          "output_type": "execute_result",
          "data": {
            "text/plain": [
              "tensor([[[10, 11, 12, 13],\n",
              "         [14, 15, 16, 17],\n",
              "         [18, 19, 20, 21]],\n",
              "\n",
              "        [[12, 13, 14, 15],\n",
              "         [16, 17, 18, 19],\n",
              "         [20, 21, 22, 23]]])"
            ]
          },
          "metadata": {},
          "execution_count": 35
        }
      ]
    },
    {
      "cell_type": "markdown",
      "source": [
        "10. Write a PyTorch snippet to create a 10x10 2-tensor, in which the elements on the borders will be equal to 1, and inside 0."
      ],
      "metadata": {
        "id": "BMbpvCE12UAA"
      }
    },
    {
      "cell_type": "code",
      "source": [
        "tensor=torch.zeros(10,10)\n",
        "tensor[0, :]=1\n",
        "tensor[-1, :]=1\n",
        "tensor[:, 0]=1\n",
        "tensor[:, -1]=1\n",
        "tensor"
      ],
      "metadata": {
        "id": "-e2dvNB12Uv4",
        "colab": {
          "base_uri": "https://localhost:8080/"
        },
        "outputId": "6494b0d9-139a-4749-e1be-3ea2cfb9bf96"
      },
      "execution_count": null,
      "outputs": [
        {
          "output_type": "execute_result",
          "data": {
            "text/plain": [
              "tensor([[1., 1., 1., 1., 1., 1., 1., 1., 1., 1.],\n",
              "        [1., 0., 0., 0., 0., 0., 0., 0., 0., 1.],\n",
              "        [1., 0., 0., 0., 0., 0., 0., 0., 0., 1.],\n",
              "        [1., 0., 0., 0., 0., 0., 0., 0., 0., 1.],\n",
              "        [1., 0., 0., 0., 0., 0., 0., 0., 0., 1.],\n",
              "        [1., 0., 0., 0., 0., 0., 0., 0., 0., 1.],\n",
              "        [1., 0., 0., 0., 0., 0., 0., 0., 0., 1.],\n",
              "        [1., 0., 0., 0., 0., 0., 0., 0., 0., 1.],\n",
              "        [1., 0., 0., 0., 0., 0., 0., 0., 0., 1.],\n",
              "        [1., 1., 1., 1., 1., 1., 1., 1., 1., 1.]])"
            ]
          },
          "metadata": {},
          "execution_count": 39
        }
      ]
    },
    {
      "cell_type": "markdown",
      "source": [
        "11. Write a PyTorch snippet to create a 5x5 zero 2-tensor with elements on the main diagonal equal to 1, 2, 3, 4, 5."
      ],
      "metadata": {
        "id": "3pf24Y0R2YKX"
      }
    },
    {
      "cell_type": "code",
      "source": [
        "tensor=torch.zeros(5,5)\n",
        "for i in range(5):\n",
        "  tensor[i,i]=i+1\n",
        "tensor"
      ],
      "metadata": {
        "id": "eb_vYa5n2Y8O",
        "colab": {
          "base_uri": "https://localhost:8080/"
        },
        "outputId": "b0f8dbe6-3d7c-43b6-dad8-65d521a328de"
      },
      "execution_count": null,
      "outputs": [
        {
          "output_type": "execute_result",
          "data": {
            "text/plain": [
              "tensor([[1., 0., 0., 0., 0.],\n",
              "        [0., 2., 0., 0., 0.],\n",
              "        [0., 0., 3., 0., 0.],\n",
              "        [0., 0., 0., 4., 0.],\n",
              "        [0., 0., 0., 0., 5.]])"
            ]
          },
          "metadata": {},
          "execution_count": 41
        }
      ]
    },
    {
      "cell_type": "markdown",
      "source": [
        "12. Write a PyTorch snippet to save a given tensor as a binary to a given path."
      ],
      "metadata": {
        "id": "-BkVD0CA2hWL"
      }
    },
    {
      "cell_type": "code",
      "source": [
        "torch.save(tensor, 'test.pt')"
      ],
      "metadata": {
        "id": "DrpbNVax2igN"
      },
      "execution_count": null,
      "outputs": []
    },
    {
      "cell_type": "markdown",
      "source": [
        "13. Write a NumPy program to create a two-dimensional array of a specified format."
      ],
      "metadata": {
        "id": "1zoIfD1k2i71"
      }
    },
    {
      "cell_type": "code",
      "source": [
        "import numpy as np\n",
        "np.arange(1,51).reshape(5,10)"
      ],
      "metadata": {
        "id": "xXnOECag2zvz",
        "colab": {
          "base_uri": "https://localhost:8080/"
        },
        "outputId": "00a88de4-96d8-4ce7-d0a9-ae0e4a9c3ee0"
      },
      "execution_count": null,
      "outputs": [
        {
          "output_type": "execute_result",
          "data": {
            "text/plain": [
              "array([[ 1,  2,  3,  4,  5,  6,  7,  8,  9, 10],\n",
              "       [11, 12, 13, 14, 15, 16, 17, 18, 19, 20],\n",
              "       [21, 22, 23, 24, 25, 26, 27, 28, 29, 30],\n",
              "       [31, 32, 33, 34, 35, 36, 37, 38, 39, 40],\n",
              "       [41, 42, 43, 44, 45, 46, 47, 48, 49, 50]])"
            ]
          },
          "metadata": {},
          "execution_count": 3
        }
      ]
    },
    {
      "cell_type": "markdown",
      "source": [
        "14. Write a PyTorch snippet to create a 2-tensor with shape (8,5) of random numbers. Select these random numbers (to create the tensor) from a normal distribution (200,7) (mean, variance)."
      ],
      "metadata": {
        "id": "1V6fwGje28Ak"
      }
    },
    {
      "cell_type": "code",
      "source": [
        "torch.normal(200,7,size=(8,5))"
      ],
      "metadata": {
        "id": "f5pdwN9d27Rr",
        "colab": {
          "base_uri": "https://localhost:8080/"
        },
        "outputId": "2bff39d0-7d6e-4b8e-d5c7-ac37fc1315ac"
      },
      "execution_count": null,
      "outputs": [
        {
          "output_type": "execute_result",
          "data": {
            "text/plain": [
              "tensor([[208.2024, 208.2031, 204.8926, 201.8260, 208.2236],\n",
              "        [197.3638, 211.4978, 192.8223, 188.8475, 198.9870],\n",
              "        [212.1936, 197.7641, 205.6291, 193.9895, 195.8556],\n",
              "        [181.8455, 195.3697, 200.2680, 198.3541, 210.2693],\n",
              "        [199.5777, 189.6952, 200.0432, 203.0931, 203.7365],\n",
              "        [199.6168, 200.4733, 206.7609, 215.5997, 198.0255],\n",
              "        [199.3977, 197.2206, 212.3142, 207.6140, 196.8565],\n",
              "        [200.4768, 201.2755, 195.7108, 203.7928, 203.8126]])"
            ]
          },
          "metadata": {},
          "execution_count": 9
        }
      ]
    },
    {
      "cell_type": "markdown",
      "source": [
        "15. Write a PyTorch snippet to generate a uniform, non-uniform random sample from a given vector with and without replacement (do all 4 combinations possible)."
      ],
      "metadata": {
        "id": "hSVeltdw3IoY"
      }
    },
    {
      "cell_type": "code",
      "source": [],
      "metadata": {
        "id": "ZfDNMghS3Jof"
      },
      "execution_count": null,
      "outputs": []
    },
    {
      "cell_type": "markdown",
      "source": [
        "16. Write a Pyorch snippet to create an nxn(input to function) tensor with random values. Create an array from the said array swapping first and last rows."
      ],
      "metadata": {
        "id": "DOIrjKBq3MjM"
      }
    },
    {
      "cell_type": "code",
      "source": [
        "def random_tensor(n):\n",
        "    tensor_a = torch.rand((n, n))\n",
        "    print(tensor_a)\n",
        "    #tensor_b=torch.Tensor.copy_(tensor_a)\n",
        "    tensor_b=y = tensor_a.clone().detach()\n",
        "    last_row = tensor_a[-1]\n",
        "    first_row=tensor_a[0]\n",
        "    tensor_b[-1]=first_row\n",
        "    tensor_b[0]=last_row\n",
        "    return tensor_b\n",
        "random_tensor(4)\n"
      ],
      "metadata": {
        "id": "xFkWtcTN3MI3",
        "colab": {
          "base_uri": "https://localhost:8080/"
        },
        "outputId": "fedbb3d2-d46b-4053-828c-bd5cc2618f2c"
      },
      "execution_count": null,
      "outputs": [
        {
          "output_type": "stream",
          "name": "stdout",
          "text": [
            "tensor([[0.7233, 0.4531, 0.4438, 0.6184],\n",
            "        [0.1120, 0.4285, 0.1017, 0.3514],\n",
            "        [0.2188, 0.1759, 0.6998, 0.7309],\n",
            "        [0.0509, 0.5409, 0.4322, 0.6665]])\n"
          ]
        },
        {
          "output_type": "execute_result",
          "data": {
            "text/plain": [
              "tensor([[0.0509, 0.5409, 0.4322, 0.6665],\n",
              "        [0.1120, 0.4285, 0.1017, 0.3514],\n",
              "        [0.2188, 0.1759, 0.6998, 0.7309],\n",
              "        [0.7233, 0.4531, 0.4438, 0.6184]])"
            ]
          },
          "metadata": {},
          "execution_count": 27
        }
      ]
    },
    {
      "cell_type": "markdown",
      "source": [
        "17. Write a PyTorch snippet to sort a given tensor (1D or 2D) in ascending order."
      ],
      "metadata": {
        "id": "e2yl3FJI3SOW"
      }
    },
    {
      "cell_type": "code",
      "source": [
        "print(tensor_1)\n",
        "torch.sort(tensor_1)"
      ],
      "metadata": {
        "id": "FxiCfs8y3R8W",
        "colab": {
          "base_uri": "https://localhost:8080/"
        },
        "outputId": "dce1e3c1-8158-4b52-da4f-aa1743b9eea7"
      },
      "execution_count": null,
      "outputs": [
        {
          "output_type": "stream",
          "name": "stdout",
          "text": [
            "tensor([[ 0.1465, -0.6186,  0.0000, -0.9291,  0.3647, -0.5591],\n",
            "        [ 0.0313,     nan,  1.5251,  0.5157, -0.7584,  1.1333],\n",
            "        [-0.8396, -0.4990,  1.7941, -1.1162, -0.6272,  1.9077],\n",
            "        [ 0.0147,  0.5161,  0.0953,  0.0000, -0.5904,  1.0940]])\n"
          ]
        },
        {
          "output_type": "execute_result",
          "data": {
            "text/plain": [
              "torch.return_types.sort(\n",
              "values=tensor([[-0.9291, -0.6186, -0.5591,  0.0000,  0.1465,  0.3647],\n",
              "        [-0.7584,  0.0313,  0.5157,  1.1333,  1.5251,     nan],\n",
              "        [-1.1162, -0.8396, -0.6272, -0.4990,  1.7941,  1.9077],\n",
              "        [-0.5904,  0.0000,  0.0147,  0.0953,  0.5161,  1.0940]]),\n",
              "indices=tensor([[3, 1, 5, 2, 0, 4],\n",
              "        [4, 0, 3, 5, 2, 1],\n",
              "        [3, 0, 4, 1, 2, 5],\n",
              "        [4, 3, 0, 2, 1, 5]]))"
            ]
          },
          "metadata": {},
          "execution_count": 13
        }
      ]
    },
    {
      "cell_type": "markdown",
      "source": [
        "18. Write a PyTorch snippet to create a tensor of equal shape and data type for a given tensor (any dimensional)"
      ],
      "metadata": {
        "id": "TY1htljY3X50"
      }
    },
    {
      "cell_type": "code",
      "source": [
        "tensor_1=torch.rand((3,3))\n",
        "torch.empty_like(tensor_1)\n"
      ],
      "metadata": {
        "id": "br714aF43Xax",
        "colab": {
          "base_uri": "https://localhost:8080/"
        },
        "outputId": "2d0a05da-d075-4e57-912f-a622961a1f92"
      },
      "execution_count": null,
      "outputs": [
        {
          "output_type": "execute_result",
          "data": {
            "text/plain": [
              "tensor([[-1.2408e-22,  3.1319e-41, -1.2204e-22],\n",
              "        [ 3.1319e-41,  4.4842e-44,  0.0000e+00],\n",
              "        [ 6.7262e-44,  0.0000e+00, -1.5488e+29]])"
            ]
          },
          "metadata": {},
          "execution_count": 31
        }
      ]
    },
    {
      "cell_type": "markdown",
      "source": [
        "19. Write a PyTorch snippet to create an 8x8 matrix and fill it with a checkerboard pattern.\n",
        "Checkerboard pattern:\n",
        "```py\n",
        "[[0 1 0 1 0 1 0 1]\n",
        "..........\n",
        "[0 1 0 1 0 1 0 1]\n",
        "[1 0 1 0 1 0 1 0]]\n",
        "```"
      ],
      "metadata": {
        "id": "jWZmWlDz3kE-"
      }
    },
    {
      "cell_type": "code",
      "source": [
        "tensor=torch.zeros(8,8)\n",
        "tensor[1::2,::2]=1\n",
        "tensor[::2,1::2]=1\n",
        "tensor"
      ],
      "metadata": {
        "id": "gUQpw8Fg3lag",
        "colab": {
          "base_uri": "https://localhost:8080/"
        },
        "outputId": "4283149e-915c-4325-b13e-90b599d0f8d1"
      },
      "execution_count": null,
      "outputs": [
        {
          "output_type": "execute_result",
          "data": {
            "text/plain": [
              "tensor([[0., 1., 0., 1., 0., 1., 0., 1.],\n",
              "        [1., 0., 1., 0., 1., 0., 1., 0.],\n",
              "        [0., 1., 0., 1., 0., 1., 0., 1.],\n",
              "        [1., 0., 1., 0., 1., 0., 1., 0.],\n",
              "        [0., 1., 0., 1., 0., 1., 0., 1.],\n",
              "        [1., 0., 1., 0., 1., 0., 1., 0.],\n",
              "        [0., 1., 0., 1., 0., 1., 0., 1.],\n",
              "        [1., 0., 1., 0., 1., 0., 1., 0.]])"
            ]
          },
          "metadata": {},
          "execution_count": 32
        }
      ]
    },
    {
      "cell_type": "markdown",
      "source": [
        "20. Write a Pytorch snippet to convert Centigrade to Fahrenheit and vice versa (controlled by a parameter). Ensure you operation is vectorized i.e **no explicit looping**\n",
        "\n",
        "Sample Array: `[0, 12, 45.21, 34, 99.91]`"
      ],
      "metadata": {
        "id": "yB4L7Usg364D"
      }
    },
    {
      "cell_type": "code",
      "source": [],
      "metadata": {
        "id": "IPTecJEQ3_JC"
      },
      "execution_count": 9,
      "outputs": []
    },
    {
      "cell_type": "markdown",
      "source": [
        "21. Write a PyTorch snippet to get the values of the elements that are bigger than a given *number* in a given tensor.\n",
        "\n",
        "Original tensor:\n",
        "```\n",
        "[[ 0 10 20]\n",
        "[20 30 40]]\n",
        "```\n",
        "Number: 10\n",
        "\n",
        "Values bigger than 10 = `[20 20 30 40]`"
      ],
      "metadata": {
        "id": "n8dqXvMZ4oFb"
      }
    },
    {
      "cell_type": "code",
      "source": [
        "tensor_1=[[ 0, 10, 20],[20, 30, 40]]\n",
        "list1=[]\n",
        "for x in tensor_1:\n",
        "  for y in x:\n",
        "    if y>10:\n",
        "      list1.append(y)\n",
        "\n",
        "torch.Tensor(list1)\n"
      ],
      "metadata": {
        "id": "HwoDL-Kr4ww4",
        "colab": {
          "base_uri": "https://localhost:8080/"
        },
        "outputId": "952dc35d-9d23-4790-b36b-ac105d0706aa"
      },
      "execution_count": null,
      "outputs": [
        {
          "output_type": "execute_result",
          "data": {
            "text/plain": [
              "tensor([20., 20., 30., 40.])"
            ]
          },
          "metadata": {},
          "execution_count": 35
        }
      ]
    },
    {
      "cell_type": "markdown",
      "source": [
        "22. Write a PyTorch snippet to create another shape from an array without changing its data. After carrying out the operation, change the data in one place and see if the other tensor changes\n",
        "\n",
        "Reshape 3x2:\n",
        "```\n",
        "[[1 2]\n",
        "[3 4]\n",
        "[5 6]]\n",
        "```\n",
        "Reshape 2x3:\n",
        "```\n",
        "[[1 2 3]\n",
        "[4 5 6]]\n",
        "```"
      ],
      "metadata": {
        "id": "QmR9luYk4xaa"
      }
    },
    {
      "cell_type": "code",
      "source": [
        "tensor=torch.Tensor([[1,2],[3,4],[5,6]])\n",
        "tensor.reshape(2,3)"
      ],
      "metadata": {
        "id": "oUvXdmtV5ZRJ",
        "colab": {
          "base_uri": "https://localhost:8080/"
        },
        "outputId": "9a8e2def-972c-47ff-97ea-c3436820cdb9"
      },
      "execution_count": null,
      "outputs": [
        {
          "output_type": "execute_result",
          "data": {
            "text/plain": [
              "tensor([[1., 2., 3.],\n",
              "        [4., 5., 6.]])"
            ]
          },
          "metadata": {},
          "execution_count": 36
        }
      ]
    },
    {
      "cell_type": "markdown",
      "source": [
        "23. Write a PyTorch snipppet to change an tensor's data type.\n",
        "```\n",
        "[[ 2 4 6]\n",
        "[ 6 8 10]]\n",
        "```\n",
        "Data type of the array x is: `int32`\n",
        "\n",
        "New Type: `float64`\n",
        "```\n",
        "[[ 2. 4. 6.]\n",
        "[ 6. 8. 10.]]\n",
        "```"
      ],
      "metadata": {
        "id": "ew1n8aUg5QZA"
      }
    },
    {
      "cell_type": "code",
      "source": [
        "tensor=torch.Tensor([[2,4,6],[6,8,10]])\n",
        "tensor.type(torch.float64)"
      ],
      "metadata": {
        "colab": {
          "base_uri": "https://localhost:8080/"
        },
        "id": "o97R7B4qG1tC",
        "outputId": "64c319b8-0a67-40e0-8a0b-ca74ddb9b5c6"
      },
      "execution_count": null,
      "outputs": [
        {
          "output_type": "execute_result",
          "data": {
            "text/plain": [
              "tensor([[ 2.,  4.,  6.],\n",
              "        [ 6.,  8., 10.]], dtype=torch.float64)"
            ]
          },
          "metadata": {},
          "execution_count": 37
        }
      ]
    },
    {
      "cell_type": "markdown",
      "source": [
        "24. Write a PyTorch snippet to insert a new axis within a 2-tensor, based on a **parameter**.\n",
        "\n",
        "Ex: If 2-tensor has shape (3, 4).\n",
        "\n",
        "Then, new shape can be (1, 3, 4), (3, 1, 4), or (3, 4, 1) depending on...."
      ],
      "metadata": {
        "id": "0hf1vOk75-Df"
      }
    },
    {
      "cell_type": "code",
      "source": [
        "def insert_axis(tensor,axis):\n",
        "  if axis==0:\n",
        "    tensor=tensor.unsqueeze(0)\n",
        "  elif axis==1:\n",
        "    tensor=tensor.unsqueeze(1)\n",
        "  elif axis==2:\n",
        "    tensor=tensor.unsqueeze(2)\n",
        "  return tensor"
      ],
      "metadata": {
        "id": "38vF5Dwk5Dbi"
      },
      "execution_count": null,
      "outputs": []
    },
    {
      "cell_type": "markdown",
      "source": [
        "25. Write a PyTorch snippet to stack tensors based on a parameter, **axis**.\n",
        "First discover what this means with 2-tensors, then extend it to 3-tensors. Print your findings.\n",
        "\n",
        "Sample Output:\n",
        "\n",
        "Original tensors:\n",
        "\n",
        "Tensor-1\n",
        "```\n",
        "[[0 1 2]\n",
        "[3 4 5]\n",
        "[6 7 8]]\n",
        "```\n",
        "Tensor-2\n",
        "```\n",
        "[[ 0 3 6]\n",
        "[ 9 12 15]\n",
        "[18 21 24]]\n",
        "```\n",
        "Stack tensors such that axis=1:\n",
        "```\n",
        "[[ 0 1 2 0 3 6]\n",
        "[ 3 4 5 9 12 15]\n",
        "[ 6 7 8 18 21 24]]\n",
        "```"
      ],
      "metadata": {
        "id": "K4GeygLp7wAt"
      }
    },
    {
      "cell_type": "code",
      "source": [
        "tensor1 = torch.tensor([[0, 1, 2], [3, 4, 5], [6, 7, 8]])\n",
        "tensor2 = torch.tensor([[0, 3, 6], [9, 12, 15], [18, 21, 24]])\n",
        "torch.cat((tensor1, tensor2), dim=1)"
      ],
      "metadata": {
        "id": "-37mCkKH75fN",
        "colab": {
          "base_uri": "https://localhost:8080/"
        },
        "outputId": "f9742e6e-71a7-4d3c-a3c0-b9338d09181d"
      },
      "execution_count": null,
      "outputs": [
        {
          "output_type": "execute_result",
          "data": {
            "text/plain": [
              "tensor([[ 0,  1,  2,  0,  3,  6],\n",
              "        [ 3,  4,  5,  9, 12, 15],\n",
              "        [ 6,  7,  8, 18, 21, 24]])"
            ]
          },
          "metadata": {},
          "execution_count": 38
        }
      ]
    },
    {
      "cell_type": "markdown",
      "source": [
        "26. Write a PyTorch snippet to extract the **m**th to **n**th elements of the **m**th to **n**th rows from the **m**th to nth elemnts of given 3-tensor, of shape `(p, q, r)` where m, n < p, q, r.\n",
        "\n",
        "Take a 3-tensor of (say) size `(5,6,7)` and `(m, n)` = `(4, 5)` as a test case!"
      ],
      "metadata": {
        "id": "6kix-xlh8hFz"
      }
    },
    {
      "cell_type": "code",
      "source": [
        "def extract_elements(p,q,r,m,n):\n",
        "  tensor1=torch.rand((p,q,r))\n",
        "  tensor1[m:n,m:n,:]\n",
        "  return tensor1\n",
        "extract_elements(5,6,7,4,5)"
      ],
      "metadata": {
        "colab": {
          "base_uri": "https://localhost:8080/"
        },
        "collapsed": true,
        "id": "oQWUkaJCInkx",
        "outputId": "3704bfe9-0c85-45a8-c905-9d74a1772c88"
      },
      "execution_count": null,
      "outputs": [
        {
          "output_type": "execute_result",
          "data": {
            "text/plain": [
              "tensor([[[0.3255, 0.9376, 0.1282, 0.1485, 0.3465, 0.1093, 0.1997],\n",
              "         [0.1434, 0.0895, 0.5299, 0.0016, 0.5277, 0.8493, 0.5882],\n",
              "         [0.2899, 0.8868, 0.9221, 0.4963, 0.6355, 0.3729, 0.6960],\n",
              "         [0.9791, 0.9292, 0.3586, 0.1032, 0.1054, 0.4029, 0.8699],\n",
              "         [0.8025, 0.5126, 0.3037, 0.3984, 0.7791, 0.4966, 0.2667],\n",
              "         [0.8294, 0.4340, 0.3479, 0.0613, 0.7872, 0.4941, 0.0052]],\n",
              "\n",
              "        [[0.9730, 0.5298, 0.1991, 0.1738, 0.2313, 0.8828, 0.3820],\n",
              "         [0.4371, 0.1174, 0.8174, 0.1011, 0.2792, 0.6481, 0.3452],\n",
              "         [0.7945, 0.8239, 0.0566, 0.3634, 0.1362, 0.5528, 0.6569],\n",
              "         [0.9466, 0.3488, 0.3359, 0.0998, 0.0628, 0.5873, 0.7374],\n",
              "         [0.5018, 0.2321, 0.0313, 0.3931, 0.1815, 0.7539, 0.6659],\n",
              "         [0.6356, 0.3505, 0.0842, 0.8631, 0.3333, 0.3222, 0.4330]],\n",
              "\n",
              "        [[0.3416, 0.9726, 0.6238, 0.3867, 0.9278, 0.7866, 0.8733],\n",
              "         [0.4195, 0.8178, 0.1988, 0.7510, 0.5306, 0.9599, 0.4997],\n",
              "         [0.7834, 0.8599, 0.5438, 0.8356, 0.8014, 0.2454, 0.9363],\n",
              "         [0.4626, 0.7257, 0.9091, 0.4611, 0.4403, 0.9629, 0.0495],\n",
              "         [0.4423, 0.8997, 0.6344, 0.7406, 0.9519, 0.1611, 0.8303],\n",
              "         [0.1454, 0.3823, 0.8100, 0.8441, 0.4663, 0.8184, 0.1475]],\n",
              "\n",
              "        [[0.9318, 0.3000, 0.7468, 0.8876, 0.5340, 0.8098, 0.9275],\n",
              "         [0.7518, 0.5379, 0.6082, 0.3277, 0.4382, 0.0513, 0.0501],\n",
              "         [0.3779, 0.5344, 0.1047, 0.2604, 0.1843, 0.0097, 0.3235],\n",
              "         [0.1721, 0.6387, 0.3951, 0.1116, 0.0757, 0.3661, 0.1999],\n",
              "         [0.2374, 0.2466, 0.0821, 0.7166, 0.4637, 0.9791, 0.8130],\n",
              "         [0.0380, 0.0075, 0.9882, 0.3630, 0.0816, 0.3434, 0.5834]],\n",
              "\n",
              "        [[0.2494, 0.1834, 0.0421, 0.9158, 0.6149, 0.6684, 0.0730],\n",
              "         [0.1339, 0.6240, 0.8170, 0.7366, 0.3006, 0.5778, 0.8583],\n",
              "         [0.4630, 0.0942, 0.1324, 0.1255, 0.6953, 0.3317, 0.4085],\n",
              "         [0.6891, 0.9950, 0.2771, 0.0015, 0.3560, 0.1237, 0.0320],\n",
              "         [0.3227, 0.4777, 0.6739, 0.6919, 0.4304, 0.1975, 0.9612],\n",
              "         [0.0187, 0.8799, 0.2152, 0.0376, 0.4292, 0.7087, 0.9317]]])"
            ]
          },
          "metadata": {},
          "execution_count": 43
        }
      ]
    },
    {
      "cell_type": "markdown",
      "source": [
        "### **Test your Understanding**"
      ],
      "metadata": {
        "id": "IxOFseFaxEQu"
      }
    },
    {
      "cell_type": "markdown",
      "source": [
        "1. Given a 3D tensor of shape `(a, b, c)`*italicised text*, permute its axes to obtain tensors of all other shape combinations (i.e 5)."
      ],
      "metadata": {
        "id": "Vzbo4s_KAsE9"
      }
    },
    {
      "cell_type": "code",
      "source": [
        "def permute_axes(a,b,c):\n",
        "  tensor1=torch.rand((a,b,c))\n",
        "  tensor2=tensor1.permute(2,0,1)\n",
        "  tensor3=tensor1.permute(0,2,1)\n",
        "  tensor4=tensor1.permute(1,0,2)\n",
        "  tensor5=tensor1.permute(1,2,0)\n",
        "  print(tensor1)\n",
        "  print(tensor2)\n",
        "  print(tensor3)\n",
        "  print(tensor4)\n",
        "  print(tensor5)\n",
        "permute_axes(2,3,4)"
      ],
      "metadata": {
        "id": "R791RvsIAh3O",
        "colab": {
          "base_uri": "https://localhost:8080/"
        },
        "collapsed": true,
        "outputId": "a0563d68-6811-4aa5-fab6-573ea7533413"
      },
      "execution_count": null,
      "outputs": [
        {
          "output_type": "stream",
          "name": "stdout",
          "text": [
            "tensor([[[0.2604, 0.6596, 0.1076, 0.3287],\n",
            "         [0.7902, 0.7551, 0.0189, 0.0157],\n",
            "         [0.8778, 0.3724, 0.7237, 0.3742]],\n",
            "\n",
            "        [[0.3041, 0.1493, 0.5901, 0.6973],\n",
            "         [0.9854, 0.6351, 0.5138, 0.2194],\n",
            "         [0.9367, 0.7239, 0.6160, 0.9326]]])\n",
            "tensor([[[0.2604, 0.7902, 0.8778],\n",
            "         [0.3041, 0.9854, 0.9367]],\n",
            "\n",
            "        [[0.6596, 0.7551, 0.3724],\n",
            "         [0.1493, 0.6351, 0.7239]],\n",
            "\n",
            "        [[0.1076, 0.0189, 0.7237],\n",
            "         [0.5901, 0.5138, 0.6160]],\n",
            "\n",
            "        [[0.3287, 0.0157, 0.3742],\n",
            "         [0.6973, 0.2194, 0.9326]]])\n",
            "tensor([[[0.2604, 0.7902, 0.8778],\n",
            "         [0.6596, 0.7551, 0.3724],\n",
            "         [0.1076, 0.0189, 0.7237],\n",
            "         [0.3287, 0.0157, 0.3742]],\n",
            "\n",
            "        [[0.3041, 0.9854, 0.9367],\n",
            "         [0.1493, 0.6351, 0.7239],\n",
            "         [0.5901, 0.5138, 0.6160],\n",
            "         [0.6973, 0.2194, 0.9326]]])\n",
            "tensor([[[0.2604, 0.6596, 0.1076, 0.3287],\n",
            "         [0.3041, 0.1493, 0.5901, 0.6973]],\n",
            "\n",
            "        [[0.7902, 0.7551, 0.0189, 0.0157],\n",
            "         [0.9854, 0.6351, 0.5138, 0.2194]],\n",
            "\n",
            "        [[0.8778, 0.3724, 0.7237, 0.3742],\n",
            "         [0.9367, 0.7239, 0.6160, 0.9326]]])\n",
            "tensor([[[0.2604, 0.3041],\n",
            "         [0.6596, 0.1493],\n",
            "         [0.1076, 0.5901],\n",
            "         [0.3287, 0.6973]],\n",
            "\n",
            "        [[0.7902, 0.9854],\n",
            "         [0.7551, 0.6351],\n",
            "         [0.0189, 0.5138],\n",
            "         [0.0157, 0.2194]],\n",
            "\n",
            "        [[0.8778, 0.9367],\n",
            "         [0.3724, 0.7239],\n",
            "         [0.7237, 0.6160],\n",
            "         [0.3742, 0.9326]]])\n"
          ]
        }
      ]
    },
    {
      "cell_type": "markdown",
      "source": [
        "2. Given a 4D tensor of shape `(2, 3, 4, 5)`, transpose it to obtain a tensor of shape `(2, 4, 5, 3)`. Also explore what is_contiguous() means..."
      ],
      "metadata": {
        "id": "CwETJF5fAz-j"
      }
    },
    {
      "cell_type": "code",
      "source": [
        "tensor1=torch.randn(2,3,4,5)\n",
        "tensor1.permute(0,2,3,1).is_contiguous()"
      ],
      "metadata": {
        "id": "tfdlEGx3Ag2B",
        "colab": {
          "base_uri": "https://localhost:8080/"
        },
        "outputId": "a91a314f-0647-4f6a-a915-b8749321846a"
      },
      "execution_count": null,
      "outputs": [
        {
          "output_type": "execute_result",
          "data": {
            "text/plain": [
              "False"
            ]
          },
          "metadata": {},
          "execution_count": 61
        }
      ]
    },
    {
      "cell_type": "markdown",
      "source": [
        "3. Given two tensors, one of shape (n, 1) and another of shape (m, ), perform an element-wise addition **manually**. Then, test out what direct addition does and compare your results!"
      ],
      "metadata": {
        "id": "W13ajP4aBO3v"
      }
    },
    {
      "cell_type": "code",
      "source": [
        "n = 3\n",
        "m = 4\n",
        "A = torch.randn(n, 1)\n",
        "B = torch.randn(m)\n",
        "broadcasted_B = B.view(1, m)\n",
        "result = A + broadcasted_B\n",
        "print(result)"
      ],
      "metadata": {
        "id": "3AtpWGh1Bdpd",
        "colab": {
          "base_uri": "https://localhost:8080/"
        },
        "outputId": "4bd8e8c1-42f2-4c4f-edb0-da4168525322"
      },
      "execution_count": null,
      "outputs": [
        {
          "output_type": "stream",
          "name": "stdout",
          "text": [
            "tensor([[ 1.2192,  1.8996, -1.0757,  0.1346],\n",
            "        [ 3.0039,  3.6843,  0.7090,  1.9193],\n",
            "        [-0.7946, -0.1142, -3.0895, -1.8792]])\n"
          ]
        }
      ]
    },
    {
      "cell_type": "markdown",
      "source": [
        "4. Given a 3D tensor of shape `(4, 4, 4)`, extract a sub-tensor of shape `(2, 2, 2)` starting from the element at index `(1, 1, 1)`**bold text**."
      ],
      "metadata": {
        "id": "LnyUlwKWBeUz"
      }
    },
    {
      "cell_type": "code",
      "source": [
        "tensor1=torch.rand((4,4,4))\n",
        "tensor1[1:3,1:3,1:3]"
      ],
      "metadata": {
        "id": "1oRhgDE6BqKg",
        "colab": {
          "base_uri": "https://localhost:8080/"
        },
        "outputId": "1b3dac80-2893-41f6-9585-4c0118da7d82"
      },
      "execution_count": null,
      "outputs": [
        {
          "output_type": "execute_result",
          "data": {
            "text/plain": [
              "tensor([[[0.9500, 0.1289],\n",
              "         [0.1708, 0.7884]],\n",
              "\n",
              "        [[0.2279, 0.3201],\n",
              "         [0.4314, 0.0075]]])"
            ]
          },
          "metadata": {},
          "execution_count": 70
        }
      ]
    },
    {
      "cell_type": "markdown",
      "source": [
        "5. Given a 2-tensor of arbitrary shape, rotate it 90 degrees anticlockwise.\n",
        "\n"
      ],
      "metadata": {
        "id": "-GJaZaZyBsaU"
      }
    },
    {
      "cell_type": "code",
      "source": [
        "tensor1=torch.rand((4,4))\n",
        "print(tensor1)\n",
        "torch.rot90(tensor1, k=1)"
      ],
      "metadata": {
        "id": "fb5enhEsB1Um",
        "colab": {
          "base_uri": "https://localhost:8080/"
        },
        "outputId": "0f889be4-183b-479d-ac51-faffbf9ae9cd"
      },
      "execution_count": null,
      "outputs": [
        {
          "output_type": "stream",
          "name": "stdout",
          "text": [
            "tensor([[0.3685, 0.7345, 0.6972, 0.6918],\n",
            "        [0.2257, 0.5404, 0.8560, 0.5376],\n",
            "        [0.8401, 0.6044, 0.1019, 0.0183],\n",
            "        [0.7921, 0.9259, 0.5308, 0.8929]])\n"
          ]
        },
        {
          "output_type": "execute_result",
          "data": {
            "text/plain": [
              "tensor([[0.6918, 0.5376, 0.0183, 0.8929],\n",
              "        [0.6972, 0.8560, 0.1019, 0.5308],\n",
              "        [0.7345, 0.5404, 0.6044, 0.9259],\n",
              "        [0.3685, 0.2257, 0.8401, 0.7921]])"
            ]
          },
          "metadata": {},
          "execution_count": 75
        }
      ]
    },
    {
      "cell_type": "markdown",
      "source": [
        "### **EVEN I HAD TO THINK...**"
      ],
      "metadata": {
        "id": "DNTlDxZ4C4-R"
      }
    },
    {
      "cell_type": "markdown",
      "source": [
        "1. Implement a custom operation that computes the **element-wise** **sine** of a tensor *and* its **gradient** using torch.autograd.Function.\n",
        "- You need to implement both the forward() and backward() methods.\n",
        "- For an example, look no further than the [PyTorch docs](https://pytorch.org/docs/stable/autograd.html#function)!\n",
        "- Test it out on a matrix of arbitrary size!"
      ],
      "metadata": {
        "id": "Mh71KC4rDAcY"
      }
    },
    {
      "cell_type": "code",
      "source": [],
      "metadata": {
        "id": "0Ntq8CgFC9jy"
      },
      "execution_count": null,
      "outputs": []
    },
    {
      "cell_type": "markdown",
      "source": [
        "2. One of the most important aspects of improving model performance ins normalization. Implement a custom NN normalization layer that performs either a **batch** or **layer** normalization (based on a **dim** parameter)and integrate it into a simple feedforward neural network.\n",
        "- Note that you dont need to implement any backward() here, for simplicity.\n",
        "- Consider your input tensor to the neural network as of shape (m, n) where m is num of examples, n is num of features.\n",
        "- Which value of **dim** leads to batch and layer normalization?"
      ],
      "metadata": {
        "id": "s6GDwW-dFCyT"
      }
    },
    {
      "cell_type": "code",
      "source": [
        "import torch.nn as nn\n",
        "class NL(nn.Module):\n",
        "    def __init__(self, dim):\n",
        "        super(NL, self).__init__()\n",
        "        self.dim = dim\n",
        "\n",
        "    def forward(self, x):\n",
        "        if self.dim == 0:\n",
        "            # Batch Normalization\n",
        "            mean = torch.mean(x, dim=0, keepdim=True)\n",
        "            std = torch.std(x, dim=0, keepdim=True)\n",
        "            normalized_x = (x - mean) / (std + 1e-8)\n",
        "        if self.dim == 1:\n",
        "            # Layer Normalization\n",
        "            mean = torch.mean(x, dim=1, keepdim=True)\n",
        "            std = torch.std(x, dim=1, keepdim=True)\n",
        "            normalized_x = (x - mean) / (std + 1e-8)\n",
        "\n",
        "        return normalized_x"
      ],
      "metadata": {
        "id": "KiofKZz_FgHd"
      },
      "execution_count": null,
      "outputs": []
    },
    {
      "cell_type": "markdown",
      "source": [
        "3. Given a 4D tensor of shape (2, 3, 4, 5), create a mask that sets all elements in positions where the sum of indices is even to zero."
      ],
      "metadata": {
        "id": "YEc0BxM8GGcL"
      }
    },
    {
      "cell_type": "code",
      "source": [
        "tensor = torch.randn(2, 3, 4, 5)\n",
        "indices_sum = torch.arange(tensor.numel()).view(tensor.shape).sum(dim=-1)\n",
        "mask = indices_sum % 2 == 0\n",
        "masked_tensor = tensor*mask.unsqueeze(-1)"
      ],
      "metadata": {
        "id": "pJ3FD5XiGLh8",
        "collapsed": true
      },
      "execution_count": null,
      "outputs": []
    },
    {
      "cell_type": "markdown",
      "source": [
        "3. Given two tensors, one of shape `(3, 1, 4)` and another of shape `(1, 5, 1)`, compute their element-wise multiplication using broadcasting and then sum over specific axes to obtain a tensor of shape `(3, 5)`."
      ],
      "metadata": {
        "id": "Tv557NaJGMlQ"
      }
    },
    {
      "cell_type": "code",
      "source": [
        "tensor1=torch.rand((3, 1, 4))\n",
        "tensor2=torch.rand((1, 5, 1))\n",
        "product=tensor1*tensor2\n",
        "result=product.sum(dim=1).sum(dim=2)"
      ],
      "metadata": {
        "id": "qP3EGgyXGMMH",
        "colab": {
          "base_uri": "https://localhost:8080/",
          "height": 176
        },
        "outputId": "ff446fbb-659f-40b4-f1f1-af986a185003"
      },
      "execution_count": null,
      "outputs": [
        {
          "output_type": "error",
          "ename": "IndexError",
          "evalue": "Dimension out of range (expected to be in range of [-2, 1], but got 2)",
          "traceback": [
            "\u001b[0;31m---------------------------------------------------------------------------\u001b[0m",
            "\u001b[0;31mIndexError\u001b[0m                                Traceback (most recent call last)",
            "\u001b[0;32m<ipython-input-82-b4209c72385a>\u001b[0m in \u001b[0;36m<cell line: 4>\u001b[0;34m()\u001b[0m\n\u001b[1;32m      2\u001b[0m \u001b[0mtensor2\u001b[0m\u001b[0;34m=\u001b[0m\u001b[0mtorch\u001b[0m\u001b[0;34m.\u001b[0m\u001b[0mrand\u001b[0m\u001b[0;34m(\u001b[0m\u001b[0;34m(\u001b[0m\u001b[0;36m1\u001b[0m\u001b[0;34m,\u001b[0m \u001b[0;36m5\u001b[0m\u001b[0;34m,\u001b[0m \u001b[0;36m1\u001b[0m\u001b[0;34m)\u001b[0m\u001b[0;34m)\u001b[0m\u001b[0;34m\u001b[0m\u001b[0;34m\u001b[0m\u001b[0m\n\u001b[1;32m      3\u001b[0m \u001b[0mproduct\u001b[0m\u001b[0;34m=\u001b[0m\u001b[0mtensor1\u001b[0m\u001b[0;34m*\u001b[0m\u001b[0mtensor2\u001b[0m\u001b[0;34m\u001b[0m\u001b[0;34m\u001b[0m\u001b[0m\n\u001b[0;32m----> 4\u001b[0;31m \u001b[0mresult\u001b[0m\u001b[0;34m=\u001b[0m\u001b[0mproduct\u001b[0m\u001b[0;34m.\u001b[0m\u001b[0msum\u001b[0m\u001b[0;34m(\u001b[0m\u001b[0mdim\u001b[0m\u001b[0;34m=\u001b[0m\u001b[0;36m1\u001b[0m\u001b[0;34m)\u001b[0m\u001b[0;34m.\u001b[0m\u001b[0msum\u001b[0m\u001b[0;34m(\u001b[0m\u001b[0mdim\u001b[0m\u001b[0;34m=\u001b[0m\u001b[0;36m2\u001b[0m\u001b[0;34m)\u001b[0m\u001b[0;34m\u001b[0m\u001b[0;34m\u001b[0m\u001b[0m\n\u001b[0m",
            "\u001b[0;31mIndexError\u001b[0m: Dimension out of range (expected to be in range of [-2, 1], but got 2)"
          ]
        }
      ]
    }
  ]
}