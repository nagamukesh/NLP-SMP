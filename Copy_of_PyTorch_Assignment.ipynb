{
  "nbformat": 4,
  "nbformat_minor": 0,
  "metadata": {
    "colab": {
      "provenance": [],
      "collapsed_sections": [
        "DNTlDxZ4C4-R"
      ],
      "include_colab_link": true
    },
    "kernelspec": {
      "name": "python3",
      "display_name": "Python 3"
    },
    "language_info": {
      "name": "python"
    }
  },
  "cells": [
    {
      "cell_type": "markdown",
      "metadata": {
        "id": "view-in-github",
        "colab_type": "text"
      },
      "source": [
        "<a href=\"https://colab.research.google.com/github/nagamukesh/NLP-SMP/blob/Aaryan_reddy/Copy_of_PyTorch_Assignment.ipynb\" target=\"_parent\"><img src=\"https://colab.research.google.com/assets/colab-badge.svg\" alt=\"Open In Colab\"/></a>"
      ]
    },
    {
      "cell_type": "markdown",
      "source": [
        "#  **PyTorch Practice Assignment**\n",
        "**Name**: Aaryan Reddy\n",
        "\n",
        "**Roll Number**: 231AI001"
      ],
      "metadata": {
        "id": "CDn9wbMS0a0r"
      }
    },
    {
      "cell_type": "markdown",
      "source": [
        "## **Instructions:**\n",
        "\n",
        "- Copy this Notebook to your own Drive! You cannot directly modify it.\n",
        "- Please show the output of the cells, in case of some operation. You can specify your own **non-trivial** test-case. Also, try and make your snippets into functions to organize your logic.\n",
        "- You can use any number of cells for a question, you are not restricted to just 1 cell!\n",
        "- **No using ChatGPT for this assignment**: we highly recommend using the [Pytorch Docs](https://pytorch.org/docs/stable/index.html) as your start reference, as well as the vast internet however. You can also contact any of your mentors for some hints/help!\n",
        "- You can work on this assignment in Google Colab or on Your Local Machine!"
      ],
      "metadata": {
        "id": "ENyCsRHv1gqA"
      }
    },
    {
      "cell_type": "markdown",
      "source": [
        "### **Build Up Your Understanding**"
      ],
      "metadata": {
        "id": "1tRkI1j1xGzl"
      }
    },
    {
      "cell_type": "markdown",
      "source": [
        "1. Write a PyTorch snippet to test whether none of the elements of a given tensor are zero."
      ],
      "metadata": {
        "id": "R75QYzJlz874"
      }
    },
    {
      "cell_type": "code",
      "execution_count": null,
      "metadata": {
        "id": "YrnLJibzzT0d",
        "colab": {
          "base_uri": "https://localhost:8080/"
        },
        "outputId": "dd23535e-5cd9-470f-a60b-7b394d3a64a7"
      },
      "outputs": [
        {
          "output_type": "stream",
          "name": "stdout",
          "text": [
            "tensor(False)\n",
            "tensor(True)\n"
          ]
        }
      ],
      "source": [
        "import torch\n",
        "tensor  = torch.tensor([0,0])\n",
        "check=torch.all(tensor != 0)\n",
        "print(check)\n",
        "tensor  = torch.tensor([1,2])\n",
        "check=torch.all(tensor != 0)\n",
        "print(check)"
      ]
    },
    {
      "cell_type": "markdown",
      "source": [
        "2. Write a PyTorch snippet to test element-wise for NaN of a given tensor."
      ],
      "metadata": {
        "id": "N65zZ0B20CcN"
      }
    },
    {
      "cell_type": "code",
      "source": [
        "import torch\n",
        "tensor = torch.tensor([1.0, float('nan'), 3.0, 4.0, float('nan')])\n",
        "nan_elements = torch.isnan(tensor)\n",
        "print(nan_elements)"
      ],
      "metadata": {
        "id": "09XtXleK0Yqx",
        "colab": {
          "base_uri": "https://localhost:8080/"
        },
        "outputId": "1f733722-56fb-4e93-ee3e-b660ed9774d2"
      },
      "execution_count": null,
      "outputs": [
        {
          "output_type": "stream",
          "name": "stdout",
          "text": [
            "tensor([False,  True, False, False,  True])\n"
          ]
        }
      ]
    },
    {
      "cell_type": "markdown",
      "source": [
        "3. Write a PyTorch snippet to test whether two tensors are element-wise equal within a tolerance."
      ],
      "metadata": {
        "id": "nPgqdCS60ZLy"
      }
    },
    {
      "cell_type": "code",
      "source": [
        "import torch\n",
        "\n",
        "def compare_tensors_with_tolerance(tensor1, tensor2, tolerance):\n",
        "\n",
        "  if tensor1.shape != tensor2.shape:\n",
        "    return False\n",
        "\n",
        "  diff = torch.abs(tensor1 - tensor2)\n",
        "\n",
        "  return torch.all(diff < tolerance)\n",
        "\n",
        "tensor1 = torch.tensor([1.0, 2.0, 3.0])\n",
        "tensor2 = torch.tensor([1.001, 2.002, 2.999])\n",
        "tolerance = 0.01\n",
        "\n",
        "result = compare_tensors_with_tolerance(tensor1, tensor2, tolerance)\n",
        "\n",
        "print(result)"
      ],
      "metadata": {
        "id": "nZlp4IJh1TAG",
        "colab": {
          "base_uri": "https://localhost:8080/"
        },
        "outputId": "a0022fa7-a241-42ea-f159-3d852866bf53"
      },
      "execution_count": null,
      "outputs": [
        {
          "metadata": {
            "tags": null
          },
          "name": "stdout",
          "output_type": "stream",
          "text": [
            "tensor(True)\n"
          ]
        }
      ]
    },
    {
      "cell_type": "markdown",
      "source": [
        "4. Write a PyTorch snippet to create a tensor of 10 zeros, 10 ones, and 10 fives stacked on top of each other (try & accomplish everything using nested function calls)."
      ],
      "metadata": {
        "id": "6erc53t11ToS"
      }
    },
    {
      "cell_type": "code",
      "source": [
        "zeros = torch.zeros(10)\n",
        "ones = torch.ones(10)\n",
        "fives = torch.ones(10) * 5\n",
        "stacked_tensor = torch.cat((zeros, ones, fives), dim=0)\n",
        "print(stacked_tensor)"
      ],
      "metadata": {
        "id": "DX2o4rH81cXb",
        "colab": {
          "base_uri": "https://localhost:8080/"
        },
        "outputId": "2d90cecd-7710-4e4d-d2b5-345499588bf8"
      },
      "execution_count": null,
      "outputs": [
        {
          "output_type": "stream",
          "name": "stdout",
          "text": [
            "tensor([0., 0., 0., 0., 0., 0., 0., 0., 0., 0., 1., 1., 1., 1., 1., 1., 1., 1.,\n",
            "        1., 1., 5., 5., 5., 5., 5., 5., 5., 5., 5., 5.])\n"
          ]
        }
      ]
    },
    {
      "cell_type": "markdown",
      "source": [
        "5. Write a PyTorch snippet to generate a random number between 0 and 1."
      ],
      "metadata": {
        "id": "HVZFHjER15fI"
      }
    },
    {
      "cell_type": "code",
      "source": [
        "import torch\n",
        "\n",
        "rng = torch.Generator().manual_seed(42)\n",
        "\n",
        "random_number = torch.rand(1, generator=rng).item()\n",
        "\n",
        "print(random_number)"
      ],
      "metadata": {
        "id": "D2sDJxaL16ev",
        "colab": {
          "base_uri": "https://localhost:8080/"
        },
        "outputId": "f3a6c779-49da-4e03-e032-e264d3b972d4"
      },
      "execution_count": null,
      "outputs": [
        {
          "output_type": "stream",
          "name": "stdout",
          "text": [
            "0.8822692632675171\n"
          ]
        }
      ]
    },
    {
      "cell_type": "markdown",
      "source": [
        "6. Write a PyTorch snippet to generate a tensor of 15 random numbers from a standard normal distribution."
      ],
      "metadata": {
        "id": "v-bl_RmJ19U2"
      }
    },
    {
      "cell_type": "code",
      "source": [
        "import torch\n",
        "\n",
        "tensor = torch.randn(15)\n",
        "\n",
        "print(tensor)"
      ],
      "metadata": {
        "id": "TwOTzLLz1-Oj",
        "colab": {
          "base_uri": "https://localhost:8080/"
        },
        "outputId": "e432bff6-57c9-4dc2-fe4b-175061b54718"
      },
      "execution_count": null,
      "outputs": [
        {
          "output_type": "stream",
          "name": "stdout",
          "text": [
            "tensor([ 0.2201,  0.2892,  0.5624, -0.5250,  0.5047, -0.6959,  0.7108,  1.2519,\n",
            "         0.4320, -1.7442,  0.9805,  1.0260, -0.3395,  0.1141, -1.1218])\n"
          ]
        }
      ]
    },
    {
      "cell_type": "markdown",
      "source": [
        "7. Write a Pytorch snippet to create a tensor of length 10 with values evenly distributed between 5 and 50."
      ],
      "metadata": {
        "id": "QbsLwc2e1-wI"
      }
    },
    {
      "cell_type": "code",
      "source": [
        "import torch\n",
        "\n",
        "tensor = torch.linspace(5, 50, 10)\n",
        "\n",
        "print(tensor)"
      ],
      "metadata": {
        "id": "4x-aEGJy2F_J",
        "colab": {
          "base_uri": "https://localhost:8080/"
        },
        "outputId": "0ddc4ad1-3efc-4812-cd1f-33749f9b8ecc"
      },
      "execution_count": null,
      "outputs": [
        {
          "output_type": "stream",
          "name": "stdout",
          "text": [
            "tensor([ 5., 10., 15., 20., 25., 30., 35., 40., 45., 50.])\n"
          ]
        }
      ]
    },
    {
      "cell_type": "markdown",
      "source": [
        "8. Write a Pyorch program to create a tensor with values from 0 to 20 and change the sign of the numbers in the range from 9 to 15."
      ],
      "metadata": {
        "id": "z4t6r6xR2IyJ"
      }
    },
    {
      "cell_type": "code",
      "source": [
        "import torch\n",
        "\n",
        "tensor = torch.arange(0, 21)\n",
        "\n",
        "tensor[9:16] = -tensor[9:16]\n",
        "\n",
        "print(tensor)"
      ],
      "metadata": {
        "id": "2ckG-mcF2Jda",
        "colab": {
          "base_uri": "https://localhost:8080/"
        },
        "outputId": "7325b549-f1ba-4b0e-a214-db2b70236b1f"
      },
      "execution_count": null,
      "outputs": [
        {
          "output_type": "stream",
          "name": "stdout",
          "text": [
            "tensor([  0,   1,   2,   3,   4,   5,   6,   7,   8,  -9, -10, -11, -12, -13,\n",
            "        -14, -15,  16,  17,  18,  19,  20])\n"
          ]
        }
      ]
    },
    {
      "cell_type": "markdown",
      "source": [
        "9. Write a PyTorch snippet to create a 3x4 2-tensor filled with values from 10 to 21. Same but 12 to 24."
      ],
      "metadata": {
        "id": "n5piPDEY2NXK"
      }
    },
    {
      "cell_type": "code",
      "source": [
        "tensor1 = torch.arange(10, 22, dtype=torch.float32).reshape(3, 4)\n",
        "print(tensor1)\n",
        "tensor2 = torch.arange(12, 25, dtype=torch.float32).reshape(3, 4)\n",
        "print(tensor2)"
      ],
      "metadata": {
        "id": "zKzFvfPP2OOy",
        "colab": {
          "base_uri": "https://localhost:8080/",
          "height": 245
        },
        "outputId": "6950eb32-f14b-48e0-ce40-6e76e7fd13c2"
      },
      "execution_count": null,
      "outputs": [
        {
          "output_type": "stream",
          "name": "stdout",
          "text": [
            "tensor([[10., 11., 12., 13.],\n",
            "        [14., 15., 16., 17.],\n",
            "        [18., 19., 20., 21.]])\n"
          ]
        },
        {
          "output_type": "error",
          "ename": "RuntimeError",
          "evalue": "shape '[3, 4]' is invalid for input of size 13",
          "traceback": [
            "\u001b[0;31m---------------------------------------------------------------------------\u001b[0m",
            "\u001b[0;31mRuntimeError\u001b[0m                              Traceback (most recent call last)",
            "\u001b[0;32m<ipython-input-25-caaea10e72e1>\u001b[0m in \u001b[0;36m<cell line: 3>\u001b[0;34m()\u001b[0m\n\u001b[1;32m      1\u001b[0m \u001b[0mtensor1\u001b[0m \u001b[0;34m=\u001b[0m \u001b[0mtorch\u001b[0m\u001b[0;34m.\u001b[0m\u001b[0marange\u001b[0m\u001b[0;34m(\u001b[0m\u001b[0;36m10\u001b[0m\u001b[0;34m,\u001b[0m \u001b[0;36m22\u001b[0m\u001b[0;34m,\u001b[0m \u001b[0mdtype\u001b[0m\u001b[0;34m=\u001b[0m\u001b[0mtorch\u001b[0m\u001b[0;34m.\u001b[0m\u001b[0mfloat32\u001b[0m\u001b[0;34m)\u001b[0m\u001b[0;34m.\u001b[0m\u001b[0mreshape\u001b[0m\u001b[0;34m(\u001b[0m\u001b[0;36m3\u001b[0m\u001b[0;34m,\u001b[0m \u001b[0;36m4\u001b[0m\u001b[0;34m)\u001b[0m\u001b[0;34m\u001b[0m\u001b[0;34m\u001b[0m\u001b[0m\n\u001b[1;32m      2\u001b[0m \u001b[0mprint\u001b[0m\u001b[0;34m(\u001b[0m\u001b[0mtensor1\u001b[0m\u001b[0;34m)\u001b[0m\u001b[0;34m\u001b[0m\u001b[0;34m\u001b[0m\u001b[0m\n\u001b[0;32m----> 3\u001b[0;31m \u001b[0mtensor2\u001b[0m \u001b[0;34m=\u001b[0m \u001b[0mtorch\u001b[0m\u001b[0;34m.\u001b[0m\u001b[0marange\u001b[0m\u001b[0;34m(\u001b[0m\u001b[0;36m12\u001b[0m\u001b[0;34m,\u001b[0m \u001b[0;36m25\u001b[0m\u001b[0;34m,\u001b[0m \u001b[0mdtype\u001b[0m\u001b[0;34m=\u001b[0m\u001b[0mtorch\u001b[0m\u001b[0;34m.\u001b[0m\u001b[0mfloat32\u001b[0m\u001b[0;34m)\u001b[0m\u001b[0;34m.\u001b[0m\u001b[0mreshape\u001b[0m\u001b[0;34m(\u001b[0m\u001b[0;36m3\u001b[0m\u001b[0;34m,\u001b[0m \u001b[0;36m4\u001b[0m\u001b[0;34m)\u001b[0m\u001b[0;34m\u001b[0m\u001b[0;34m\u001b[0m\u001b[0m\n\u001b[0m\u001b[1;32m      4\u001b[0m \u001b[0mprint\u001b[0m\u001b[0;34m(\u001b[0m\u001b[0mtensor2\u001b[0m\u001b[0;34m)\u001b[0m\u001b[0;34m\u001b[0m\u001b[0;34m\u001b[0m\u001b[0m\n",
            "\u001b[0;31mRuntimeError\u001b[0m: shape '[3, 4]' is invalid for input of size 13"
          ]
        }
      ]
    },
    {
      "cell_type": "markdown",
      "source": [
        "10. Write a PyTorch snippet to create a 10x10 2-tensor, in which the elements on the borders will be equal to 1, and inside 0."
      ],
      "metadata": {
        "id": "BMbpvCE12UAA"
      }
    },
    {
      "cell_type": "code",
      "source": [
        "import torch\n",
        "\n",
        "def create_bordered_tensor(size):\n",
        "\n",
        "  tensor = torch.zeros(size)\n",
        "  tensor[:, 0] = 1\n",
        "  tensor[:, -1] = 1\n",
        "  tensor[0, :] = 1\n",
        "  tensor[-1, :] = 1\n",
        "  return tensor\n",
        "\n",
        "bordered_tensor = create_bordered_tensor((10, 10))\n",
        "print(bordered_tensor)"
      ],
      "metadata": {
        "id": "-e2dvNB12Uv4",
        "colab": {
          "base_uri": "https://localhost:8080/"
        },
        "outputId": "5b15df17-06ec-4ff1-89ff-f4a5757fbeee"
      },
      "execution_count": null,
      "outputs": [
        {
          "output_type": "stream",
          "name": "stdout",
          "text": [
            "tensor([[1., 1., 1., 1., 1., 1., 1., 1., 1., 1.],\n",
            "        [1., 0., 0., 0., 0., 0., 0., 0., 0., 1.],\n",
            "        [1., 0., 0., 0., 0., 0., 0., 0., 0., 1.],\n",
            "        [1., 0., 0., 0., 0., 0., 0., 0., 0., 1.],\n",
            "        [1., 0., 0., 0., 0., 0., 0., 0., 0., 1.],\n",
            "        [1., 0., 0., 0., 0., 0., 0., 0., 0., 1.],\n",
            "        [1., 0., 0., 0., 0., 0., 0., 0., 0., 1.],\n",
            "        [1., 0., 0., 0., 0., 0., 0., 0., 0., 1.],\n",
            "        [1., 0., 0., 0., 0., 0., 0., 0., 0., 1.],\n",
            "        [1., 1., 1., 1., 1., 1., 1., 1., 1., 1.]])\n"
          ]
        }
      ]
    },
    {
      "cell_type": "markdown",
      "source": [],
      "metadata": {
        "id": "qxYVaYHPAGjU"
      }
    },
    {
      "cell_type": "markdown",
      "source": [
        "11. Write a PyTorch snippet to create a 5x5 zero 2-tensor with elements on the main diagonal equal to 1, 2, 3, 4, 5."
      ],
      "metadata": {
        "id": "3pf24Y0R2YKX"
      }
    },
    {
      "cell_type": "code",
      "source": [
        "import torch\n",
        "\n",
        "tensor = torch.zeros(5, 5)\n",
        "\n",
        "for i in range(5):\n",
        "  tensor[i, i] = i + 1\n",
        "\n",
        "print(tensor)"
      ],
      "metadata": {
        "id": "eb_vYa5n2Y8O"
      },
      "execution_count": null,
      "outputs": []
    },
    {
      "cell_type": "markdown",
      "source": [
        "12. Write a PyTorch snippet to save a given tensor as a binary to a given path."
      ],
      "metadata": {
        "id": "-BkVD0CA2hWL"
      }
    },
    {
      "cell_type": "code",
      "source": [
        "import torch\n",
        "\n",
        "tensor = torch.randn(10)\n",
        "\n",
        "path = \"/content/tensor.pt\"\n",
        "\n",
        "torch.save(tensor, path)"
      ],
      "metadata": {
        "id": "DrpbNVax2igN",
        "colab": {
          "base_uri": "https://localhost:8080/"
        },
        "outputId": "04116058-119e-425b-f0e0-f11f8ae3fa2c"
      },
      "execution_count": null,
      "outputs": [
        {
          "output_type": "stream",
          "name": "stdout",
          "text": [
            "tensor([-0.9709, -0.4601,  0.8910,  0.5510,  0.9310,  0.6391,  0.9554, -1.1747,\n",
            "        -3.0113, -0.2222])\n"
          ]
        }
      ]
    },
    {
      "cell_type": "markdown",
      "source": [
        "13. Write a NumPy program to create a two-dimensional array of a specified format."
      ],
      "metadata": {
        "id": "1zoIfD1k2i71"
      }
    },
    {
      "cell_type": "code",
      "source": [
        "import numpy as np\n",
        "\n",
        "array = np.array([[1, 2, 3], [4, 5, 6]], dtype=np.int32)\n",
        "\n",
        "print(array)"
      ],
      "metadata": {
        "id": "xXnOECag2zvz",
        "colab": {
          "base_uri": "https://localhost:8080/"
        },
        "outputId": "13e6edd6-0e63-4cab-8fe1-6a5b353d4535"
      },
      "execution_count": null,
      "outputs": [
        {
          "output_type": "stream",
          "name": "stdout",
          "text": [
            "[[1 2 3]\n",
            " [4 5 6]]\n"
          ]
        }
      ]
    },
    {
      "cell_type": "markdown",
      "source": [
        "14. Write a PyTorch snippet to create a 2-tensor with shape (8,5) of random numbers. Select these random numbers (to create the tensor) from a normal distribution (200,7) (mean, variance)."
      ],
      "metadata": {
        "id": "1V6fwGje28Ak"
      }
    },
    {
      "cell_type": "code",
      "source": [
        "import torch\n",
        "\n",
        "tensor = torch.randn(8, 5) * 7 + 200\n",
        "\n",
        "print(tensor)"
      ],
      "metadata": {
        "id": "f5pdwN9d27Rr",
        "colab": {
          "base_uri": "https://localhost:8080/"
        },
        "outputId": "3d3401cd-423d-490d-d73e-053873e23a4a"
      },
      "execution_count": null,
      "outputs": [
        {
          "output_type": "stream",
          "name": "stdout",
          "text": [
            "tensor([[192.4615, 195.0171, 204.1281, 205.8712, 202.8202],\n",
            "        [203.2595, 192.8205, 201.6251, 192.0166, 199.0007],\n",
            "        [198.4003, 206.9262, 199.4760, 208.6663, 202.7212],\n",
            "        [201.5409, 182.5845, 205.0250, 190.1066, 192.1980],\n",
            "        [206.0843, 199.8443, 195.2063, 195.4208, 198.9473],\n",
            "        [201.7142, 192.8449, 205.7640, 194.5427, 206.4491],\n",
            "        [201.5978, 196.2404, 197.3504, 201.2698, 209.7018],\n",
            "        [194.2733, 191.2282, 198.8698, 190.2480, 188.6052]])\n"
          ]
        }
      ]
    },
    {
      "cell_type": "markdown",
      "source": [
        "15. Write a PyTorch snippet to generate a uniform, non-uniform random sample from a given vector with and without replacement (do all 4 combinations possible)."
      ],
      "metadata": {
        "id": "hSVeltdw3IoY"
      }
    },
    {
      "cell_type": "code",
      "source": [
        "import torch\n",
        "\n",
        "tensor = torch.rand(10)\n",
        "uniform_sample_with_replacement = torch.randperm(len(tensor))[0:5]\n",
        "print(\"Uniform random sample with replacement:\", tensor[uniform_sample_with_replacement])\n",
        "\n",
        "uniform_sample_without_replacement = torch.randperm(len(tensor))[0:5]\n",
        "print(\"Uniform random sample without replacement:\", tensor[uniform_sample_without_replacement])\n",
        "\n",
        "non_uniform_sample_with_replacement = torch.multinomial(torch.rand(10), 5)\n",
        "print(\"Non-uniform random sample with replacement:\", tensor[non_uniform_sample_with_replacement])\n",
        "\n",
        "non_uniform_sample_without_replacement = torch.multinomial(torch.rand(10), 5, replacement=False)\n",
        "print(\"Non-uniform random sample without replacement:\", tensor[non_uniform_sample_without_replacement])"
      ],
      "metadata": {
        "id": "ZfDNMghS3Jof",
        "colab": {
          "base_uri": "https://localhost:8080/"
        },
        "outputId": "4922b58b-ee7a-423d-b86b-ba959101b4cb"
      },
      "execution_count": null,
      "outputs": [
        {
          "output_type": "stream",
          "name": "stdout",
          "text": [
            "Uniform random sample with replacement: tensor([0.2456, 0.1903, 0.3370, 0.5627, 0.1456])\n",
            "Uniform random sample without replacement: tensor([0.1456, 0.5627, 0.0419, 0.1903, 0.3370])\n",
            "Non-uniform random sample with replacement: tensor([0.2689, 0.9628, 0.1456, 0.4515, 0.3370])\n",
            "Non-uniform random sample without replacement: tensor([0.2689, 0.0419, 0.4887, 0.2456, 0.4515])\n"
          ]
        }
      ]
    },
    {
      "cell_type": "markdown",
      "source": [
        "16. Write a Pyorch snippet to create an nxn(input to function) tensor with random values. Create an array from the said array swapping first and last rows."
      ],
      "metadata": {
        "id": "DOIrjKBq3MjM"
      }
    },
    {
      "cell_type": "code",
      "source": [
        "import torch\n",
        "\n",
        "def create_tensor_and_swap_rows(n):\n",
        "\n",
        "  tensor = torch.rand(n, n)\n",
        "\n",
        "  array = tensor.numpy()\n",
        "\n",
        "  array[[0, -1]] = array[[-1, 0]]\n",
        "\n",
        "  return array\n",
        "\n",
        "array = create_tensor_and_swap_rows(5)\n",
        "\n",
        "print(array)"
      ],
      "metadata": {
        "id": "xFkWtcTN3MI3",
        "colab": {
          "base_uri": "https://localhost:8080/"
        },
        "outputId": "b587cd0a-2dc6-47fe-a843-1148a3bd5a4b"
      },
      "execution_count": null,
      "outputs": [
        {
          "output_type": "stream",
          "name": "stdout",
          "text": [
            "[[0.4445182  0.0800131  0.28520924 0.48869908 0.22761053]\n",
            " [0.70339006 0.720431   0.54107744 0.61866677 0.8534196 ]\n",
            " [0.371028   0.13173735 0.73949337 0.09359401 0.6089768 ]\n",
            " [0.8149576  0.5099763  0.37306148 0.5716677  0.7496285 ]\n",
            " [0.9815309  0.32882923 0.79012424 0.11300647 0.99073553]]\n"
          ]
        }
      ]
    },
    {
      "cell_type": "markdown",
      "source": [
        "17. Write a PyTorch snippet to sort a given tensor (1D or 2D) in ascending order."
      ],
      "metadata": {
        "id": "e2yl3FJI3SOW"
      }
    },
    {
      "cell_type": "code",
      "source": [
        "import torch\n",
        "\n",
        "def sort_tensor(tensor):\n",
        "\n",
        "  if tensor.ndim == 1:\n",
        "    return torch.sort(tensor)[0]\n",
        "\n",
        "  elif tensor.ndim == 2:\n",
        "    return torch.sort(tensor, dim=1)[0]\n",
        "\n",
        "  else:\n",
        "    raise ValueError(\"Only 1D and 2D tensors are supported.\")\n",
        "\n",
        "tensor1 = torch.tensor([5, 2, 8, 1, 4])\n",
        "\n",
        "sorted_tensor1 = sort_tensor(tensor1)\n",
        "\n",
        "print(\"Original 1D tensor:\", tensor1)\n",
        "print(\"Sorted 1D tensor:\", sorted_tensor1)\n",
        "\n",
        "tensor2 = torch.tensor([[5, 2, 8],\n",
        "                       [1, 4, 3]])\n",
        "\n",
        "sorted_tensor2 = sort_tensor(tensor2)\n",
        "\n",
        "print(\"Original 2D tensor:\", tensor2)\n",
        "print(\"Sorted 2D tensor:\", sorted_tensor2)"
      ],
      "metadata": {
        "id": "FxiCfs8y3R8W",
        "colab": {
          "base_uri": "https://localhost:8080/"
        },
        "outputId": "2f7ed4c3-a29e-4997-b8b3-739c04b9ea89"
      },
      "execution_count": null,
      "outputs": [
        {
          "output_type": "stream",
          "name": "stdout",
          "text": [
            "Original 1D tensor: tensor([5, 2, 8, 1, 4])\n",
            "Sorted 1D tensor: tensor([1, 2, 4, 5, 8])\n",
            "Original 2D tensor: tensor([[5, 2, 8],\n",
            "        [1, 4, 3]])\n",
            "Sorted 2D tensor: tensor([[2, 5, 8],\n",
            "        [1, 3, 4]])\n"
          ]
        }
      ]
    },
    {
      "cell_type": "markdown",
      "source": [
        "18. Write a PyTorch snippet to create a tensor of equal shape and data type for a given tensor (any dimensional)"
      ],
      "metadata": {
        "id": "TY1htljY3X50"
      }
    },
    {
      "cell_type": "code",
      "source": [
        "import torch\n",
        "\n",
        "def create_tensor_with_same_shape_and_dtype(input_tensor):\n",
        "\n",
        "  return torch.empty_like(input_tensor)\n",
        "\n",
        "input_tensor = torch.rand(3, 4, 5)\n",
        "\n",
        "new_tensor = create_tensor_with_same_shape_and_dtype(input_tensor)\n",
        "\n",
        "print(\"Input tensor shape:\", input_tensor.shape)\n",
        "print(\"Input tensor data type:\", input_tensor.dtype)\n",
        "\n",
        "print(\"New tensor shape:\", new_tensor.shape)\n",
        "print(\"New tensor data type:\", new_tensor.dtype)\n"
      ],
      "metadata": {
        "id": "br714aF43Xax",
        "colab": {
          "base_uri": "https://localhost:8080/"
        },
        "outputId": "d8d68b20-bd6c-482f-e4b8-06684b60c19b"
      },
      "execution_count": null,
      "outputs": [
        {
          "output_type": "stream",
          "name": "stdout",
          "text": [
            "Input tensor shape: torch.Size([3, 4, 5])\n",
            "Input tensor data type: torch.float32\n",
            "New tensor shape: torch.Size([3, 4, 5])\n",
            "New tensor data type: torch.float32\n"
          ]
        }
      ]
    },
    {
      "cell_type": "markdown",
      "source": [
        "19. Write a PyTorch snippet to create an 8x8 matrix and fill it with a checkerboard pattern.\n",
        "Checkerboard pattern:\n",
        "```py\n",
        "[[0 1 0 1 0 1 0 1]\n",
        "..........\n",
        "[0 1 0 1 0 1 0 1]\n",
        "[1 0 1 0 1 0 1 0]]\n",
        "```"
      ],
      "metadata": {
        "id": "jWZmWlDz3kE-"
      }
    },
    {
      "cell_type": "code",
      "source": [
        "import torch\n",
        "\n",
        "def create_checkerboard_matrix(size):\n",
        "\n",
        "  matrix = torch.zeros(size, size)\n",
        "\n",
        "  for i in range(size):\n",
        "    for j in range(size):\n",
        "      if (i + j) % 2 == 0:\n",
        "        matrix[i][j] = 1\n",
        "\n",
        "  return matrix\n",
        "\n",
        "checkerboard_matrix = create_checkerboard_matrix(12)\n",
        "\n",
        "print(checkerboard_matrix)"
      ],
      "metadata": {
        "id": "gUQpw8Fg3lag",
        "colab": {
          "base_uri": "https://localhost:8080/"
        },
        "outputId": "d272a86a-bf9d-450d-ed00-a2a688b61a8d"
      },
      "execution_count": null,
      "outputs": [
        {
          "output_type": "stream",
          "name": "stdout",
          "text": [
            "tensor([[1., 0., 1., 0., 1., 0., 1., 0., 1., 0., 1., 0.],\n",
            "        [0., 1., 0., 1., 0., 1., 0., 1., 0., 1., 0., 1.],\n",
            "        [1., 0., 1., 0., 1., 0., 1., 0., 1., 0., 1., 0.],\n",
            "        [0., 1., 0., 1., 0., 1., 0., 1., 0., 1., 0., 1.],\n",
            "        [1., 0., 1., 0., 1., 0., 1., 0., 1., 0., 1., 0.],\n",
            "        [0., 1., 0., 1., 0., 1., 0., 1., 0., 1., 0., 1.],\n",
            "        [1., 0., 1., 0., 1., 0., 1., 0., 1., 0., 1., 0.],\n",
            "        [0., 1., 0., 1., 0., 1., 0., 1., 0., 1., 0., 1.],\n",
            "        [1., 0., 1., 0., 1., 0., 1., 0., 1., 0., 1., 0.],\n",
            "        [0., 1., 0., 1., 0., 1., 0., 1., 0., 1., 0., 1.],\n",
            "        [1., 0., 1., 0., 1., 0., 1., 0., 1., 0., 1., 0.],\n",
            "        [0., 1., 0., 1., 0., 1., 0., 1., 0., 1., 0., 1.]])\n"
          ]
        }
      ]
    },
    {
      "cell_type": "markdown",
      "source": [
        "20. Write a Pytorch snippet to convert Centigrade to Fahrenheit and vice versa (controlled by a parameter). Ensure you operation is vectorized i.e **no explicit looping**\n",
        "\n",
        "Sample Array: `[0, 12, 45.21, 34, 99.91]`"
      ],
      "metadata": {
        "id": "yB4L7Usg364D"
      }
    },
    {
      "cell_type": "code",
      "source": [
        "import torch\n",
        "\n",
        "def convert_temperature(temperature, to_fahrenheit):\n",
        "\n",
        "  if to_fahrenheit:\n",
        "    return temperature * 9 / 5 + 32\n",
        "  else:\n",
        "    return (temperature - 32) * 5 / 9\n",
        "\n",
        "temperature_array = torch.tensor([0, 12, 45.21, 34, 99.91])\n",
        "\n",
        "fahrenheit_array = convert_temperature(temperature_array, to_fahrenheit=True)\n",
        "print(\"Converted to Fahrenheit:\", fahrenheit_array)\n",
        "\n",
        "centigrade_array = convert_temperature(fahrenheit_array, to_fahrenheit=False)\n",
        "print(\"Converted to Centigrade:\", centigrade_array)"
      ],
      "metadata": {
        "id": "IPTecJEQ3_JC",
        "colab": {
          "base_uri": "https://localhost:8080/"
        },
        "outputId": "554e99b1-e750-400b-e2e4-a375f490dca8"
      },
      "execution_count": null,
      "outputs": [
        {
          "output_type": "stream",
          "name": "stdout",
          "text": [
            "Converted to Fahrenheit: tensor([ 32.0000,  53.6000, 113.3780,  93.2000, 211.8380])\n",
            "Converted to Centigrade: tensor([ 0.0000, 12.0000, 45.2100, 34.0000, 99.9100])\n"
          ]
        }
      ]
    },
    {
      "cell_type": "markdown",
      "source": [
        "21. Write a PyTorch snippet to get the values of the elements that are bigger than a given *number* in a given tensor.\n",
        "\n",
        "Original tensor:\n",
        "```\n",
        "[[ 0 10 20]\n",
        "[20 30 40]]\n",
        "```\n",
        "Number: 10\n",
        "\n",
        "Values bigger than 10 = `[20 20 30 40]`"
      ],
      "metadata": {
        "id": "n8dqXvMZ4oFb"
      }
    },
    {
      "cell_type": "code",
      "source": [
        "import torch\n",
        "\n",
        "def get_values_greater_than(tensor, number):\n",
        "\n",
        "  mask = tensor > number\n",
        "\n",
        "  return tensor[mask]\n",
        "\n",
        "tensor = torch.tensor([[0, 10, 20],\n",
        "                       [20, 30, 40]])\n",
        "\n",
        "values_greater_than_10 = get_values_greater_than(tensor, 10)\n",
        "\n",
        "print(values_greater_than_10)"
      ],
      "metadata": {
        "id": "HwoDL-Kr4ww4",
        "colab": {
          "base_uri": "https://localhost:8080/"
        },
        "outputId": "2fc03164-ba6a-4033-99a8-bc50c3e7260a"
      },
      "execution_count": null,
      "outputs": [
        {
          "output_type": "stream",
          "name": "stdout",
          "text": [
            "tensor([20, 20, 30, 40])\n"
          ]
        }
      ]
    },
    {
      "cell_type": "markdown",
      "source": [
        "22. Write a PyTorch snippet to create another shape from an array without changing its data. After carrying out the operation, change the data in one place and see if the other tensor changes\n",
        "\n",
        "Reshape 3x2:\n",
        "```\n",
        "[[1 2]\n",
        "[3 4]\n",
        "[5 6]]\n",
        "```\n",
        "Reshape 2x3:\n",
        "```\n",
        "[[1 2 3]\n",
        "[4 5 6]]\n",
        "```"
      ],
      "metadata": {
        "id": "QmR9luYk4xaa"
      }
    },
    {
      "cell_type": "code",
      "source": [
        "import torch\n",
        "\n",
        "tensor_3x2 = torch.tensor([[1, 2],\n",
        "                           [3, 4],\n",
        "                           [5, 6]])\n",
        "\n",
        "tensor_2x3 = tensor_3x2.view(2, 3)\n",
        "\n",
        "tensor_3x2[0, 0] = 10\n",
        "\n",
        "print(\"3x2 tensor after change:\", tensor_3x2)\n",
        "print(\"2x3 tensor after change:\", tensor_2x3)"
      ],
      "metadata": {
        "id": "oUvXdmtV5ZRJ",
        "colab": {
          "base_uri": "https://localhost:8080/"
        },
        "outputId": "f87b96ef-bf7e-4bb1-d328-3d63ddfcae08"
      },
      "execution_count": null,
      "outputs": [
        {
          "output_type": "stream",
          "name": "stdout",
          "text": [
            "3x2 tensor after change: tensor([[10,  2],\n",
            "        [ 3,  4],\n",
            "        [ 5,  6]])\n",
            "2x3 tensor after change: tensor([[10,  2,  3],\n",
            "        [ 4,  5,  6]])\n"
          ]
        }
      ]
    },
    {
      "cell_type": "markdown",
      "source": [
        "23. Write a PyTorch snipppet to change an tensor's data type.\n",
        "```\n",
        "[[ 2 4 6]\n",
        "[ 6 8 10]]\n",
        "```\n",
        "Data type of the array x is: `int32`\n",
        "\n",
        "New Type: `float64`\n",
        "```\n",
        "[[ 2. 4. 6.]\n",
        "[ 6. 8. 10.]]\n",
        "```"
      ],
      "metadata": {
        "id": "ew1n8aUg5QZA"
      }
    },
    {
      "cell_type": "code",
      "source": [
        "import torch\n",
        "\n",
        "tensor = torch.tensor([[2, 4, 6],\n",
        "                       [6, 8, 10]], dtype=torch.int32)\n",
        "\n",
        "tensor = tensor.to(torch.float64)\n",
        "\n",
        "print(tensor)\n",
        "print(tensor.dtype)"
      ],
      "metadata": {
        "colab": {
          "base_uri": "https://localhost:8080/"
        },
        "id": "aZMHYhNKFHVd",
        "outputId": "dba48048-5715-462f-82a7-6a383c6ca359"
      },
      "execution_count": null,
      "outputs": [
        {
          "output_type": "stream",
          "name": "stdout",
          "text": [
            "tensor([[ 2.,  4.,  6.],\n",
            "        [ 6.,  8., 10.]], dtype=torch.float64)\n",
            "torch.float64\n"
          ]
        }
      ]
    },
    {
      "cell_type": "markdown",
      "source": [
        "24. Write a PyTorch snippet to insert a new axis within a 2-tensor, based on a **parameter**.\n",
        "\n",
        "Ex: If 2-tensor has shape (3, 4).\n",
        "\n",
        "Then, new shape can be (1, 3, 4), (3, 1, 4), or (3, 4, 1) depending on...."
      ],
      "metadata": {
        "id": "0hf1vOk75-Df"
      }
    },
    {
      "cell_type": "code",
      "source": [
        "def insert_new_axis(tensor, axis):\n",
        "\n",
        "  if axis < 0 or axis > tensor.ndim:\n",
        "    raise ValueError(\"Invalid axis value.\")\n",
        "\n",
        "  return tensor.unsqueeze(axis)\n",
        "\n",
        "tensor = torch.tensor([[1, 2, 3],\n",
        "                       [4, 5, 6]])\n",
        "\n",
        "new_tensor_1 = insert_new_axis(tensor, 0)\n",
        "new_tensor_2 = insert_new_axis(tensor, 1)\n",
        "new_tensor_3 = insert_new_axis(tensor, 2)\n",
        "\n",
        "print(\"Original tensor shape:\", tensor.shape)\n",
        "print(\"New tensor shape (axis=0):\", new_tensor_1.shape)\n",
        "print(\"New tensor shape (axis=1):\", new_tensor_2.shape)\n",
        "print(\"New tensor shape (axis=2):\", new_tensor_3.shape)"
      ],
      "metadata": {
        "id": "38vF5Dwk5Dbi",
        "colab": {
          "base_uri": "https://localhost:8080/"
        },
        "outputId": "adb2f257-d928-4b0a-ada6-8b094072112b"
      },
      "execution_count": null,
      "outputs": [
        {
          "output_type": "stream",
          "name": "stdout",
          "text": [
            "Original tensor shape: torch.Size([2, 3])\n",
            "New tensor shape (axis=0): torch.Size([1, 2, 3])\n",
            "New tensor shape (axis=1): torch.Size([2, 1, 3])\n",
            "New tensor shape (axis=2): torch.Size([2, 3, 1])\n"
          ]
        }
      ]
    },
    {
      "cell_type": "markdown",
      "source": [
        "25. Write a PyTorch snippet to stack tensors based on a parameter, **axis**.\n",
        "First discover what this means with 2-tensors, then extend it to 3-tensors. Print your findings.\n",
        "\n",
        "Sample Output:\n",
        "\n",
        "Original tensors:\n",
        "\n",
        "Tensor-1\n",
        "```\n",
        "[[0 1 2]\n",
        "[3 4 5]\n",
        "[6 7 8]]\n",
        "```\n",
        "Tensor-2\n",
        "```\n",
        "[[ 0 3 6]\n",
        "[ 9 12 15]\n",
        "[18 21 24]]\n",
        "```\n",
        "Stack tensors such that axis=1:\n",
        "```\n",
        "[[ 0 1 2 0 3 6]\n",
        "[ 3 4 5 9 12 15]\n",
        "[ 6 7 8 18 21 24]]\n",
        "```"
      ],
      "metadata": {
        "id": "K4GeygLp7wAt"
      }
    },
    {
      "cell_type": "code",
      "source": [
        "import torch\n",
        "\n",
        "tensor1 = torch.tensor([[0, 1, 2],\n",
        "                       [3, 4, 5],\n",
        "                       [6, 7, 8]])\n",
        "tensor2 = torch.tensor([[0, 3, 6],\n",
        "                       [9, 12, 15],\n",
        "                       [18, 21, 24]])\n",
        "\n",
        "stacked_tensor = torch.stack((tensor1, tensor2), dim=1)\n",
        "print(tensor1,'\\n\\n',tensor2,'\\n\\n')\n",
        "print(\"Stacked tensor along axis=1:\")\n",
        "print(stacked_tensor)\n",
        "\n",
        "tensor3 = torch.tensor([[[0, 1, 2],\n",
        "                       [3, 4, 5],\n",
        "                       [6, 7, 8]],\n",
        "                      [[9, 10, 11],\n",
        "                       [12, 13, 14],\n",
        "                       [15, 16, 17]]])\n",
        "tensor4 = torch.tensor([[[18, 19, 20],\n",
        "                       [21, 22, 23],\n",
        "                       [24, 25, 26]],\n",
        "                      [[27, 28, 29],\n",
        "                       [30, 31, 32],\n",
        "                       [33, 34, 35]]])\n",
        "\n",
        "stacked_tensor = torch.stack((tensor3, tensor4), dim=0)\n",
        "\n",
        "print(\"\\nStacked tensor along axis=0:\")\n",
        "print(stacked_tensor)"
      ],
      "metadata": {
        "id": "-37mCkKH75fN",
        "colab": {
          "base_uri": "https://localhost:8080/"
        },
        "outputId": "474c8a6c-5659-445d-92d0-30c1fbb45415"
      },
      "execution_count": null,
      "outputs": [
        {
          "output_type": "stream",
          "name": "stdout",
          "text": [
            "tensor([[0, 1, 2],\n",
            "        [3, 4, 5],\n",
            "        [6, 7, 8]]) \n",
            "\n",
            " tensor([[ 0,  3,  6],\n",
            "        [ 9, 12, 15],\n",
            "        [18, 21, 24]]) \n",
            "\n",
            "\n",
            "Stacked tensor along axis=1:\n",
            "tensor([[[ 0,  1,  2],\n",
            "         [ 0,  3,  6]],\n",
            "\n",
            "        [[ 3,  4,  5],\n",
            "         [ 9, 12, 15]],\n",
            "\n",
            "        [[ 6,  7,  8],\n",
            "         [18, 21, 24]]])\n",
            "\n",
            "Stacked tensor along axis=0:\n",
            "tensor([[[[ 0,  1,  2],\n",
            "          [ 3,  4,  5],\n",
            "          [ 6,  7,  8]],\n",
            "\n",
            "         [[ 9, 10, 11],\n",
            "          [12, 13, 14],\n",
            "          [15, 16, 17]]],\n",
            "\n",
            "\n",
            "        [[[18, 19, 20],\n",
            "          [21, 22, 23],\n",
            "          [24, 25, 26]],\n",
            "\n",
            "         [[27, 28, 29],\n",
            "          [30, 31, 32],\n",
            "          [33, 34, 35]]]])\n"
          ]
        }
      ]
    },
    {
      "cell_type": "markdown",
      "source": [
        "26. Write a PyTorch snippet to extract the **m**th to **n**th elements of the **m**th to **n**th rows from the **m**th to nth elemnts of given 3-tensor, of shape `(p, q, r)` where m, n < p, q, r.\n",
        "\n",
        "Take a 3-tensor of (say) size `(5,6,7)` and `(m, n)` = `(4, 5)` as a test case!"
      ],
      "metadata": {
        "id": "6kix-xlh8hFz"
      }
    },
    {
      "cell_type": "code",
      "source": [
        "import torch\n",
        "\n",
        "tensor = torch.arange(3*4*5).reshape(3, 4, 5)\n",
        "\n",
        "m = 1\n",
        "n = 2\n",
        "\n",
        "extracted_tensor = tensor[m:n+1, m:n+1, m:n+1]\n",
        "\n",
        "print(\"Original tensor:\\n\", tensor)\n",
        "print(f\"Extracted sub-tensor from index {m} to {n}:\\n\", extracted_tensor)"
      ],
      "metadata": {
        "colab": {
          "base_uri": "https://localhost:8080/"
        },
        "id": "yK8MON3fGfwe",
        "outputId": "b373529f-6d3f-435c-876a-899a467dd282"
      },
      "execution_count": null,
      "outputs": [
        {
          "output_type": "stream",
          "name": "stdout",
          "text": [
            "Original tensor:\n",
            " tensor([[[ 0,  1,  2,  3,  4],\n",
            "         [ 5,  6,  7,  8,  9],\n",
            "         [10, 11, 12, 13, 14],\n",
            "         [15, 16, 17, 18, 19]],\n",
            "\n",
            "        [[20, 21, 22, 23, 24],\n",
            "         [25, 26, 27, 28, 29],\n",
            "         [30, 31, 32, 33, 34],\n",
            "         [35, 36, 37, 38, 39]],\n",
            "\n",
            "        [[40, 41, 42, 43, 44],\n",
            "         [45, 46, 47, 48, 49],\n",
            "         [50, 51, 52, 53, 54],\n",
            "         [55, 56, 57, 58, 59]]])\n",
            "Extracted sub-tensor from index 1 to 2:\n",
            " tensor([[[26, 27],\n",
            "         [31, 32]],\n",
            "\n",
            "        [[46, 47],\n",
            "         [51, 52]]])\n"
          ]
        }
      ]
    },
    {
      "cell_type": "markdown",
      "source": [
        "### **Test your Understanding**"
      ],
      "metadata": {
        "id": "IxOFseFaxEQu"
      }
    },
    {
      "cell_type": "markdown",
      "source": [
        "1. Given a 3D tensor of shape `(a, b, c)`*italicised text*, permute its axes to obtain tensors of all other shape combinations (i.e 5)."
      ],
      "metadata": {
        "id": "Vzbo4s_KAsE9"
      }
    },
    {
      "cell_type": "code",
      "source": [
        "import torch\n",
        "\n",
        "tensor = torch.arange(24).reshape(2, 3, 4)\n",
        "\n",
        "permutations = [(0, 1, 2), (0, 2, 1), (1, 0, 2), (1, 2, 0), (2, 0, 1), (2, 1, 0)]\n",
        "\n",
        "for permutation in permutations:\n",
        "  permuted_tensor = tensor.permute(permutation)\n",
        "  print(f\"Shape: {permuted_tensor.shape}\")\n",
        "  print(permuted_tensor)\n",
        "  print()"
      ],
      "metadata": {
        "id": "R791RvsIAh3O",
        "colab": {
          "base_uri": "https://localhost:8080/"
        },
        "outputId": "c62530e6-9247-4e4b-a18e-1b88190d39cd"
      },
      "execution_count": null,
      "outputs": [
        {
          "output_type": "stream",
          "name": "stdout",
          "text": [
            "Shape: torch.Size([2, 3, 4])\n",
            "tensor([[[ 0,  1,  2,  3],\n",
            "         [ 4,  5,  6,  7],\n",
            "         [ 8,  9, 10, 11]],\n",
            "\n",
            "        [[12, 13, 14, 15],\n",
            "         [16, 17, 18, 19],\n",
            "         [20, 21, 22, 23]]])\n",
            "\n",
            "Shape: torch.Size([2, 4, 3])\n",
            "tensor([[[ 0,  4,  8],\n",
            "         [ 1,  5,  9],\n",
            "         [ 2,  6, 10],\n",
            "         [ 3,  7, 11]],\n",
            "\n",
            "        [[12, 16, 20],\n",
            "         [13, 17, 21],\n",
            "         [14, 18, 22],\n",
            "         [15, 19, 23]]])\n",
            "\n",
            "Shape: torch.Size([3, 2, 4])\n",
            "tensor([[[ 0,  1,  2,  3],\n",
            "         [12, 13, 14, 15]],\n",
            "\n",
            "        [[ 4,  5,  6,  7],\n",
            "         [16, 17, 18, 19]],\n",
            "\n",
            "        [[ 8,  9, 10, 11],\n",
            "         [20, 21, 22, 23]]])\n",
            "\n",
            "Shape: torch.Size([3, 4, 2])\n",
            "tensor([[[ 0, 12],\n",
            "         [ 1, 13],\n",
            "         [ 2, 14],\n",
            "         [ 3, 15]],\n",
            "\n",
            "        [[ 4, 16],\n",
            "         [ 5, 17],\n",
            "         [ 6, 18],\n",
            "         [ 7, 19]],\n",
            "\n",
            "        [[ 8, 20],\n",
            "         [ 9, 21],\n",
            "         [10, 22],\n",
            "         [11, 23]]])\n",
            "\n",
            "Shape: torch.Size([4, 2, 3])\n",
            "tensor([[[ 0,  4,  8],\n",
            "         [12, 16, 20]],\n",
            "\n",
            "        [[ 1,  5,  9],\n",
            "         [13, 17, 21]],\n",
            "\n",
            "        [[ 2,  6, 10],\n",
            "         [14, 18, 22]],\n",
            "\n",
            "        [[ 3,  7, 11],\n",
            "         [15, 19, 23]]])\n",
            "\n",
            "Shape: torch.Size([4, 3, 2])\n",
            "tensor([[[ 0, 12],\n",
            "         [ 4, 16],\n",
            "         [ 8, 20]],\n",
            "\n",
            "        [[ 1, 13],\n",
            "         [ 5, 17],\n",
            "         [ 9, 21]],\n",
            "\n",
            "        [[ 2, 14],\n",
            "         [ 6, 18],\n",
            "         [10, 22]],\n",
            "\n",
            "        [[ 3, 15],\n",
            "         [ 7, 19],\n",
            "         [11, 23]]])\n",
            "\n"
          ]
        }
      ]
    },
    {
      "cell_type": "markdown",
      "source": [
        "2. Given a 4D tensor of shape `(2, 3, 4, 5)`, transpose it to obtain a tensor of shape `(2, 4, 5, 3)`. Also explore what is_contiguous() means..."
      ],
      "metadata": {
        "id": "CwETJF5fAz-j"
      }
    },
    {
      "cell_type": "code",
      "source": [
        "import torch\n",
        "\n",
        "tensor = torch.arange(2 * 3 * 4 * 5).reshape(2, 3, 4, 5)\n",
        "\n",
        "transposed_tensor = tensor.transpose(1, 2)\n",
        "\n",
        "print(transposed_tensor.shape)\n",
        "\n",
        "print(transposed_tensor.is_contiguous())"
      ],
      "metadata": {
        "id": "tfdlEGx3Ag2B",
        "colab": {
          "base_uri": "https://localhost:8080/"
        },
        "outputId": "fe1c6496-c481-4656-cfe1-a68c3db6a892"
      },
      "execution_count": null,
      "outputs": [
        {
          "output_type": "stream",
          "name": "stdout",
          "text": [
            "torch.Size([2, 4, 3, 5])\n",
            "False\n"
          ]
        }
      ]
    },
    {
      "cell_type": "markdown",
      "source": [
        "3. Given two tensors, one of shape (n, 1) and another of shape (m, ), perform an element-wise addition **manually**. Then, test out what direct addition does and compare your results!"
      ],
      "metadata": {
        "id": "W13ajP4aBO3v"
      }
    },
    {
      "cell_type": "code",
      "source": [
        "import numpy as np\n",
        "\n",
        "n = 4\n",
        "m = 3\n",
        "A = np.array([[1], [2], [3], [4]])\n",
        "B = np.array([10, 20, 30])\n",
        "\n",
        "result_manual = np.zeros((n, m))\n",
        "for i in range(n):\n",
        "    for j in range(m):\n",
        "        result_manual[i, j] = A[i, 0] + B[j]\n",
        "\n",
        "result_direct = A + B\n",
        "\n",
        "print(result_manual)\n",
        "print(result_direct)\n",
        "\n",
        "print( np.array_equal(result_manual, result_direct))"
      ],
      "metadata": {
        "id": "3AtpWGh1Bdpd",
        "colab": {
          "base_uri": "https://localhost:8080/"
        },
        "outputId": "a9ba0c87-4082-4388-8037-e0dbf41e9b27"
      },
      "execution_count": 2,
      "outputs": [
        {
          "output_type": "stream",
          "name": "stdout",
          "text": [
            "[[11. 21. 31.]\n",
            " [12. 22. 32.]\n",
            " [13. 23. 33.]\n",
            " [14. 24. 34.]]\n",
            "[[11 21 31]\n",
            " [12 22 32]\n",
            " [13 23 33]\n",
            " [14 24 34]]\n",
            "True\n"
          ]
        }
      ]
    },
    {
      "cell_type": "markdown",
      "source": [
        "4. Given a 3D tensor of shape `(4, 4, 4)`, extract a sub-tensor of shape `(2, 2, 2)` starting from the element at index `(1, 1, 1)`**bold text**."
      ],
      "metadata": {
        "id": "LnyUlwKWBeUz"
      }
    },
    {
      "cell_type": "code",
      "source": [
        "import torch\n",
        "\n",
        "original_tensor = torch.arange(64).reshape(4, 4, 4)\n",
        "\n",
        "sub_tensor = original_tensor[1:3, 1:3, 1:3]\n",
        "\n",
        "print(original_tensor)\n",
        "print(sub_tensor)"
      ],
      "metadata": {
        "id": "1oRhgDE6BqKg",
        "colab": {
          "base_uri": "https://localhost:8080/"
        },
        "outputId": "c2204a69-d1b3-4996-dcbd-edc3f924c421"
      },
      "execution_count": 4,
      "outputs": [
        {
          "output_type": "stream",
          "name": "stdout",
          "text": [
            "tensor([[[ 0,  1,  2,  3],\n",
            "         [ 4,  5,  6,  7],\n",
            "         [ 8,  9, 10, 11],\n",
            "         [12, 13, 14, 15]],\n",
            "\n",
            "        [[16, 17, 18, 19],\n",
            "         [20, 21, 22, 23],\n",
            "         [24, 25, 26, 27],\n",
            "         [28, 29, 30, 31]],\n",
            "\n",
            "        [[32, 33, 34, 35],\n",
            "         [36, 37, 38, 39],\n",
            "         [40, 41, 42, 43],\n",
            "         [44, 45, 46, 47]],\n",
            "\n",
            "        [[48, 49, 50, 51],\n",
            "         [52, 53, 54, 55],\n",
            "         [56, 57, 58, 59],\n",
            "         [60, 61, 62, 63]]])\n",
            "tensor([[[21, 22],\n",
            "         [25, 26]],\n",
            "\n",
            "        [[37, 38],\n",
            "         [41, 42]]])\n"
          ]
        }
      ]
    },
    {
      "cell_type": "markdown",
      "source": [
        "5. Given a 2-tensor of arbitrary shape, rotate it 90 degrees anticlockwise.\n",
        "\n"
      ],
      "metadata": {
        "id": "-GJaZaZyBsaU"
      }
    },
    {
      "cell_type": "code",
      "source": [
        "import numpy as np\n",
        "\n",
        "def rotate_90_anticlockwise(matrix):\n",
        "    transposed_matrix = np.transpose(matrix)\n",
        "    rotated_matrix = np.flipud(transposed_matrix)\n",
        "    return rotated_matrix\n",
        "\n",
        "matrix = np.array([[1, 2, 3],\n",
        "                   [4, 5, 6],\n",
        "                   [7, 8, 9]])\n",
        "\n",
        "rotated_matrix = rotate_90_anticlockwise(matrix)\n",
        "print(rotated_matrix)"
      ],
      "metadata": {
        "id": "fb5enhEsB1Um",
        "colab": {
          "base_uri": "https://localhost:8080/"
        },
        "outputId": "5e27afd1-e746-470e-dc9a-54652fd2c2c3"
      },
      "execution_count": 7,
      "outputs": [
        {
          "output_type": "stream",
          "name": "stdout",
          "text": [
            "[[3 6 9]\n",
            " [2 5 8]\n",
            " [1 4 7]]\n"
          ]
        }
      ]
    },
    {
      "cell_type": "markdown",
      "source": [
        "### **EVEN I HAD TO THINK...**"
      ],
      "metadata": {
        "id": "DNTlDxZ4C4-R"
      }
    },
    {
      "cell_type": "markdown",
      "source": [
        "1. Implement a custom operation that computes the **element-wise** **sine** of a tensor *and* its **gradient** using torch.autograd.Function.\n",
        "- You need to implement both the forward() and backward() methods.\n",
        "- For an example, look no further than the [PyTorch docs](https://pytorch.org/docs/stable/autograd.html#function)!\n",
        "- Test it out on a matrix of arbitrary size!"
      ],
      "metadata": {
        "id": "Mh71KC4rDAcY"
      }
    },
    {
      "cell_type": "code",
      "source": [],
      "metadata": {
        "id": "0Ntq8CgFC9jy"
      },
      "execution_count": null,
      "outputs": []
    },
    {
      "cell_type": "markdown",
      "source": [
        "2. One of the most important aspects of improving model performance ins normalization. Implement a custom NN normalization layer that performs either a **batch** or **layer** normalization (based on a **dim** parameter)and integrate it into a simple feedforward neural network.\n",
        "- Note that you dont need to implement any backward() here, for simplicity.\n",
        "- Consider your input tensor to the neural network as of shape (m, n) where m is num of examples, n is num of features.\n",
        "- Which value of **dim** leads to batch and layer normalization?"
      ],
      "metadata": {
        "id": "s6GDwW-dFCyT"
      }
    },
    {
      "cell_type": "code",
      "source": [
        "import torch\n",
        "import torch.nn as nn\n",
        "\n",
        "class CustomNormalization(nn.Module):\n",
        "    def __init__(self, dim, eps=1e-5):\n",
        "        super(CustomNormalization, self).__init__()\n",
        "        self.dim = dim\n",
        "        self.eps = eps\n",
        "\n",
        "    def forward(self, x):\n",
        "        if self.dim == 0:\n",
        "            mean = x.mean(dim=0, keepdim=True)\n",
        "            std = x.std(dim=0, keepdim=True)\n",
        "        elif self.dim == 1:\n",
        "            mean = x.mean(dim=1, keepdim=True)\n",
        "            std = x.std(dim=1, keepdim=True)\n",
        "        else:\n",
        "            raise ValueError(\"Invalid dim value.\")\n",
        "\n",
        "        return (x - mean) / (std + self.eps)\n",
        "\n",
        "class MyNetwork(nn.Module):\n",
        "    def __init__(self, input_size, hidden_size):\n",
        "        super(MyNetwork, self).__init__()\n",
        "        self.linear1 = nn.Linear(input_size, hidden_size)\n",
        "        self.norm = CustomNormalization(dim=1)\n",
        "        self.linear2 = nn.Linear(hidden_size, 1)\n",
        "\n",
        "    def forward(self, x):\n",
        "        x = self.linear1(x)\n",
        "        x = self.norm(x)\n",
        "        x = self.linear2(x)\n",
        "        return x\n",
        "\n",
        "net = MyNetwork(10, 5)\n",
        "\n",
        "x = torch.randn(64, 10)\n",
        "\n",
        "y = net(x)\n",
        "\n",
        "print(y)"
      ],
      "metadata": {
        "id": "KiofKZz_FgHd",
        "colab": {
          "base_uri": "https://localhost:8080/"
        },
        "outputId": "5c34649e-b113-4b77-e527-d8f680db5941"
      },
      "execution_count": 8,
      "outputs": [
        {
          "output_type": "stream",
          "name": "stdout",
          "text": [
            "tensor([[-0.8023],\n",
            "        [-0.7135],\n",
            "        [-0.2798],\n",
            "        [-0.6428],\n",
            "        [-0.3294],\n",
            "        [-0.4747],\n",
            "        [ 0.2609],\n",
            "        [-0.6380],\n",
            "        [-0.3840],\n",
            "        [ 0.0745],\n",
            "        [-0.2844],\n",
            "        [-0.6170],\n",
            "        [ 0.0858],\n",
            "        [-0.5191],\n",
            "        [-0.6459],\n",
            "        [-0.3341],\n",
            "        [-0.3769],\n",
            "        [-0.5137],\n",
            "        [-0.6314],\n",
            "        [-0.5256],\n",
            "        [-0.5757],\n",
            "        [-0.1562],\n",
            "        [-0.3107],\n",
            "        [-0.0571],\n",
            "        [-0.6922],\n",
            "        [-0.3468],\n",
            "        [-0.5834],\n",
            "        [ 0.3710],\n",
            "        [-0.8132],\n",
            "        [-0.0062],\n",
            "        [-0.0056],\n",
            "        [ 0.0792],\n",
            "        [-0.0292],\n",
            "        [-0.8632],\n",
            "        [-0.0481],\n",
            "        [-0.4015],\n",
            "        [-0.2991],\n",
            "        [ 0.0633],\n",
            "        [-0.3862],\n",
            "        [-0.8190],\n",
            "        [-0.4389],\n",
            "        [-0.3752],\n",
            "        [ 0.1632],\n",
            "        [-0.0055],\n",
            "        [-0.6140],\n",
            "        [-0.1484],\n",
            "        [ 0.0472],\n",
            "        [-0.3831],\n",
            "        [-0.1401],\n",
            "        [-0.1260],\n",
            "        [-0.1099],\n",
            "        [-0.4038],\n",
            "        [-0.2613],\n",
            "        [-0.8465],\n",
            "        [ 0.1693],\n",
            "        [ 0.2844],\n",
            "        [-0.3586],\n",
            "        [-0.0995],\n",
            "        [-0.9287],\n",
            "        [-0.6631],\n",
            "        [-0.3422],\n",
            "        [-0.3155],\n",
            "        [-0.3037],\n",
            "        [-0.7178]], grad_fn=<AddmmBackward0>)\n"
          ]
        }
      ]
    },
    {
      "cell_type": "markdown",
      "source": [
        "3. Given a 4D tensor of shape (2, 3, 4, 5), create a mask that sets all elements in positions where the sum of indices is even to zero."
      ],
      "metadata": {
        "id": "YEc0BxM8GGcL"
      }
    },
    {
      "cell_type": "code",
      "source": [
        "import torch\n",
        "\n",
        "def create_mask_for_even_indices(tensor):\n",
        "\n",
        "  mask = torch.ones_like(tensor)\n",
        "\n",
        "  for i in range(tensor.shape[0]):\n",
        "    for j in range(tensor.shape[1]):\n",
        "      for k in range(tensor.shape[2]):\n",
        "        for l in range(tensor.shape[3]):\n",
        "          if (i + j + k + l) % 2 == 0:\n",
        "            mask[i, j, k, l] = 0\n",
        "\n",
        "  return mask\n",
        "\n",
        "tensor = torch.arange(120).reshape(2, 3, 4, 5)\n",
        "\n",
        "mask = create_mask_for_even_indices(tensor)\n",
        "\n",
        "masked_tensor = tensor * mask\n",
        "\n",
        "print(masked_tensor)"
      ],
      "metadata": {
        "id": "pJ3FD5XiGLh8",
        "colab": {
          "base_uri": "https://localhost:8080/"
        },
        "outputId": "52a8455b-ecce-48d4-8c94-b98cc015ac62"
      },
      "execution_count": 9,
      "outputs": [
        {
          "output_type": "stream",
          "name": "stdout",
          "text": [
            "tensor([[[[  0,   1,   0,   3,   0],\n",
            "          [  5,   0,   7,   0,   9],\n",
            "          [  0,  11,   0,  13,   0],\n",
            "          [ 15,   0,  17,   0,  19]],\n",
            "\n",
            "         [[ 20,   0,  22,   0,  24],\n",
            "          [  0,  26,   0,  28,   0],\n",
            "          [ 30,   0,  32,   0,  34],\n",
            "          [  0,  36,   0,  38,   0]],\n",
            "\n",
            "         [[  0,  41,   0,  43,   0],\n",
            "          [ 45,   0,  47,   0,  49],\n",
            "          [  0,  51,   0,  53,   0],\n",
            "          [ 55,   0,  57,   0,  59]]],\n",
            "\n",
            "\n",
            "        [[[ 60,   0,  62,   0,  64],\n",
            "          [  0,  66,   0,  68,   0],\n",
            "          [ 70,   0,  72,   0,  74],\n",
            "          [  0,  76,   0,  78,   0]],\n",
            "\n",
            "         [[  0,  81,   0,  83,   0],\n",
            "          [ 85,   0,  87,   0,  89],\n",
            "          [  0,  91,   0,  93,   0],\n",
            "          [ 95,   0,  97,   0,  99]],\n",
            "\n",
            "         [[100,   0, 102,   0, 104],\n",
            "          [  0, 106,   0, 108,   0],\n",
            "          [110,   0, 112,   0, 114],\n",
            "          [  0, 116,   0, 118,   0]]]])\n"
          ]
        }
      ]
    },
    {
      "cell_type": "markdown",
      "source": [
        "3. Given two tensors, one of shape `(3, 1, 4)` and another of shape `(1, 5, 1)`, compute their element-wise multiplication using broadcasting and then sum over specific axes to obtain a tensor of shape `(3, 5)`."
      ],
      "metadata": {
        "id": "Tv557NaJGMlQ"
      }
    },
    {
      "cell_type": "code",
      "source": [
        "import torch\n",
        "\n",
        "tensor1 = torch.tensor([[1, 2, 3, 4],\n",
        "                       [5, 6, 7, 8],\n",
        "                       [9, 10, 11, 12]])\n",
        "tensor1 = tensor1.reshape(3, 1, 4)\n",
        "\n",
        "tensor2 = torch.tensor([[[10],\n",
        "                       [20],\n",
        "                       [30],\n",
        "                       [40],\n",
        "                       [50]]])\n",
        "tensor2 = tensor2.reshape(1, 5, 1)\n",
        "\n",
        "tensor3 = tensor1 * tensor2\n",
        "\n",
        "tensor4 = tensor3.sum(dim=2)\n",
        "\n",
        "print(tensor4)"
      ],
      "metadata": {
        "id": "qP3EGgyXGMMH",
        "colab": {
          "base_uri": "https://localhost:8080/"
        },
        "outputId": "393239eb-88ba-44c4-f4d3-2a8e699fbc8c"
      },
      "execution_count": 10,
      "outputs": [
        {
          "output_type": "stream",
          "name": "stdout",
          "text": [
            "tensor([[ 100,  200,  300,  400,  500],\n",
            "        [ 260,  520,  780, 1040, 1300],\n",
            "        [ 420,  840, 1260, 1680, 2100]])\n"
          ]
        }
      ]
    }
  ]
}