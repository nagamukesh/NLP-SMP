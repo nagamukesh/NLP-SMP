{
  "nbformat": 4,
  "nbformat_minor": 0,
  "metadata": {
    "colab": {
      "provenance": []
    },
    "kernelspec": {
      "name": "python3",
      "display_name": "Python 3"
    },
    "language_info": {
      "name": "python"
    }
  },
  "cells": [
    {
      "cell_type": "markdown",
      "source": [
        "#  **PyTorch Practice Assignment**\n",
        "**Name**: Ananya A K\n",
        "\n",
        "**Roll Number**: 231CS208"
      ],
      "metadata": {
        "id": "CDn9wbMS0a0r"
      }
    },
    {
      "cell_type": "markdown",
      "source": [
        "## **Instructions:**\n",
        "\n",
        "- Copy this Notebook to your own Drive! You cannot directly modify it.\n",
        "- Please show the output of the cells, in case of some operation. You can specify your own **non-trivial** test-case. Also, try and make your snippets into functions to organize your logic.\n",
        "- You can use any number of cells for a question, you are not restricted to just 1 cell!\n",
        "- **No using ChatGPT for this assignment**: we highly recommend using the [Pytorch Docs](https://pytorch.org/docs/stable/index.html) as your start reference, as well as the vast internet however. You can also contact any of your mentors for some hints/help!\n",
        "- You can work on this assignment in Google Colab or on Your Local Machine!"
      ],
      "metadata": {
        "id": "ENyCsRHv1gqA"
      }
    },
    {
      "cell_type": "code",
      "source": [
        "import torch"
      ],
      "metadata": {
        "id": "EzZcqInDng0G"
      },
      "execution_count": 13,
      "outputs": []
    },
    {
      "cell_type": "markdown",
      "source": [
        "### **Build Up Your Understanding**"
      ],
      "metadata": {
        "id": "1tRkI1j1xGzl"
      }
    },
    {
      "cell_type": "markdown",
      "source": [
        "1. Write a PyTorch snippet to test whether none of the elements of a given tensor are zero."
      ],
      "metadata": {
        "id": "R75QYzJlz874"
      }
    },
    {
      "cell_type": "code",
      "source": [
        "a = torch.rand(size=(2,3))\n",
        "a"
      ],
      "metadata": {
        "colab": {
          "base_uri": "https://localhost:8080/"
        },
        "id": "xOGeET7z5oqu",
        "outputId": "15ae96c0-d745-4ae2-cbfa-c29c067c2c5e"
      },
      "execution_count": null,
      "outputs": [
        {
          "output_type": "execute_result",
          "data": {
            "text/plain": [
              "tensor([[0.7580, 0.6864, 0.2011],\n",
              "        [0.2124, 0.0690, 0.6979]])"
            ]
          },
          "metadata": {},
          "execution_count": 57
        }
      ]
    },
    {
      "cell_type": "code",
      "source": [
        "torch.all(a) # True if all elements are non-zero"
      ],
      "metadata": {
        "colab": {
          "base_uri": "https://localhost:8080/"
        },
        "id": "NISEwfQIpWFo",
        "outputId": "12885c24-a35e-43a2-a3f4-36ad9c3b28cc"
      },
      "execution_count": null,
      "outputs": [
        {
          "output_type": "execute_result",
          "data": {
            "text/plain": [
              "tensor(True)"
            ]
          },
          "metadata": {},
          "execution_count": 58
        }
      ]
    },
    {
      "cell_type": "markdown",
      "source": [
        "2. Write a PyTorch snippet to test element-wise for NaN of a given tensor."
      ],
      "metadata": {
        "id": "N65zZ0B20CcN"
      }
    },
    {
      "cell_type": "code",
      "source": [
        "a = torch.rand(size=(2,3))\n",
        "a"
      ],
      "metadata": {
        "colab": {
          "base_uri": "https://localhost:8080/"
        },
        "id": "qL8SotgI50tI",
        "outputId": "0620bec5-3b41-422f-b198-52d22c36f83c"
      },
      "execution_count": null,
      "outputs": [
        {
          "output_type": "execute_result",
          "data": {
            "text/plain": [
              "tensor([[0.0855, 0.3814, 0.0181],\n",
              "        [0.3027, 0.2256, 0.6116]])"
            ]
          },
          "metadata": {},
          "execution_count": 59
        }
      ]
    },
    {
      "cell_type": "code",
      "source": [
        "torch.isnan(a) # True if that element is NanN"
      ],
      "metadata": {
        "id": "09XtXleK0Yqx",
        "colab": {
          "base_uri": "https://localhost:8080/"
        },
        "outputId": "1d4e1d46-df70-4d9e-d4d5-f31c3c0228a3"
      },
      "execution_count": null,
      "outputs": [
        {
          "output_type": "execute_result",
          "data": {
            "text/plain": [
              "tensor([[False, False, False],\n",
              "        [False, False, False]])"
            ]
          },
          "metadata": {},
          "execution_count": 60
        }
      ]
    },
    {
      "cell_type": "markdown",
      "source": [
        "3. Write a PyTorch snippet to test whether two tensors are element-wise equal within a tolerance."
      ],
      "metadata": {
        "id": "nPgqdCS60ZLy"
      }
    },
    {
      "cell_type": "code",
      "source": [
        "a = torch.rand(size=(2,3))\n",
        "a"
      ],
      "metadata": {
        "colab": {
          "base_uri": "https://localhost:8080/"
        },
        "id": "zZCHadA354JN",
        "outputId": "21f62208-8edf-4b4a-dcd9-b18004cc227d"
      },
      "execution_count": null,
      "outputs": [
        {
          "output_type": "execute_result",
          "data": {
            "text/plain": [
              "tensor([[0.6252, 0.5875, 0.9221],\n",
              "        [0.3858, 0.0419, 0.8401]])"
            ]
          },
          "metadata": {},
          "execution_count": 61
        }
      ]
    },
    {
      "cell_type": "code",
      "source": [
        "b = torch.rand(size=(2,3))\n",
        "b"
      ],
      "metadata": {
        "colab": {
          "base_uri": "https://localhost:8080/"
        },
        "id": "P7-5p8t254Qz",
        "outputId": "a08db6d7-d06a-4191-e1ff-a75bb5c293a4"
      },
      "execution_count": null,
      "outputs": [
        {
          "output_type": "execute_result",
          "data": {
            "text/plain": [
              "tensor([[0.6700, 0.3275, 0.1052],\n",
              "        [0.6689, 0.9281, 0.8171]])"
            ]
          },
          "metadata": {},
          "execution_count": 62
        }
      ]
    },
    {
      "cell_type": "code",
      "source": [
        "torch.equal(a,b)  # True if the two tensors are element-wise equal"
      ],
      "metadata": {
        "id": "nZlp4IJh1TAG",
        "colab": {
          "base_uri": "https://localhost:8080/"
        },
        "outputId": "9b30e77c-e671-4940-b853-b2062d8eb1d3"
      },
      "execution_count": null,
      "outputs": [
        {
          "output_type": "execute_result",
          "data": {
            "text/plain": [
              "False"
            ]
          },
          "metadata": {},
          "execution_count": 63
        }
      ]
    },
    {
      "cell_type": "markdown",
      "source": [
        "4. Write a PyTorch snippet to create a tensor of 10 zeros, 10 ones, and 10 fives stacked on top of each other (try & accomplish everything using nested function calls)."
      ],
      "metadata": {
        "id": "6erc53t11ToS"
      }
    },
    {
      "cell_type": "code",
      "source": [
        "a = torch.vstack((torch.zeros(10),torch.ones(10),torch.full((10,),5)))\n",
        "a"
      ],
      "metadata": {
        "id": "DX2o4rH81cXb",
        "colab": {
          "base_uri": "https://localhost:8080/"
        },
        "outputId": "b4193fa8-689c-4f63-d0b9-43f3001917d3"
      },
      "execution_count": null,
      "outputs": [
        {
          "output_type": "execute_result",
          "data": {
            "text/plain": [
              "tensor([[0., 0., 0., 0., 0., 0., 0., 0., 0., 0.],\n",
              "        [1., 1., 1., 1., 1., 1., 1., 1., 1., 1.],\n",
              "        [5., 5., 5., 5., 5., 5., 5., 5., 5., 5.]])"
            ]
          },
          "metadata": {},
          "execution_count": 82
        }
      ]
    },
    {
      "cell_type": "markdown",
      "source": [
        "5. Write a PyTorch snippet to generate a random number between 0 and 1."
      ],
      "metadata": {
        "id": "HVZFHjER15fI"
      }
    },
    {
      "cell_type": "code",
      "source": [
        "torch.rand(1).item()"
      ],
      "metadata": {
        "id": "D2sDJxaL16ev",
        "colab": {
          "base_uri": "https://localhost:8080/"
        },
        "outputId": "56d6c323-b400-4eea-ea12-b4ddc1dad444"
      },
      "execution_count": null,
      "outputs": [
        {
          "output_type": "execute_result",
          "data": {
            "text/plain": [
              "0.7595442533493042"
            ]
          },
          "metadata": {},
          "execution_count": 44
        }
      ]
    },
    {
      "cell_type": "markdown",
      "source": [
        "6. Write a PyTorch snippet to generate a tensor of 15 random numbers from a standard normal distribution."
      ],
      "metadata": {
        "id": "v-bl_RmJ19U2"
      }
    },
    {
      "cell_type": "code",
      "source": [
        "torch.normal(0, 1, size=(1, 15))  # torch.normal(mean, standard deviation, size)\n",
        "# For a standard normal distribution, mean=0 and standard deviation=1"
      ],
      "metadata": {
        "id": "TwOTzLLz1-Oj",
        "colab": {
          "base_uri": "https://localhost:8080/"
        },
        "outputId": "b1bf3dae-233e-463f-8da4-f384d3443791"
      },
      "execution_count": null,
      "outputs": [
        {
          "output_type": "execute_result",
          "data": {
            "text/plain": [
              "tensor([[-0.7283, -0.3638, -0.7125, -1.1957, -0.6134,  0.3719,  1.3737,  0.3619,\n",
              "         -0.1787, -0.2389, -0.9504,  0.5313,  1.3797,  0.6585, -0.8103]])"
            ]
          },
          "metadata": {},
          "execution_count": 49
        }
      ]
    },
    {
      "cell_type": "code",
      "source": [
        "#Another method (standard normal distributions only)\n",
        "torch.randn(1,15)"
      ],
      "metadata": {
        "colab": {
          "base_uri": "https://localhost:8080/"
        },
        "id": "7US7J6nR-poV",
        "outputId": "e6c54e74-fe1e-4c25-a2be-86881d659a55"
      },
      "execution_count": null,
      "outputs": [
        {
          "output_type": "execute_result",
          "data": {
            "text/plain": [
              "tensor([[ 0.7939,  0.1161,  0.3547,  0.7281,  0.3227, -0.4696,  0.0507,  0.0444,\n",
              "          2.6296,  1.8317,  1.1380, -0.9753, -0.0869, -0.2418,  0.1704]])"
            ]
          },
          "metadata": {},
          "execution_count": 70
        }
      ]
    },
    {
      "cell_type": "markdown",
      "source": [
        "7. Write a Pytorch snippet to create a tensor of length 10 with values evenly distributed between 5 and 50."
      ],
      "metadata": {
        "id": "QbsLwc2e1-wI"
      }
    },
    {
      "cell_type": "code",
      "source": [
        "a = torch.arange(start=5, end=51, step=5)\n",
        "a"
      ],
      "metadata": {
        "id": "4x-aEGJy2F_J",
        "colab": {
          "base_uri": "https://localhost:8080/"
        },
        "outputId": "07076b32-c3bb-4627-d722-620cdbfbdf07"
      },
      "execution_count": null,
      "outputs": [
        {
          "output_type": "execute_result",
          "data": {
            "text/plain": [
              "tensor([ 5, 10, 15, 20, 25, 30, 35, 40, 45, 50])"
            ]
          },
          "metadata": {},
          "execution_count": 67
        }
      ]
    },
    {
      "cell_type": "markdown",
      "source": [
        "8. Write a Pyorch program to create a tensor with values from 0 to 20 and change the sign of the numbers in the range from 9 to 15."
      ],
      "metadata": {
        "id": "z4t6r6xR2IyJ"
      }
    },
    {
      "cell_type": "code",
      "source": [
        "a = torch.arange(21)\n",
        "a"
      ],
      "metadata": {
        "id": "2ckG-mcF2Jda",
        "colab": {
          "base_uri": "https://localhost:8080/"
        },
        "outputId": "46f139f6-b403-4ccb-e53b-3eff34ff3ab1"
      },
      "execution_count": null,
      "outputs": [
        {
          "output_type": "execute_result",
          "data": {
            "text/plain": [
              "tensor([ 0,  1,  2,  3,  4,  5,  6,  7,  8,  9, 10, 11, 12, 13, 14, 15, 16, 17,\n",
              "        18, 19, 20])"
            ]
          },
          "metadata": {},
          "execution_count": 72
        }
      ]
    },
    {
      "cell_type": "code",
      "source": [
        "a[(a>8)&(a<16)]*=(-1)\n",
        "a"
      ],
      "metadata": {
        "colab": {
          "base_uri": "https://localhost:8080/"
        },
        "id": "cB62njTrfjij",
        "outputId": "00585225-19c5-4943-c007-9ea404dc2cc6"
      },
      "execution_count": null,
      "outputs": [
        {
          "output_type": "execute_result",
          "data": {
            "text/plain": [
              "tensor([  0,   1,   2,   3,   4,   5,   6,   7,   8,  -9, -10, -11, -12, -13,\n",
              "        -14, -15,  16,  17,  18,  19,  20])"
            ]
          },
          "metadata": {},
          "execution_count": 74
        }
      ]
    },
    {
      "cell_type": "markdown",
      "source": [
        "9. Write a PyTorch snippet to create a 3x4 2-tensor filled with values from 10 to 21. Same but 12 to 24."
      ],
      "metadata": {
        "id": "n5piPDEY2NXK"
      }
    },
    {
      "cell_type": "code",
      "source": [
        "a = torch.arange(start=10, end=22, step=1).reshape(3,4)\n",
        "a"
      ],
      "metadata": {
        "id": "zKzFvfPP2OOy",
        "colab": {
          "base_uri": "https://localhost:8080/"
        },
        "outputId": "f8038f8b-fd29-411e-d8c4-1c18549e1f70"
      },
      "execution_count": null,
      "outputs": [
        {
          "output_type": "execute_result",
          "data": {
            "text/plain": [
              "tensor([[10, 11, 12, 13],\n",
              "        [14, 15, 16, 17],\n",
              "        [18, 19, 20, 21]])"
            ]
          },
          "metadata": {},
          "execution_count": 185
        }
      ]
    },
    {
      "cell_type": "code",
      "source": [
        "b = torch.randint(12,25,(3,4))\n",
        "b"
      ],
      "metadata": {
        "colab": {
          "base_uri": "https://localhost:8080/"
        },
        "id": "sxqsm4tbENIe",
        "outputId": "61be0f84-1783-4c86-c5cf-2df35012a6f5"
      },
      "execution_count": null,
      "outputs": [
        {
          "output_type": "execute_result",
          "data": {
            "text/plain": [
              "tensor([[21, 21, 18, 24],\n",
              "        [19, 12, 20, 17],\n",
              "        [17, 15, 13, 23]])"
            ]
          },
          "metadata": {},
          "execution_count": 188
        }
      ]
    },
    {
      "cell_type": "markdown",
      "source": [
        "10. Write a PyTorch snippet to create a 10x10 2-tensor, in which the elements on the borders will be equal to 1, and inside 0."
      ],
      "metadata": {
        "id": "BMbpvCE12UAA"
      }
    },
    {
      "cell_type": "code",
      "source": [
        "a = torch.zeros(10,10).type(torch.int64)\n",
        "a"
      ],
      "metadata": {
        "id": "-e2dvNB12Uv4",
        "colab": {
          "base_uri": "https://localhost:8080/"
        },
        "outputId": "1f850b16-a32b-4b40-edfa-eec88d7d5bbf"
      },
      "execution_count": null,
      "outputs": [
        {
          "output_type": "execute_result",
          "data": {
            "text/plain": [
              "tensor([[0, 0, 0, 0, 0, 0, 0, 0, 0, 0],\n",
              "        [0, 0, 0, 0, 0, 0, 0, 0, 0, 0],\n",
              "        [0, 0, 0, 0, 0, 0, 0, 0, 0, 0],\n",
              "        [0, 0, 0, 0, 0, 0, 0, 0, 0, 0],\n",
              "        [0, 0, 0, 0, 0, 0, 0, 0, 0, 0],\n",
              "        [0, 0, 0, 0, 0, 0, 0, 0, 0, 0],\n",
              "        [0, 0, 0, 0, 0, 0, 0, 0, 0, 0],\n",
              "        [0, 0, 0, 0, 0, 0, 0, 0, 0, 0],\n",
              "        [0, 0, 0, 0, 0, 0, 0, 0, 0, 0],\n",
              "        [0, 0, 0, 0, 0, 0, 0, 0, 0, 0]])"
            ]
          },
          "metadata": {},
          "execution_count": 181
        }
      ]
    },
    {
      "cell_type": "code",
      "source": [
        "a[0,:]=1 #First row\n",
        "a[-1,:]=1 #Last row\n",
        "a[:,0]=1 #First column\n",
        "a[:,-1]=1 #Last column\n",
        "a"
      ],
      "metadata": {
        "colab": {
          "base_uri": "https://localhost:8080/"
        },
        "id": "vhdPGSoPCbIx",
        "outputId": "ec9729da-c874-418d-89a2-7902e15ab12d"
      },
      "execution_count": null,
      "outputs": [
        {
          "output_type": "execute_result",
          "data": {
            "text/plain": [
              "tensor([[1, 1, 1, 1, 1, 1, 1, 1, 1, 1],\n",
              "        [1, 0, 0, 0, 0, 0, 0, 0, 0, 1],\n",
              "        [1, 0, 0, 0, 0, 0, 0, 0, 0, 1],\n",
              "        [1, 0, 0, 0, 0, 0, 0, 0, 0, 1],\n",
              "        [1, 0, 0, 0, 0, 0, 0, 0, 0, 1],\n",
              "        [1, 0, 0, 0, 0, 0, 0, 0, 0, 1],\n",
              "        [1, 0, 0, 0, 0, 0, 0, 0, 0, 1],\n",
              "        [1, 0, 0, 0, 0, 0, 0, 0, 0, 1],\n",
              "        [1, 0, 0, 0, 0, 0, 0, 0, 0, 1],\n",
              "        [1, 1, 1, 1, 1, 1, 1, 1, 1, 1]])"
            ]
          },
          "metadata": {},
          "execution_count": 182
        }
      ]
    },
    {
      "cell_type": "markdown",
      "source": [
        "11. Write a PyTorch snippet to create a 5x5 zero 2-tensor with elements on the main diagonal equal to 1, 2, 3, 4, 5."
      ],
      "metadata": {
        "id": "3pf24Y0R2YKX"
      }
    },
    {
      "cell_type": "code",
      "source": [
        "a = torch.zeros(5,5).type(torch.int64)\n",
        "a"
      ],
      "metadata": {
        "id": "eb_vYa5n2Y8O",
        "colab": {
          "base_uri": "https://localhost:8080/"
        },
        "outputId": "ddca3f69-068e-42ed-9829-14777fab8e56"
      },
      "execution_count": null,
      "outputs": [
        {
          "output_type": "execute_result",
          "data": {
            "text/plain": [
              "tensor([[0, 0, 0, 0, 0],\n",
              "        [0, 0, 0, 0, 0],\n",
              "        [0, 0, 0, 0, 0],\n",
              "        [0, 0, 0, 0, 0],\n",
              "        [0, 0, 0, 0, 0]])"
            ]
          },
          "metadata": {},
          "execution_count": 190
        }
      ]
    },
    {
      "cell_type": "code",
      "source": [
        "a[0,0]=1\n",
        "a[1,1]=2\n",
        "a[2,2]=3\n",
        "a[3,3]=4\n",
        "a[4,4]=5\n",
        "a"
      ],
      "metadata": {
        "colab": {
          "base_uri": "https://localhost:8080/"
        },
        "id": "5Pk2S2OQGjJb",
        "outputId": "60523d8a-e8a7-454f-c2f7-5a4b8d2585db"
      },
      "execution_count": null,
      "outputs": [
        {
          "output_type": "execute_result",
          "data": {
            "text/plain": [
              "tensor([[1, 0, 0, 0, 0],\n",
              "        [0, 2, 0, 0, 0],\n",
              "        [0, 0, 3, 0, 0],\n",
              "        [0, 0, 0, 4, 0],\n",
              "        [0, 0, 0, 0, 5]])"
            ]
          },
          "metadata": {},
          "execution_count": 191
        }
      ]
    },
    {
      "cell_type": "markdown",
      "source": [
        "12. Write a PyTorch snippet to save a given tensor as a binary to a given path."
      ],
      "metadata": {
        "id": "-BkVD0CA2hWL"
      }
    },
    {
      "cell_type": "code",
      "source": [
        "torch.save(a,\"file1.bin\")"
      ],
      "metadata": {
        "id": "DrpbNVax2igN"
      },
      "execution_count": null,
      "outputs": []
    },
    {
      "cell_type": "markdown",
      "source": [
        "13. Write a NumPy program to create a two-dimensional array of a specified format."
      ],
      "metadata": {
        "id": "1zoIfD1k2i71"
      }
    },
    {
      "cell_type": "code",
      "source": [
        "import numpy as np"
      ],
      "metadata": {
        "id": "xXnOECag2zvz"
      },
      "execution_count": null,
      "outputs": []
    },
    {
      "cell_type": "code",
      "source": [
        "a = np.random.randint(0, 10, (3,4))\n",
        "a"
      ],
      "metadata": {
        "colab": {
          "base_uri": "https://localhost:8080/"
        },
        "id": "W239gjMNHY8s",
        "outputId": "121babbc-766e-4e81-c86d-9e34bcf10f4d"
      },
      "execution_count": null,
      "outputs": [
        {
          "output_type": "execute_result",
          "data": {
            "text/plain": [
              "array([[8, 8, 2, 0],\n",
              "       [9, 3, 1, 5],\n",
              "       [1, 0, 0, 4]])"
            ]
          },
          "metadata": {},
          "execution_count": 194
        }
      ]
    },
    {
      "cell_type": "markdown",
      "source": [
        "14. Write a PyTorch snippet to create a 2-tensor with shape (8,5) of random numbers. Select these random numbers (to create the tensor) from a normal distribution (200,7) (mean, variance)."
      ],
      "metadata": {
        "id": "1V6fwGje28Ak"
      }
    },
    {
      "cell_type": "code",
      "source": [
        "a = torch.normal(200, np.sqrt(7), size=(8, 5)) #standard deviation=sqrt(variance)\n",
        "a"
      ],
      "metadata": {
        "id": "f5pdwN9d27Rr",
        "colab": {
          "base_uri": "https://localhost:8080/"
        },
        "outputId": "7ca68765-2c87-44e9-8c08-7237ebc5d8c6"
      },
      "execution_count": null,
      "outputs": [
        {
          "output_type": "execute_result",
          "data": {
            "text/plain": [
              "tensor([[198.7813, 198.5034, 200.0081, 200.9547, 208.2757],\n",
              "        [202.2819, 199.9696, 202.7132, 199.7283, 198.0742],\n",
              "        [204.9684, 194.2558, 204.5312, 194.6466, 199.4124],\n",
              "        [200.0699, 203.3092, 204.0299, 195.1228, 201.2071],\n",
              "        [198.2218, 195.7533, 199.1996, 198.5974, 201.4911],\n",
              "        [199.0251, 198.4268, 197.9748, 200.3855, 205.9078],\n",
              "        [199.8089, 196.7822, 200.9776, 197.9053, 206.4102],\n",
              "        [199.2184, 200.6030, 192.1710, 201.6237, 203.5253]])"
            ]
          },
          "metadata": {},
          "execution_count": 204
        }
      ]
    },
    {
      "cell_type": "markdown",
      "source": [
        "15. Write a PyTorch snippet to generate a uniform, non-uniform random sample from a given vector with and without replacement (do all 4 combinations possible)."
      ],
      "metadata": {
        "id": "hSVeltdw3IoY"
      }
    },
    {
      "cell_type": "code",
      "source": [
        "#Uniform w/ replacement\n",
        "a = torch.arange(10)\n",
        "a"
      ],
      "metadata": {
        "id": "ZfDNMghS3Jof",
        "colab": {
          "base_uri": "https://localhost:8080/"
        },
        "outputId": "55b04c1d-7ba9-4990-d7d5-5103e51a425b"
      },
      "execution_count": 10,
      "outputs": [
        {
          "output_type": "execute_result",
          "data": {
            "text/plain": [
              "tensor([0, 1, 2, 3, 4, 5, 6, 7, 8, 9])"
            ]
          },
          "metadata": {},
          "execution_count": 10
        }
      ]
    },
    {
      "cell_type": "code",
      "source": [
        "a2 = a[torch.randint(0,len(a),(5,))]\n",
        "a2"
      ],
      "metadata": {
        "colab": {
          "base_uri": "https://localhost:8080/"
        },
        "id": "rl8nhTB-T5BS",
        "outputId": "6192a37e-ee47-4e72-843f-0849c36cf975"
      },
      "execution_count": 11,
      "outputs": [
        {
          "output_type": "execute_result",
          "data": {
            "text/plain": [
              "tensor([2, 4, 6, 5, 6])"
            ]
          },
          "metadata": {},
          "execution_count": 11
        }
      ]
    },
    {
      "cell_type": "code",
      "source": [
        "#Uniform w/o replacement(samples size=5, vector length=10)\n",
        "b = torch.randperm(10)\n",
        "b"
      ],
      "metadata": {
        "id": "uDpPfTsKsZbI",
        "colab": {
          "base_uri": "https://localhost:8080/"
        },
        "outputId": "9fc60626-02f0-49e6-81d1-282cd9e402dc"
      },
      "execution_count": 6,
      "outputs": [
        {
          "output_type": "execute_result",
          "data": {
            "text/plain": [
              "tensor([9, 7, 5, 3, 8, 6, 0, 4, 2, 1])"
            ]
          },
          "metadata": {},
          "execution_count": 6
        }
      ]
    },
    {
      "cell_type": "code",
      "source": [
        "b2 = b[:5]\n",
        "b2"
      ],
      "metadata": {
        "colab": {
          "base_uri": "https://localhost:8080/"
        },
        "id": "qW41oXpcR807",
        "outputId": "eaebcfe4-c168-4fb3-9b7b-b3dfa2ce2619"
      },
      "execution_count": 7,
      "outputs": [
        {
          "output_type": "execute_result",
          "data": {
            "text/plain": [
              "tensor([9, 7, 5, 3, 8])"
            ]
          },
          "metadata": {},
          "execution_count": 7
        }
      ]
    },
    {
      "cell_type": "code",
      "source": [
        "#Non-Uniform w/o replacement\n",
        "weights = torch.tensor([8, 10, 3, 0]).type(torch.float64)\n",
        "weights"
      ],
      "metadata": {
        "id": "8Gay-oiOsZic",
        "colab": {
          "base_uri": "https://localhost:8080/"
        },
        "outputId": "94012945-231e-4a3e-975b-18528f4e2b3e"
      },
      "execution_count": 21,
      "outputs": [
        {
          "output_type": "execute_result",
          "data": {
            "text/plain": [
              "tensor([ 8., 10.,  3.,  0.], dtype=torch.float64)"
            ]
          },
          "metadata": {},
          "execution_count": 21
        }
      ]
    },
    {
      "cell_type": "code",
      "source": [
        "c = torch.multinomial(weights, 2)\n",
        "c"
      ],
      "metadata": {
        "colab": {
          "base_uri": "https://localhost:8080/"
        },
        "id": "3thT1WIAXFqD",
        "outputId": "5bd61df6-3c56-4067-9541-336ce52d570a"
      },
      "execution_count": 22,
      "outputs": [
        {
          "output_type": "execute_result",
          "data": {
            "text/plain": [
              "tensor([0, 1])"
            ]
          },
          "metadata": {},
          "execution_count": 22
        }
      ]
    },
    {
      "cell_type": "code",
      "source": [
        "#Non-Uniform w/ replacement\n",
        "weights = torch.tensor([8, 10, 3, 0]).type(torch.float64)\n",
        "weights"
      ],
      "metadata": {
        "id": "zT5vYZSAsZtZ",
        "colab": {
          "base_uri": "https://localhost:8080/"
        },
        "outputId": "e9232911-cd88-4406-daf4-efd42402c4f8"
      },
      "execution_count": 23,
      "outputs": [
        {
          "output_type": "execute_result",
          "data": {
            "text/plain": [
              "tensor([ 8., 10.,  3.,  0.], dtype=torch.float64)"
            ]
          },
          "metadata": {},
          "execution_count": 23
        }
      ]
    },
    {
      "cell_type": "code",
      "source": [
        "torch.multinomial(weights, 4, replacement=True)"
      ],
      "metadata": {
        "colab": {
          "base_uri": "https://localhost:8080/"
        },
        "id": "Bekf3k1YXGNB",
        "outputId": "e24afc21-f401-445b-ec9f-cbe6ad0adb6e"
      },
      "execution_count": 24,
      "outputs": [
        {
          "output_type": "execute_result",
          "data": {
            "text/plain": [
              "tensor([0, 1, 1, 1])"
            ]
          },
          "metadata": {},
          "execution_count": 24
        }
      ]
    },
    {
      "cell_type": "markdown",
      "source": [
        "16. Write a Pyorch snippet to create an nxn(input to function) tensor with random values. Create an array from the said array swapping first and last rows."
      ],
      "metadata": {
        "id": "DOIrjKBq3MjM"
      }
    },
    {
      "cell_type": "code",
      "source": [
        "n = 4"
      ],
      "metadata": {
        "id": "xFkWtcTN3MI3"
      },
      "execution_count": null,
      "outputs": []
    },
    {
      "cell_type": "code",
      "source": [
        "a = torch.arange(4*4).reshape(4,4)\n",
        "a"
      ],
      "metadata": {
        "colab": {
          "base_uri": "https://localhost:8080/"
        },
        "id": "-aupsolvqoAP",
        "outputId": "f286eacc-0a83-4e8f-cdff-442b134aa89b"
      },
      "execution_count": null,
      "outputs": [
        {
          "output_type": "execute_result",
          "data": {
            "text/plain": [
              "tensor([[ 0,  1,  2,  3],\n",
              "        [ 4,  5,  6,  7],\n",
              "        [ 8,  9, 10, 11],\n",
              "        [12, 13, 14, 15]])"
            ]
          },
          "metadata": {},
          "execution_count": 246
        }
      ]
    },
    {
      "cell_type": "code",
      "source": [
        "first_row = a[0,:]\n",
        "a[0,:]=a[n-1,:]\n",
        "a[n-1,:]=first_row\n",
        "a"
      ],
      "metadata": {
        "colab": {
          "base_uri": "https://localhost:8080/"
        },
        "id": "zUJQZwJGqoGh",
        "outputId": "031463ea-9d91-435f-a0ba-0d9e154d76df"
      },
      "execution_count": null,
      "outputs": [
        {
          "output_type": "execute_result",
          "data": {
            "text/plain": [
              "tensor([[12, 13, 14, 15],\n",
              "        [ 4,  5,  6,  7],\n",
              "        [ 8,  9, 10, 11],\n",
              "        [12, 13, 14, 15]])"
            ]
          },
          "metadata": {},
          "execution_count": 248
        }
      ]
    },
    {
      "cell_type": "markdown",
      "source": [
        "17. Write a PyTorch snippet to sort a given tensor (1D or 2D) in ascending order."
      ],
      "metadata": {
        "id": "e2yl3FJI3SOW"
      }
    },
    {
      "cell_type": "code",
      "source": [
        "a = torch.rand(1,5)\n",
        "a"
      ],
      "metadata": {
        "colab": {
          "base_uri": "https://localhost:8080/"
        },
        "id": "mlgewRvbjtgM",
        "outputId": "21e7f717-823a-4f8e-d52d-eb9d88176c18"
      },
      "execution_count": null,
      "outputs": [
        {
          "output_type": "execute_result",
          "data": {
            "text/plain": [
              "tensor([[0.2126, 0.2464, 0.4109, 0.0556, 0.2901]])"
            ]
          },
          "metadata": {},
          "execution_count": 178
        }
      ]
    },
    {
      "cell_type": "code",
      "source": [
        "sorted, indices = torch.sort(a,descending=False)\n",
        "sorted"
      ],
      "metadata": {
        "id": "FxiCfs8y3R8W",
        "colab": {
          "base_uri": "https://localhost:8080/"
        },
        "outputId": "2f30e52c-d294-4f4d-bbda-ef4bed6b1582"
      },
      "execution_count": null,
      "outputs": [
        {
          "output_type": "execute_result",
          "data": {
            "text/plain": [
              "tensor([[0.0556, 0.2126, 0.2464, 0.2901, 0.4109]])"
            ]
          },
          "metadata": {},
          "execution_count": 179
        }
      ]
    },
    {
      "cell_type": "markdown",
      "source": [
        "18. Write a PyTorch snippet to create a tensor of equal shape and data type for a given tensor (any dimensional)"
      ],
      "metadata": {
        "id": "TY1htljY3X50"
      }
    },
    {
      "cell_type": "code",
      "source": [
        "a = torch.randn(3,4)\n",
        "a, a.dtype"
      ],
      "metadata": {
        "id": "br714aF43Xax",
        "colab": {
          "base_uri": "https://localhost:8080/"
        },
        "outputId": "57fd5063-19b8-48cf-f7eb-d43427dd2cdd"
      },
      "execution_count": null,
      "outputs": [
        {
          "output_type": "execute_result",
          "data": {
            "text/plain": [
              "(tensor([[ 1.6452,  1.1526,  0.1129,  0.9185],\n",
              "         [-1.0933,  1.0226, -0.8607,  1.6618],\n",
              "         [-0.1234, -0.4756,  0.6395,  0.2567]]),\n",
              " torch.float32)"
            ]
          },
          "metadata": {},
          "execution_count": 104
        }
      ]
    },
    {
      "cell_type": "code",
      "source": [
        "b = torch.clone(a)\n",
        "b, b.dtype"
      ],
      "metadata": {
        "colab": {
          "base_uri": "https://localhost:8080/"
        },
        "id": "ceQytFpjlUJA",
        "outputId": "f9a7528d-e02f-4f41-be3d-d850a72e7ddc"
      },
      "execution_count": null,
      "outputs": [
        {
          "output_type": "execute_result",
          "data": {
            "text/plain": [
              "(tensor([[ 1.6452,  1.1526,  0.1129,  0.9185],\n",
              "         [-1.0933,  1.0226, -0.8607,  1.6618],\n",
              "         [-0.1234, -0.4756,  0.6395,  0.2567]]),\n",
              " torch.float32)"
            ]
          },
          "metadata": {},
          "execution_count": 105
        }
      ]
    },
    {
      "cell_type": "markdown",
      "source": [
        "19. Write a PyTorch snippet to create an 8x8 matrix and fill it with a checkerboard pattern.\n",
        "Checkerboard pattern:\n",
        "```py\n",
        "[[0 1 0 1 0 1 0 1]\n",
        "..........\n",
        "[0 1 0 1 0 1 0 1]\n",
        "[1 0 1 0 1 0 1 0]]\n",
        "```"
      ],
      "metadata": {
        "id": "jWZmWlDz3kE-"
      }
    },
    {
      "cell_type": "code",
      "source": [
        "a = torch.tensor([0,1,0,1,0,1,0,1])\n",
        "b = torch.tensor([1,0,1,0,1,0,1,0])\n",
        "c = torch.vstack((torch.vstack((a,b)),torch.vstack((a,b))))\n",
        "d = torch.vstack((c,c))\n",
        "d"
      ],
      "metadata": {
        "id": "gUQpw8Fg3lag",
        "colab": {
          "base_uri": "https://localhost:8080/"
        },
        "outputId": "5751bd71-a080-40ef-bf82-afbbb7cf121e"
      },
      "execution_count": null,
      "outputs": [
        {
          "output_type": "execute_result",
          "data": {
            "text/plain": [
              "tensor([[0, 1, 0, 1, 0, 1, 0, 1],\n",
              "        [1, 0, 1, 0, 1, 0, 1, 0],\n",
              "        [0, 1, 0, 1, 0, 1, 0, 1],\n",
              "        [1, 0, 1, 0, 1, 0, 1, 0],\n",
              "        [0, 1, 0, 1, 0, 1, 0, 1],\n",
              "        [1, 0, 1, 0, 1, 0, 1, 0],\n",
              "        [0, 1, 0, 1, 0, 1, 0, 1],\n",
              "        [1, 0, 1, 0, 1, 0, 1, 0]])"
            ]
          },
          "metadata": {},
          "execution_count": 119
        }
      ]
    },
    {
      "cell_type": "markdown",
      "source": [
        "20. Write a Pytorch snippet to convert Centigrade to Fahrenheit and vice versa (controlled by a parameter). Ensure you operation is vectorized i.e **no explicit looping**\n",
        "\n",
        "Sample Array: `[0, 12, 45.21, 34, 99.91]`"
      ],
      "metadata": {
        "id": "yB4L7Usg364D"
      }
    },
    {
      "cell_type": "code",
      "source": [
        "a = torch.randn(1,5)\n",
        "a"
      ],
      "metadata": {
        "id": "IPTecJEQ3_JC",
        "colab": {
          "base_uri": "https://localhost:8080/"
        },
        "outputId": "e7df6f33-954c-4e80-9fa2-d5e923eda77f"
      },
      "execution_count": 30,
      "outputs": [
        {
          "output_type": "execute_result",
          "data": {
            "text/plain": [
              "tensor([[-1.4342,  0.5277,  0.9972,  0.3680, -0.8096]])"
            ]
          },
          "metadata": {},
          "execution_count": 30
        }
      ]
    },
    {
      "cell_type": "code",
      "source": [
        "def convertor(inp_unit,val):\n",
        "  if inp_unit == \"c\" or inp_unit == \"C\":\n",
        "    return (val*9/5) + 32\n",
        "  elif inp_unit == \"f\" | inp_unit == \"F\":\n",
        "    return (val - 32)*5/9\n",
        "  else:\n",
        "    print(\"Unit must Celcius(c) or Farhenheit(f)\")"
      ],
      "metadata": {
        "id": "dBWpNXAJi_ol"
      },
      "execution_count": 34,
      "outputs": []
    },
    {
      "cell_type": "code",
      "source": [
        "convertor(\"c\",a)"
      ],
      "metadata": {
        "colab": {
          "base_uri": "https://localhost:8080/"
        },
        "id": "iLlwH24PrUrn",
        "outputId": "ed3599bb-49d2-40d1-820a-3457bbfcff0e"
      },
      "execution_count": 35,
      "outputs": [
        {
          "output_type": "execute_result",
          "data": {
            "text/plain": [
              "tensor([[29.4184, 32.9499, 33.7949, 32.6624, 30.5427]])"
            ]
          },
          "metadata": {},
          "execution_count": 35
        }
      ]
    },
    {
      "cell_type": "markdown",
      "source": [
        "21. Write a PyTorch snippet to get the values of the elements that are bigger than a given *number* in a given tensor.\n",
        "\n",
        "Original tensor:\n",
        "```\n",
        "[[ 0 10 20]\n",
        "[20 30 40]]\n",
        "```\n",
        "Number: 10\n",
        "\n",
        "Values bigger than 10 = `[20 20 30 40]`"
      ],
      "metadata": {
        "id": "n8dqXvMZ4oFb"
      }
    },
    {
      "cell_type": "code",
      "source": [
        "a = torch.randn(2,3)\n",
        "a"
      ],
      "metadata": {
        "id": "HwoDL-Kr4ww4",
        "colab": {
          "base_uri": "https://localhost:8080/"
        },
        "outputId": "93c291bc-2aa0-4f8f-be40-adaa3d2c6ce0"
      },
      "execution_count": null,
      "outputs": [
        {
          "output_type": "execute_result",
          "data": {
            "text/plain": [
              "tensor([[ 1.5569,  0.8340,  0.5788],\n",
              "        [-0.3074,  0.5047, -0.6708]])"
            ]
          },
          "metadata": {},
          "execution_count": 124
        }
      ]
    },
    {
      "cell_type": "code",
      "source": [
        "a[a>0]"
      ],
      "metadata": {
        "colab": {
          "base_uri": "https://localhost:8080/"
        },
        "id": "TopQPwyEwp8x",
        "outputId": "518ed0a7-5eaf-45b2-ed64-380c97f25c80"
      },
      "execution_count": null,
      "outputs": [
        {
          "output_type": "execute_result",
          "data": {
            "text/plain": [
              "tensor([1.5569, 0.8340, 0.5788, 0.5047])"
            ]
          },
          "metadata": {},
          "execution_count": 125
        }
      ]
    },
    {
      "cell_type": "markdown",
      "source": [
        "22. Write a PyTorch snippet to create another shape from an array without changing its data. After carrying out the operation, change the data in one place and see if the other tensor changes\n",
        "\n",
        "Reshape 3x2:\n",
        "```\n",
        "[[1 2]\n",
        "[3 4]\n",
        "[5 6]]\n",
        "```\n",
        "Reshape 2x3:\n",
        "```\n",
        "[[1 2 3]\n",
        "[4 5 6]]\n",
        "```"
      ],
      "metadata": {
        "id": "QmR9luYk4xaa"
      }
    },
    {
      "cell_type": "code",
      "source": [
        "a = torch.randn(3,2)\n",
        "a"
      ],
      "metadata": {
        "id": "oUvXdmtV5ZRJ",
        "colab": {
          "base_uri": "https://localhost:8080/"
        },
        "outputId": "fcc18f8f-ac5a-4cf3-94f1-e29568bb19c1"
      },
      "execution_count": null,
      "outputs": [
        {
          "output_type": "execute_result",
          "data": {
            "text/plain": [
              "tensor([[-0.2333, -0.1472],\n",
              "        [-0.6752,  1.2798],\n",
              "        [-1.3121,  0.4583]])"
            ]
          },
          "metadata": {},
          "execution_count": 129
        }
      ]
    },
    {
      "cell_type": "code",
      "source": [
        "b = torch.reshape(a,(2,3))\n",
        "b"
      ],
      "metadata": {
        "colab": {
          "base_uri": "https://localhost:8080/"
        },
        "id": "Md1lLwesxYp-",
        "outputId": "53ca7862-fb65-468d-8720-69c8ce6a388c"
      },
      "execution_count": null,
      "outputs": [
        {
          "output_type": "execute_result",
          "data": {
            "text/plain": [
              "tensor([[-0.2333, -0.1472, -0.6752],\n",
              "        [ 1.2798, -1.3121,  0.4583]])"
            ]
          },
          "metadata": {},
          "execution_count": 130
        }
      ]
    },
    {
      "cell_type": "markdown",
      "source": [
        "23. Write a PyTorch snipppet to change an tensor's data type.\n",
        "```\n",
        "[[ 2 4 6]\n",
        "[ 6 8 10]]\n",
        "```\n",
        "Data type of the array x is: `int32`\n",
        "\n",
        "New Type: `float64`\n",
        "```\n",
        "[[ 2. 4. 6.]\n",
        "[ 6. 8. 10.]]\n",
        "```"
      ],
      "metadata": {
        "id": "ew1n8aUg5QZA"
      }
    },
    {
      "cell_type": "code",
      "source": [
        "a = torch.arange(5)\n",
        "a, a.dtype"
      ],
      "metadata": {
        "colab": {
          "base_uri": "https://localhost:8080/"
        },
        "id": "poo9U5eXxt-I",
        "outputId": "a0a462c0-e435-4df8-ad3a-652aee2d730d"
      },
      "execution_count": null,
      "outputs": [
        {
          "output_type": "execute_result",
          "data": {
            "text/plain": [
              "(tensor([0, 1, 2, 3, 4]), torch.int64)"
            ]
          },
          "metadata": {},
          "execution_count": 138
        }
      ]
    },
    {
      "cell_type": "code",
      "source": [
        "b = a.type(torch.float64)\n",
        "b"
      ],
      "metadata": {
        "colab": {
          "base_uri": "https://localhost:8080/"
        },
        "id": "aZQmWSEux0vj",
        "outputId": "c65667be-1535-44e2-ffdd-f637fbed61e3"
      },
      "execution_count": null,
      "outputs": [
        {
          "output_type": "execute_result",
          "data": {
            "text/plain": [
              "tensor([0., 1., 2., 3., 4.], dtype=torch.float64)"
            ]
          },
          "metadata": {},
          "execution_count": 141
        }
      ]
    },
    {
      "cell_type": "markdown",
      "source": [
        "24. Write a PyTorch snippet to insert a new axis within a 2-tensor, based on a **parameter**.\n",
        "\n",
        "Ex: If 2-tensor has shape (3, 4).\n",
        "\n",
        "Then, new shape can be (1, 3, 4), (3, 1, 4), or (3, 4, 1) depending on...."
      ],
      "metadata": {
        "id": "0hf1vOk75-Df"
      }
    },
    {
      "cell_type": "code",
      "source": [
        "a = torch.randn(3,4)\n",
        "a, a.shape"
      ],
      "metadata": {
        "id": "38vF5Dwk5Dbi",
        "colab": {
          "base_uri": "https://localhost:8080/"
        },
        "outputId": "53df0ab4-561f-4a40-dcd0-45b24c6e9074"
      },
      "execution_count": null,
      "outputs": [
        {
          "output_type": "execute_result",
          "data": {
            "text/plain": [
              "(tensor([[-0.3630,  0.1313, -0.9897, -1.3024],\n",
              "         [ 1.2956, -0.3222,  0.1484,  0.8915],\n",
              "         [ 2.0638, -0.5392, -1.4175, -0.4414]]),\n",
              " torch.Size([3, 4]))"
            ]
          },
          "metadata": {},
          "execution_count": 210
        }
      ]
    },
    {
      "cell_type": "code",
      "source": [
        "b = a.reshape(1,3,4)\n",
        "b, b.shape"
      ],
      "metadata": {
        "colab": {
          "base_uri": "https://localhost:8080/"
        },
        "id": "Liv-j_Gqdape",
        "outputId": "3e8d9163-acbe-4962-bc82-df7750978f75"
      },
      "execution_count": null,
      "outputs": [
        {
          "output_type": "execute_result",
          "data": {
            "text/plain": [
              "(tensor([[[-0.3630,  0.1313, -0.9897, -1.3024],\n",
              "          [ 1.2956, -0.3222,  0.1484,  0.8915],\n",
              "          [ 2.0638, -0.5392, -1.4175, -0.4414]]]),\n",
              " torch.Size([1, 3, 4]))"
            ]
          },
          "metadata": {},
          "execution_count": 211
        }
      ]
    },
    {
      "cell_type": "code",
      "source": [
        "c = a.reshape(3,4,1)\n",
        "c, c.shape"
      ],
      "metadata": {
        "colab": {
          "base_uri": "https://localhost:8080/"
        },
        "id": "lek7xJvFeC90",
        "outputId": "cb4f6c10-6183-482d-c2ed-b8e92cafc813"
      },
      "execution_count": null,
      "outputs": [
        {
          "output_type": "execute_result",
          "data": {
            "text/plain": [
              "(tensor([[[-0.3630],\n",
              "          [ 0.1313],\n",
              "          [-0.9897],\n",
              "          [-1.3024]],\n",
              " \n",
              "         [[ 1.2956],\n",
              "          [-0.3222],\n",
              "          [ 0.1484],\n",
              "          [ 0.8915]],\n",
              " \n",
              "         [[ 2.0638],\n",
              "          [-0.5392],\n",
              "          [-1.4175],\n",
              "          [-0.4414]]]),\n",
              " torch.Size([3, 4, 1]))"
            ]
          },
          "metadata": {},
          "execution_count": 212
        }
      ]
    },
    {
      "cell_type": "code",
      "source": [
        "d = a.reshape(3,1,4)\n",
        "d, d.shape"
      ],
      "metadata": {
        "colab": {
          "base_uri": "https://localhost:8080/"
        },
        "id": "sxdg-8deeDJr",
        "outputId": "dc3ae74c-95e1-4160-87ba-0f1da50a37b3"
      },
      "execution_count": null,
      "outputs": [
        {
          "output_type": "execute_result",
          "data": {
            "text/plain": [
              "(tensor([[[-0.3630,  0.1313, -0.9897, -1.3024]],\n",
              " \n",
              "         [[ 1.2956, -0.3222,  0.1484,  0.8915]],\n",
              " \n",
              "         [[ 2.0638, -0.5392, -1.4175, -0.4414]]]),\n",
              " torch.Size([3, 1, 4]))"
            ]
          },
          "metadata": {},
          "execution_count": 213
        }
      ]
    },
    {
      "cell_type": "markdown",
      "source": [
        "25. Write a PyTorch snippet to stack tensors based on a parameter, **axis**.\n",
        "First discover what this means with 2-tensors, then extend it to 3-tensors. Print your findings.\n",
        "\n",
        "Sample Output:\n",
        "\n",
        "Original tensors:\n",
        "\n",
        "Tensor-1\n",
        "```\n",
        "[[0 1 2]\n",
        "[3 4 5]\n",
        "[6 7 8]]\n",
        "```\n",
        "Tensor-2\n",
        "```\n",
        "[[ 0 3 6]\n",
        "[ 9 12 15]\n",
        "[18 21 24]]\n",
        "```\n",
        "Stack tensors such that axis=1:\n",
        "```\n",
        "[[ 0 1 2 0 3 6]\n",
        "[ 3 4 5 9 12 15]\n",
        "[ 6 7 8 18 21 24]]\n",
        "```"
      ],
      "metadata": {
        "id": "K4GeygLp7wAt"
      }
    },
    {
      "cell_type": "code",
      "source": [
        "a = torch.arange(0,9,1).reshape(3,3)\n",
        "b = torch.arange(9,18,1).reshape(3,3)\n",
        "a, b"
      ],
      "metadata": {
        "id": "-37mCkKH75fN",
        "colab": {
          "base_uri": "https://localhost:8080/"
        },
        "outputId": "dbbbc797-f19d-42d6-d4ad-921f2137b0d3"
      },
      "execution_count": null,
      "outputs": [
        {
          "output_type": "execute_result",
          "data": {
            "text/plain": [
              "(tensor([[0, 1, 2],\n",
              "         [3, 4, 5],\n",
              "         [6, 7, 8]]),\n",
              " tensor([[ 9, 10, 11],\n",
              "         [12, 13, 14],\n",
              "         [15, 16, 17]]))"
            ]
          },
          "metadata": {},
          "execution_count": 215
        }
      ]
    },
    {
      "cell_type": "code",
      "source": [
        "c = torch.hstack((a,b))\n",
        "c"
      ],
      "metadata": {
        "colab": {
          "base_uri": "https://localhost:8080/"
        },
        "id": "q5iN0aIIfRLz",
        "outputId": "5df99d03-c3bf-4880-c509-c3f53c44cb19"
      },
      "execution_count": null,
      "outputs": [
        {
          "output_type": "execute_result",
          "data": {
            "text/plain": [
              "tensor([[ 0,  1,  2,  9, 10, 11],\n",
              "        [ 3,  4,  5, 12, 13, 14],\n",
              "        [ 6,  7,  8, 15, 16, 17]])"
            ]
          },
          "metadata": {},
          "execution_count": 217
        }
      ]
    },
    {
      "cell_type": "markdown",
      "source": [
        "26. Write a PyTorch snippet to extract the **m**th to **n**th elements of the **m**th to **n**th rows from the **m**th to nth elemnts of given 3-tensor, of shape `(p, q, r)` where m, n < p, q, r.\n",
        "\n",
        "Take a 3-tensor of (say) size `(5,6,7)` and `(m, n)` = `(4, 5)` as a test case!"
      ],
      "metadata": {
        "id": "6kix-xlh8hFz"
      }
    },
    {
      "cell_type": "code",
      "source": [
        "p = 5\n",
        "q = 6\n",
        "r = 7\n",
        "m = 3\n",
        "n = 4"
      ],
      "metadata": {
        "id": "cDuhZ5EKedqs"
      },
      "execution_count": null,
      "outputs": []
    },
    {
      "cell_type": "code",
      "source": [
        "x = torch.arange(p*q*r).reshape(p,q,r)\n",
        "x"
      ],
      "metadata": {
        "colab": {
          "base_uri": "https://localhost:8080/"
        },
        "id": "XMuaNHRYkR0G",
        "outputId": "7cfcf445-605a-4a02-aac5-2c5fc579b1a7"
      },
      "execution_count": null,
      "outputs": [
        {
          "output_type": "execute_result",
          "data": {
            "text/plain": [
              "tensor([[[  0,   1,   2,   3,   4,   5,   6],\n",
              "         [  7,   8,   9,  10,  11,  12,  13],\n",
              "         [ 14,  15,  16,  17,  18,  19,  20],\n",
              "         [ 21,  22,  23,  24,  25,  26,  27],\n",
              "         [ 28,  29,  30,  31,  32,  33,  34],\n",
              "         [ 35,  36,  37,  38,  39,  40,  41]],\n",
              "\n",
              "        [[ 42,  43,  44,  45,  46,  47,  48],\n",
              "         [ 49,  50,  51,  52,  53,  54,  55],\n",
              "         [ 56,  57,  58,  59,  60,  61,  62],\n",
              "         [ 63,  64,  65,  66,  67,  68,  69],\n",
              "         [ 70,  71,  72,  73,  74,  75,  76],\n",
              "         [ 77,  78,  79,  80,  81,  82,  83]],\n",
              "\n",
              "        [[ 84,  85,  86,  87,  88,  89,  90],\n",
              "         [ 91,  92,  93,  94,  95,  96,  97],\n",
              "         [ 98,  99, 100, 101, 102, 103, 104],\n",
              "         [105, 106, 107, 108, 109, 110, 111],\n",
              "         [112, 113, 114, 115, 116, 117, 118],\n",
              "         [119, 120, 121, 122, 123, 124, 125]],\n",
              "\n",
              "        [[126, 127, 128, 129, 130, 131, 132],\n",
              "         [133, 134, 135, 136, 137, 138, 139],\n",
              "         [140, 141, 142, 143, 144, 145, 146],\n",
              "         [147, 148, 149, 150, 151, 152, 153],\n",
              "         [154, 155, 156, 157, 158, 159, 160],\n",
              "         [161, 162, 163, 164, 165, 166, 167]],\n",
              "\n",
              "        [[168, 169, 170, 171, 172, 173, 174],\n",
              "         [175, 176, 177, 178, 179, 180, 181],\n",
              "         [182, 183, 184, 185, 186, 187, 188],\n",
              "         [189, 190, 191, 192, 193, 194, 195],\n",
              "         [196, 197, 198, 199, 200, 201, 202],\n",
              "         [203, 204, 205, 206, 207, 208, 209]]])"
            ]
          },
          "metadata": {},
          "execution_count": 235
        }
      ]
    },
    {
      "cell_type": "code",
      "source": [
        "y = x[m:n+1, m:n+1, m:n+1]\n",
        "y"
      ],
      "metadata": {
        "colab": {
          "base_uri": "https://localhost:8080/"
        },
        "id": "yjJEaSAFkR3M",
        "outputId": "bd1c00fd-679d-4f70-db05-d3eb78bd7b6b"
      },
      "execution_count": null,
      "outputs": [
        {
          "output_type": "execute_result",
          "data": {
            "text/plain": [
              "tensor([[[150, 151],\n",
              "         [157, 158]],\n",
              "\n",
              "        [[192, 193],\n",
              "         [199, 200]]])"
            ]
          },
          "metadata": {},
          "execution_count": 236
        }
      ]
    },
    {
      "cell_type": "markdown",
      "source": [
        "### **Test your Understanding**"
      ],
      "metadata": {
        "id": "IxOFseFaxEQu"
      }
    },
    {
      "cell_type": "markdown",
      "source": [
        "1. Given a 3D tensor of shape `(a, b, c)`*italicised text*, permute its axes to obtain tensors of all other shape combinations (i.e 5)."
      ],
      "metadata": {
        "id": "Vzbo4s_KAsE9"
      }
    },
    {
      "cell_type": "code",
      "source": [
        "a = 2\n",
        "b = 3\n",
        "c = 4"
      ],
      "metadata": {
        "id": "R791RvsIAh3O"
      },
      "execution_count": null,
      "outputs": []
    },
    {
      "cell_type": "code",
      "source": [
        "x = torch.rand(a,b,c)\n",
        "x, x.shape"
      ],
      "metadata": {
        "colab": {
          "base_uri": "https://localhost:8080/"
        },
        "id": "rlXO3n_fhn7_",
        "outputId": "e87ac3ab-5e4a-4879-c6f9-4531e709c14c"
      },
      "execution_count": null,
      "outputs": [
        {
          "output_type": "execute_result",
          "data": {
            "text/plain": [
              "(tensor([[[0.8190, 0.0825, 0.3152, 0.4047],\n",
              "          [0.8869, 0.8547, 0.8596, 0.3957],\n",
              "          [0.4127, 0.3657, 0.5912, 0.2012]],\n",
              " \n",
              "         [[0.9690, 0.7423, 0.5487, 0.0716],\n",
              "          [0.2117, 0.5458, 0.8087, 0.9008],\n",
              "          [0.8198, 0.1592, 0.0990, 0.9839]]]),\n",
              " torch.Size([2, 3, 4]))"
            ]
          },
          "metadata": {},
          "execution_count": 221
        }
      ]
    },
    {
      "cell_type": "code",
      "source": [
        "p1 = torch.transpose(x,0,1)\n",
        "p1, p1.shape"
      ],
      "metadata": {
        "colab": {
          "base_uri": "https://localhost:8080/"
        },
        "id": "D2zAmY_5iCkW",
        "outputId": "c081150a-fee4-4018-891d-fb5b5501aa9d"
      },
      "execution_count": null,
      "outputs": [
        {
          "output_type": "execute_result",
          "data": {
            "text/plain": [
              "(tensor([[[0.8190, 0.0825, 0.3152, 0.4047],\n",
              "          [0.9690, 0.7423, 0.5487, 0.0716]],\n",
              " \n",
              "         [[0.8869, 0.8547, 0.8596, 0.3957],\n",
              "          [0.2117, 0.5458, 0.8087, 0.9008]],\n",
              " \n",
              "         [[0.4127, 0.3657, 0.5912, 0.2012],\n",
              "          [0.8198, 0.1592, 0.0990, 0.9839]]]),\n",
              " torch.Size([3, 2, 4]))"
            ]
          },
          "metadata": {},
          "execution_count": 222
        }
      ]
    },
    {
      "cell_type": "code",
      "source": [
        "p2 = torch.transpose(x,0,2)\n",
        "p2, p2.shape"
      ],
      "metadata": {
        "colab": {
          "base_uri": "https://localhost:8080/"
        },
        "id": "Mmncph7niDys",
        "outputId": "6f6387b9-b81e-4ebc-e68a-5573d4a8ee8b"
      },
      "execution_count": null,
      "outputs": [
        {
          "output_type": "execute_result",
          "data": {
            "text/plain": [
              "(tensor([[[0.8190, 0.9690],\n",
              "          [0.8869, 0.2117],\n",
              "          [0.4127, 0.8198]],\n",
              " \n",
              "         [[0.0825, 0.7423],\n",
              "          [0.8547, 0.5458],\n",
              "          [0.3657, 0.1592]],\n",
              " \n",
              "         [[0.3152, 0.5487],\n",
              "          [0.8596, 0.8087],\n",
              "          [0.5912, 0.0990]],\n",
              " \n",
              "         [[0.4047, 0.0716],\n",
              "          [0.3957, 0.9008],\n",
              "          [0.2012, 0.9839]]]),\n",
              " torch.Size([4, 3, 2]))"
            ]
          },
          "metadata": {},
          "execution_count": 224
        }
      ]
    },
    {
      "cell_type": "code",
      "source": [
        "p3 = torch.transpose(x,2,1)\n",
        "p3, p3.shape"
      ],
      "metadata": {
        "colab": {
          "base_uri": "https://localhost:8080/"
        },
        "id": "AqNpbdwkiD8s",
        "outputId": "4526f524-6891-4d97-a085-b1035ed5268a"
      },
      "execution_count": null,
      "outputs": [
        {
          "output_type": "execute_result",
          "data": {
            "text/plain": [
              "(tensor([[[0.8190, 0.8869, 0.4127],\n",
              "          [0.0825, 0.8547, 0.3657],\n",
              "          [0.3152, 0.8596, 0.5912],\n",
              "          [0.4047, 0.3957, 0.2012]],\n",
              " \n",
              "         [[0.9690, 0.2117, 0.8198],\n",
              "          [0.7423, 0.5458, 0.1592],\n",
              "          [0.5487, 0.8087, 0.0990],\n",
              "          [0.0716, 0.9008, 0.9839]]]),\n",
              " torch.Size([2, 4, 3]))"
            ]
          },
          "metadata": {},
          "execution_count": 225
        }
      ]
    },
    {
      "cell_type": "code",
      "source": [
        "p4 = torch.transpose(torch.transpose(x,0,2),1,2)\n",
        "p4, p4.shape"
      ],
      "metadata": {
        "colab": {
          "base_uri": "https://localhost:8080/"
        },
        "id": "SVsI6koNiEH2",
        "outputId": "3467399e-7e69-4b93-9f7d-c280e30dc949"
      },
      "execution_count": null,
      "outputs": [
        {
          "output_type": "execute_result",
          "data": {
            "text/plain": [
              "(tensor([[[0.8190, 0.8869, 0.4127],\n",
              "          [0.9690, 0.2117, 0.8198]],\n",
              " \n",
              "         [[0.0825, 0.8547, 0.3657],\n",
              "          [0.7423, 0.5458, 0.1592]],\n",
              " \n",
              "         [[0.3152, 0.8596, 0.5912],\n",
              "          [0.5487, 0.8087, 0.0990]],\n",
              " \n",
              "         [[0.4047, 0.3957, 0.2012],\n",
              "          [0.0716, 0.9008, 0.9839]]]),\n",
              " torch.Size([4, 2, 3]))"
            ]
          },
          "metadata": {},
          "execution_count": 226
        }
      ]
    },
    {
      "cell_type": "code",
      "source": [
        "p5 = torch.transpose(torch.transpose(x,0,1),1,2)\n",
        "p5, p5.shape"
      ],
      "metadata": {
        "colab": {
          "base_uri": "https://localhost:8080/"
        },
        "id": "7sIHKWbtiEQ1",
        "outputId": "7cef2d86-4830-4199-c25f-965c3a31291f"
      },
      "execution_count": null,
      "outputs": [
        {
          "output_type": "execute_result",
          "data": {
            "text/plain": [
              "(tensor([[[0.8190, 0.9690],\n",
              "          [0.0825, 0.7423],\n",
              "          [0.3152, 0.5487],\n",
              "          [0.4047, 0.0716]],\n",
              " \n",
              "         [[0.8869, 0.2117],\n",
              "          [0.8547, 0.5458],\n",
              "          [0.8596, 0.8087],\n",
              "          [0.3957, 0.9008]],\n",
              " \n",
              "         [[0.4127, 0.8198],\n",
              "          [0.3657, 0.1592],\n",
              "          [0.5912, 0.0990],\n",
              "          [0.2012, 0.9839]]]),\n",
              " torch.Size([3, 4, 2]))"
            ]
          },
          "metadata": {},
          "execution_count": 227
        }
      ]
    },
    {
      "cell_type": "markdown",
      "source": [
        "2. Given a 4D tensor of shape `(2, 3, 4, 5)`, transpose it to obtain a tensor of shape `(2, 4, 5, 3)`. Also explore what is_contiguous() means..."
      ],
      "metadata": {
        "id": "CwETJF5fAz-j"
      }
    },
    {
      "cell_type": "code",
      "source": [
        "a = torch.randn(2, 3, 4, 5)\n",
        "a, a.shape"
      ],
      "metadata": {
        "id": "tfdlEGx3Ag2B",
        "colab": {
          "base_uri": "https://localhost:8080/"
        },
        "outputId": "83eaac06-3fbe-41b1-9698-b7ad4b6174ef"
      },
      "execution_count": 26,
      "outputs": [
        {
          "output_type": "execute_result",
          "data": {
            "text/plain": [
              "(tensor([[[[-0.5419, -1.5553, -0.8628, -0.7371, -0.1246],\n",
              "           [ 1.8694,  0.9238, -0.4893,  0.0111, -0.1957],\n",
              "           [-0.4796,  1.8699,  0.7391,  0.6478,  0.7605],\n",
              "           [ 0.1248, -0.6036,  0.9977, -0.1442,  0.3140]],\n",
              " \n",
              "          [[-0.2667,  0.0552, -0.7417, -0.9283,  0.6616],\n",
              "           [-1.0319,  0.1761, -0.1887, -0.4732,  1.2245],\n",
              "           [-1.3073,  2.4665, -0.4699, -0.5913,  1.1067],\n",
              "           [ 1.2160,  0.4021,  0.1967, -1.9179,  2.3012]],\n",
              " \n",
              "          [[ 0.3485, -1.2077,  0.0474, -0.1938,  0.0351],\n",
              "           [ 0.1763,  0.4369, -1.2681, -1.0167, -2.1848],\n",
              "           [ 0.1395, -2.0530,  1.6639,  0.4268,  1.2891],\n",
              "           [-1.2008, -1.4515,  0.4664, -0.0546,  1.1756]]],\n",
              " \n",
              " \n",
              "         [[[ 0.1175, -3.0624,  0.7428,  0.6433,  0.6604],\n",
              "           [-0.2097,  0.9813, -0.2046,  1.1998,  1.0563],\n",
              "           [ 0.1624, -0.6652, -1.4304, -0.8119, -2.4574],\n",
              "           [-0.0463, -1.2224,  0.5761, -0.7996, -1.7347]],\n",
              " \n",
              "          [[-0.0570,  1.4642, -0.0609, -0.2541,  0.0926],\n",
              "           [ 1.0937, -0.9377,  0.4312,  0.8306,  0.8831],\n",
              "           [-0.8924,  1.0174, -1.6485, -0.3939,  0.4403],\n",
              "           [-1.1291,  1.0251, -0.2013,  0.5936,  0.3983]],\n",
              " \n",
              "          [[-0.2083,  1.1217,  0.8902,  1.2472,  2.0241],\n",
              "           [ 0.4578, -0.5574, -0.8128,  0.0922, -2.7078],\n",
              "           [-0.1173,  0.4152,  0.6170, -0.0131,  0.5267],\n",
              "           [ 1.0001,  0.6029,  1.2599, -0.7653,  0.0352]]]]),\n",
              " torch.Size([2, 3, 4, 5]))"
            ]
          },
          "metadata": {},
          "execution_count": 26
        }
      ]
    },
    {
      "cell_type": "code",
      "source": [
        "b = torch.transpose(torch.transpose(a, 1, 2),2,3)\n",
        "b, b.shape"
      ],
      "metadata": {
        "colab": {
          "base_uri": "https://localhost:8080/"
        },
        "id": "8uO3Iiy82U8t",
        "outputId": "9b6d07a7-9e37-4bf9-9234-5a2c068dbccd"
      },
      "execution_count": 27,
      "outputs": [
        {
          "output_type": "execute_result",
          "data": {
            "text/plain": [
              "(tensor([[[[-0.5419, -0.2667,  0.3485],\n",
              "           [-1.5553,  0.0552, -1.2077],\n",
              "           [-0.8628, -0.7417,  0.0474],\n",
              "           [-0.7371, -0.9283, -0.1938],\n",
              "           [-0.1246,  0.6616,  0.0351]],\n",
              " \n",
              "          [[ 1.8694, -1.0319,  0.1763],\n",
              "           [ 0.9238,  0.1761,  0.4369],\n",
              "           [-0.4893, -0.1887, -1.2681],\n",
              "           [ 0.0111, -0.4732, -1.0167],\n",
              "           [-0.1957,  1.2245, -2.1848]],\n",
              " \n",
              "          [[-0.4796, -1.3073,  0.1395],\n",
              "           [ 1.8699,  2.4665, -2.0530],\n",
              "           [ 0.7391, -0.4699,  1.6639],\n",
              "           [ 0.6478, -0.5913,  0.4268],\n",
              "           [ 0.7605,  1.1067,  1.2891]],\n",
              " \n",
              "          [[ 0.1248,  1.2160, -1.2008],\n",
              "           [-0.6036,  0.4021, -1.4515],\n",
              "           [ 0.9977,  0.1967,  0.4664],\n",
              "           [-0.1442, -1.9179, -0.0546],\n",
              "           [ 0.3140,  2.3012,  1.1756]]],\n",
              " \n",
              " \n",
              "         [[[ 0.1175, -0.0570, -0.2083],\n",
              "           [-3.0624,  1.4642,  1.1217],\n",
              "           [ 0.7428, -0.0609,  0.8902],\n",
              "           [ 0.6433, -0.2541,  1.2472],\n",
              "           [ 0.6604,  0.0926,  2.0241]],\n",
              " \n",
              "          [[-0.2097,  1.0937,  0.4578],\n",
              "           [ 0.9813, -0.9377, -0.5574],\n",
              "           [-0.2046,  0.4312, -0.8128],\n",
              "           [ 1.1998,  0.8306,  0.0922],\n",
              "           [ 1.0563,  0.8831, -2.7078]],\n",
              " \n",
              "          [[ 0.1624, -0.8924, -0.1173],\n",
              "           [-0.6652,  1.0174,  0.4152],\n",
              "           [-1.4304, -1.6485,  0.6170],\n",
              "           [-0.8119, -0.3939, -0.0131],\n",
              "           [-2.4574,  0.4403,  0.5267]],\n",
              " \n",
              "          [[-0.0463, -1.1291,  1.0001],\n",
              "           [-1.2224,  1.0251,  0.6029],\n",
              "           [ 0.5761, -0.2013,  1.2599],\n",
              "           [-0.7996,  0.5936, -0.7653],\n",
              "           [-1.7347,  0.3983,  0.0352]]]]),\n",
              " torch.Size([2, 4, 5, 3]))"
            ]
          },
          "metadata": {},
          "execution_count": 27
        }
      ]
    },
    {
      "cell_type": "code",
      "source": [
        "a.is_contiguous()"
      ],
      "metadata": {
        "colab": {
          "base_uri": "https://localhost:8080/"
        },
        "id": "kktP9BKRidDH",
        "outputId": "d0733471-b637-4721-8b60-543e95881d24"
      },
      "execution_count": 28,
      "outputs": [
        {
          "output_type": "execute_result",
          "data": {
            "text/plain": [
              "True"
            ]
          },
          "metadata": {},
          "execution_count": 28
        }
      ]
    },
    {
      "cell_type": "code",
      "source": [
        "b.is_contiguous()"
      ],
      "metadata": {
        "colab": {
          "base_uri": "https://localhost:8080/"
        },
        "id": "ZdKRHFMQihRE",
        "outputId": "0446f344-3871-4d28-90d6-03d78a2543c0"
      },
      "execution_count": 29,
      "outputs": [
        {
          "output_type": "execute_result",
          "data": {
            "text/plain": [
              "False"
            ]
          },
          "metadata": {},
          "execution_count": 29
        }
      ]
    },
    {
      "cell_type": "markdown",
      "source": [
        "3. Given two tensors, one of shape (n, 1) and another of shape (m, ), perform an element-wise addition."
      ],
      "metadata": {
        "id": "W13ajP4aBO3v"
      }
    },
    {
      "cell_type": "code",
      "source": [
        "n = 2 #Random number\n",
        "m = 3 #Random number"
      ],
      "metadata": {
        "id": "3AtpWGh1Bdpd"
      },
      "execution_count": null,
      "outputs": []
    },
    {
      "cell_type": "code",
      "source": [
        "a = torch.randn(n,1)\n",
        "b = torch.randn(m,)\n",
        "a,b"
      ],
      "metadata": {
        "colab": {
          "base_uri": "https://localhost:8080/"
        },
        "id": "0w5E0ixy0Vjn",
        "outputId": "252ebc9c-f9b1-4feb-805b-992a11c8cdeb"
      },
      "execution_count": null,
      "outputs": [
        {
          "output_type": "execute_result",
          "data": {
            "text/plain": [
              "(tensor([[ 0.9178],\n",
              "         [-0.0512]]),\n",
              " tensor([-1.4549, -1.0094,  1.9827]))"
            ]
          },
          "metadata": {},
          "execution_count": 150
        }
      ]
    },
    {
      "cell_type": "code",
      "source": [
        "c = torch.add(a,b)\n",
        "c"
      ],
      "metadata": {
        "colab": {
          "base_uri": "https://localhost:8080/"
        },
        "id": "ZKeSlzii0Vpj",
        "outputId": "222fba50-c2c9-44d3-c458-5eaaa7c2e579"
      },
      "execution_count": null,
      "outputs": [
        {
          "output_type": "execute_result",
          "data": {
            "text/plain": [
              "tensor([[-0.5371, -0.0915,  2.9005],\n",
              "        [-1.5061, -1.0606,  1.9314]])"
            ]
          },
          "metadata": {},
          "execution_count": 151
        }
      ]
    },
    {
      "cell_type": "markdown",
      "source": [
        "4. Given a 3D tensor of shape `(4, 4, 4)`, extract a sub-tensor of shape `(2, 2, 2)` starting from the element at index `(1, 1, 1)`**bold text**."
      ],
      "metadata": {
        "id": "LnyUlwKWBeUz"
      }
    },
    {
      "cell_type": "code",
      "source": [
        "a = torch.arange(4*4*4).reshape(4,4,4)\n",
        "a"
      ],
      "metadata": {
        "colab": {
          "base_uri": "https://localhost:8080/"
        },
        "id": "QSkmVhTS4wBq",
        "outputId": "a4687618-e120-4a7b-c56b-60371f1dcce3"
      },
      "execution_count": null,
      "outputs": [
        {
          "output_type": "execute_result",
          "data": {
            "text/plain": [
              "tensor([[[ 0,  1,  2,  3],\n",
              "         [ 4,  5,  6,  7],\n",
              "         [ 8,  9, 10, 11],\n",
              "         [12, 13, 14, 15]],\n",
              "\n",
              "        [[16, 17, 18, 19],\n",
              "         [20, 21, 22, 23],\n",
              "         [24, 25, 26, 27],\n",
              "         [28, 29, 30, 31]],\n",
              "\n",
              "        [[32, 33, 34, 35],\n",
              "         [36, 37, 38, 39],\n",
              "         [40, 41, 42, 43],\n",
              "         [44, 45, 46, 47]],\n",
              "\n",
              "        [[48, 49, 50, 51],\n",
              "         [52, 53, 54, 55],\n",
              "         [56, 57, 58, 59],\n",
              "         [60, 61, 62, 63]]])"
            ]
          },
          "metadata": {},
          "execution_count": 238
        }
      ]
    },
    {
      "cell_type": "code",
      "source": [
        "b = a[(1,1,1)[0]:(1,1,1)[0]+2,(1,1,1)[1]:(1,1,1)[1]+2,(1,1,1)[2]:(1,1,1)[2]+2]\n",
        "b"
      ],
      "metadata": {
        "id": "1oRhgDE6BqKg",
        "colab": {
          "base_uri": "https://localhost:8080/"
        },
        "outputId": "1fa5f8fc-cdaa-425c-9e62-dd0e8f2b5db5"
      },
      "execution_count": null,
      "outputs": [
        {
          "output_type": "execute_result",
          "data": {
            "text/plain": [
              "tensor([[[21, 22],\n",
              "         [25, 26]],\n",
              "\n",
              "        [[37, 38],\n",
              "         [41, 42]]])"
            ]
          },
          "metadata": {},
          "execution_count": 244
        }
      ]
    },
    {
      "cell_type": "markdown",
      "source": [
        "5. Given a 2-tensor of arbitrary shape, rotate it 90 degrees anticlockwise.\n",
        "\n"
      ],
      "metadata": {
        "id": "-GJaZaZyBsaU"
      }
    },
    {
      "cell_type": "code",
      "source": [
        "a = torch.randn(2,2)\n",
        "a"
      ],
      "metadata": {
        "id": "fb5enhEsB1Um",
        "colab": {
          "base_uri": "https://localhost:8080/"
        },
        "outputId": "f2080102-cfb9-4a7d-fb9e-ee31ffa6da8b"
      },
      "execution_count": null,
      "outputs": [
        {
          "output_type": "execute_result",
          "data": {
            "text/plain": [
              "tensor([[ 0.6769, -1.0869],\n",
              "        [ 0.6262,  0.6471]])"
            ]
          },
          "metadata": {},
          "execution_count": 174
        }
      ]
    },
    {
      "cell_type": "code",
      "source": [
        "b = torch.rot90(a, k=1, dims=[0, 1]) #Parameters: (tensor, no. of times to rotate, axis)\n",
        "b"
      ],
      "metadata": {
        "colab": {
          "base_uri": "https://localhost:8080/"
        },
        "id": "Ac3Vge8G3viW",
        "outputId": "ce8bce91-4524-445f-f2eb-2b04bb17cabf"
      },
      "execution_count": null,
      "outputs": [
        {
          "output_type": "execute_result",
          "data": {
            "text/plain": [
              "tensor([[-1.0869,  0.6471],\n",
              "        [ 0.6769,  0.6262]])"
            ]
          },
          "metadata": {},
          "execution_count": 175
        }
      ]
    },
    {
      "cell_type": "markdown",
      "source": [
        "### **EVEN I HAD TO THINK...**"
      ],
      "metadata": {
        "id": "DNTlDxZ4C4-R"
      }
    },
    {
      "cell_type": "markdown",
      "source": [
        "1. Implement a custom operation that computes the **element-wise** **sine** of a tensor *and* its **gradient** using torch.autograd.Function.\n",
        "- You need to implement both the forward() and backward() methods.\n",
        "- For an example, look no further than the [PyTorch docs](https://pytorch.org/docs/stable/autograd.html#function)!\n",
        "- Test it out on a matrix of arbitrary size!"
      ],
      "metadata": {
        "id": "Mh71KC4rDAcY"
      }
    },
    {
      "cell_type": "code",
      "source": [],
      "metadata": {
        "id": "0Ntq8CgFC9jy"
      },
      "execution_count": null,
      "outputs": []
    },
    {
      "cell_type": "markdown",
      "source": [
        "2. One of the most important aspects of improving model performance ins normalization. Implement a custom NN normalization layer that performs either a **batch** or **layer** normalization (based on a **dim** parameter)and integrate it into a simple feedforward neural network.\n",
        "- Note that you dont need to implement any backward() here, for simplicity.\n",
        "- Consider your input tensor to the neural network as of shape (m, n) where m is num of examples, n is num of features.\n",
        "- Which value of **dim** leads to batch and layer normalization?"
      ],
      "metadata": {
        "id": "s6GDwW-dFCyT"
      }
    },
    {
      "cell_type": "code",
      "source": [
        "import torch.nn as nn\n",
        "import torch.nn.functional as f"
      ],
      "metadata": {
        "id": "KiofKZz_FgHd"
      },
      "execution_count": 2,
      "outputs": []
    },
    {
      "cell_type": "code",
      "source": [
        "class CustomNNNormalizationLayer(nn.Module):\n",
        "  def __init__(self,dim,NumOfFeatures):\n",
        "    super(CustomNNNormalizationLayer,self).__init__()\n",
        "    self.dim = dim\n",
        "    if dim == \"batch\":\n",
        "      self.normalization = nn.BatchNorm1d(NumOfFeatures)\n",
        "    elif dim == \"layer\":\n",
        "      self.normalization = nn.LayerNorm(NumOfFeatures)\n",
        "    else:\n",
        "      print(\"Invalid input: dim is either 'batch' or 'layer'\")\n",
        "  def forward(self, x):\n",
        "    return self.normalization(x)"
      ],
      "metadata": {
        "id": "yzvDh8xZPKJZ"
      },
      "execution_count": 18,
      "outputs": []
    },
    {
      "cell_type": "code",
      "source": [
        "# Simple feed forward NN has an input layer, a hidden layer and an output layer\n",
        "class SimpleFeedforwardNN(nn.Module):\n",
        "  def __init__(self,inp_size,hid_size,out_size,dim):\n",
        "    super(SimpleFeedforwardNN,self).__init__()\n",
        "    self.inpLayer = nn.Linear(inp_size,hid_size)\n",
        "    self.normalization1 = CustomNNNormalizationLayer(dim,hid_size)\n",
        "    self.hidLayer = nn.Linear(hid_size,hid_size)\n",
        "    self.normalization2 = CustomNNNormalizationLayer(dim,hid_size)\n",
        "    self.outLayer = nn.Linear(hid_size,out_size)\n",
        "  def forward(self,x):\n",
        "    x = f.relu(self.normalization1(self.inpLayer(x))) # input layer-->normalised-->activation layer\n",
        "    x = f.relu(self.normalization2(self.hidLayer(x)))\n",
        "    x = self.outLayer(x) # output\n",
        "    return x"
      ],
      "metadata": {
        "id": "R4td27uTSW_F"
      },
      "execution_count": 19,
      "outputs": []
    },
    {
      "cell_type": "code",
      "source": [
        "inp_size = 10\n",
        "hid_size = 20\n",
        "out_size = 1\n",
        "dim = \"batch\"\n",
        "m = 5 #No of examples\n",
        "n = 10 #No of features"
      ],
      "metadata": {
        "id": "JB6vtXYgVnBP"
      },
      "execution_count": 20,
      "outputs": []
    },
    {
      "cell_type": "code",
      "source": [
        "model = SimpleFeedforwardNN(inp_size,hid_size,out_size,dim)"
      ],
      "metadata": {
        "id": "AQnWlZncVwJH"
      },
      "execution_count": 21,
      "outputs": []
    },
    {
      "cell_type": "code",
      "source": [
        "a = torch.randn(m,n)\n",
        "a"
      ],
      "metadata": {
        "colab": {
          "base_uri": "https://localhost:8080/"
        },
        "id": "AvWzl8EIWN33",
        "outputId": "fec2bce9-e955-41ce-a5fb-f532e8614541"
      },
      "execution_count": 22,
      "outputs": [
        {
          "output_type": "execute_result",
          "data": {
            "text/plain": [
              "tensor([[-1.1352, -0.5793,  0.8846, -0.0318,  1.1484,  0.3455,  0.4456,  0.9709,\n",
              "          0.4508,  0.7723],\n",
              "        [-0.9453, -0.9917, -1.4682, -0.1451,  0.2378, -0.1158, -0.2972, -0.1230,\n",
              "          1.6163,  1.3793],\n",
              "        [ 1.2445, -0.7728, -0.7577, -0.7851, -0.5544, -0.2819, -0.8853,  0.9011,\n",
              "          1.1709,  0.6983],\n",
              "        [ 0.4574, -1.5362,  1.2753, -0.2709, -0.3550,  2.4130, -1.0506,  1.2159,\n",
              "          0.6877,  0.4095],\n",
              "        [-0.9770, -0.9323,  0.1917, -0.0888, -0.4950, -2.7382,  1.7589,  1.6086,\n",
              "         -0.1658,  1.6587]])"
            ]
          },
          "metadata": {},
          "execution_count": 22
        }
      ]
    },
    {
      "cell_type": "code",
      "source": [
        "b = model(a)\n",
        "b"
      ],
      "metadata": {
        "colab": {
          "base_uri": "https://localhost:8080/"
        },
        "id": "xcc5vGTqXxD9",
        "outputId": "e3538a13-00b4-4730-9bad-041bc88c2d4a"
      },
      "execution_count": 23,
      "outputs": [
        {
          "output_type": "execute_result",
          "data": {
            "text/plain": [
              "tensor([[-0.0633],\n",
              "        [-0.3487],\n",
              "        [-0.2714],\n",
              "        [ 0.7469],\n",
              "        [-0.1309]], grad_fn=<AddmmBackward0>)"
            ]
          },
          "metadata": {},
          "execution_count": 23
        }
      ]
    },
    {
      "cell_type": "markdown",
      "source": [
        "3. Given a 4D tensor of shape (2, 3, 4, 5), create a mask that sets all elements in positions where the sum of indices is even to zero."
      ],
      "metadata": {
        "id": "YEc0BxM8GGcL"
      }
    },
    {
      "cell_type": "code",
      "source": [
        "a = torch.randn(2,3,4,5)\n",
        "a"
      ],
      "metadata": {
        "id": "pJ3FD5XiGLh8",
        "colab": {
          "base_uri": "https://localhost:8080/"
        },
        "outputId": "e5d1f358-d054-4650-9bc3-5420c3784a42"
      },
      "execution_count": 25,
      "outputs": [
        {
          "output_type": "execute_result",
          "data": {
            "text/plain": [
              "tensor([[[[ 1.9375, -1.9024,  1.8641, -0.4257, -1.3650],\n",
              "          [ 0.5279, -0.3060, -0.6539,  1.4566,  0.2199],\n",
              "          [ 1.4433,  0.4831, -0.9246,  0.9083, -1.0661],\n",
              "          [ 0.6366,  0.9666, -0.2143,  0.8072, -0.6770]],\n",
              "\n",
              "         [[-0.0323, -0.8825,  1.7307, -0.9670, -0.2540],\n",
              "          [-0.0065, -1.2614,  0.3421,  0.4335, -1.3133],\n",
              "          [ 0.4454, -2.9778,  0.4832,  0.8423, -1.0675],\n",
              "          [ 0.0620, -1.6692,  1.2287,  0.4357,  0.7899]],\n",
              "\n",
              "         [[-1.0397, -0.3182,  0.0556, -0.1501, -1.5564],\n",
              "          [ 0.0344, -0.8691,  0.8632,  0.0264, -0.0656],\n",
              "          [-0.0749, -1.9194,  1.1419, -0.1716,  2.1654],\n",
              "          [-0.3581, -0.4383, -0.5277,  0.0213,  0.6186]]],\n",
              "\n",
              "\n",
              "        [[[-0.2185,  0.9721, -1.0493, -1.1103,  0.5849],\n",
              "          [ 0.8093,  0.4266, -0.2970,  1.5539, -0.3785],\n",
              "          [ 0.2704, -1.7535, -0.1151, -1.2962, -0.7218],\n",
              "          [ 1.4517, -0.1919, -0.1908,  0.1001, -0.0834]],\n",
              "\n",
              "         [[ 0.9635, -0.2082, -0.1503, -0.1414, -0.4588],\n",
              "          [ 0.6452, -1.7286, -0.3088, -0.5036,  0.5387],\n",
              "          [ 1.0802, -0.3971, -0.7714, -0.2489,  1.3585],\n",
              "          [-0.2269, -0.4866,  1.0342, -0.0745,  1.2070]],\n",
              "\n",
              "         [[-1.0328,  1.2569, -0.2960,  0.9500,  1.0589],\n",
              "          [ 0.9321,  0.6882,  1.1017, -0.3447,  0.4966],\n",
              "          [ 0.7347,  0.1088,  0.7217,  1.7096, -0.9783],\n",
              "          [ 2.3929,  0.6027, -0.0410,  2.4613,  0.1522]]]])"
            ]
          },
          "metadata": {},
          "execution_count": 25
        }
      ]
    },
    {
      "cell_type": "code",
      "source": [
        "for i in range (0,2):\n",
        "  for j in range (0,3):\n",
        "    for k in range (0,4):\n",
        "      for l in range (0,5):\n",
        "        if(i+j+k+l)%2==0:\n",
        "          a[i][j][k][l]=0\n",
        "a"
      ],
      "metadata": {
        "colab": {
          "base_uri": "https://localhost:8080/"
        },
        "id": "Fx6-EAo3kMXA",
        "outputId": "53abd017-b08f-4f8a-b113-990e916e9cdc"
      },
      "execution_count": 32,
      "outputs": [
        {
          "output_type": "execute_result",
          "data": {
            "text/plain": [
              "tensor([[[[ 0.0000, -1.9024,  0.0000, -0.4257,  0.0000],\n",
              "          [ 0.5279,  0.0000, -0.6539,  0.0000,  0.2199],\n",
              "          [ 0.0000,  0.4831,  0.0000,  0.9083,  0.0000],\n",
              "          [ 0.6366,  0.0000, -0.2143,  0.0000, -0.6770]],\n",
              "\n",
              "         [[-0.0323,  0.0000,  1.7307,  0.0000, -0.2540],\n",
              "          [ 0.0000, -1.2614,  0.0000,  0.4335,  0.0000],\n",
              "          [ 0.4454,  0.0000,  0.4832,  0.0000, -1.0675],\n",
              "          [ 0.0000, -1.6692,  0.0000,  0.4357,  0.0000]],\n",
              "\n",
              "         [[ 0.0000, -0.3182,  0.0000, -0.1501,  0.0000],\n",
              "          [ 0.0344,  0.0000,  0.8632,  0.0000, -0.0656],\n",
              "          [ 0.0000, -1.9194,  0.0000, -0.1716,  0.0000],\n",
              "          [-0.3581,  0.0000, -0.5277,  0.0000,  0.6186]]],\n",
              "\n",
              "\n",
              "        [[[-0.2185,  0.0000, -1.0493,  0.0000,  0.5849],\n",
              "          [ 0.0000,  0.4266,  0.0000,  1.5539,  0.0000],\n",
              "          [ 0.2704,  0.0000, -0.1151,  0.0000, -0.7218],\n",
              "          [ 0.0000, -0.1919,  0.0000,  0.1001,  0.0000]],\n",
              "\n",
              "         [[ 0.0000, -0.2082,  0.0000, -0.1414,  0.0000],\n",
              "          [ 0.6452,  0.0000, -0.3088,  0.0000,  0.5387],\n",
              "          [ 0.0000, -0.3971,  0.0000, -0.2489,  0.0000],\n",
              "          [-0.2269,  0.0000,  1.0342,  0.0000,  1.2070]],\n",
              "\n",
              "         [[-1.0328,  0.0000, -0.2960,  0.0000,  1.0589],\n",
              "          [ 0.0000,  0.6882,  0.0000, -0.3447,  0.0000],\n",
              "          [ 0.7347,  0.0000,  0.7217,  0.0000, -0.9783],\n",
              "          [ 0.0000,  0.6027,  0.0000,  2.4613,  0.0000]]]])"
            ]
          },
          "metadata": {},
          "execution_count": 32
        }
      ]
    },
    {
      "cell_type": "markdown",
      "source": [
        "4. Given two tensors, one of shape `(3, 1, 4)` and another of shape `(1, 5, 1)`, compute their element-wise multiplication using broadcasting and then sum over specific axes to obtain a tensor of shape `(3, 5)`."
      ],
      "metadata": {
        "id": "Tv557NaJGMlQ"
      }
    },
    {
      "cell_type": "code",
      "source": [
        "a = torch.randn(3,1,4)\n",
        "a"
      ],
      "metadata": {
        "id": "qP3EGgyXGMMH",
        "colab": {
          "base_uri": "https://localhost:8080/"
        },
        "outputId": "4c280a44-2c3d-4dad-fcec-e0a47a151ed3"
      },
      "execution_count": 33,
      "outputs": [
        {
          "output_type": "execute_result",
          "data": {
            "text/plain": [
              "tensor([[[-1.3007,  0.9623,  0.5491, -0.9326]],\n",
              "\n",
              "        [[ 0.9413,  0.0506,  0.7132, -0.4946]],\n",
              "\n",
              "        [[-0.2614,  0.8274, -1.2676, -0.6881]]])"
            ]
          },
          "metadata": {},
          "execution_count": 33
        }
      ]
    },
    {
      "cell_type": "code",
      "source": [
        "b = torch.randn(1,5,1)\n",
        "b"
      ],
      "metadata": {
        "colab": {
          "base_uri": "https://localhost:8080/"
        },
        "id": "40EvEsldmiGr",
        "outputId": "aa9d38d7-9b12-4d48-cfa7-77eb504a379d"
      },
      "execution_count": 34,
      "outputs": [
        {
          "output_type": "execute_result",
          "data": {
            "text/plain": [
              "tensor([[[-0.4749],\n",
              "         [ 0.0511],\n",
              "         [ 0.8801],\n",
              "         [ 0.9046],\n",
              "         [-0.3102]]])"
            ]
          },
          "metadata": {},
          "execution_count": 34
        }
      ]
    },
    {
      "cell_type": "code",
      "source": [
        "c = a*b\n",
        "c, c.shape"
      ],
      "metadata": {
        "colab": {
          "base_uri": "https://localhost:8080/"
        },
        "id": "tMJQuzWkmm4t",
        "outputId": "3acab795-b620-42e5-b222-c629769c441e"
      },
      "execution_count": 36,
      "outputs": [
        {
          "output_type": "execute_result",
          "data": {
            "text/plain": [
              "(tensor([[[ 0.6177, -0.4571, -0.2608,  0.4429],\n",
              "          [-0.0664,  0.0491,  0.0280, -0.0476],\n",
              "          [-1.1447,  0.8469,  0.4833, -0.8208],\n",
              "          [-1.1766,  0.8706,  0.4967, -0.8437],\n",
              "          [ 0.4035, -0.2985, -0.1703,  0.2893]],\n",
              " \n",
              "         [[-0.4471, -0.0240, -0.3387,  0.2349],\n",
              "          [ 0.0481,  0.0026,  0.0364, -0.0253],\n",
              "          [ 0.8285,  0.0445,  0.6277, -0.4353],\n",
              "          [ 0.8516,  0.0458,  0.6452, -0.4474],\n",
              "          [-0.2920, -0.0157, -0.2212,  0.1534]],\n",
              " \n",
              "         [[ 0.1241, -0.3930,  0.6020,  0.3268],\n",
              "          [-0.0133,  0.0423, -0.0647, -0.0351],\n",
              "          [-0.2300,  0.7282, -1.1156, -0.6056],\n",
              "          [-0.2364,  0.7485, -1.1467, -0.6225],\n",
              "          [ 0.0811, -0.2567,  0.3932,  0.2135]]]),\n",
              " torch.Size([3, 5, 4]))"
            ]
          },
          "metadata": {},
          "execution_count": 36
        }
      ]
    },
    {
      "cell_type": "code",
      "source": [
        "d = c.sum(dim=2)\n",
        "d, d.shape"
      ],
      "metadata": {
        "colab": {
          "base_uri": "https://localhost:8080/"
        },
        "id": "Sjep7MFYrGGf",
        "outputId": "41d8f3b2-e309-47c3-aa84-c94f1e4432cd"
      },
      "execution_count": 38,
      "outputs": [
        {
          "output_type": "execute_result",
          "data": {
            "text/plain": [
              "(tensor([[ 0.3428, -0.0369, -0.6353, -0.6530,  0.2239],\n",
              "         [-0.5749,  0.0618,  1.0654,  1.0951, -0.3755],\n",
              "         [ 0.6600, -0.0710, -1.2230, -1.2571,  0.4311]]),\n",
              " torch.Size([3, 5]))"
            ]
          },
          "metadata": {},
          "execution_count": 38
        }
      ]
    }
  ]
}