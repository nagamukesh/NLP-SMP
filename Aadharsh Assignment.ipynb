{
 "cells": [
  {
   "cell_type": "markdown",
   "metadata": {
    "id": "CDn9wbMS0a0r"
   },
   "source": [
    "#  **PyTorch Practice Assignment**\n",
    "**Name**: Aadharsh Ramachandran\n",
    "\n",
    "**Roll Number**: 231IT001"
   ]
  },
  {
   "cell_type": "markdown",
   "metadata": {
    "id": "ENyCsRHv1gqA"
   },
   "source": [
    "## **Instructions:**\n",
    "\n",
    "- Copy this Notebook to your own Drive! You cannot directly modify it.\n",
    "- Please show the output of the cells, in case of some operation. You can specify your own **non-trivial** test-case. Also, try and make your snippets into functions to organize your logic.\n",
    "- You can use any number of cells for a question, you are not restricted to just 1 cell!\n",
    "- **No using ChatGPT for this assignment**: we highly recommend using the [Pytorch Docs](https://pytorch.org/docs/stable/index.html) as your start reference, as well as the vast internet however. You can also contact any of your mentors for some hints/help!\n",
    "- You can work on this assignment in Google Colab or on Your Local Machine!"
   ]
  },
  {
   "cell_type": "markdown",
   "metadata": {
    "id": "1tRkI1j1xGzl"
   },
   "source": [
    "### **Build Up Your Understanding**"
   ]
  },
  {
   "cell_type": "markdown",
   "metadata": {
    "id": "R75QYzJlz874"
   },
   "source": [
    "1. Write a PyTorch snippet to test whether none of the elements of a given tensor are zero."
   ]
  },
  {
   "cell_type": "code",
   "execution_count": 1,
   "metadata": {
    "id": "YrnLJibzzT0d"
   },
   "outputs": [],
   "source": [
    "import torch\n",
    "import numpy as np"
   ]
  },
  {
   "cell_type": "code",
   "execution_count": 2,
   "metadata": {},
   "outputs": [
    {
     "name": "stdout",
     "output_type": "stream",
     "text": [
      "Zero is not contained in the tensor\n"
     ]
    }
   ],
   "source": [
    "tensor=torch.rand((2,3))\n",
    "result=torch.all(tensor!=0)\n",
    "if result==True:\n",
    "    print(\"Zero is not contained in the tensor\")\n",
    "else:\n",
    "    print(\"Zero is contained in the tensor\")"
   ]
  },
  {
   "cell_type": "markdown",
   "metadata": {
    "id": "N65zZ0B20CcN"
   },
   "source": [
    "2. Write a PyTorch snippet to test element-wise for NaN of a given tensor."
   ]
  },
  {
   "cell_type": "code",
   "execution_count": 3,
   "metadata": {
    "id": "09XtXleK0Yqx"
   },
   "outputs": [
    {
     "data": {
      "text/plain": [
       "tensor([[False, False, False],\n",
       "        [False, False, False]])"
      ]
     },
     "execution_count": 3,
     "metadata": {},
     "output_type": "execute_result"
    }
   ],
   "source": [
    "tensor=torch.rand((2,3))\n",
    "result=torch.isnan(tensor)\n",
    "result"
   ]
  },
  {
   "cell_type": "markdown",
   "metadata": {
    "id": "nPgqdCS60ZLy"
   },
   "source": [
    "3. Write a PyTorch snippet to test whether two tensors are element-wise equal within a tolerance."
   ]
  },
  {
   "cell_type": "code",
   "execution_count": 4,
   "metadata": {
    "id": "nZlp4IJh1TAG"
   },
   "outputs": [
    {
     "data": {
      "text/plain": [
       "tensor([[False, False, False],\n",
       "        [False, False, False]])"
      ]
     },
     "execution_count": 4,
     "metadata": {},
     "output_type": "execute_result"
    }
   ],
   "source": [
    "tensor1=torch.rand((2,3))\n",
    "tensor2=torch.rand((2,3))\n",
    "result=torch.eq(tensor1,tensor2)\n",
    "result"
   ]
  },
  {
   "cell_type": "markdown",
   "metadata": {
    "id": "6erc53t11ToS"
   },
   "source": [
    "4. Write a PyTorch snippet to create a tensor of 10 zeros, 10 ones, and 10 fives stacked on top of each other (try & accomplish everything using nested function calls)."
   ]
  },
  {
   "cell_type": "code",
   "execution_count": 5,
   "metadata": {
    "id": "DX2o4rH81cXb"
   },
   "outputs": [
    {
     "data": {
      "text/plain": [
       "tensor([[0., 0., 0., 0., 0., 0., 0., 0., 0., 0.],\n",
       "        [1., 1., 1., 1., 1., 1., 1., 1., 1., 1.],\n",
       "        [5., 5., 5., 5., 5., 5., 5., 5., 5., 5.]])"
      ]
     },
     "execution_count": 5,
     "metadata": {},
     "output_type": "execute_result"
    }
   ],
   "source": [
    "tensor=torch.rand(3,10)\n",
    "def fill0(i):\n",
    "    tensor[i]=torch.zeros((10,))\n",
    "    fill1(i+1)\n",
    "def fill1(i):\n",
    "    tensor[i]=torch.ones((10,))\n",
    "    fill5(i+1)\n",
    "def fill5(i):\n",
    "    tensor[i]=torch.tensor(np.full((10,),5))\n",
    "fill0(0);\n",
    "tensor"
   ]
  },
  {
   "cell_type": "markdown",
   "metadata": {
    "id": "HVZFHjER15fI"
   },
   "source": [
    "5. Write a PyTorch snippet to generate a random number between 0 and 1."
   ]
  },
  {
   "cell_type": "code",
   "execution_count": 6,
   "metadata": {
    "id": "D2sDJxaL16ev"
   },
   "outputs": [
    {
     "data": {
      "text/plain": [
       "tensor([[0.8150]])"
      ]
     },
     "execution_count": 6,
     "metadata": {},
     "output_type": "execute_result"
    }
   ],
   "source": [
    "tensor=torch.rand((1,1))\n",
    "tensor"
   ]
  },
  {
   "cell_type": "markdown",
   "metadata": {
    "id": "v-bl_RmJ19U2"
   },
   "source": [
    "6. Write a PyTorch snippet to generate a tensor of 15 random numbers from a standard normal distribution."
   ]
  },
  {
   "cell_type": "code",
   "execution_count": 7,
   "metadata": {
    "id": "TwOTzLLz1-Oj"
   },
   "outputs": [
    {
     "data": {
      "text/plain": [
       "tensor([ 0.1002,  3.1178,  2.3765,  2.7623,  4.9563,  5.8527,  7.6393,  5.7587,\n",
       "         9.3731, 11.4450, 11.4706, 14.6602, 13.2768, 13.2936])"
      ]
     },
     "execution_count": 7,
     "metadata": {},
     "output_type": "execute_result"
    }
   ],
   "source": [
    "tensor=torch.normal(mean=torch.arange(1.,15.))\n",
    "tensor"
   ]
  },
  {
   "cell_type": "markdown",
   "metadata": {
    "id": "QbsLwc2e1-wI"
   },
   "source": [
    "7. Write a Pytorch snippet to create a tensor of length 10 with values evenly distributed between 5 and 50."
   ]
  },
  {
   "cell_type": "code",
   "execution_count": 8,
   "metadata": {
    "id": "4x-aEGJy2F_J"
   },
   "outputs": [
    {
     "data": {
      "text/plain": [
       "tensor([ 5., 10., 15., 20., 25., 30., 35., 40., 45., 50.])"
      ]
     },
     "execution_count": 8,
     "metadata": {},
     "output_type": "execute_result"
    }
   ],
   "source": [
    "tensor=torch.linspace(5,50,10);\n",
    "tensor"
   ]
  },
  {
   "cell_type": "markdown",
   "metadata": {
    "id": "z4t6r6xR2IyJ"
   },
   "source": [
    "8. Write a Pyorch program to create a tensor with values from 0 to 20 and change the sign of the numbers in the range from 9 to 15."
   ]
  },
  {
   "cell_type": "code",
   "execution_count": 9,
   "metadata": {
    "id": "2ckG-mcF2Jda"
   },
   "outputs": [
    {
     "data": {
      "text/plain": [
       "tensor([  2.4276,  -9.2982,   3.2391,   3.1258, -13.3221,   1.1548,  18.7156,\n",
       "         -9.5255,   4.8026,  19.1622])"
      ]
     },
     "execution_count": 9,
     "metadata": {},
     "output_type": "execute_result"
    }
   ],
   "source": [
    "tensor=torch.rand((10))*20;\n",
    "for i in range(0,tensor.shape[0]):\n",
    "    if (tensor[i]>=9)&(tensor[i]<=15):\n",
    "        tensor[i]=-tensor[i]\n",
    "tensor"
   ]
  },
  {
   "cell_type": "markdown",
   "metadata": {
    "id": "n5piPDEY2NXK"
   },
   "source": [
    "9. Write a PyTorch snippet to create a 3x4 2-tensor filled with values from 10 to 21. Same but 12 to 24."
   ]
  },
  {
   "cell_type": "code",
   "execution_count": 10,
   "metadata": {
    "id": "zKzFvfPP2OOy"
   },
   "outputs": [
    {
     "name": "stdout",
     "output_type": "stream",
     "text": [
      "Tensor1 tensor([[11.7481, 13.4695, 11.8541, 10.4078],\n",
      "        [10.2650, 12.0284, 17.5996, 11.5418],\n",
      "        [10.1505, 16.1631, 20.4685, 16.5298]])\n",
      "Tensor2 tensor([[23.8408, 23.2251, 23.1671, 20.9014],\n",
      "        [16.6447, 23.1954, 17.6324, 16.5106],\n",
      "        [12.9496, 21.8333, 19.8619, 19.7617]])\n"
     ]
    }
   ],
   "source": [
    "tensor1=torch.rand((3,4))*11+10\n",
    "tensor2=torch.rand((3,4))*12+12\n",
    "print(f\"Tensor1\",tensor1)\n",
    "print(f\"Tensor2\",tensor2)"
   ]
  },
  {
   "cell_type": "markdown",
   "metadata": {
    "id": "BMbpvCE12UAA"
   },
   "source": [
    "10. Write a PyTorch snippet to create a 10x10 2-tensor, in which the elements on the borders will be equal to 1, and inside 0."
   ]
  },
  {
   "cell_type": "code",
   "execution_count": 11,
   "metadata": {
    "id": "-e2dvNB12Uv4"
   },
   "outputs": [
    {
     "name": "stdout",
     "output_type": "stream",
     "text": [
      "tensor([[1., 1., 1., 1., 1., 1., 1., 1., 1., 1.],\n",
      "        [1., 0., 0., 0., 0., 0., 0., 0., 0., 1.],\n",
      "        [1., 0., 0., 0., 0., 0., 0., 0., 0., 1.],\n",
      "        [1., 0., 0., 0., 0., 0., 0., 0., 0., 1.],\n",
      "        [1., 0., 0., 0., 0., 0., 0., 0., 0., 1.],\n",
      "        [1., 0., 0., 0., 0., 0., 0., 0., 0., 1.],\n",
      "        [1., 0., 0., 0., 0., 0., 0., 0., 0., 1.],\n",
      "        [1., 0., 0., 0., 0., 0., 0., 0., 0., 1.],\n",
      "        [1., 0., 0., 0., 0., 0., 0., 0., 0., 1.],\n",
      "        [1., 1., 1., 1., 1., 1., 1., 1., 1., 1.]])\n"
     ]
    }
   ],
   "source": [
    "tensor1=torch.ones((10,10))\n",
    "tensor1[1:-1,1:-1]=0\n",
    "print(tensor1)"
   ]
  },
  {
   "cell_type": "markdown",
   "metadata": {
    "id": "3pf24Y0R2YKX"
   },
   "source": [
    "11. Write a PyTorch snippet to create a 5x5 zero 2-tensor with elements on the main diagonal equal to 1, 2, 3, 4, 5."
   ]
  },
  {
   "cell_type": "code",
   "execution_count": 12,
   "metadata": {
    "id": "eb_vYa5n2Y8O"
   },
   "outputs": [
    {
     "data": {
      "text/plain": [
       "tensor([[1, 0, 0, 0, 0],\n",
       "        [0, 2, 0, 0, 0],\n",
       "        [0, 0, 3, 0, 0],\n",
       "        [0, 0, 0, 4, 0],\n",
       "        [0, 0, 0, 0, 5]])"
      ]
     },
     "execution_count": 12,
     "metadata": {},
     "output_type": "execute_result"
    }
   ],
   "source": [
    "result=torch.diag(torch.tensor([1,2,3,4,5]))\n",
    "result"
   ]
  },
  {
   "cell_type": "markdown",
   "metadata": {
    "id": "-BkVD0CA2hWL"
   },
   "source": [
    "12. Write a PyTorch snippet to save a given tensor as a binary to a given path."
   ]
  },
  {
   "cell_type": "code",
   "execution_count": 13,
   "metadata": {
    "id": "DrpbNVax2igN"
   },
   "outputs": [
    {
     "name": "stdout",
     "output_type": "stream",
     "text": [
      "Saved\n"
     ]
    }
   ],
   "source": [
    "tensor=torch.tensor([10,11,12])\n",
    "torch.save(tensor,'tensor.path')\n",
    "print(\"Saved\")"
   ]
  },
  {
   "cell_type": "markdown",
   "metadata": {
    "id": "1zoIfD1k2i71"
   },
   "source": [
    "13. Write a NumPy program to create a two-dimensional array of a specified format."
   ]
  },
  {
   "cell_type": "code",
   "execution_count": 14,
   "metadata": {
    "id": "xXnOECag2zvz"
   },
   "outputs": [
    {
     "data": {
      "text/plain": [
       "tensor([[0.9180, 0.1609, 0.2264],\n",
       "        [0.5613, 0.9355, 0.7558]])"
      ]
     },
     "execution_count": 14,
     "metadata": {},
     "output_type": "execute_result"
    }
   ],
   "source": [
    "tensor=torch.rand((2,3))\n",
    "tensor"
   ]
  },
  {
   "cell_type": "markdown",
   "metadata": {
    "id": "1V6fwGje28Ak"
   },
   "source": [
    "14. Write a PyTorch snippet to create a 2-tensor with shape (8,5) of random numbers. Select these random numbers (to create the tensor) from a normal distribution (200,7) (mean, variance)."
   ]
  },
  {
   "cell_type": "code",
   "execution_count": 15,
   "metadata": {
    "id": "f5pdwN9d27Rr"
   },
   "outputs": [
    {
     "data": {
      "text/plain": [
       "tensor([[197.7397, 198.6229, 201.7288, 201.3265, 202.4063],\n",
       "        [200.9527, 205.6269, 199.0549, 203.5176, 198.9315],\n",
       "        [202.8248, 198.9272, 205.7600, 207.6863, 205.3974],\n",
       "        [202.8148, 199.7183, 200.9695, 195.1682, 204.4532],\n",
       "        [197.7201, 202.5931, 203.6357, 205.7718, 198.3048],\n",
       "        [195.0957, 195.2677, 200.0136, 201.4834, 202.5282],\n",
       "        [196.5010, 201.7656, 197.5233, 197.1680, 200.2508],\n",
       "        [197.9319, 196.1728, 205.5951, 198.3528, 199.5573]])"
      ]
     },
     "execution_count": 15,
     "metadata": {},
     "output_type": "execute_result"
    }
   ],
   "source": [
    "import math\n",
    "tensor=torch.normal(mean=200,std=math.sqrt(7),size=(8,5))\n",
    "tensor"
   ]
  },
  {
   "cell_type": "markdown",
   "metadata": {
    "id": "hSVeltdw3IoY"
   },
   "source": [
    "15. Write a PyTorch snippet to generate a uniform, non-uniform random sample from a given vector with and without replacement (do all 4 combinations possible)."
   ]
  },
  {
   "cell_type": "code",
   "execution_count": 16,
   "metadata": {
    "id": "ZfDNMghS3Jof"
   },
   "outputs": [
    {
     "name": "stdout",
     "output_type": "stream",
     "text": [
      "Uniform with replacement [1 1 3]\n",
      "Uniform without replacement [2 0 3]\n",
      "Non uniform with replacement [2 2 2]\n",
      "Non uniform without replacement [2 1 3]\n"
     ]
    }
   ],
   "source": [
    "print(f\"Uniform with replacement\",np.random.choice(4,3))\n",
    "print(f\"Uniform without replacement\",np.random.choice(4,3,replace=False))\n",
    "print(f\"Non uniform with replacement\",np.random.choice(4,3,p=[0.1,0.3,0.4,0.2]))\n",
    "print(f\"Non uniform without replacement\",np.random.choice(4,3,p=[0.1,0.3,0.4,0.2],replace=False))"
   ]
  },
  {
   "cell_type": "markdown",
   "metadata": {
    "id": "DOIrjKBq3MjM"
   },
   "source": [
    "16. Write a Pyorch snippet to create an nxn(input to function) tensor with random values. Create an array from the said array swapping first and last rows."
   ]
  },
  {
   "cell_type": "code",
   "execution_count": 17,
   "metadata": {
    "id": "xFkWtcTN3MI3"
   },
   "outputs": [
    {
     "name": "stdout",
     "output_type": "stream",
     "text": [
      "Original tensor tensor([[0.1756, 0.3437, 0.2383],\n",
      "        [0.0846, 0.8093, 0.2208],\n",
      "        [0.4961, 0.3817, 0.4348]])\n",
      "Swapped tensor tensor([[0.4961, 0.3817, 0.4348],\n",
      "        [0.0846, 0.8093, 0.2208],\n",
      "        [0.1756, 0.3437, 0.2383]])\n"
     ]
    }
   ],
   "source": [
    "tensor=torch.rand((3,3))\n",
    "print(f\"Original tensor\",tensor)\n",
    "n=tensor.shape[0]\n",
    "tensor[[0,n-1]]=tensor[[n-1,0]]\n",
    "print(f\"Swapped tensor\",tensor)"
   ]
  },
  {
   "cell_type": "markdown",
   "metadata": {
    "id": "e2yl3FJI3SOW"
   },
   "source": [
    "17. Write a PyTorch snippet to sort a given tensor (1D or 2D) in ascending order."
   ]
  },
  {
   "cell_type": "code",
   "execution_count": 18,
   "metadata": {
    "id": "FxiCfs8y3R8W"
   },
   "outputs": [
    {
     "name": "stdout",
     "output_type": "stream",
     "text": [
      "Original tensor tensor([[0.6834, 0.5105, 0.9839, 0.9272, 0.8972, 0.6324, 0.7094, 0.5034, 0.3048,\n",
      "         0.8207]])\n",
      "Sorted tensor torch.return_types.sort(\n",
      "values=tensor([[0.3048, 0.5034, 0.5105, 0.6324, 0.6834, 0.7094, 0.8207, 0.8972, 0.9272,\n",
      "         0.9839]]),\n",
      "indices=tensor([[8, 7, 1, 5, 0, 6, 9, 4, 3, 2]]))\n"
     ]
    }
   ],
   "source": [
    "tensor=torch.rand((1,10))\n",
    "print(f\"Original tensor\",tensor)\n",
    "result=torch.sort(tensor)\n",
    "print(f\"Sorted tensor\",result)"
   ]
  },
  {
   "cell_type": "markdown",
   "metadata": {
    "id": "TY1htljY3X50"
   },
   "source": [
    "18. Write a PyTorch snippet to create a tensor of equal shape and data type for a given tensor (any dimensional)"
   ]
  },
  {
   "cell_type": "code",
   "execution_count": 19,
   "metadata": {
    "id": "br714aF43Xax"
   },
   "outputs": [
    {
     "data": {
      "text/plain": [
       "tensor([[0.9950, 0.7298, 0.1807, 0.2365, 0.0028],\n",
       "        [0.1741, 0.5465, 0.5272, 0.1889, 0.5546],\n",
       "        [0.8035, 0.2548, 0.4204, 0.4978, 0.5214],\n",
       "        [0.2509, 0.1032, 0.2146, 0.5294, 0.9261],\n",
       "        [0.2946, 0.9861, 0.3005, 0.3088, 0.1034]])"
      ]
     },
     "execution_count": 19,
     "metadata": {},
     "output_type": "execute_result"
    }
   ],
   "source": [
    "tensor=torch.rand((5,5),dtype=torch.float32)\n",
    "tensor"
   ]
  },
  {
   "cell_type": "markdown",
   "metadata": {
    "id": "jWZmWlDz3kE-"
   },
   "source": [
    "19. Write a PyTorch snippet to create an 8x8 matrix and fill it with a checkerboard pattern.\n",
    "Checkerboard pattern:\n",
    "```py\n",
    "[[0 1 0 1 0 1 0 1]\n",
    "..........\n",
    "[0 1 0 1 0 1 0 1]\n",
    "[1 0 1 0 1 0 1 0]]\n",
    "```"
   ]
  },
  {
   "cell_type": "code",
   "execution_count": 20,
   "metadata": {
    "id": "gUQpw8Fg3lag"
   },
   "outputs": [
    {
     "data": {
      "text/plain": [
       "tensor([[0., 1., 0., 1., 0., 1., 0., 1.],\n",
       "        [1., 0., 1., 0., 1., 0., 1., 0.],\n",
       "        [0., 1., 0., 1., 0., 1., 0., 1.],\n",
       "        [1., 0., 1., 0., 1., 0., 1., 0.],\n",
       "        [0., 1., 0., 1., 0., 1., 0., 1.],\n",
       "        [1., 0., 1., 0., 1., 0., 1., 0.],\n",
       "        [0., 1., 0., 1., 0., 1., 0., 1.],\n",
       "        [1., 0., 1., 0., 1., 0., 1., 0.]])"
      ]
     },
     "execution_count": 20,
     "metadata": {},
     "output_type": "execute_result"
    }
   ],
   "source": [
    "tensor=torch.zeros((8,8))\n",
    "tensor[1::2,::2]=1\n",
    "tensor[::2,1::2]=1\n",
    "tensor"
   ]
  },
  {
   "cell_type": "markdown",
   "metadata": {
    "id": "yB4L7Usg364D"
   },
   "source": [
    "20. Write a Pytorch snippet to convert Centigrade to Fahrenheit and vice versa (controlled by a parameter). Ensure you operation is vectorized i.e **no explicit looping**\n",
    "\n",
    "Sample Array: `[0, 12, 45.21, 34, 99.91]`"
   ]
  },
  {
   "cell_type": "code",
   "execution_count": 21,
   "metadata": {
    "id": "IPTecJEQ3_JC"
   },
   "outputs": [
    {
     "name": "stdout",
     "output_type": "stream",
     "text": [
      "Centigrade to Fahrenheit tensor([ 32.0000,  53.6000, 113.3780,  93.2000, 211.8380])\n",
      "Fahrenheit to Centigrade tensor([ 0.0000, 12.0000, 45.2100, 34.0000, 99.9100])\n"
     ]
    }
   ],
   "source": [
    "tensor=torch.tensor([0,12,45.21,34,99.91])\n",
    "tensor1=(9/5)*tensor+32\n",
    "print(f\"Centigrade to Fahrenheit\",tensor1)\n",
    "tensor2=(5/9)*(tensor1-32)\n",
    "print(f\"Fahrenheit to Centigrade\",tensor2)"
   ]
  },
  {
   "cell_type": "markdown",
   "metadata": {
    "id": "n8dqXvMZ4oFb"
   },
   "source": [
    "21. Write a PyTorch snippet to get the values of the elements that are bigger than a given *number* in a given tensor.\n",
    "\n",
    "Original tensor:\n",
    "```\n",
    "[[ 0 10 20]\n",
    "[20 30 40]]\n",
    "```\n",
    "Number: 10\n",
    "\n",
    "Values bigger than 10 = `[20 20 30 40]`"
   ]
  },
  {
   "cell_type": "code",
   "execution_count": 22,
   "metadata": {
    "id": "HwoDL-Kr4ww4"
   },
   "outputs": [
    {
     "name": "stdout",
     "output_type": "stream",
     "text": [
      "Original tensor tensor([[ 1.4676, 16.8040, 28.6306],\n",
      "        [22.3167, 16.3733, 18.7931],\n",
      "        [ 4.0581, 21.7332, 13.6791]])\n",
      "Conditioned tensor tensor([28.6306, 22.3167, 21.7332])\n"
     ]
    }
   ],
   "source": [
    "tensor=torch.rand((3,3))*30\n",
    "print(f\"Original tensor\",tensor)\n",
    "print(f\"Conditioned tensor\",tensor[tensor>20])"
   ]
  },
  {
   "cell_type": "markdown",
   "metadata": {
    "id": "QmR9luYk4xaa"
   },
   "source": [
    "## 22. Write a PyTorch snippet to create another shape from an array without changing its data. After carrying out the operation, change the data in one place and see if the other tensor changes\n",
    "\n",
    "Reshape 3x2:\n",
    "```\n",
    "[[1 2]\n",
    "[3 4]\n",
    "[5 6]]\n",
    "```\n",
    "Reshape 2x3:\n",
    "```\n",
    "[[1 2 3]\n",
    "[4 5 6]]\n",
    "```"
   ]
  },
  {
   "cell_type": "code",
   "execution_count": 23,
   "metadata": {
    "id": "oUvXdmtV5ZRJ"
   },
   "outputs": [
    {
     "name": "stdout",
     "output_type": "stream",
     "text": [
      "Original tensor tensor([[0.5474, 0.3017, 0.0508],\n",
      "        [0.2930, 0.2125, 0.5948],\n",
      "        [0.0292, 0.4058, 0.5866],\n",
      "        [0.5952, 0.3243, 0.9005]])\n",
      "Reshaped tensor tensor([[0.5474, 0.3017],\n",
      "        [0.0508, 0.2930],\n",
      "        [0.2125, 0.5948],\n",
      "        [0.0292, 0.4058],\n",
      "        [0.5866, 0.5952],\n",
      "        [0.3243, 0.9005]])\n"
     ]
    }
   ],
   "source": [
    "tensor=torch.rand((4,3))\n",
    "print(f\"Original tensor\",tensor)\n",
    "result=torch.reshape(tensor,(6,2))\n",
    "print(f\"Reshaped tensor\",result)"
   ]
  },
  {
   "cell_type": "markdown",
   "metadata": {
    "id": "ew1n8aUg5QZA"
   },
   "source": [
    "23. Write a PyTorch snipppet to change an tensor's data type.\n",
    "```\n",
    "[[ 2 4 6]\n",
    "[ 6 8 10]]\n",
    "```\n",
    "Data type of the array x is: `int32`\n",
    "\n",
    "New Type: `float64`\n",
    "```\n",
    "[[ 2. 4. 6.]\n",
    "[ 6. 8. 10.]]\n",
    "```"
   ]
  },
  {
   "cell_type": "code",
   "execution_count": 24,
   "metadata": {},
   "outputs": [
    {
     "name": "stdout",
     "output_type": "stream",
     "text": [
      "Int tensor tensor([[ 2,  4,  6],\n",
      "        [ 6,  8, 10]], dtype=torch.int32)\n",
      "Float tensor tensor([[ 2.,  4.,  6.],\n",
      "        [ 6.,  8., 10.]], dtype=torch.float64)\n"
     ]
    }
   ],
   "source": [
    "tensor=torch.tensor([[2,4,6],[6,8,10]],dtype=torch.int32)\n",
    "print(f\"Int tensor\",tensor)\n",
    "tensor1=tensor.to(torch.float64)\n",
    "print(f\"Float tensor\",tensor1)"
   ]
  },
  {
   "cell_type": "markdown",
   "metadata": {
    "id": "0hf1vOk75-Df"
   },
   "source": [
    "24. Write a PyTorch snippet to insert a new axis within a 2-tensor, based on a **parameter**.\n",
    "\n",
    "Ex: If 2-tensor has shape (3, 4).\n",
    "\n",
    "Then, new shape can be (1, 3, 4), (3, 1, 4), or (3, 4, 1) depending on...."
   ]
  },
  {
   "cell_type": "code",
   "execution_count": 25,
   "metadata": {
    "id": "38vF5Dwk5Dbi"
   },
   "outputs": [
    {
     "name": "stdout",
     "output_type": "stream",
     "text": [
      "Original tensor tensor([[0.5437, 0.4351, 0.1831],\n",
      "        [0.0959, 0.9782, 0.3163],\n",
      "        [0.4486, 0.1390, 0.6358],\n",
      "        [0.3124, 0.5950, 0.2792]])\n",
      "Reshaped tensor tensor([[[0.5437],\n",
      "         [0.4351],\n",
      "         [0.1831]],\n",
      "\n",
      "        [[0.0959],\n",
      "         [0.9782],\n",
      "         [0.3163]],\n",
      "\n",
      "        [[0.4486],\n",
      "         [0.1390],\n",
      "         [0.6358]],\n",
      "\n",
      "        [[0.3124],\n",
      "         [0.5950],\n",
      "         [0.2792]]])\n"
     ]
    }
   ],
   "source": [
    "tensor=torch.rand((4,3))\n",
    "print(f\"Original tensor\",tensor)\n",
    "result=torch.reshape(tensor,(4,3,1))\n",
    "print(f\"Reshaped tensor\",result)"
   ]
  },
  {
   "cell_type": "markdown",
   "metadata": {
    "id": "K4GeygLp7wAt"
   },
   "source": [
    "25. Write a PyTorch snippet to stack tensors based on a parameter, **axis**.\n",
    "First discover what this means with 2-tensors, then extend it to 3-tensors. Print your findings.\n",
    "\n",
    "Sample Output:\n",
    "\n",
    "Original tensors:\n",
    "\n",
    "Tensor-1\n",
    "```\n",
    "[[0 1 2]\n",
    "[3 4 5]\n",
    "[6 7 8]]\n",
    "```\n",
    "Tensor-2\n",
    "```\n",
    "[[ 0 3 6]\n",
    "[ 9 12 15]\n",
    "[18 21 24]]\n",
    "```\n",
    "Stack tensors such that axis=1:\n",
    "```\n",
    "[[ 0 1 2 0 3 6]\n",
    "[ 3 4 5 9 12 15]\n",
    "[ 6 7 8 18 21 24]]\n",
    "```"
   ]
  },
  {
   "cell_type": "code",
   "execution_count": 26,
   "metadata": {
    "id": "-37mCkKH75fN"
   },
   "outputs": [
    {
     "name": "stdout",
     "output_type": "stream",
     "text": [
      "Original tensor1 tensor([[0.9345, 0.0449, 0.7231],\n",
      "        [0.1163, 0.2252, 0.4381],\n",
      "        [0.7978, 0.1683, 0.6996]])\n",
      "Original tensor2 tensor([[0.8452, 0.9941, 0.4172],\n",
      "        [0.9144, 0.0667, 0.2165],\n",
      "        [0.8341, 0.6382, 0.1734]])\n"
     ]
    },
    {
     "data": {
      "text/plain": [
       "tensor([[0.9345, 0.0449, 0.7231, 0.8452, 0.9941, 0.4172],\n",
       "        [0.1163, 0.2252, 0.4381, 0.9144, 0.0667, 0.2165],\n",
       "        [0.7978, 0.1683, 0.6996, 0.8341, 0.6382, 0.1734]])"
      ]
     },
     "execution_count": 26,
     "metadata": {},
     "output_type": "execute_result"
    }
   ],
   "source": [
    "tensor1=torch.rand((3,3))\n",
    "tensor2=torch.rand((3,3))\n",
    "print(f\"Original tensor1\",tensor1)\n",
    "print(f\"Original tensor2\",tensor2)\n",
    "result=torch.cat((tensor1,tensor2),1)\n",
    "result"
   ]
  },
  {
   "cell_type": "markdown",
   "metadata": {
    "id": "6kix-xlh8hFz"
   },
   "source": [
    "26. Write a PyTorch snippet to extract the **m**th to **n**th elements of the **m**th to **n**th rows from the **m**th to nth elemnts of given 3-tensor, of shape `(p, q, r)` where m, n < p, q, r.\n",
    "\n",
    "Take a 3-tensor of (say) size `(5,6,7)` and `(m, n)` = `(4, 5)` as a test case!"
   ]
  },
  {
   "cell_type": "code",
   "execution_count": 27,
   "metadata": {},
   "outputs": [
    {
     "data": {
      "text/plain": [
       "tensor([[[0.6739],\n",
       "         [0.5661],\n",
       "         [0.4653],\n",
       "         [0.1933],\n",
       "         [0.8246],\n",
       "         [0.8167]],\n",
       "\n",
       "        [[0.0469],\n",
       "         [0.6090],\n",
       "         [0.4335],\n",
       "         [0.2302],\n",
       "         [0.6834],\n",
       "         [0.1546]],\n",
       "\n",
       "        [[0.2130],\n",
       "         [0.5999],\n",
       "         [0.8922],\n",
       "         [0.6203],\n",
       "         [0.8771],\n",
       "         [0.8374]],\n",
       "\n",
       "        [[0.7116],\n",
       "         [0.5198],\n",
       "         [0.7933],\n",
       "         [0.6900],\n",
       "         [0.3114],\n",
       "         [0.5136]],\n",
       "\n",
       "        [[0.9127],\n",
       "         [0.0044],\n",
       "         [0.9070],\n",
       "         [0.1434],\n",
       "         [0.8086],\n",
       "         [0.7955]]])"
      ]
     },
     "execution_count": 27,
     "metadata": {},
     "output_type": "execute_result"
    }
   ],
   "source": [
    "tensor=torch.rand((5,6,7))\n",
    "tensor[:,:,4:5]"
   ]
  },
  {
   "cell_type": "markdown",
   "metadata": {
    "id": "IxOFseFaxEQu"
   },
   "source": [
    "### **Test your Understanding**"
   ]
  },
  {
   "cell_type": "markdown",
   "metadata": {
    "id": "Vzbo4s_KAsE9"
   },
   "source": [
    "1. Given a 3D tensor of shape `(a, b, c)`*italicised text*, permute its axes to obtain tensors of all other shape combinations (i.e 5)."
   ]
  },
  {
   "cell_type": "code",
   "execution_count": 28,
   "metadata": {
    "id": "R791RvsIAh3O"
   },
   "outputs": [
    {
     "name": "stdout",
     "output_type": "stream",
     "text": [
      "tensor([[[0.4364, 0.7213, 0.3794, 0.8288],\n",
      "         [0.8781, 0.6378, 0.5296, 0.7354],\n",
      "         [0.7381, 0.2510, 0.3954, 0.9031]],\n",
      "\n",
      "        [[0.8191, 0.3140, 0.4558, 0.3704],\n",
      "         [0.9688, 0.6931, 0.6498, 0.9006],\n",
      "         [0.2623, 0.6448, 0.1423, 0.2781]]])\n",
      "tensor([[[0.4364, 0.8191],\n",
      "         [0.7213, 0.3140],\n",
      "         [0.3794, 0.4558],\n",
      "         [0.8288, 0.3704]],\n",
      "\n",
      "        [[0.8781, 0.9688],\n",
      "         [0.6378, 0.6931],\n",
      "         [0.5296, 0.6498],\n",
      "         [0.7354, 0.9006]],\n",
      "\n",
      "        [[0.7381, 0.2623],\n",
      "         [0.2510, 0.6448],\n",
      "         [0.3954, 0.1423],\n",
      "         [0.9031, 0.2781]]])\n",
      "tensor([[[0.4364, 0.8781, 0.7381],\n",
      "         [0.7213, 0.6378, 0.2510],\n",
      "         [0.3794, 0.5296, 0.3954],\n",
      "         [0.8288, 0.7354, 0.9031]],\n",
      "\n",
      "        [[0.8191, 0.9688, 0.2623],\n",
      "         [0.3140, 0.6931, 0.6448],\n",
      "         [0.4558, 0.6498, 0.1423],\n",
      "         [0.3704, 0.9006, 0.2781]]])\n",
      "tensor([[[0.4364, 0.7213, 0.3794, 0.8288],\n",
      "         [0.8191, 0.3140, 0.4558, 0.3704]],\n",
      "\n",
      "        [[0.8781, 0.6378, 0.5296, 0.7354],\n",
      "         [0.9688, 0.6931, 0.6498, 0.9006]],\n",
      "\n",
      "        [[0.7381, 0.2510, 0.3954, 0.9031],\n",
      "         [0.2623, 0.6448, 0.1423, 0.2781]]])\n",
      "tensor([[[0.4364, 0.8191],\n",
      "         [0.8781, 0.9688],\n",
      "         [0.7381, 0.2623]],\n",
      "\n",
      "        [[0.7213, 0.3140],\n",
      "         [0.6378, 0.6931],\n",
      "         [0.2510, 0.6448]],\n",
      "\n",
      "        [[0.3794, 0.4558],\n",
      "         [0.5296, 0.6498],\n",
      "         [0.3954, 0.1423]],\n",
      "\n",
      "        [[0.8288, 0.3704],\n",
      "         [0.7354, 0.9006],\n",
      "         [0.9031, 0.2781]]])\n",
      "tensor([[[0.4364, 0.8781, 0.7381],\n",
      "         [0.8191, 0.9688, 0.2623]],\n",
      "\n",
      "        [[0.7213, 0.6378, 0.2510],\n",
      "         [0.3140, 0.6931, 0.6448]],\n",
      "\n",
      "        [[0.3794, 0.5296, 0.3954],\n",
      "         [0.4558, 0.6498, 0.1423]],\n",
      "\n",
      "        [[0.8288, 0.7354, 0.9031],\n",
      "         [0.3704, 0.9006, 0.2781]]])\n"
     ]
    }
   ],
   "source": [
    "tensor=torch.rand(2,3,4)\n",
    "permutations=[(0,1,2),(1,2,0),(0,2,1),(1,0,2),(2,1,0),(2,0,1)]\n",
    "for i in range(0,6):\n",
    "    result=tensor.permute(permutations[i])\n",
    "    print(result)"
   ]
  },
  {
   "cell_type": "markdown",
   "metadata": {
    "id": "CwETJF5fAz-j"
   },
   "source": [
    "2. Given a 4D tensor of shape `(2, 3, 4, 5)`, transpose it to obtain a tensor of shape `(2, 4, 5, 3)`. Also explore what is_contiguous() means..."
   ]
  },
  {
   "cell_type": "code",
   "execution_count": 29,
   "metadata": {
    "id": "tfdlEGx3Ag2B"
   },
   "outputs": [
    {
     "name": "stdout",
     "output_type": "stream",
     "text": [
      "Original tensor tensor([[[[0.0684, 0.7163, 0.5954, 0.5382, 0.8947],\n",
      "          [0.8224, 0.3587, 0.5123, 0.6071, 0.8807],\n",
      "          [0.7023, 0.9853, 0.9516, 0.1201, 0.3861],\n",
      "          [0.4426, 0.5325, 0.2675, 0.2077, 0.2003]],\n",
      "\n",
      "         [[0.0586, 0.1422, 0.0501, 0.5539, 0.1409],\n",
      "          [0.2753, 0.2529, 0.6945, 0.4246, 0.4559],\n",
      "          [0.6290, 0.2343, 0.7676, 0.6397, 0.0987],\n",
      "          [0.2862, 0.8262, 0.8714, 0.6305, 0.0834]],\n",
      "\n",
      "         [[0.5571, 0.8655, 0.0118, 0.7217, 0.5668],\n",
      "          [0.7498, 0.4178, 0.8724, 0.4108, 0.2054],\n",
      "          [0.1057, 0.7035, 0.4391, 0.9224, 0.3754],\n",
      "          [0.1502, 0.2451, 0.0889, 0.7482, 0.4944]]],\n",
      "\n",
      "\n",
      "        [[[0.3888, 0.9199, 0.2019, 0.9115, 0.0267],\n",
      "          [0.9753, 0.2989, 0.9291, 0.3989, 0.5720],\n",
      "          [0.3688, 0.3224, 0.4580, 0.2970, 0.6146],\n",
      "          [0.7044, 0.6728, 0.5799, 0.3528, 0.2321]],\n",
      "\n",
      "         [[0.5972, 0.6812, 0.6957, 0.7294, 0.4695],\n",
      "          [0.4917, 0.4447, 0.2365, 0.0387, 0.2657],\n",
      "          [0.3431, 0.2460, 0.0585, 0.2853, 0.7143],\n",
      "          [0.9889, 0.9093, 0.3226, 0.5938, 0.1640]],\n",
      "\n",
      "         [[0.8871, 0.1874, 0.2085, 0.0156, 0.5076],\n",
      "          [0.1314, 0.2480, 0.1375, 0.2498, 0.5168],\n",
      "          [0.9002, 0.5404, 0.5715, 0.8322, 0.8115],\n",
      "          [0.8048, 0.5022, 0.3740, 0.8142, 0.5958]]]])\n",
      "Reshaped tensor tensor([[[[0.0684, 0.0586, 0.5571],\n",
      "          [0.7163, 0.1422, 0.8655],\n",
      "          [0.5954, 0.0501, 0.0118],\n",
      "          [0.5382, 0.5539, 0.7217],\n",
      "          [0.8947, 0.1409, 0.5668]],\n",
      "\n",
      "         [[0.8224, 0.2753, 0.7498],\n",
      "          [0.3587, 0.2529, 0.4178],\n",
      "          [0.5123, 0.6945, 0.8724],\n",
      "          [0.6071, 0.4246, 0.4108],\n",
      "          [0.8807, 0.4559, 0.2054]],\n",
      "\n",
      "         [[0.7023, 0.6290, 0.1057],\n",
      "          [0.9853, 0.2343, 0.7035],\n",
      "          [0.9516, 0.7676, 0.4391],\n",
      "          [0.1201, 0.6397, 0.9224],\n",
      "          [0.3861, 0.0987, 0.3754]],\n",
      "\n",
      "         [[0.4426, 0.2862, 0.1502],\n",
      "          [0.5325, 0.8262, 0.2451],\n",
      "          [0.2675, 0.8714, 0.0889],\n",
      "          [0.2077, 0.6305, 0.7482],\n",
      "          [0.2003, 0.0834, 0.4944]]],\n",
      "\n",
      "\n",
      "        [[[0.3888, 0.5972, 0.8871],\n",
      "          [0.9199, 0.6812, 0.1874],\n",
      "          [0.2019, 0.6957, 0.2085],\n",
      "          [0.9115, 0.7294, 0.0156],\n",
      "          [0.0267, 0.4695, 0.5076]],\n",
      "\n",
      "         [[0.9753, 0.4917, 0.1314],\n",
      "          [0.2989, 0.4447, 0.2480],\n",
      "          [0.9291, 0.2365, 0.1375],\n",
      "          [0.3989, 0.0387, 0.2498],\n",
      "          [0.5720, 0.2657, 0.5168]],\n",
      "\n",
      "         [[0.3688, 0.3431, 0.9002],\n",
      "          [0.3224, 0.2460, 0.5404],\n",
      "          [0.4580, 0.0585, 0.5715],\n",
      "          [0.2970, 0.2853, 0.8322],\n",
      "          [0.6146, 0.7143, 0.8115]],\n",
      "\n",
      "         [[0.7044, 0.9889, 0.8048],\n",
      "          [0.6728, 0.9093, 0.5022],\n",
      "          [0.5799, 0.3226, 0.3740],\n",
      "          [0.3528, 0.5938, 0.8142],\n",
      "          [0.2321, 0.1640, 0.5958]]]])\n"
     ]
    }
   ],
   "source": [
    "tensor=torch.rand((2,3,4,5))\n",
    "print(f\"Original tensor\",tensor)\n",
    "result=tensor.permute((0,2,3,1))\n",
    "print(f\"Reshaped tensor\",result)"
   ]
  },
  {
   "cell_type": "markdown",
   "metadata": {
    "id": "W13ajP4aBO3v"
   },
   "source": [
    "3. Given two tensors, one of shape (n, 1) and another of shape (m, ), perform an element-wise addition **manually**. Then, test out what direct addition does and compare your results!"
   ]
  },
  {
   "cell_type": "code",
   "execution_count": 30,
   "metadata": {
    "id": "3AtpWGh1Bdpd"
   },
   "outputs": [
    {
     "name": "stdout",
     "output_type": "stream",
     "text": [
      "Original tensor1 tensor([[0.8079],\n",
      "        [0.2202]])\n",
      "Original tensor2 tensor([0.1518, 0.1576, 0.5475])\n",
      "Result 1 tensor([[0.9596, 0.9655, 1.3554],\n",
      "        [0.3720, 0.3778, 0.7678]])\n",
      "Result 2 tensor([[0.9596, 0.9655, 1.3554],\n",
      "        [0.3720, 0.3778, 0.7678]])\n"
     ]
    }
   ],
   "source": [
    "tensor1=torch.rand(2,1)\n",
    "tensor2=torch.rand(3,)\n",
    "print(f\"Original tensor1\",tensor1)\n",
    "print(f\"Original tensor2\",tensor2)\n",
    "result1=tensor1+tensor2\n",
    "print(f\"Result 1\",result1)\n",
    "result=torch.add(tensor1,tensor2)\n",
    "print(f\"Result 2\",result)"
   ]
  },
  {
   "cell_type": "markdown",
   "metadata": {
    "id": "LnyUlwKWBeUz"
   },
   "source": [
    "4. Given a 3D tensor of shape `(4, 4, 4)`, extract a sub-tensor of shape `(2, 2, 2)` starting from the element at index `(1, 1, 1)`**bold text**."
   ]
  },
  {
   "cell_type": "code",
   "execution_count": 31,
   "metadata": {
    "id": "1oRhgDE6BqKg"
   },
   "outputs": [
    {
     "data": {
      "text/plain": [
       "tensor([[[0.0540, 0.8469],\n",
       "         [0.2154, 0.2730]],\n",
       "\n",
       "        [[0.6790, 0.9822],\n",
       "         [0.8592, 0.0281]]])"
      ]
     },
     "execution_count": 31,
     "metadata": {},
     "output_type": "execute_result"
    }
   ],
   "source": [
    "tensor=torch.rand((4,4,4))\n",
    "tensor[1:3,1:3,1:3]"
   ]
  },
  {
   "cell_type": "markdown",
   "metadata": {
    "id": "-GJaZaZyBsaU"
   },
   "source": [
    "5. Given a 2-tensor of arbitrary shape, rotate it 90 degrees anticlockwise.\n",
    "\n"
   ]
  },
  {
   "cell_type": "code",
   "execution_count": 32,
   "metadata": {
    "id": "fb5enhEsB1Um"
   },
   "outputs": [
    {
     "name": "stdout",
     "output_type": "stream",
     "text": [
      "Original tensor tensor([[0.5332, 0.5299],\n",
      "        [0.0330, 0.6748]])\n",
      "Rotated tensor tensor([[0.5299, 0.6748],\n",
      "        [0.5332, 0.0330]])\n"
     ]
    }
   ],
   "source": [
    "tensor=torch.rand((2,2))\n",
    "print(f\"Original tensor\",tensor)\n",
    "print(f\"Rotated tensor\",torch.rot90(tensor,1))"
   ]
  },
  {
   "cell_type": "markdown",
   "metadata": {
    "id": "DNTlDxZ4C4-R"
   },
   "source": [
    "### **EVEN I HAD TO THINK...**"
   ]
  },
  {
   "cell_type": "markdown",
   "metadata": {
    "id": "Mh71KC4rDAcY"
   },
   "source": [
    "1. Implement a custom operation that computes the **element-wise** **sine** of a tensor *and* its **gradient** using torch.autograd.Function.\n",
    "- You need to implement both the forward() and backward() methods.\n",
    "- For an example, look no further than the [PyTorch docs](https://pytorch.org/docs/stable/autograd.html#function)!\n",
    "- Test it out on a matrix of arbitrary size!"
   ]
  },
  {
   "cell_type": "code",
   "execution_count": null,
   "metadata": {
    "id": "0Ntq8CgFC9jy"
   },
   "outputs": [],
   "source": []
  },
  {
   "cell_type": "markdown",
   "metadata": {
    "id": "s6GDwW-dFCyT"
   },
   "source": [
    "2. One of the most important aspects of improving model performance ins normalization. Implement a custom NN normalization layer that performs either a **batch** or **layer** normalization (based on a **dim** parameter)and integrate it into a simple feedforward neural network.\n",
    "- Note that you dont need to implement any backward() here, for simplicity.\n",
    "- Consider your input tensor to the neural network as of shape (m, n) where m is num of examples, n is num of features.\n",
    "- Which value of **dim** leads to batch and layer normalization?"
   ]
  },
  {
   "cell_type": "code",
   "execution_count": 33,
   "metadata": {
    "id": "KiofKZz_FgHd"
   },
   "outputs": [
    {
     "name": "stdout",
     "output_type": "stream",
     "text": [
      "tensor([[-0.3068],\n",
      "        [-0.8037],\n",
      "        [-0.7468],\n",
      "        [-0.5429],\n",
      "        [-0.6772],\n",
      "        [-0.6960],\n",
      "        [-0.5377],\n",
      "        [-0.5637]], grad_fn=<AddmmBackward0>)\n"
     ]
    }
   ],
   "source": [
    "import torch\n",
    "import torch.nn as nn\n",
    "\n",
    "class CustomNormalization(nn.Module):\n",
    "    def __init__(self, dim):\n",
    "        super(CustomNormalization, self).__init__()\n",
    "        self.dim = dim\n",
    "        self.eps = 1e-5\n",
    "        self.gamma = nn.Parameter(torch.ones(dim))\n",
    "        self.beta = nn.Parameter(torch.zeros(dim))\n",
    "\n",
    "    def forward(self, x):\n",
    "        if self.dim == 0:\n",
    "            # Batch normalization\n",
    "            mean = x.mean(dim=0, keepdim=True)\n",
    "            std = x.std(dim=0, keepdim=True)\n",
    "        elif self.dim == 1:\n",
    "            # Layer normalization\n",
    "            mean = x.mean(dim=1, keepdim=True)\n",
    "            std = x.std(dim=1, keepdim=True)\n",
    "        else:\n",
    "            raise ValueError(\"dim must be 0 (batch normalization) or 1 (layer normalization)\")\n",
    "\n",
    "        x_normalized = (x - mean) / (std + self.eps)\n",
    "        return self.gamma * x_normalized + self.beta\n",
    "\n",
    "class SimpleFeedForwardNN(nn.Module):\n",
    "    def __init__(self, input_dim, hidden_dim, output_dim, normalization_dim):\n",
    "        super(SimpleFeedForwardNN, self).__init__()\n",
    "        self.fc1 = nn.Linear(input_dim, hidden_dim)\n",
    "        self.norm1 = CustomNormalization(normalization_dim)\n",
    "        self.fc2 = nn.Linear(hidden_dim, output_dim)\n",
    "\n",
    "    def forward(self, x):\n",
    "        x = self.fc1(x)\n",
    "        x = self.norm1(x)\n",
    "        x = torch.relu(x)\n",
    "        x = self.fc2(x)\n",
    "        return x\n",
    "\n",
    "\n",
    "hidden_dim = 5\n",
    "output_dim = 1\n",
    "normalization_dim = 1\n",
    "input_dim=10\n",
    "model = SimpleFeedForwardNN(input_dim, hidden_dim, output_dim, normalization_dim)\n",
    "\n",
    "\n",
    "input_tensor = torch.randn(8, input_dim)  \n",
    "\n",
    "output = model(input_tensor)\n",
    "print(output)"
   ]
  },
  {
   "cell_type": "markdown",
   "metadata": {
    "id": "YEc0BxM8GGcL"
   },
   "source": [
    "3. Given a 4D tensor of shape (2, 3, 4, 5), create a mask that sets all elements in positions where the sum of indices is even to zero."
   ]
  },
  {
   "cell_type": "code",
   "execution_count": 34,
   "metadata": {
    "id": "pJ3FD5XiGLh8"
   },
   "outputs": [
    {
     "name": "stdout",
     "output_type": "stream",
     "text": [
      "tensor([[[[0., 1., 0., 1., 0.],\n",
      "          [1., 0., 1., 0., 1.],\n",
      "          [0., 1., 0., 1., 0.],\n",
      "          [1., 0., 1., 0., 1.]],\n",
      "\n",
      "         [[1., 0., 1., 0., 1.],\n",
      "          [0., 1., 0., 1., 0.],\n",
      "          [1., 0., 1., 0., 1.],\n",
      "          [0., 1., 0., 1., 0.]],\n",
      "\n",
      "         [[0., 1., 0., 1., 0.],\n",
      "          [1., 0., 1., 0., 1.],\n",
      "          [0., 1., 0., 1., 0.],\n",
      "          [1., 0., 1., 0., 1.]]],\n",
      "\n",
      "\n",
      "        [[[1., 0., 1., 0., 1.],\n",
      "          [0., 1., 0., 1., 0.],\n",
      "          [1., 0., 1., 0., 1.],\n",
      "          [0., 1., 0., 1., 0.]],\n",
      "\n",
      "         [[0., 1., 0., 1., 0.],\n",
      "          [1., 0., 1., 0., 1.],\n",
      "          [0., 1., 0., 1., 0.],\n",
      "          [1., 0., 1., 0., 1.]],\n",
      "\n",
      "         [[1., 0., 1., 0., 1.],\n",
      "          [0., 1., 0., 1., 0.],\n",
      "          [1., 0., 1., 0., 1.],\n",
      "          [0., 1., 0., 1., 0.]]]])\n"
     ]
    }
   ],
   "source": [
    "import torch\n",
    "shape = (2, 3, 4, 5)\n",
    "mask = torch.ones(shape)\n",
    "for i in range(shape[0]):\n",
    "    for j in range(shape[1]):\n",
    "        for k in range(shape[2]):\n",
    "            for l in range(shape[3]):\n",
    "                # Check if the sum of indices is even\n",
    "                if (i + j + k + l) % 2 == 0:\n",
    "                    # Set the corresponding position in the mask to zero\n",
    "                    mask[i, j, k, l] = 0\n",
    "\n",
    "print(mask)\n"
   ]
  },
  {
   "cell_type": "markdown",
   "metadata": {
    "id": "Tv557NaJGMlQ"
   },
   "source": [
    "3. Given two tensors, one of shape `(3, 1, 4)` and another of shape `(1, 5, 1)`, compute their element-wise multiplication using broadcasting and then sum over specific axes to obtain a tensor of shape `(3, 5)`."
   ]
  },
  {
   "cell_type": "code",
   "execution_count": 35,
   "metadata": {
    "id": "qP3EGgyXGMMH"
   },
   "outputs": [
    {
     "name": "stdout",
     "output_type": "stream",
     "text": [
      "Original tensor1 tensor([[[0.0291, 0.6026, 0.4579, 0.2502]],\n",
      "\n",
      "        [[0.5808, 0.4142, 0.5096, 0.0223]],\n",
      "\n",
      "        [[0.1731, 0.7559, 0.5900, 0.3614]]])\n",
      "Original tensor2 tensor([[[0.8489],\n",
      "         [0.8232],\n",
      "         [0.3205],\n",
      "         [0.5426],\n",
      "         [0.6911]]])\n"
     ]
    },
    {
     "data": {
      "text/plain": [
       "tensor([[1.1375, 1.1029, 0.4294, 0.7271, 0.9259],\n",
       "        [1.2962, 1.2569, 0.4893, 0.8285, 1.0552],\n",
       "        [1.5963, 1.5479, 0.6026, 1.0204, 1.2995]])"
      ]
     },
     "execution_count": 35,
     "metadata": {},
     "output_type": "execute_result"
    }
   ],
   "source": [
    "tensor=torch.rand(3,1,4)\n",
    "tensor1=torch.rand(1,5,1)\n",
    "print(f\"Original tensor1\",tensor)\n",
    "print(f\"Original tensor2\",tensor1)\n",
    "result=tensor1*tensor\n",
    "result.sum(dim=2)"
   ]
  }
 ],
 "metadata": {
  "colab": {
   "collapsed_sections": [
    "1tRkI1j1xGzl",
    "IxOFseFaxEQu",
    "DNTlDxZ4C4-R"
   ],
   "provenance": [
    {
     "file_id": "1P8dzPXSxf7HbE8RWIjSQCcnbKh5eOSbC",
     "timestamp": 1718375558816
    }
   ]
  },
  "kernelspec": {
   "display_name": "Python 3 (ipykernel)",
   "language": "python",
   "name": "python3"
  },
  "language_info": {
   "codemirror_mode": {
    "name": "ipython",
    "version": 3
   },
   "file_extension": ".py",
   "mimetype": "text/x-python",
   "name": "python",
   "nbconvert_exporter": "python",
   "pygments_lexer": "ipython3",
   "version": "3.9.12"
  }
 },
 "nbformat": 4,
 "nbformat_minor": 1
}
