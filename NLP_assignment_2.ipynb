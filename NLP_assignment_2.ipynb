{
  "nbformat": 4,
  "nbformat_minor": 0,
  "metadata": {
    "colab": {
      "provenance": [],
      "authorship_tag": "ABX9TyMEPPLkgixUjL2jO4c3lfY1",
      "include_colab_link": true
    },
    "kernelspec": {
      "name": "python3",
      "display_name": "Python 3"
    },
    "language_info": {
      "name": "python"
    }
  },
  "cells": [
    {
      "cell_type": "markdown",
      "metadata": {
        "id": "view-in-github",
        "colab_type": "text"
      },
      "source": [
        "<a href=\"https://colab.research.google.com/github/nagamukesh/NLP-SMP/blob/Dinesh_Manideep/NLP_assignment_2.ipynb\" target=\"_parent\"><img src=\"https://colab.research.google.com/assets/colab-badge.svg\" alt=\"Open In Colab\"/></a>"
      ]
    },
    {
      "cell_type": "code",
      "execution_count": 1,
      "metadata": {
        "colab": {
          "base_uri": "https://localhost:8080/"
        },
        "id": "Wg-sWDnkRrNw",
        "outputId": "4d40ad37-f1c8-4dc5-8a4c-c672e8567b3f"
      },
      "outputs": [
        {
          "output_type": "stream",
          "name": "stdout",
          "text": [
            "Requirement already satisfied: kaggle in /usr/local/lib/python3.10/dist-packages (1.6.14)\n",
            "Requirement already satisfied: six>=1.10 in /usr/local/lib/python3.10/dist-packages (from kaggle) (1.16.0)\n",
            "Requirement already satisfied: certifi>=2023.7.22 in /usr/local/lib/python3.10/dist-packages (from kaggle) (2024.6.2)\n",
            "Requirement already satisfied: python-dateutil in /usr/local/lib/python3.10/dist-packages (from kaggle) (2.8.2)\n",
            "Requirement already satisfied: requests in /usr/local/lib/python3.10/dist-packages (from kaggle) (2.31.0)\n",
            "Requirement already satisfied: tqdm in /usr/local/lib/python3.10/dist-packages (from kaggle) (4.66.4)\n",
            "Requirement already satisfied: python-slugify in /usr/local/lib/python3.10/dist-packages (from kaggle) (8.0.4)\n",
            "Requirement already satisfied: urllib3 in /usr/local/lib/python3.10/dist-packages (from kaggle) (2.0.7)\n",
            "Requirement already satisfied: bleach in /usr/local/lib/python3.10/dist-packages (from kaggle) (6.1.0)\n",
            "Requirement already satisfied: webencodings in /usr/local/lib/python3.10/dist-packages (from bleach->kaggle) (0.5.1)\n",
            "Requirement already satisfied: text-unidecode>=1.3 in /usr/local/lib/python3.10/dist-packages (from python-slugify->kaggle) (1.3)\n",
            "Requirement already satisfied: charset-normalizer<4,>=2 in /usr/local/lib/python3.10/dist-packages (from requests->kaggle) (3.3.2)\n",
            "Requirement already satisfied: idna<4,>=2.5 in /usr/local/lib/python3.10/dist-packages (from requests->kaggle) (3.7)\n"
          ]
        }
      ],
      "source": [
        "! pip install kaggle\n",
        "! mkdir ~/.kaggle\n",
        "! cp kaggle.json ~/.kaggle/\n",
        "! chmod 600 ~/.kaggle/kaggle.json"
      ]
    },
    {
      "cell_type": "code",
      "source": [
        "! kaggle datasets download -d datatattle/email-classification-nlp"
      ],
      "metadata": {
        "colab": {
          "base_uri": "https://localhost:8080/"
        },
        "id": "Arc0Lk0KcPq5",
        "outputId": "12ef7b06-b7f6-47c7-d594-4ffa0694c33a"
      },
      "execution_count": 2,
      "outputs": [
        {
          "output_type": "stream",
          "name": "stdout",
          "text": [
            "Dataset URL: https://www.kaggle.com/datasets/datatattle/email-classification-nlp\n",
            "License(s): copyright-authors\n",
            "Downloading email-classification-nlp.zip to /content\n",
            "  0% 0.00/46.8k [00:00<?, ?B/s]\n",
            "100% 46.8k/46.8k [00:00<00:00, 16.5MB/s]\n"
          ]
        }
      ]
    },
    {
      "cell_type": "code",
      "source": [
        "!unzip email-classification-nlp.zip -d /content/data"
      ],
      "metadata": {
        "colab": {
          "base_uri": "https://localhost:8080/"
        },
        "id": "YSxHBXDPcjFP",
        "outputId": "7980682d-ff1f-4140-a63e-25c1e9e21052"
      },
      "execution_count": 3,
      "outputs": [
        {
          "output_type": "stream",
          "name": "stdout",
          "text": [
            "Archive:  email-classification-nlp.zip\n",
            "  inflating: /content/data/SMS_test.csv  \n",
            "  inflating: /content/data/SMS_train.csv  \n"
          ]
        }
      ]
    },
    {
      "cell_type": "code",
      "source": [
        "import pandas as pd\n",
        "import numpy as np\n",
        "import matplotlib.pyplot as plt\n",
        "import seaborn as sns\n",
        "import nltk\n",
        "nltk.download('punkt')\n",
        "nltk.download('stopwords')\n",
        "nltk.download('averaged_perceptron_tagger')\n",
        "nltk.download('wordnet')\n",
        "import re\n",
        "import string\n",
        "string.punctuation\n",
        "ps = nltk.PorterStemmer()\n",
        "wn = nltk.WordNetLemmatizer()\n",
        "stopwords = nltk.corpus.stopwords.words('english')\n",
        "from sklearn.feature_extraction.text import TfidfVectorizer\n",
        "import string\n",
        "\n"
      ],
      "metadata": {
        "id": "3TZZZnApdGE7",
        "colab": {
          "base_uri": "https://localhost:8080/"
        },
        "outputId": "d93c40ec-1b24-447a-dd5e-b1401ae97b4c"
      },
      "execution_count": 4,
      "outputs": [
        {
          "output_type": "stream",
          "name": "stderr",
          "text": [
            "[nltk_data] Downloading package punkt to /root/nltk_data...\n",
            "[nltk_data]   Unzipping tokenizers/punkt.zip.\n",
            "[nltk_data] Downloading package stopwords to /root/nltk_data...\n",
            "[nltk_data]   Unzipping corpora/stopwords.zip.\n",
            "[nltk_data] Downloading package averaged_perceptron_tagger to\n",
            "[nltk_data]     /root/nltk_data...\n",
            "[nltk_data]   Unzipping taggers/averaged_perceptron_tagger.zip.\n",
            "[nltk_data] Downloading package wordnet to /root/nltk_data...\n"
          ]
        }
      ]
    },
    {
      "cell_type": "code",
      "source": [
        "#read data from csv\n",
        "train_data=pd.read_csv('data/SMS_train.csv',encoding='latin-1')\n",
        "test_data=pd.read_csv('data/SMS_test.csv',encoding='latin-1')\n",
        "print(train_data)\n",
        "print(test_data)\n"
      ],
      "metadata": {
        "colab": {
          "base_uri": "https://localhost:8080/"
        },
        "id": "xi8T-YtaeUp6",
        "outputId": "35ee0c17-afc3-4fe3-af6f-b588662dd925"
      },
      "execution_count": 5,
      "outputs": [
        {
          "output_type": "stream",
          "name": "stdout",
          "text": [
            "     S. No.                                       Message_body     Label\n",
            "0         1                         Rofl. Its true to its name  Non-Spam\n",
            "1         2  The guy did some bitching but I acted like i'd...  Non-Spam\n",
            "2         3  Pity, * was in mood for that. So...any other s...  Non-Spam\n",
            "3         4               Will ü b going to esplanade fr home?  Non-Spam\n",
            "4         5  This is the 2nd time we have tried 2 contact u...      Spam\n",
            "..      ...                                                ...       ...\n",
            "952     953  hows my favourite person today? r u workin har...  Non-Spam\n",
            "953     954                      How much you got for cleaning  Non-Spam\n",
            "954     955  Sorry da. I gone mad so many pending works wha...  Non-Spam\n",
            "955     956                                 Wat time ü finish?  Non-Spam\n",
            "956     957                    Just glad to be talking to you.  Non-Spam\n",
            "\n",
            "[957 rows x 3 columns]\n",
            "     S. No.                                       Message_body     Label\n",
            "0         1  UpgrdCentre Orange customer, you may now claim...      Spam\n",
            "1         2  Loan for any purpose £500 - £75,000. Homeowner...      Spam\n",
            "2         3  Congrats! Nokia 3650 video camera phone is you...      Spam\n",
            "3         4  URGENT! Your Mobile number has been awarded wi...      Spam\n",
            "4         5  Someone has contacted our dating service and e...      Spam\n",
            "..      ...                                                ...       ...\n",
            "120     121  7 wonders in My WORLD 7th You 6th Ur style 5th...  Non-Spam\n",
            "121     122  Try to do something dear. You read something f...  Non-Spam\n",
            "122     123  Sun ah... Thk mayb can if dun have anythin on....  Non-Spam\n",
            "123     124  SYMPTOMS when U are in love: \"1.U like listeni...  Non-Spam\n",
            "124     125  Great. Have a safe trip. Dont panic surrender ...  Non-Spam\n",
            "\n",
            "[125 rows x 3 columns]\n"
          ]
        }
      ]
    },
    {
      "cell_type": "code",
      "source": [
        "!pip install nltk"
      ],
      "metadata": {
        "id": "pouAFelRfBQZ",
        "colab": {
          "base_uri": "https://localhost:8080/"
        },
        "outputId": "0158761c-28ba-4194-d073-7f694194c0a5"
      },
      "execution_count": 6,
      "outputs": [
        {
          "output_type": "stream",
          "name": "stdout",
          "text": [
            "Requirement already satisfied: nltk in /usr/local/lib/python3.10/dist-packages (3.8.1)\n",
            "Requirement already satisfied: click in /usr/local/lib/python3.10/dist-packages (from nltk) (8.1.7)\n",
            "Requirement already satisfied: joblib in /usr/local/lib/python3.10/dist-packages (from nltk) (1.4.2)\n",
            "Requirement already satisfied: regex>=2021.8.3 in /usr/local/lib/python3.10/dist-packages (from nltk) (2024.5.15)\n",
            "Requirement already satisfied: tqdm in /usr/local/lib/python3.10/dist-packages (from nltk) (4.66.4)\n"
          ]
        }
      ]
    },
    {
      "cell_type": "code",
      "source": [
        "def clean_text(text):\n",
        "    text = \"\".join([word.lower() for word in text if word not in string.punctuation])\n",
        "    tokens = re.split('\\W+', text)\n",
        "    text = [ps.stem(word) for word in tokens if word not in stopwords]\n",
        "    text = [wn.lemmatize(word) for word in text]\n",
        "    return text"
      ],
      "metadata": {
        "id": "ZYhwT-UZzYu2"
      },
      "execution_count": 7,
      "outputs": []
    },
    {
      "cell_type": "code",
      "source": [
        "\n",
        "def count_punct(text):\n",
        "    count = sum([1 for char in text if char in string.punctuation])\n",
        "    return round(count/(len(text) - text.count(\" \")), 3)*100\n",
        "#for training data\n",
        "train_data['Message_len'] = train_data['Message_body'].apply(lambda x: len(x) - x.count(\" \"))\n",
        "train_data['punct%'] = train_data['Message_body'].apply(lambda x: count_punct(x))\n",
        "\n",
        "\n",
        "#for testing data\n",
        "test_data['Message_len'] = test_data['Message_body'].apply(lambda x: len(x) - x.count(\" \"))\n",
        "test_data['punct%'] = test_data['Message_body'].apply(lambda x: count_punct(x))\n"
      ],
      "metadata": {
        "id": "W39ZCMtM3SKw"
      },
      "execution_count": 8,
      "outputs": []
    },
    {
      "cell_type": "code",
      "source": [
        "from sklearn.model_selection import train_test_split\n",
        "\n",
        "X_train=train_data[['Message_body', 'Message_len', 'punct%']]\n",
        "y_train=train_data['Label'].apply(lambda x: 1 if x =='Spam' else 0)\n",
        "#add column name as Label to y_train\n",
        "y_train.name='Label'\n",
        "\n",
        "\n",
        "X_test=test_data[['Message_body', 'Message_len', 'punct%']]\n",
        "y_test=test_data['Label']\n",
        "\n"
      ],
      "metadata": {
        "id": "_PLSxVTG3avw"
      },
      "execution_count": 9,
      "outputs": []
    },
    {
      "cell_type": "code",
      "source": [
        "tfidf_vect = TfidfVectorizer(analyzer=clean_text)\n",
        "\n",
        "\n",
        "tfidf_vect_fit = tfidf_vect.fit(X_train['Message_body'])\n",
        "\n",
        "tfidf_train = tfidf_vect_fit.transform(X_train['Message_body'])\n",
        "tfidf_test = tfidf_vect_fit.transform(X_test['Message_body'])\n",
        "\n",
        "X_train_vect = pd.concat([X_train[['Message_len', 'punct%']].reset_index(drop=True),\n",
        "           pd.DataFrame(tfidf_train.toarray())], axis=1)\n",
        "X_test_vect = pd.concat([X_test[['Message_len', 'punct%']].reset_index(drop=True),\n",
        "           pd.DataFrame(tfidf_test.toarray())], axis=1)\n",
        "\n",
        "\n",
        "X_train_vect.columns = X_train_vect.columns.astype(str)\n",
        "X_test_vect.columns = X_test_vect.columns.astype(str)\n",
        "print(X_train_vect)\n",
        "print(X_test_vect)\n",
        "print(y_train)\n",
        "print(y_test)\n",
        "\n"
      ],
      "metadata": {
        "colab": {
          "base_uri": "https://localhost:8080/"
        },
        "id": "2oqUAk0P3dwy",
        "outputId": "d5e5f7c8-6294-4fe8-80dd-f2da0622ec4d"
      },
      "execution_count": 10,
      "outputs": [
        {
          "output_type": "stream",
          "name": "stdout",
          "text": [
            "     Message_len  punct%    0    1    2    3    4    5    6    7  ...  2803  \\\n",
            "0             21     4.8  0.0  0.0  0.0  0.0  0.0  0.0  0.0  0.0  ...   0.0   \n",
            "1            100     1.0  0.0  0.0  0.0  0.0  0.0  0.0  0.0  0.0  ...   0.0   \n",
            "2             48    14.6  0.0  0.0  0.0  0.0  0.0  0.0  0.0  0.0  ...   0.0   \n",
            "3             29     3.4  0.0  0.0  0.0  0.0  0.0  0.0  0.0  0.0  ...   0.0   \n",
            "4            131     6.1  0.0  0.0  0.0  0.0  0.0  0.0  0.0  0.0  ...   0.0   \n",
            "..           ...     ...  ...  ...  ...  ...  ...  ...  ...  ...  ...   ...   \n",
            "952           83     4.8  0.0  0.0  0.0  0.0  0.0  0.0  0.0  0.0  ...   0.0   \n",
            "953           24     0.0  0.0  0.0  0.0  0.0  0.0  0.0  0.0  0.0  ...   0.0   \n",
            "954           43     4.7  0.0  0.0  0.0  0.0  0.0  0.0  0.0  0.0  ...   0.0   \n",
            "955           15     6.7  0.0  0.0  0.0  0.0  0.0  0.0  0.0  0.0  ...   0.0   \n",
            "956           25     4.0  0.0  0.0  0.0  0.0  0.0  0.0  0.0  0.0  ...   0.0   \n",
            "\n",
            "     2804  2805  2806  2807  2808  2809  2810  2811      2812  \n",
            "0     0.0   0.0   0.0   0.0   0.0   0.0   0.0   0.0  0.000000  \n",
            "1     0.0   0.0   0.0   0.0   0.0   0.0   0.0   0.0  0.000000  \n",
            "2     0.0   0.0   0.0   0.0   0.0   0.0   0.0   0.0  0.000000  \n",
            "3     0.0   0.0   0.0   0.0   0.0   0.0   0.0   0.0  0.352522  \n",
            "4     0.0   0.0   0.0   0.0   0.0   0.0   0.0   0.0  0.000000  \n",
            "..    ...   ...   ...   ...   ...   ...   ...   ...       ...  \n",
            "952   0.0   0.0   0.0   0.0   0.0   0.0   0.0   0.0  0.000000  \n",
            "953   0.0   0.0   0.0   0.0   0.0   0.0   0.0   0.0  0.000000  \n",
            "954   0.0   0.0   0.0   0.0   0.0   0.0   0.0   0.0  0.000000  \n",
            "955   0.0   0.0   0.0   0.0   0.0   0.0   0.0   0.0  0.487673  \n",
            "956   0.0   0.0   0.0   0.0   0.0   0.0   0.0   0.0  0.000000  \n",
            "\n",
            "[957 rows x 2815 columns]\n",
            "     Message_len  punct%        0    1    2    3    4    5    6    7  ...  \\\n",
            "0            147     5.4  0.00000  0.0  0.0  0.0  0.0  0.0  0.0  0.0  ...   \n",
            "1            135     6.7  0.00000  0.0  0.0  0.0  0.0  0.0  0.0  0.0  ...   \n",
            "2            132     1.5  0.00000  0.0  0.0  0.0  0.0  0.0  0.0  0.0  ...   \n",
            "3            115     3.5  0.00000  0.0  0.0  0.0  0.0  0.0  0.0  0.0  ...   \n",
            "4            136     1.5  0.00000  0.0  0.0  0.0  0.0  0.0  0.0  0.0  ...   \n",
            "..           ...     ...      ...  ...  ...  ...  ...  ...  ...  ...  ...   \n",
            "120          122     4.1  0.00000  0.0  0.0  0.0  0.0  0.0  0.0  0.0  ...   \n",
            "121           45     2.2  0.00000  0.0  0.0  0.0  0.0  0.0  0.0  0.0  ...   \n",
            "122           94    12.8  0.13227  0.0  0.0  0.0  0.0  0.0  0.0  0.0  ...   \n",
            "123          111     5.4  0.00000  0.0  0.0  0.0  0.0  0.0  0.0  0.0  ...   \n",
            "124           42     7.1  0.00000  0.0  0.0  0.0  0.0  0.0  0.0  0.0  ...   \n",
            "\n",
            "     2803  2804  2805  2806  2807  2808  2809  2810  2811  2812  \n",
            "0     0.0   0.0   0.0   0.0   0.0   0.0   0.0   0.0   0.0   0.0  \n",
            "1     0.0   0.0   0.0   0.0   0.0   0.0   0.0   0.0   0.0   0.0  \n",
            "2     0.0   0.0   0.0   0.0   0.0   0.0   0.0   0.0   0.0   0.0  \n",
            "3     0.0   0.0   0.0   0.0   0.0   0.0   0.0   0.0   0.0   0.0  \n",
            "4     0.0   0.0   0.0   0.0   0.0   0.0   0.0   0.0   0.0   0.0  \n",
            "..    ...   ...   ...   ...   ...   ...   ...   ...   ...   ...  \n",
            "120   0.0   0.0   0.0   0.0   0.0   0.0   0.0   0.0   0.0   0.0  \n",
            "121   0.0   0.0   0.0   0.0   0.0   0.0   0.0   0.0   0.0   0.0  \n",
            "122   0.0   0.0   0.0   0.0   0.0   0.0   0.0   0.0   0.0   0.0  \n",
            "123   0.0   0.0   0.0   0.0   0.0   0.0   0.0   0.0   0.0   0.0  \n",
            "124   0.0   0.0   0.0   0.0   0.0   0.0   0.0   0.0   0.0   0.0  \n",
            "\n",
            "[125 rows x 2815 columns]\n",
            "0      0\n",
            "1      0\n",
            "2      0\n",
            "3      0\n",
            "4      1\n",
            "      ..\n",
            "952    0\n",
            "953    0\n",
            "954    0\n",
            "955    0\n",
            "956    0\n",
            "Name: Label, Length: 957, dtype: int64\n",
            "0          Spam\n",
            "1          Spam\n",
            "2          Spam\n",
            "3          Spam\n",
            "4          Spam\n",
            "         ...   \n",
            "120    Non-Spam\n",
            "121    Non-Spam\n",
            "122    Non-Spam\n",
            "123    Non-Spam\n",
            "124    Non-Spam\n",
            "Name: Label, Length: 125, dtype: object\n"
          ]
        }
      ]
    },
    {
      "cell_type": "code",
      "source": [
        "! pip install yellowbrick"
      ],
      "metadata": {
        "colab": {
          "base_uri": "https://localhost:8080/"
        },
        "id": "9n3NjJcy7W0w",
        "outputId": "de1f4fe2-8d84-4688-c1fa-e613c889ffa2"
      },
      "execution_count": 11,
      "outputs": [
        {
          "output_type": "stream",
          "name": "stdout",
          "text": [
            "Requirement already satisfied: yellowbrick in /usr/local/lib/python3.10/dist-packages (1.5)\n",
            "Requirement already satisfied: matplotlib!=3.0.0,>=2.0.2 in /usr/local/lib/python3.10/dist-packages (from yellowbrick) (3.7.1)\n",
            "Requirement already satisfied: scipy>=1.0.0 in /usr/local/lib/python3.10/dist-packages (from yellowbrick) (1.11.4)\n",
            "Requirement already satisfied: scikit-learn>=1.0.0 in /usr/local/lib/python3.10/dist-packages (from yellowbrick) (1.2.2)\n",
            "Requirement already satisfied: numpy>=1.16.0 in /usr/local/lib/python3.10/dist-packages (from yellowbrick) (1.25.2)\n",
            "Requirement already satisfied: cycler>=0.10.0 in /usr/local/lib/python3.10/dist-packages (from yellowbrick) (0.12.1)\n",
            "Requirement already satisfied: contourpy>=1.0.1 in /usr/local/lib/python3.10/dist-packages (from matplotlib!=3.0.0,>=2.0.2->yellowbrick) (1.2.1)\n",
            "Requirement already satisfied: fonttools>=4.22.0 in /usr/local/lib/python3.10/dist-packages (from matplotlib!=3.0.0,>=2.0.2->yellowbrick) (4.53.0)\n",
            "Requirement already satisfied: kiwisolver>=1.0.1 in /usr/local/lib/python3.10/dist-packages (from matplotlib!=3.0.0,>=2.0.2->yellowbrick) (1.4.5)\n",
            "Requirement already satisfied: packaging>=20.0 in /usr/local/lib/python3.10/dist-packages (from matplotlib!=3.0.0,>=2.0.2->yellowbrick) (24.1)\n",
            "Requirement already satisfied: pillow>=6.2.0 in /usr/local/lib/python3.10/dist-packages (from matplotlib!=3.0.0,>=2.0.2->yellowbrick) (9.4.0)\n",
            "Requirement already satisfied: pyparsing>=2.3.1 in /usr/local/lib/python3.10/dist-packages (from matplotlib!=3.0.0,>=2.0.2->yellowbrick) (3.1.2)\n",
            "Requirement already satisfied: python-dateutil>=2.7 in /usr/local/lib/python3.10/dist-packages (from matplotlib!=3.0.0,>=2.0.2->yellowbrick) (2.8.2)\n",
            "Requirement already satisfied: joblib>=1.1.1 in /usr/local/lib/python3.10/dist-packages (from scikit-learn>=1.0.0->yellowbrick) (1.4.2)\n",
            "Requirement already satisfied: threadpoolctl>=2.0.0 in /usr/local/lib/python3.10/dist-packages (from scikit-learn>=1.0.0->yellowbrick) (3.5.0)\n",
            "Requirement already satisfied: six>=1.5 in /usr/local/lib/python3.10/dist-packages (from python-dateutil>=2.7->matplotlib!=3.0.0,>=2.0.2->yellowbrick) (1.16.0)\n"
          ]
        }
      ]
    },
    {
      "cell_type": "code",
      "source": [
        "from sklearn.ensemble import RandomForestClassifier, GradientBoostingClassifier\n",
        "from sklearn.metrics import precision_recall_fscore_support as score\n",
        "from sklearn.metrics import accuracy_score as acs\n",
        "from sklearn.metrics import confusion_matrix, classification_report\n",
        "from yellowbrick.classifier import ClassificationReport"
      ],
      "metadata": {
        "id": "LNsFgKEj7YhR"
      },
      "execution_count": 12,
      "outputs": []
    },
    {
      "cell_type": "code",
      "source": [
        "rf = RandomForestClassifier(n_estimators=150, max_depth=None, n_jobs=-1)\n",
        "\n",
        "rf_model = rf.fit(X_train_vect, y_train)\n",
        "\n",
        "y_pred = rf_model.predict(X_test_vect)\n",
        "#convert 0 or 1 into ham and spam in y_pred\n",
        "y_pred = [('Spam' if pred == 1 else 'Non-Spam') for pred in y_pred]\n",
        "\n",
        "precision, recall, fscore, train_support = score(y_test, y_pred, pos_label='Spam', average='binary')\n",
        "print('Precision: {} / Recall: {} / F1-Score: {} / Accuracy: {}%'.format(\n",
        "    round(precision, 3), round(recall, 3), round(fscore,3), round(acs(y_test,y_pred)*100, 3)))\n",
        "\n",
        "sns.set(rc= {\"figure.figsize\": (8, 6)})\n",
        "\n",
        "cm = confusion_matrix(y_test, y_pred)\n",
        "class_label = [\"ham\", \"spam\"]\n",
        "df_cm = pd.DataFrame(cm, index=class_label,columns=class_label)\n",
        "ax = sns.heatmap(df_cm, annot=True, fmt='d')\n",
        "bottom, top = ax.get_ylim()\n",
        "ax.set_ylim(bottom + 0.5, top - 0.5)\n",
        "plt.title(\"Confusion Matrix\")\n",
        "plt.xlabel(\"Predicted Label\")\n",
        "plt.ylabel(\"True Label\")\n",
        "plt.show()\n",
        "print('a')"
      ],
      "metadata": {
        "colab": {
          "base_uri": "https://localhost:8080/",
          "height": 612
        },
        "id": "F5dSPP3J7agC",
        "outputId": "851b6bdd-f065-4be1-e987-280683d52e22"
      },
      "execution_count": 13,
      "outputs": [
        {
          "output_type": "stream",
          "name": "stdout",
          "text": [
            "Precision: 1.0 / Recall: 0.618 / F1-Score: 0.764 / Accuracy: 76.8%\n"
          ]
        },
        {
          "output_type": "display_data",
          "data": {
            "text/plain": [
              "<Figure size 800x600 with 2 Axes>"
            ],
            "image/png": "[encoded data removed]"
          },
          "metadata": {}
        },
        {
          "output_type": "stream",
          "name": "stdout",
          "text": [
            "a\n"
          ]
        }
      ]
    },
    {
      "cell_type": "code",
      "source": [],
      "metadata": {
        "id": "UZX7cX7kGegr"
      },
      "execution_count": 13,
      "outputs": []
    }
  ]
}