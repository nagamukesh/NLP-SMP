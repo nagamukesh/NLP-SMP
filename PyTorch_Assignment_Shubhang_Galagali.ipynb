{
  "nbformat": 4,
  "nbformat_minor": 0,
  "metadata": {
    "colab": {
      "provenance": [],
      "collapsed_sections": [
        "IxOFseFaxEQu"
      ],
      "include_colab_link": true
    },
    "kernelspec": {
      "name": "python3",
      "display_name": "Python 3"
    },
    "language_info": {
      "name": "python"
    }
  },
  "cells": [
    {
      "cell_type": "markdown",
      "metadata": {
        "id": "view-in-github",
        "colab_type": "text"
      },
      "source": [
        "<a href=\"https://colab.research.google.com/github/nagamukesh/NLP-SMP/blob/Shubhang_S_Galagali/PyTorch_Assignment_Shubhang_Galagali.ipynb\" target=\"_parent\"><img src=\"https://colab.research.google.com/assets/colab-badge.svg\" alt=\"Open In Colab\"/></a>"
      ]
    },
    {
      "cell_type": "markdown",
      "source": [
        "#  **PyTorch Practice Assignment**\n",
        "**Name**: Shubhang S Galagali\n",
        "\n",
        "**Roll Number**: 231MT049"
      ],
      "metadata": {
        "id": "CDn9wbMS0a0r"
      }
    },
    {
      "cell_type": "markdown",
      "source": [
        "## **Instructions:**\n",
        "\n",
        "- Copy this Notebook to your own Drive! You cannot directly modify it.\n",
        "- Please show the output of the cells, in case of some operation. You can specify your own **non-trivial** test-case. Also, try and make your snippets into functions to organize your logic.\n",
        "- You can use any number of cells for a question, you are not restricted to just 1 cell!\n",
        "- **No using ChatGPT for this assignment**: we highly recommend using the [Pytorch Docs](https://pytorch.org/docs/stable/index.html) as your start reference, as well as the vast internet however. You can also contact any of your mentors for some hints/help!\n",
        "- You can work on this assignment in Google Colab or on Your Local Machine!"
      ],
      "metadata": {
        "id": "ENyCsRHv1gqA"
      }
    },
    {
      "cell_type": "markdown",
      "source": [
        "### **Build Up Your Understanding**"
      ],
      "metadata": {
        "id": "1tRkI1j1xGzl"
      }
    },
    {
      "cell_type": "markdown",
      "source": [
        "1. Write a PyTorch snippet to test whether none of the elements of a given tensor are zero."
      ],
      "metadata": {
        "id": "R75QYzJlz874"
      }
    },
    {
      "cell_type": "code",
      "execution_count": 1,
      "metadata": {
        "id": "YrnLJibzzT0d"
      },
      "outputs": [],
      "source": [
        "import torch as t"
      ]
    },
    {
      "cell_type": "code",
      "source": [
        "random_size = t.randint(0, 10, (1,)).item() # get the dim of the tensor\n",
        "print(f\"{random_size}\")\n",
        "\n",
        "#given = t.tensor([0,11,23])\n",
        "\n",
        "given = t.rand(random_size, random_size)\n",
        "print(f\"Given Tensor is {given}\")\n",
        "\n",
        "answer = t.all(given != 0)\n",
        "\n",
        "print(f\"Are none of the elements of the given tensor 0? - {answer}\")"
      ],
      "metadata": {
        "colab": {
          "base_uri": "https://localhost:8080/"
        },
        "id": "jckB7xLYqwAZ",
        "outputId": "2193128a-4f90-4819-a4d3-948b54a60624"
      },
      "execution_count": 10,
      "outputs": [
        {
          "output_type": "stream",
          "name": "stdout",
          "text": [
            "2\n",
            "Given Tensor is tensor([[0.5550, 0.4629],\n",
            "        [0.7190, 0.7182]])\n",
            "Are none of the elements of the given tensor 0? - True\n"
          ]
        }
      ]
    },
    {
      "cell_type": "markdown",
      "source": [
        "2. Write a PyTorch snippet to test element-wise for NaN of a given tensor."
      ],
      "metadata": {
        "id": "N65zZ0B20CcN"
      }
    },
    {
      "cell_type": "code",
      "source": [
        "random_size = t.randint(0, 10, (1,)).item() # get the dim of the tensor\n",
        "print(f\"{random_size}\")\n",
        "\n",
        "given = t.rand(random_size, random_size)\n",
        "print(f\"Given Tensor is {given}\")\n",
        "\n",
        "answer = t.isnan(given)\n",
        "\n",
        "print(f\"{answer}\")"
      ],
      "metadata": {
        "id": "09XtXleK0Yqx",
        "colab": {
          "base_uri": "https://localhost:8080/"
        },
        "outputId": "0f969bfb-9839-4cf4-bfd9-ba23f26f2a26"
      },
      "execution_count": 13,
      "outputs": [
        {
          "output_type": "stream",
          "name": "stdout",
          "text": [
            "3\n",
            "Given Tensor is tensor([[0.1103, 0.4364, 0.6931],\n",
            "        [0.0823, 0.0790, 0.7981],\n",
            "        [0.1016, 0.5166, 0.8498]])\n",
            "tensor([[False, False, False],\n",
            "        [False, False, False],\n",
            "        [False, False, False]])\n"
          ]
        }
      ]
    },
    {
      "cell_type": "markdown",
      "source": [
        "3. Write a PyTorch snippet to test whether two tensors are element-wise equal within a tolerance."
      ],
      "metadata": {
        "id": "nPgqdCS60ZLy"
      }
    },
    {
      "cell_type": "code",
      "source": [
        "random_size = t.randint(0, 10, (1,)).item() # get the dim of the tensor\n",
        "print(f\"{random_size}\")\n",
        "print()\n",
        "\n",
        "given1 = t.rand(random_size, random_size)\n",
        "print(f\"Given Tensor 1 is {given1}\")\n",
        "print()\n",
        "\n",
        "given2 = t.rand(random_size, random_size)\n",
        "print(f\"Given Tensor 2 is {given2}\")\n",
        "print()\n",
        "\n",
        "answer = t.eq(given1,given2)\n",
        "\n",
        "print(\"Checking element-wise equality:\")\n",
        "print()\n",
        "\n",
        "print(f\"{answer}\")"
      ],
      "metadata": {
        "id": "nZlp4IJh1TAG",
        "colab": {
          "base_uri": "https://localhost:8080/"
        },
        "outputId": "309ee3b4-ef6b-42da-bfd2-58c2ca370f9f"
      },
      "execution_count": 15,
      "outputs": [
        {
          "output_type": "stream",
          "name": "stdout",
          "text": [
            "5\n",
            "\n",
            "Given Tensor 1 is tensor([[0.2432, 0.5685, 0.9122, 0.5243, 0.4772],\n",
            "        [0.5069, 0.0830, 0.7516, 0.6118, 0.2734],\n",
            "        [0.8212, 0.0163, 0.9352, 0.2175, 0.1748],\n",
            "        [0.7343, 0.9970, 0.6570, 0.6742, 0.7968],\n",
            "        [0.3226, 0.1220, 0.9948, 0.1091, 0.6441]])\n",
            "\n",
            "Given Tensor 2 is tensor([[0.5169, 0.2139, 0.2789, 0.8817, 0.1568],\n",
            "        [0.8065, 0.1589, 0.4257, 0.9801, 0.8038],\n",
            "        [0.3072, 0.2692, 0.2805, 0.4669, 0.8693],\n",
            "        [0.2829, 0.7837, 0.5395, 0.6902, 0.8596],\n",
            "        [0.6853, 0.2469, 0.9933, 0.0680, 0.5836]])\n",
            "\n",
            "Checking element-wise equality:\n",
            "\n",
            "tensor([[False, False, False, False, False],\n",
            "        [False, False, False, False, False],\n",
            "        [False, False, False, False, False],\n",
            "        [False, False, False, False, False],\n",
            "        [False, False, False, False, False]])\n"
          ]
        }
      ]
    },
    {
      "cell_type": "markdown",
      "source": [
        "4. Write a PyTorch snippet to create a tensor of 10 zeros, 10 ones, and 10 fives stacked on top of each other (try & accomplish everything using nested function calls)."
      ],
      "metadata": {
        "id": "6erc53t11ToS"
      }
    },
    {
      "cell_type": "code",
      "source": [
        "op = t.stack([t.zeros(10), t.ones(10), t.full((10,), 5)])\n",
        "\n",
        "print(op)"
      ],
      "metadata": {
        "id": "DX2o4rH81cXb",
        "colab": {
          "base_uri": "https://localhost:8080/"
        },
        "outputId": "8be9edfa-4770-49d4-bd97-66a9e9af36eb"
      },
      "execution_count": 22,
      "outputs": [
        {
          "output_type": "stream",
          "name": "stdout",
          "text": [
            "tensor([[0., 0., 0., 0., 0., 0., 0., 0., 0., 0.],\n",
            "        [1., 1., 1., 1., 1., 1., 1., 1., 1., 1.],\n",
            "        [5., 5., 5., 5., 5., 5., 5., 5., 5., 5.]])\n"
          ]
        }
      ]
    },
    {
      "cell_type": "markdown",
      "source": [
        "**5**. Write a PyTorch snippet to generate a random number between 0 and 1."
      ],
      "metadata": {
        "id": "HVZFHjER15fI"
      }
    },
    {
      "cell_type": "code",
      "source": [
        "op = t.rand(1).item()\n",
        "print(op)"
      ],
      "metadata": {
        "id": "D2sDJxaL16ev",
        "colab": {
          "base_uri": "https://localhost:8080/"
        },
        "outputId": "02d8c211-7b82-4b86-c53b-bd6cef7804cf"
      },
      "execution_count": 23,
      "outputs": [
        {
          "output_type": "stream",
          "name": "stdout",
          "text": [
            "0.7265648245811462\n"
          ]
        }
      ]
    },
    {
      "cell_type": "markdown",
      "source": [
        "6. Write a PyTorch snippet to generate a tensor of 15 random numbers from a standard normal distribution."
      ],
      "metadata": {
        "id": "v-bl_RmJ19U2"
      }
    },
    {
      "cell_type": "code",
      "source": [
        "op = t.randn(15)\n",
        "print(op)"
      ],
      "metadata": {
        "id": "TwOTzLLz1-Oj",
        "colab": {
          "base_uri": "https://localhost:8080/"
        },
        "outputId": "393fc5aa-1887-42a3-f635-4c74a8aff1a0"
      },
      "execution_count": 24,
      "outputs": [
        {
          "output_type": "stream",
          "name": "stdout",
          "text": [
            "tensor([-1.6460,  0.7189,  1.2063, -1.4908, -0.3808, -0.6917, -0.4906,  0.3103,\n",
            "         0.1672, -1.6141,  2.6294, -0.0709, -0.0326,  0.6297,  2.6569])\n"
          ]
        }
      ]
    },
    {
      "cell_type": "markdown",
      "source": [
        "7. Write a Pytorch snippet to create a tensor of length 10 with values evenly distributed between 5 and 50."
      ],
      "metadata": {
        "id": "QbsLwc2e1-wI"
      }
    },
    {
      "cell_type": "code",
      "source": [
        "len10 = t.linspace(5, 50, steps=10)\n",
        "print(len10)"
      ],
      "metadata": {
        "id": "4x-aEGJy2F_J",
        "colab": {
          "base_uri": "https://localhost:8080/"
        },
        "outputId": "96922f8f-b1e3-4e7c-bf26-53c53616e81f"
      },
      "execution_count": 25,
      "outputs": [
        {
          "output_type": "stream",
          "name": "stdout",
          "text": [
            "tensor([ 5., 10., 15., 20., 25., 30., 35., 40., 45., 50.])\n"
          ]
        }
      ]
    },
    {
      "cell_type": "markdown",
      "source": [
        "8. Write a Pyorch program to create a tensor with values from 0 to 20 and change the sign of the numbers in the range from 9 to 15."
      ],
      "metadata": {
        "id": "z4t6r6xR2IyJ"
      }
    },
    {
      "cell_type": "code",
      "source": [
        "initial = t.arange(0,21)\n",
        "##print(f\"{initial=}\")\n",
        "\n",
        "for element in initial:\n",
        "  if element in range(9,16):\n",
        "    initial[element] = element*(-1)\n",
        "\n",
        "print(f\"Final={initial}\")"
      ],
      "metadata": {
        "id": "2ckG-mcF2Jda",
        "colab": {
          "base_uri": "https://localhost:8080/"
        },
        "outputId": "01bb4bf3-8c77-4d8a-ce8c-6e3ce4101c4a"
      },
      "execution_count": 31,
      "outputs": [
        {
          "output_type": "stream",
          "name": "stdout",
          "text": [
            "Final=tensor([  0,   1,   2,   3,   4,   5,   6,   7,   8,  -9, -10, -11, -12, -13,\n",
            "        -14, -15,  16,  17,  18,  19,  20])\n"
          ]
        }
      ]
    },
    {
      "cell_type": "markdown",
      "source": [
        "9. Write a PyTorch snippet to create a 3x4 2-tensor filled with values from 10 to 21. Same but 12 to 24."
      ],
      "metadata": {
        "id": "n5piPDEY2NXK"
      }
    },
    {
      "cell_type": "code",
      "source": [
        "t1= t.arange(10,22).reshape(3,4)\n",
        "t2= t.arange(12,24).reshape(3,4) # 12 to 23, not 24\n",
        "\n",
        "print(f'''{t1=}\n",
        "\n",
        "{t2=}''')"
      ],
      "metadata": {
        "id": "zKzFvfPP2OOy",
        "colab": {
          "base_uri": "https://localhost:8080/"
        },
        "outputId": "6537a129-25b7-4874-93b9-c81105915337"
      },
      "execution_count": 38,
      "outputs": [
        {
          "output_type": "stream",
          "name": "stdout",
          "text": [
            "t1=tensor([[10, 11, 12, 13],\n",
            "        [14, 15, 16, 17],\n",
            "        [18, 19, 20, 21]])\n",
            "      \n",
            "t2=tensor([[12, 13, 14, 15],\n",
            "        [16, 17, 18, 19],\n",
            "        [20, 21, 22, 23]])\n"
          ]
        }
      ]
    },
    {
      "cell_type": "markdown",
      "source": [
        "10. Write a PyTorch snippet to create a 10x10 2-tensor, in which the elements on the borders will be equal to 1, and inside 0."
      ],
      "metadata": {
        "id": "BMbpvCE12UAA"
      }
    },
    {
      "cell_type": "code",
      "source": [
        "op = t.zeros(10,10)\n",
        "\n",
        "print(f\"Initially - {op}\")\n",
        "\n",
        "op[0,:] = 1 # first row taken care of\n",
        "op[-1,:] = 1 # last row taken care of\n",
        "\n",
        "#now for the border columns\n",
        "\n",
        "for i in range(10):\n",
        "  op[i,0] = 1\n",
        "  op[i,-1] = 1\n",
        "\n",
        "\n",
        "print(f\"Finally - {op}\")\n"
      ],
      "metadata": {
        "id": "-e2dvNB12Uv4",
        "colab": {
          "base_uri": "https://localhost:8080/"
        },
        "outputId": "a29bb6f4-5eeb-4c04-da32-87c273b2c7db"
      },
      "execution_count": 44,
      "outputs": [
        {
          "output_type": "stream",
          "name": "stdout",
          "text": [
            "Initially - tensor([[0., 0., 0., 0., 0., 0., 0., 0., 0., 0.],\n",
            "        [0., 0., 0., 0., 0., 0., 0., 0., 0., 0.],\n",
            "        [0., 0., 0., 0., 0., 0., 0., 0., 0., 0.],\n",
            "        [0., 0., 0., 0., 0., 0., 0., 0., 0., 0.],\n",
            "        [0., 0., 0., 0., 0., 0., 0., 0., 0., 0.],\n",
            "        [0., 0., 0., 0., 0., 0., 0., 0., 0., 0.],\n",
            "        [0., 0., 0., 0., 0., 0., 0., 0., 0., 0.],\n",
            "        [0., 0., 0., 0., 0., 0., 0., 0., 0., 0.],\n",
            "        [0., 0., 0., 0., 0., 0., 0., 0., 0., 0.],\n",
            "        [0., 0., 0., 0., 0., 0., 0., 0., 0., 0.]])\n",
            "Finally - tensor([[1., 1., 1., 1., 1., 1., 1., 1., 1., 1.],\n",
            "        [1., 0., 0., 0., 0., 0., 0., 0., 0., 1.],\n",
            "        [1., 0., 0., 0., 0., 0., 0., 0., 0., 1.],\n",
            "        [1., 0., 0., 0., 0., 0., 0., 0., 0., 1.],\n",
            "        [1., 0., 0., 0., 0., 0., 0., 0., 0., 1.],\n",
            "        [1., 0., 0., 0., 0., 0., 0., 0., 0., 1.],\n",
            "        [1., 0., 0., 0., 0., 0., 0., 0., 0., 1.],\n",
            "        [1., 0., 0., 0., 0., 0., 0., 0., 0., 1.],\n",
            "        [1., 0., 0., 0., 0., 0., 0., 0., 0., 1.],\n",
            "        [1., 1., 1., 1., 1., 1., 1., 1., 1., 1.]])\n"
          ]
        }
      ]
    },
    {
      "cell_type": "markdown",
      "source": [
        "11. Write a PyTorch snippet to create a 5x5 zero 2-tensor with elements on the main diagonal equal to 1, 2, 3, 4, 5."
      ],
      "metadata": {
        "id": "3pf24Y0R2YKX"
      }
    },
    {
      "cell_type": "code",
      "source": [
        "op = t.zeros(5,5)\n",
        "\n",
        "print(f\"Initially - {op}\")\n",
        "\n",
        "count = 1\n",
        "for i in range(5):\n",
        "  op[i,i] = count\n",
        "  count+=1\n",
        "\n",
        "print(f\"Finally - {op}\")\n"
      ],
      "metadata": {
        "id": "eb_vYa5n2Y8O",
        "colab": {
          "base_uri": "https://localhost:8080/"
        },
        "outputId": "bf941974-3ef6-4c7e-ec22-1aeb59947546"
      },
      "execution_count": 46,
      "outputs": [
        {
          "output_type": "stream",
          "name": "stdout",
          "text": [
            "Initially - tensor([[0., 0., 0., 0., 0.],\n",
            "        [0., 0., 0., 0., 0.],\n",
            "        [0., 0., 0., 0., 0.],\n",
            "        [0., 0., 0., 0., 0.],\n",
            "        [0., 0., 0., 0., 0.]])\n",
            "Finally - tensor([[1., 0., 0., 0., 0.],\n",
            "        [0., 2., 0., 0., 0.],\n",
            "        [0., 0., 3., 0., 0.],\n",
            "        [0., 0., 0., 4., 0.],\n",
            "        [0., 0., 0., 0., 5.]])\n"
          ]
        }
      ]
    },
    {
      "cell_type": "markdown",
      "source": [
        "12. Write a PyTorch snippet to save a given tensor as a binary to a given path."
      ],
      "metadata": {
        "id": "-BkVD0CA2hWL"
      }
    },
    {
      "cell_type": "code",
      "source": [
        "#given is a tensor generated in cell no.2\n",
        "print(f\"{given=}\")\n",
        "print()\n",
        "\n",
        "save_path = 'the path I want'\n",
        "\n",
        "t.save(given, save_path)\n",
        "\n",
        "print(f\"Tensor saved to '{save_path}'\")"
      ],
      "metadata": {
        "id": "DrpbNVax2igN",
        "colab": {
          "base_uri": "https://localhost:8080/"
        },
        "outputId": "1f4eeb37-16b2-4b77-ff89-25c780ae9811"
      },
      "execution_count": 52,
      "outputs": [
        {
          "output_type": "stream",
          "name": "stdout",
          "text": [
            "given=tensor([[0.1103, 0.4364, 0.6931],\n",
            "        [0.0823, 0.0790, 0.7981],\n",
            "        [0.1016, 0.5166, 0.8498]])\n",
            "\n",
            "Tensor saved to 'the path I want'\n"
          ]
        }
      ]
    },
    {
      "cell_type": "markdown",
      "source": [
        "13. Write a NumPy program to create a two-dimensional array of a specified format."
      ],
      "metadata": {
        "id": "1zoIfD1k2i71"
      }
    },
    {
      "cell_type": "code",
      "source": [
        "import numpy as np\n",
        "\n",
        "np.random.rand(4, 5)"
      ],
      "metadata": {
        "id": "xXnOECag2zvz",
        "colab": {
          "base_uri": "https://localhost:8080/"
        },
        "outputId": "e77f1779-50ea-41d1-81d6-c2e357fa092f"
      },
      "execution_count": 54,
      "outputs": [
        {
          "output_type": "execute_result",
          "data": {
            "text/plain": [
              "array([[0.14001624, 0.92584897, 0.63277764, 0.32097889, 0.48527854],\n",
              "       [0.17188425, 0.16771599, 0.02435464, 0.94770238, 0.07067956],\n",
              "       [0.94354087, 0.70484373, 0.74989333, 0.14789005, 0.58964732],\n",
              "       [0.24954735, 0.54458983, 0.06335399, 0.74926888, 0.7396751 ]])"
            ]
          },
          "metadata": {},
          "execution_count": 54
        }
      ]
    },
    {
      "cell_type": "markdown",
      "source": [
        "14. Write a PyTorch snippet to create a 2-tensor with shape (8,5) of random numbers. Select these random numbers (to create the tensor) from a normal distribution (200,7) (mean, variance)."
      ],
      "metadata": {
        "id": "1V6fwGje28Ak"
      }
    },
    {
      "cell_type": "code",
      "source": [
        "example =t.normal(200,7, (8,5))\n",
        "\n",
        "print(example)"
      ],
      "metadata": {
        "id": "f5pdwN9d27Rr",
        "colab": {
          "base_uri": "https://localhost:8080/"
        },
        "outputId": "343cc456-b07e-4fd8-fa32-0be537c68398"
      },
      "execution_count": 56,
      "outputs": [
        {
          "output_type": "stream",
          "name": "stdout",
          "text": [
            "tensor([[195.8454, 187.9802, 203.3245, 203.9157, 181.6701],\n",
            "        [206.0673, 201.1381, 211.5117, 200.6692, 199.5974],\n",
            "        [203.7042, 194.9453, 191.3013, 206.3701, 204.2129],\n",
            "        [205.7095, 190.4256, 195.4592, 191.5993, 215.2676],\n",
            "        [196.1461, 207.0939, 183.2612, 194.0096, 196.6248],\n",
            "        [207.7585, 196.0197, 220.8057, 199.8261, 193.7132],\n",
            "        [196.8313, 187.4853, 202.7191, 211.0807, 199.2720],\n",
            "        [195.0094, 205.0468, 214.0340, 194.7855, 198.5608]])\n"
          ]
        }
      ]
    },
    {
      "cell_type": "markdown",
      "source": [
        "15. Write a PyTorch snippet to generate a uniform, non-uniform random sample from a given vector with and without replacement (do all 4 combinations possible)."
      ],
      "metadata": {
        "id": "hSVeltdw3IoY"
      }
    },
    {
      "cell_type": "code",
      "source": [
        "given_vec = t.rand(7,)\n",
        "print(f\"Given vector sample = {given_vec}\")\n",
        "print()\n",
        "## Uniform without replacement:\n",
        "t1 = given_vec[t.randperm(len(given_vec))[:3]]\n",
        "print(f'''Uniform without replacement:\n",
        "\n",
        "{t1}\n",
        "''')"
      ],
      "metadata": {
        "id": "ZfDNMghS3Jof",
        "colab": {
          "base_uri": "https://localhost:8080/"
        },
        "outputId": "e0bc39c1-9d23-476c-a0ac-9d999d503a32"
      },
      "execution_count": 67,
      "outputs": [
        {
          "output_type": "stream",
          "name": "stdout",
          "text": [
            "Given vector sample = tensor([0.6211, 0.4438, 0.3121, 0.0736, 0.0275, 0.8731, 0.8383])\n",
            "\n",
            "Uniform without replacement:\n",
            "\n",
            "tensor([0.0736, 0.8383, 0.4438])\n",
            "\n"
          ]
        }
      ]
    },
    {
      "cell_type": "code",
      "source": [
        "## Uniform with replacement:\n",
        "t2 = given_vec[t.randint(len(given_vec), size=(3,))]\n",
        "print(f'''Uniform with replacement:\n",
        "\n",
        "{t2}\n",
        "''')"
      ],
      "metadata": {
        "colab": {
          "base_uri": "https://localhost:8080/"
        },
        "id": "t9mOvfr1-mF6",
        "outputId": "3400e52e-2778-44ec-f1a9-2856895589ea"
      },
      "execution_count": 68,
      "outputs": [
        {
          "output_type": "stream",
          "name": "stdout",
          "text": [
            "Uniform with replacement:\n",
            "\n",
            "tensor([0.8383, 0.8731, 0.6211])\n",
            "\n"
          ]
        }
      ]
    },
    {
      "cell_type": "code",
      "source": [
        "## Non-uniform with replacement:\n",
        "pbb = t.tensor([0.13, 0.24, 0.35, 0.27, 0.92])\n",
        "\n",
        "t3 = given_vec[t.multinomial(pbb, 3, replacement=True)]\n",
        "print(f'''Non-uniform with replacement:\n",
        "\n",
        "{t3}\n",
        "''')"
      ],
      "metadata": {
        "colab": {
          "base_uri": "https://localhost:8080/"
        },
        "id": "spVwxbZI-i9V",
        "outputId": "15b26807-f8b2-4aea-f2d4-eb1be85626e2"
      },
      "execution_count": 69,
      "outputs": [
        {
          "output_type": "stream",
          "name": "stdout",
          "text": [
            "Non-uniform with replacement:\n",
            "\n",
            "tensor([0.0275, 0.3121, 0.3121])\n",
            "\n"
          ]
        }
      ]
    },
    {
      "cell_type": "code",
      "source": [
        "## Non-uniform without replacement:\n",
        "t4 = given_vec[t.multinomial(pbb, 3, replacement=True)]\n",
        "print(f'''Non-uniform without replacement:\n",
        "\n",
        "{t4}\n",
        "''')"
      ],
      "metadata": {
        "colab": {
          "base_uri": "https://localhost:8080/"
        },
        "id": "clzuL9IS-cCU",
        "outputId": "e2e26c79-15c7-496d-c481-3556eac871da"
      },
      "execution_count": 70,
      "outputs": [
        {
          "output_type": "stream",
          "name": "stdout",
          "text": [
            "Non-uniform without replacement:\n",
            "\n",
            "tensor([0.3121, 0.0275, 0.0736])\n",
            "\n"
          ]
        }
      ]
    },
    {
      "cell_type": "markdown",
      "source": [
        "16. Write a Pyorch snippet to create an nxn(input to function) tensor with random values. Create an array from the said array swapping first and last rows."
      ],
      "metadata": {
        "id": "DOIrjKBq3MjM"
      }
    },
    {
      "cell_type": "code",
      "source": [
        "def hookah(n):\n",
        "    my_thing = t.rand(n, n)\n",
        "\n",
        "    print(\"Before Swapping:\")\n",
        "    print(my_thing)\n",
        "\n",
        "    ##dancestep1 = my_thing[0]\n",
        "   ## dancestep2 = my_thing[-1]\n",
        "    ##my_thing[-1] = dancestep1\n",
        "\n",
        "   ## my_thing[0] = dancestep2\n",
        "    dance = my_thing[0].clone()\n",
        "    my_thing[0] = my_thing[-1]\n",
        "    my_thing[-1] = dance\n",
        "\n",
        "    print()\n",
        "    print(\"After swapping:\")\n",
        "    print(my_thing)\n",
        "    print()\n",
        "\n",
        "    return \"DanceOver\"\n",
        "\n",
        "#trying to see the effects of hookah on my dance --> n = 6\n",
        "print(hookah(6))\n"
      ],
      "metadata": {
        "id": "xFkWtcTN3MI3",
        "colab": {
          "base_uri": "https://localhost:8080/"
        },
        "outputId": "be6f8099-cb68-4f2b-b60d-34c2be163c61"
      },
      "execution_count": 79,
      "outputs": [
        {
          "output_type": "stream",
          "name": "stdout",
          "text": [
            "Before Swapping:\n",
            "tensor([[0.8306, 0.2534, 0.6951, 0.0735, 0.0962, 0.9618],\n",
            "        [0.3766, 0.3011, 0.9669, 0.3798, 0.8090, 0.3434],\n",
            "        [0.1616, 0.2446, 0.7965, 0.7259, 0.4787, 0.9500],\n",
            "        [0.3502, 0.7137, 0.9711, 0.4214, 0.4309, 0.4853],\n",
            "        [0.7906, 0.4102, 0.5273, 0.2128, 0.0833, 0.1664],\n",
            "        [0.7523, 0.0630, 0.0397, 0.4618, 0.1127, 0.4768]])\n",
            "\n",
            "After swapping:\n",
            "tensor([[0.7523, 0.0630, 0.0397, 0.4618, 0.1127, 0.4768],\n",
            "        [0.3766, 0.3011, 0.9669, 0.3798, 0.8090, 0.3434],\n",
            "        [0.1616, 0.2446, 0.7965, 0.7259, 0.4787, 0.9500],\n",
            "        [0.3502, 0.7137, 0.9711, 0.4214, 0.4309, 0.4853],\n",
            "        [0.7906, 0.4102, 0.5273, 0.2128, 0.0833, 0.1664],\n",
            "        [0.8306, 0.2534, 0.6951, 0.0735, 0.0962, 0.9618]])\n",
            "\n",
            "DanceOver\n"
          ]
        }
      ]
    },
    {
      "cell_type": "markdown",
      "source": [
        "17. Write a PyTorch snippet to sort a given tensor (1D or 2D) in ascending order."
      ],
      "metadata": {
        "id": "e2yl3FJI3SOW"
      }
    },
    {
      "cell_type": "code",
      "source": [
        "t1 = t.rand(5)\n",
        "\n",
        "t2 = t.rand(3,7)\n",
        "\n",
        "print(f'''Before Sorting -\n",
        "\n",
        "{t1=}\n",
        "\n",
        "{t2=}''')\n",
        "\n",
        "t1, indicest1 = t.sort(t1)\n",
        "\n",
        "t2, indicest2 = t.sort(t2)\n",
        "\n",
        "print(f'''After Sorting -\n",
        "\n",
        "{t1=}\n",
        "\n",
        "{t2=}''')"
      ],
      "metadata": {
        "id": "FxiCfs8y3R8W",
        "colab": {
          "base_uri": "https://localhost:8080/"
        },
        "outputId": "04608ced-79ff-4fce-856c-1ca2bc054e1d"
      },
      "execution_count": 81,
      "outputs": [
        {
          "output_type": "stream",
          "name": "stdout",
          "text": [
            "Before Sorting -\n",
            "\n",
            "t1=tensor([0.3907, 0.7669, 0.1120, 0.4887, 0.7014])\n",
            "      \n",
            "t2=tensor([[0.7682, 0.7086, 0.2112, 0.9773, 0.2655, 0.2361, 0.0585],\n",
            "        [0.6390, 0.8849, 0.0044, 0.9665, 0.5605, 0.6486, 0.5404],\n",
            "        [0.0714, 0.8374, 0.7727, 0.1584, 0.0420, 0.7645, 0.7253]])\n",
            "After Sorting -\n",
            "\n",
            "t1=tensor([0.1120, 0.3907, 0.4887, 0.7014, 0.7669])\n",
            "      \n",
            "t2=tensor([[0.0585, 0.2112, 0.2361, 0.2655, 0.7086, 0.7682, 0.9773],\n",
            "        [0.0044, 0.5404, 0.5605, 0.6390, 0.6486, 0.8849, 0.9665],\n",
            "        [0.0420, 0.0714, 0.1584, 0.7253, 0.7645, 0.7727, 0.8374]])\n"
          ]
        }
      ]
    },
    {
      "cell_type": "markdown",
      "source": [
        "18. Write a PyTorch snippet to create a tensor of equal shape and data type for a given tensor (any dimensional)"
      ],
      "metadata": {
        "id": "TY1htljY3X50"
      }
    },
    {
      "cell_type": "code",
      "source": [
        "t1=t.randn(3,4, dtype=t.float32)\n",
        "t2=t.randn(*(t1.shape), dtype=t1.dtype)\n",
        "print(f\"{t1=}\\n\\n{t2=}\\n\\n{t2.shape=}\\n\\n{t2.dtype=}\")\n"
      ],
      "metadata": {
        "id": "br714aF43Xax",
        "colab": {
          "base_uri": "https://localhost:8080/"
        },
        "outputId": "cd381135-da43-49ea-d6b6-df35af64349a"
      },
      "execution_count": 84,
      "outputs": [
        {
          "output_type": "stream",
          "name": "stdout",
          "text": [
            "t1=tensor([[ 0.0696, -0.7696, -0.8457,  1.1300],\n",
            "        [-1.5772, -0.9574,  1.6772, -1.1260],\n",
            "        [-0.9368, -0.4827,  0.3322,  0.6868]])\n",
            "\n",
            "t2=tensor([[ 0.1724,  0.8018, -0.1402, -0.4211],\n",
            "        [ 1.5033,  0.4356,  0.5575,  0.1728],\n",
            "        [-0.7429, -1.0531, -0.0055,  1.5766]])\n",
            "\n",
            "t2.shape=torch.Size([3, 4])\n",
            "\n",
            "t2.dtype=torch.float32\n"
          ]
        }
      ]
    },
    {
      "cell_type": "markdown",
      "source": [
        "19. Write a PyTorch snippet to create an 8x8 matrix and fill it with a checkerboard pattern.\n",
        "Checkerboard pattern:\n",
        "```py\n",
        "[[0 1 0 1 0 1 0 1]\n",
        "..........\n",
        "[0 1 0 1 0 1 0 1]\n",
        "[1 0 1 0 1 0 1 0]]\n",
        "```"
      ],
      "metadata": {
        "id": "jWZmWlDz3kE-"
      }
    },
    {
      "cell_type": "code",
      "source": [
        "mat = t.zeros(8,8)\n",
        "\n",
        "for rows in range(8):\n",
        "  if rows % 2:\n",
        "    for i in range(0,8,2):\n",
        "      mat[rows][i]=1\n",
        "  else:\n",
        "    for i in range(1,8,2):\n",
        "      mat[rows][i]=1\n",
        "\n",
        "\n",
        "print(mat)"
      ],
      "metadata": {
        "id": "gUQpw8Fg3lag",
        "colab": {
          "base_uri": "https://localhost:8080/"
        },
        "outputId": "eab9db28-26ad-4c29-b0cd-9ca267b4376a"
      },
      "execution_count": 89,
      "outputs": [
        {
          "output_type": "stream",
          "name": "stdout",
          "text": [
            "tensor([[0., 1., 0., 1., 0., 1., 0., 1.],\n",
            "        [1., 0., 1., 0., 1., 0., 1., 0.],\n",
            "        [0., 1., 0., 1., 0., 1., 0., 1.],\n",
            "        [1., 0., 1., 0., 1., 0., 1., 0.],\n",
            "        [0., 1., 0., 1., 0., 1., 0., 1.],\n",
            "        [1., 0., 1., 0., 1., 0., 1., 0.],\n",
            "        [0., 1., 0., 1., 0., 1., 0., 1.],\n",
            "        [1., 0., 1., 0., 1., 0., 1., 0.]])\n"
          ]
        }
      ]
    },
    {
      "cell_type": "markdown",
      "source": [
        "20. Write a Pytorch snippet to convert Centigrade to Fahrenheit and vice versa (controlled by a parameter). Ensure you operation is vectorized i.e **no explicit looping**\n",
        "\n",
        "Sample Array: `[0, 12, 45.21, 34, 99.91]`"
      ],
      "metadata": {
        "id": "yB4L7Usg364D"
      }
    },
    {
      "cell_type": "code",
      "source": [
        "def c_to_f(c):\n",
        "    return (c * 9/5) + 32\n",
        "\n",
        "def f_to_c(f):\n",
        "\n",
        "    return (f - 32) * 5/9\n",
        "\n",
        "sample = t.tensor([0, 12, 45.21, 34, 99.91])\n",
        "\n",
        "def ip():\n",
        "  print(\"Do you want to convert from Centigrade to Fahrenheit [C] or vice versa [F]?\")\n",
        "  ##wish = input()\n",
        "  wish = \"C\"\n",
        "\n",
        "  if wish == \"C\" or wish == \"c\":\n",
        "    answer = c_to_f(sample)\n",
        "  else:\n",
        "    answer = f_to_c(sample)\n",
        "  return answer\n",
        "\n",
        "print(ip())"
      ],
      "metadata": {
        "id": "IPTecJEQ3_JC",
        "colab": {
          "base_uri": "https://localhost:8080/"
        },
        "outputId": "936e6f9b-de2f-44ed-abf4-68b3e68a8c4a"
      },
      "execution_count": 100,
      "outputs": [
        {
          "output_type": "stream",
          "name": "stdout",
          "text": [
            "Do you want to convert from Centigrade to Fahrenheit [C] or vice versa [F]?\n",
            "tensor([ 32.0000,  53.6000, 113.3780,  93.2000, 211.8380])\n"
          ]
        }
      ]
    },
    {
      "cell_type": "markdown",
      "source": [
        "21. Write a PyTorch snippet to get the values of the elements that are bigger than a given *number* in a given tensor.\n",
        "\n",
        "Original tensor:\n",
        "```\n",
        "[[ 0 10 20]\n",
        "[20 30 40]]\n",
        "```\n",
        "Number: 10\n",
        "\n",
        "Values bigger than 10 = `[20 20 30 40]`"
      ],
      "metadata": {
        "id": "n8dqXvMZ4oFb"
      }
    },
    {
      "cell_type": "code",
      "source": [
        "given = t.tensor([[0,10, 20], [20, 30, 40]])\n",
        "\n",
        "number = 10\n",
        "\n",
        "answer = given[given > number]\n",
        "\n",
        "print(answer)\n"
      ],
      "metadata": {
        "id": "HwoDL-Kr4ww4",
        "colab": {
          "base_uri": "https://localhost:8080/"
        },
        "outputId": "10a7f826-42f0-4ef0-d83a-d21a133e180b"
      },
      "execution_count": 104,
      "outputs": [
        {
          "output_type": "stream",
          "name": "stdout",
          "text": [
            "tensor([20, 20, 30, 40])\n"
          ]
        }
      ]
    },
    {
      "cell_type": "markdown",
      "source": [
        "22. Write a PyTorch snippet to create another shape from an array without changing its data. After carrying out the operation, change the data in one place and see if the other tensor changes\n",
        "\n",
        "Reshape 3x2:\n",
        "```\n",
        "[[1 2]\n",
        "[3 4]\n",
        "[5 6]]\n",
        "```\n",
        "Reshape 2x3:\n",
        "```\n",
        "[[1 2 3]\n",
        "[4 5 6]]\n",
        "```"
      ],
      "metadata": {
        "id": "QmR9luYk4xaa"
      }
    },
    {
      "cell_type": "code",
      "source": [
        "given = t.tensor([[1,2], [3,4], [5,6]])\n",
        "\n",
        "print(f\"Given Tensor: {given}\")\n",
        "\n",
        "given = given.reshape(2,3)\n",
        "\n",
        "print(f\"Reshaped Tensor: {given}\")\n"
      ],
      "metadata": {
        "id": "oUvXdmtV5ZRJ",
        "colab": {
          "base_uri": "https://localhost:8080/"
        },
        "outputId": "094e985c-479c-4e45-ae32-0645e4e15dc9"
      },
      "execution_count": 105,
      "outputs": [
        {
          "output_type": "stream",
          "name": "stdout",
          "text": [
            "Given Tensor: tensor([[1, 2],\n",
            "        [3, 4],\n",
            "        [5, 6]])\n",
            "Reshaped Tensor: tensor([[1, 2, 3],\n",
            "        [4, 5, 6]])\n"
          ]
        }
      ]
    },
    {
      "cell_type": "markdown",
      "source": [
        "23. Write a PyTorch snipppet to change an tensor's data type.\n",
        "```\n",
        "[[ 2 4 6]\n",
        "[ 6 8 10]]\n",
        "```\n",
        "Data type of the array x is: `int32`\n",
        "\n",
        "New Type: `float64`\n",
        "```\n",
        "[[ 2. 4. 6.]\n",
        "[ 6. 8. 10.]]\n",
        "```"
      ],
      "metadata": {
        "id": "ew1n8aUg5QZA"
      }
    },
    {
      "cell_type": "code",
      "source": [
        "given = t.tensor([[2,4,6], [6,8,10]])\n",
        "\n",
        "print(f\"Given Tensor: {given}\")\n",
        "\n",
        "given = given.type(t.float64)\n",
        "\n",
        "print(f\"New Tensor: {given}\")\n",
        "\n"
      ],
      "metadata": {
        "colab": {
          "base_uri": "https://localhost:8080/"
        },
        "id": "0sT8jVb2MH-q",
        "outputId": "5251d495-b5ef-4bcc-ea00-8da039ebd339"
      },
      "execution_count": 106,
      "outputs": [
        {
          "output_type": "stream",
          "name": "stdout",
          "text": [
            "Given Tensor: tensor([[ 2,  4,  6],\n",
            "        [ 6,  8, 10]])\n",
            "New Tensor: tensor([[ 2.,  4.,  6.],\n",
            "        [ 6.,  8., 10.]], dtype=torch.float64)\n"
          ]
        }
      ]
    },
    {
      "cell_type": "markdown",
      "source": [
        "24. Write a PyTorch snippet to insert a new axis within a 2-tensor, based on a **parameter**.\n",
        "\n",
        "Ex: If 2-tensor has shape (3, 4).\n",
        "\n",
        "Then, new shape can be (1, 3, 4), (3, 1, 4), or (3, 4, 1) depending on...."
      ],
      "metadata": {
        "id": "0hf1vOk75-Df"
      }
    },
    {
      "cell_type": "code",
      "source": [
        "tensor = torch.randn(3,4)\n",
        "t1 =torch.unsqueeze(tensor,0)\n",
        "t2 =torch.unsqueeze(tensor,1)\n",
        "t3 =torch.unsqueeze(tensor,2)\n",
        "print(f\"{t1=}\\t\\t{t1.shape}\\n\\n{t2=}\\t\\t{t2.shape}\\n\\n{t3=}\\t\\t{t3.shape}\")"
      ],
      "metadata": {
        "id": "38vF5Dwk5Dbi",
        "colab": {
          "base_uri": "https://localhost:8080/"
        },
        "outputId": "134d22ca-f742-4497-a4f1-3bd7dfc657e7"
      },
      "execution_count": 107,
      "outputs": [
        {
          "output_type": "stream",
          "name": "stdout",
          "text": [
            "t1=tensor([[[-0.5532, -0.0861,  0.0593, -1.1861],\n",
            "         [ 0.8103,  0.2917, -0.0779, -0.8307],\n",
            "         [-1.2993,  1.1429, -0.0151, -2.1338]]])\t\ttorch.Size([1, 3, 4])\n",
            "\n",
            "t2=tensor([[[-0.5532, -0.0861,  0.0593, -1.1861]],\n",
            "\n",
            "        [[ 0.8103,  0.2917, -0.0779, -0.8307]],\n",
            "\n",
            "        [[-1.2993,  1.1429, -0.0151, -2.1338]]])\t\ttorch.Size([3, 1, 4])\n",
            "\n",
            "t3=tensor([[[-0.5532],\n",
            "         [-0.0861],\n",
            "         [ 0.0593],\n",
            "         [-1.1861]],\n",
            "\n",
            "        [[ 0.8103],\n",
            "         [ 0.2917],\n",
            "         [-0.0779],\n",
            "         [-0.8307]],\n",
            "\n",
            "        [[-1.2993],\n",
            "         [ 1.1429],\n",
            "         [-0.0151],\n",
            "         [-2.1338]]])\t\ttorch.Size([3, 4, 1])\n"
          ]
        }
      ]
    },
    {
      "cell_type": "markdown",
      "source": [
        "25. Write a PyTorch snippet to stack tensors based on a parameter, **axis**.\n",
        "First discover what this means with 2-tensors, then extend it to 3-tensors. Print your findings.\n",
        "\n",
        "Sample Output:\n",
        "\n",
        "Original tensors:\n",
        "\n",
        "Tensor-1\n",
        "```\n",
        "[[0 1 2]\n",
        "[3 4 5]\n",
        "[6 7 8]]\n",
        "```\n",
        "Tensor-2\n",
        "```\n",
        "[[ 0 3 6]\n",
        "[ 9 12 15]\n",
        "[18 21 24]]\n",
        "```\n",
        "Stack tensors such that axis=1:\n",
        "```\n",
        "[[ 0 1 2 0 3 6]\n",
        "[ 3 4 5 9 12 15]\n",
        "[ 6 7 8 18 21 24]]\n",
        "```"
      ],
      "metadata": {
        "id": "K4GeygLp7wAt"
      }
    },
    {
      "cell_type": "code",
      "source": [
        "# 2-tensors\n",
        "\n",
        "tensor1 = t.tensor([[0, 1, 2],\n",
        "                        [3, 4, 5],\n",
        "                        [6, 7, 8]])\n",
        "\n",
        "tensor2 = t.tensor([[ 0 ,3, 6],\n",
        "                        [ 9 ,12 ,15],\n",
        "                        [18, 21, 24]])\n",
        "tensor = t.cat((tensor1,tensor2), dim=1)\n",
        "\n",
        "print(tensor)"
      ],
      "metadata": {
        "id": "-37mCkKH75fN",
        "colab": {
          "base_uri": "https://localhost:8080/"
        },
        "outputId": "c236711f-c6cb-4e23-c277-9ac848975f78"
      },
      "execution_count": 109,
      "outputs": [
        {
          "output_type": "stream",
          "name": "stdout",
          "text": [
            "tensor([[ 0,  1,  2,  0,  3,  6],\n",
            "        [ 3,  4,  5,  9, 12, 15],\n",
            "        [ 6,  7,  8, 18, 21, 24]])\n"
          ]
        }
      ]
    },
    {
      "cell_type": "code",
      "source": [
        "# 3-tensors\n",
        "\n",
        "tensor1=t.rand(2,3,4)\n",
        "tensor2=t.rand(2,3,4)\n",
        "tensor3=t.rand(2,3,4)\n",
        "\n",
        "tensor = t.cat((tensor1,tensor2,tensor3), dim=2)\n",
        "\n",
        "print(tensor)"
      ],
      "metadata": {
        "colab": {
          "base_uri": "https://localhost:8080/"
        },
        "id": "M_Qk7smONZ_E",
        "outputId": "3254e882-289c-4973-cfa8-667deac6aed3"
      },
      "execution_count": 110,
      "outputs": [
        {
          "output_type": "stream",
          "name": "stdout",
          "text": [
            "tensor([[[0.8150, 0.5642, 0.7459, 0.4109, 0.0882, 0.5353, 0.3751, 0.9796,\n",
            "          0.4748, 0.1402, 0.2943, 0.2008],\n",
            "         [0.6681, 0.3981, 0.3394, 0.0305, 0.3987, 0.3201, 0.6120, 0.6899,\n",
            "          0.0658, 0.1878, 0.6458, 0.1894],\n",
            "         [0.0906, 0.0330, 0.4907, 0.4609, 0.6443, 0.4632, 0.8289, 0.8451,\n",
            "          0.2432, 0.2300, 0.7615, 0.0977]],\n",
            "\n",
            "        [[0.7432, 0.5078, 0.6414, 0.7130, 0.4753, 0.4689, 0.3402, 0.3958,\n",
            "          0.7894, 0.6447, 0.5745, 0.4180],\n",
            "         [0.6286, 0.2457, 0.6013, 0.3690, 0.4764, 0.8594, 0.1914, 0.9881,\n",
            "          0.3903, 0.1782, 0.2852, 0.1293],\n",
            "         [0.8329, 0.2139, 0.9710, 0.1159, 0.9210, 0.6684, 0.8812, 0.3626,\n",
            "          0.9993, 0.8794, 0.7049, 0.8913]]])\n"
          ]
        }
      ]
    },
    {
      "cell_type": "markdown",
      "source": [
        "26. Write a PyTorch snippet to extract the **m**th to **n**th elements of the **m**th to **n**th rows from the **m**th to nth elemnts of given 3-tensor, of shape `(p, q, r)` where m, n < p, q, r.\n",
        "\n",
        "Take a 3-tensor of (say) size `(5,6,7)` and `(m, n)` = `(4, 5)` as a test case!"
      ],
      "metadata": {
        "id": "6kix-xlh8hFz"
      }
    },
    {
      "cell_type": "code",
      "source": [
        "tensor_3d = t.rand(5,6,7)\n",
        "\n",
        "print(\"Original 3D Tensor:\")\n",
        "print(tensor_3d)\n",
        "# Define m and n\n",
        "m, n = 1, 3\n",
        "\n",
        "extract = tensor_3d[m:n+1, m:n+1, m:n+1]\n",
        "\n",
        "# Print original tensor and extracted subset tensor\n",
        "print(\"Original 3D Tensor:\")\n",
        "print(tensor_3d)\n",
        "\n",
        "print(\"Extarcted Tensor\")\n",
        "print(extract)\n"
      ],
      "metadata": {
        "colab": {
          "base_uri": "https://localhost:8080/"
        },
        "id": "rwXJqzMkOFDC",
        "outputId": "31f6b630-557b-49a6-a807-f68074245e26"
      },
      "execution_count": 111,
      "outputs": [
        {
          "output_type": "stream",
          "name": "stdout",
          "text": [
            "Original 3D Tensor:\n",
            "tensor([[[9.1510e-01, 4.2335e-01, 6.9992e-01, 6.0898e-01, 9.2227e-01,\n",
            "          2.9295e-01, 5.5813e-01],\n",
            "         [1.4003e-01, 7.5087e-01, 9.8201e-01, 5.7190e-01, 3.8630e-01,\n",
            "          8.2824e-01, 1.5793e-01],\n",
            "         [8.1800e-01, 8.7009e-01, 8.0536e-01, 4.7612e-01, 1.6580e-01,\n",
            "          7.2321e-01, 8.9627e-01],\n",
            "         [5.2322e-01, 6.7408e-01, 8.3688e-01, 8.2338e-02, 3.8327e-01,\n",
            "          6.8665e-01, 5.4722e-01],\n",
            "         [8.8653e-01, 3.6844e-01, 3.5965e-01, 1.4338e-01, 7.6595e-01,\n",
            "          9.1877e-01, 6.8661e-02],\n",
            "         [5.0458e-01, 3.5117e-01, 1.9875e-01, 2.7881e-01, 8.2565e-01,\n",
            "          6.1958e-01, 2.9625e-01]],\n",
            "\n",
            "        [[2.6361e-01, 3.2173e-01, 1.8746e-01, 5.0927e-01, 5.1820e-01,\n",
            "          4.3448e-02, 9.5477e-01],\n",
            "         [7.1592e-01, 2.7008e-01, 9.4318e-01, 5.3696e-01, 8.6168e-01,\n",
            "          1.4534e-01, 9.3458e-01],\n",
            "         [2.2238e-01, 1.4351e-01, 2.2715e-01, 5.4464e-01, 7.6746e-01,\n",
            "          4.4548e-01, 6.3141e-01],\n",
            "         [9.3259e-02, 6.4031e-01, 4.1842e-01, 6.5115e-01, 7.2017e-01,\n",
            "          8.3023e-01, 3.0993e-01],\n",
            "         [3.4884e-01, 7.3685e-01, 5.8412e-01, 3.4164e-01, 4.1125e-01,\n",
            "          2.9597e-01, 8.2736e-01],\n",
            "         [4.9705e-01, 3.1706e-01, 6.9537e-02, 9.3406e-01, 1.7943e-01,\n",
            "          3.3125e-01, 4.7155e-01]],\n",
            "\n",
            "        [[2.4447e-01, 6.6352e-04, 3.9738e-01, 1.1404e-01, 6.5019e-01,\n",
            "          9.5727e-01, 7.9737e-02],\n",
            "         [7.9214e-01, 5.4561e-02, 9.5028e-01, 8.7653e-01, 4.8651e-01,\n",
            "          1.3802e-01, 6.5085e-01],\n",
            "         [5.0928e-01, 6.0878e-01, 1.5869e-01, 6.6705e-01, 4.7927e-01,\n",
            "          1.4323e-01, 9.9825e-01],\n",
            "         [8.2010e-01, 7.7030e-01, 7.4687e-01, 7.4086e-01, 9.5343e-01,\n",
            "          5.4299e-01, 6.3128e-01],\n",
            "         [3.8616e-01, 3.2344e-01, 1.6565e-01, 7.0073e-01, 1.6485e-01,\n",
            "          6.4274e-01, 1.9499e-01],\n",
            "         [5.3677e-01, 3.1168e-01, 8.2444e-01, 3.1250e-01, 4.7529e-01,\n",
            "          6.0616e-01, 3.5186e-01]],\n",
            "\n",
            "        [[7.1377e-01, 4.9666e-01, 3.2438e-01, 1.1255e-01, 3.4642e-01,\n",
            "          2.2584e-01, 2.2170e-01],\n",
            "         [4.1505e-01, 1.7310e-01, 7.4875e-01, 6.5580e-02, 9.7793e-01,\n",
            "          4.9395e-01, 4.7479e-01],\n",
            "         [6.2032e-02, 1.1472e-02, 4.1768e-01, 5.2986e-01, 1.0900e-01,\n",
            "          1.5222e-01, 7.8776e-01],\n",
            "         [5.5032e-01, 1.2928e-01, 8.2161e-01, 8.8301e-01, 6.0542e-01,\n",
            "          6.1592e-01, 8.2080e-01],\n",
            "         [2.3282e-01, 2.9757e-01, 8.7724e-01, 8.8420e-01, 1.2711e-01,\n",
            "          7.3974e-02, 7.8739e-01],\n",
            "         [1.7576e-01, 5.9475e-01, 3.9929e-01, 8.6796e-01, 2.6440e-01,\n",
            "          8.3884e-01, 4.1573e-01]],\n",
            "\n",
            "        [[3.9550e-01, 5.2871e-01, 6.9675e-01, 8.6347e-01, 7.0268e-01,\n",
            "          4.7875e-01, 9.8635e-01],\n",
            "         [3.6506e-02, 6.4767e-01, 6.3134e-01, 2.2493e-01, 7.1142e-01,\n",
            "          2.6682e-01, 5.1858e-01],\n",
            "         [4.3590e-01, 3.3199e-01, 8.2516e-01, 6.9807e-01, 7.4226e-01,\n",
            "          7.2014e-01, 9.2836e-01],\n",
            "         [1.5066e-01, 6.2578e-01, 1.8624e-01, 7.2539e-01, 9.3857e-01,\n",
            "          9.1410e-01, 4.4655e-01],\n",
            "         [1.7761e-01, 8.6317e-01, 1.7354e-01, 6.1091e-01, 1.3238e-01,\n",
            "          6.6745e-01, 4.6114e-01],\n",
            "         [1.6987e-01, 8.5199e-02, 7.8307e-02, 4.2052e-01, 5.0305e-02,\n",
            "          5.8238e-01, 9.4279e-01]]])\n",
            "Original 3D Tensor:\n",
            "tensor([[[9.1510e-01, 4.2335e-01, 6.9992e-01, 6.0898e-01, 9.2227e-01,\n",
            "          2.9295e-01, 5.5813e-01],\n",
            "         [1.4003e-01, 7.5087e-01, 9.8201e-01, 5.7190e-01, 3.8630e-01,\n",
            "          8.2824e-01, 1.5793e-01],\n",
            "         [8.1800e-01, 8.7009e-01, 8.0536e-01, 4.7612e-01, 1.6580e-01,\n",
            "          7.2321e-01, 8.9627e-01],\n",
            "         [5.2322e-01, 6.7408e-01, 8.3688e-01, 8.2338e-02, 3.8327e-01,\n",
            "          6.8665e-01, 5.4722e-01],\n",
            "         [8.8653e-01, 3.6844e-01, 3.5965e-01, 1.4338e-01, 7.6595e-01,\n",
            "          9.1877e-01, 6.8661e-02],\n",
            "         [5.0458e-01, 3.5117e-01, 1.9875e-01, 2.7881e-01, 8.2565e-01,\n",
            "          6.1958e-01, 2.9625e-01]],\n",
            "\n",
            "        [[2.6361e-01, 3.2173e-01, 1.8746e-01, 5.0927e-01, 5.1820e-01,\n",
            "          4.3448e-02, 9.5477e-01],\n",
            "         [7.1592e-01, 2.7008e-01, 9.4318e-01, 5.3696e-01, 8.6168e-01,\n",
            "          1.4534e-01, 9.3458e-01],\n",
            "         [2.2238e-01, 1.4351e-01, 2.2715e-01, 5.4464e-01, 7.6746e-01,\n",
            "          4.4548e-01, 6.3141e-01],\n",
            "         [9.3259e-02, 6.4031e-01, 4.1842e-01, 6.5115e-01, 7.2017e-01,\n",
            "          8.3023e-01, 3.0993e-01],\n",
            "         [3.4884e-01, 7.3685e-01, 5.8412e-01, 3.4164e-01, 4.1125e-01,\n",
            "          2.9597e-01, 8.2736e-01],\n",
            "         [4.9705e-01, 3.1706e-01, 6.9537e-02, 9.3406e-01, 1.7943e-01,\n",
            "          3.3125e-01, 4.7155e-01]],\n",
            "\n",
            "        [[2.4447e-01, 6.6352e-04, 3.9738e-01, 1.1404e-01, 6.5019e-01,\n",
            "          9.5727e-01, 7.9737e-02],\n",
            "         [7.9214e-01, 5.4561e-02, 9.5028e-01, 8.7653e-01, 4.8651e-01,\n",
            "          1.3802e-01, 6.5085e-01],\n",
            "         [5.0928e-01, 6.0878e-01, 1.5869e-01, 6.6705e-01, 4.7927e-01,\n",
            "          1.4323e-01, 9.9825e-01],\n",
            "         [8.2010e-01, 7.7030e-01, 7.4687e-01, 7.4086e-01, 9.5343e-01,\n",
            "          5.4299e-01, 6.3128e-01],\n",
            "         [3.8616e-01, 3.2344e-01, 1.6565e-01, 7.0073e-01, 1.6485e-01,\n",
            "          6.4274e-01, 1.9499e-01],\n",
            "         [5.3677e-01, 3.1168e-01, 8.2444e-01, 3.1250e-01, 4.7529e-01,\n",
            "          6.0616e-01, 3.5186e-01]],\n",
            "\n",
            "        [[7.1377e-01, 4.9666e-01, 3.2438e-01, 1.1255e-01, 3.4642e-01,\n",
            "          2.2584e-01, 2.2170e-01],\n",
            "         [4.1505e-01, 1.7310e-01, 7.4875e-01, 6.5580e-02, 9.7793e-01,\n",
            "          4.9395e-01, 4.7479e-01],\n",
            "         [6.2032e-02, 1.1472e-02, 4.1768e-01, 5.2986e-01, 1.0900e-01,\n",
            "          1.5222e-01, 7.8776e-01],\n",
            "         [5.5032e-01, 1.2928e-01, 8.2161e-01, 8.8301e-01, 6.0542e-01,\n",
            "          6.1592e-01, 8.2080e-01],\n",
            "         [2.3282e-01, 2.9757e-01, 8.7724e-01, 8.8420e-01, 1.2711e-01,\n",
            "          7.3974e-02, 7.8739e-01],\n",
            "         [1.7576e-01, 5.9475e-01, 3.9929e-01, 8.6796e-01, 2.6440e-01,\n",
            "          8.3884e-01, 4.1573e-01]],\n",
            "\n",
            "        [[3.9550e-01, 5.2871e-01, 6.9675e-01, 8.6347e-01, 7.0268e-01,\n",
            "          4.7875e-01, 9.8635e-01],\n",
            "         [3.6506e-02, 6.4767e-01, 6.3134e-01, 2.2493e-01, 7.1142e-01,\n",
            "          2.6682e-01, 5.1858e-01],\n",
            "         [4.3590e-01, 3.3199e-01, 8.2516e-01, 6.9807e-01, 7.4226e-01,\n",
            "          7.2014e-01, 9.2836e-01],\n",
            "         [1.5066e-01, 6.2578e-01, 1.8624e-01, 7.2539e-01, 9.3857e-01,\n",
            "          9.1410e-01, 4.4655e-01],\n",
            "         [1.7761e-01, 8.6317e-01, 1.7354e-01, 6.1091e-01, 1.3238e-01,\n",
            "          6.6745e-01, 4.6114e-01],\n",
            "         [1.6987e-01, 8.5199e-02, 7.8307e-02, 4.2052e-01, 5.0305e-02,\n",
            "          5.8238e-01, 9.4279e-01]]])\n",
            "Extarcted Tensor\n",
            "tensor([[[0.2701, 0.9432, 0.5370],\n",
            "         [0.1435, 0.2271, 0.5446],\n",
            "         [0.6403, 0.4184, 0.6511]],\n",
            "\n",
            "        [[0.0546, 0.9503, 0.8765],\n",
            "         [0.6088, 0.1587, 0.6671],\n",
            "         [0.7703, 0.7469, 0.7409]],\n",
            "\n",
            "        [[0.1731, 0.7488, 0.0656],\n",
            "         [0.0115, 0.4177, 0.5299],\n",
            "         [0.1293, 0.8216, 0.8830]]])\n"
          ]
        }
      ]
    },
    {
      "cell_type": "markdown",
      "source": [
        "### **Test your Understanding**"
      ],
      "metadata": {
        "id": "IxOFseFaxEQu"
      }
    },
    {
      "cell_type": "markdown",
      "source": [
        "1. Given a 3D tensor of shape `(a, b, c)`, permute its axes to obtain tensors of all other shape combinations (i.e 5)."
      ],
      "metadata": {
        "id": "Vzbo4s_KAsE9"
      }
    },
    {
      "cell_type": "code",
      "source": [
        "select = t.randn(2, 3, 4)\n",
        "print(select)\n",
        "print()\n",
        "possibilities = [(0, 1, 2), (0, 2, 1),(1, 0, 2), (1, 2, 0),\n",
        " (2, 0, 1), (2,1,0)]\n",
        "\n",
        "for permutation in possibilities:\n",
        "  print(select.permute(permutation))"
      ],
      "metadata": {
        "id": "R791RvsIAh3O",
        "colab": {
          "base_uri": "https://localhost:8080/"
        },
        "outputId": "f9511780-8e97-453b-e859-63b46f197759"
      },
      "execution_count": 114,
      "outputs": [
        {
          "output_type": "stream",
          "name": "stdout",
          "text": [
            "tensor([[[ 1.7222,  0.5198, -1.5316, -0.7469],\n",
            "         [-0.1292,  1.5123, -0.9654, -0.6833],\n",
            "         [-1.0220,  0.9289, -0.7984,  0.7688]],\n",
            "\n",
            "        [[-1.7656, -0.2388, -0.4222,  0.4860],\n",
            "         [-0.6053, -0.7229,  0.3086,  0.1484],\n",
            "         [-0.6672, -0.2459,  1.6184, -2.2320]]])\n",
            "\n",
            "tensor([[[ 1.7222,  0.5198, -1.5316, -0.7469],\n",
            "         [-0.1292,  1.5123, -0.9654, -0.6833],\n",
            "         [-1.0220,  0.9289, -0.7984,  0.7688]],\n",
            "\n",
            "        [[-1.7656, -0.2388, -0.4222,  0.4860],\n",
            "         [-0.6053, -0.7229,  0.3086,  0.1484],\n",
            "         [-0.6672, -0.2459,  1.6184, -2.2320]]])\n",
            "tensor([[[ 1.7222, -0.1292, -1.0220],\n",
            "         [ 0.5198,  1.5123,  0.9289],\n",
            "         [-1.5316, -0.9654, -0.7984],\n",
            "         [-0.7469, -0.6833,  0.7688]],\n",
            "\n",
            "        [[-1.7656, -0.6053, -0.6672],\n",
            "         [-0.2388, -0.7229, -0.2459],\n",
            "         [-0.4222,  0.3086,  1.6184],\n",
            "         [ 0.4860,  0.1484, -2.2320]]])\n",
            "tensor([[[ 1.7222,  0.5198, -1.5316, -0.7469],\n",
            "         [-1.7656, -0.2388, -0.4222,  0.4860]],\n",
            "\n",
            "        [[-0.1292,  1.5123, -0.9654, -0.6833],\n",
            "         [-0.6053, -0.7229,  0.3086,  0.1484]],\n",
            "\n",
            "        [[-1.0220,  0.9289, -0.7984,  0.7688],\n",
            "         [-0.6672, -0.2459,  1.6184, -2.2320]]])\n",
            "tensor([[[ 1.7222, -1.7656],\n",
            "         [ 0.5198, -0.2388],\n",
            "         [-1.5316, -0.4222],\n",
            "         [-0.7469,  0.4860]],\n",
            "\n",
            "        [[-0.1292, -0.6053],\n",
            "         [ 1.5123, -0.7229],\n",
            "         [-0.9654,  0.3086],\n",
            "         [-0.6833,  0.1484]],\n",
            "\n",
            "        [[-1.0220, -0.6672],\n",
            "         [ 0.9289, -0.2459],\n",
            "         [-0.7984,  1.6184],\n",
            "         [ 0.7688, -2.2320]]])\n",
            "tensor([[[ 1.7222, -0.1292, -1.0220],\n",
            "         [-1.7656, -0.6053, -0.6672]],\n",
            "\n",
            "        [[ 0.5198,  1.5123,  0.9289],\n",
            "         [-0.2388, -0.7229, -0.2459]],\n",
            "\n",
            "        [[-1.5316, -0.9654, -0.7984],\n",
            "         [-0.4222,  0.3086,  1.6184]],\n",
            "\n",
            "        [[-0.7469, -0.6833,  0.7688],\n",
            "         [ 0.4860,  0.1484, -2.2320]]])\n",
            "tensor([[[ 1.7222, -1.7656],\n",
            "         [-0.1292, -0.6053],\n",
            "         [-1.0220, -0.6672]],\n",
            "\n",
            "        [[ 0.5198, -0.2388],\n",
            "         [ 1.5123, -0.7229],\n",
            "         [ 0.9289, -0.2459]],\n",
            "\n",
            "        [[-1.5316, -0.4222],\n",
            "         [-0.9654,  0.3086],\n",
            "         [-0.7984,  1.6184]],\n",
            "\n",
            "        [[-0.7469,  0.4860],\n",
            "         [-0.6833,  0.1484],\n",
            "         [ 0.7688, -2.2320]]])\n"
          ]
        }
      ]
    },
    {
      "cell_type": "markdown",
      "source": [
        "2. Given a 4D tensor of shape `(2, 3, 4, 5)`, transpose it to obtain a tensor of shape `(2, 4, 5, 3)`. Also explore what is_contiguous() means..."
      ],
      "metadata": {
        "id": "CwETJF5fAz-j"
      }
    },
    {
      "cell_type": "code",
      "source": [
        "given = t.randn(2, 3, 4, 5)\n",
        "\n",
        "print(\"Given Tensor Shape:\", given.shape)\n",
        "\n",
        "transposed_tensor = given.permute(0, 2, 3, 1)\n",
        "\n",
        "print(\"\\nTransposed Tensor Shape:\", transposed_tensor.shape)\n",
        "print(f\"\\n\\n{transposed_tensor}\")\n",
        "\n",
        "'''A tensor is contiguous\n",
        "if its elements are stored in a single, contiguous block of memory,\n",
        " such that the order of elements matches the memory layout order of\n",
        "  the tensor shape.'''\n",
        "\n",
        "print(f\"{transposed_tensor.is_contiguous()}\")"
      ],
      "metadata": {
        "id": "tfdlEGx3Ag2B",
        "colab": {
          "base_uri": "https://localhost:8080/"
        },
        "outputId": "b9f30e97-fe93-4227-9e23-0b9c70c5e6c2"
      },
      "execution_count": 129,
      "outputs": [
        {
          "output_type": "stream",
          "name": "stdout",
          "text": [
            "Given Tensor Shape: torch.Size([2, 3, 4, 5])\n",
            "\n",
            "Transposed Tensor Shape: torch.Size([2, 4, 5, 3])\n",
            "\n",
            "\n",
            "tensor([[[[-1.3515,  0.2408,  0.1456],\n",
            "          [-1.1245,  1.8293, -0.1455],\n",
            "          [-1.6605,  1.2858, -0.2586],\n",
            "          [ 1.3433,  0.9583,  1.1740],\n",
            "          [ 0.0832, -0.1515, -1.1243]],\n",
            "\n",
            "         [[-0.7717,  0.8412,  0.8652],\n",
            "          [-0.9978, -0.7679,  0.4663],\n",
            "          [ 1.7200,  0.1615,  0.1132],\n",
            "          [-0.3666, -0.4152,  0.5914],\n",
            "          [ 0.0861, -0.2696, -0.9748]],\n",
            "\n",
            "         [[ 0.2062, -0.3653, -0.4244],\n",
            "          [-0.3280,  1.6820, -0.5588],\n",
            "          [-0.2000, -0.5059, -0.7855],\n",
            "          [-0.2967, -1.4307,  1.2314],\n",
            "          [ 1.3239,  1.4319, -0.1987]],\n",
            "\n",
            "         [[ 0.5605,  1.1380,  0.5718],\n",
            "          [-0.6335, -1.0056,  0.2904],\n",
            "          [ 0.3839,  1.4845,  0.0414],\n",
            "          [-1.3317, -1.9445, -0.9331],\n",
            "          [ 0.0867, -0.1277,  0.1472]]],\n",
            "\n",
            "\n",
            "        [[[-0.7145,  2.1848, -1.5485],\n",
            "          [-0.9720, -0.8689,  0.6800],\n",
            "          [-0.3206, -0.9084, -1.3225],\n",
            "          [ 0.2418,  0.4378, -1.5671],\n",
            "          [ 1.1635, -1.0312, -1.4031]],\n",
            "\n",
            "         [[ 0.1809, -1.3421,  0.2457],\n",
            "          [ 1.2963,  0.8817, -1.5107],\n",
            "          [ 0.0725,  1.2440, -0.2982],\n",
            "          [-0.2023, -0.3112, -1.7430],\n",
            "          [-0.7030, -0.0055, -0.8763]],\n",
            "\n",
            "         [[-2.2054,  1.7846, -0.1166],\n",
            "          [ 0.7932,  1.4157,  1.5731],\n",
            "          [-1.2297,  0.0991, -1.8503],\n",
            "          [ 0.5675,  0.5109,  0.4718],\n",
            "          [ 0.3081,  0.0773,  1.6968]],\n",
            "\n",
            "         [[-1.6839,  0.4232, -0.2493],\n",
            "          [ 0.1471, -0.7709,  0.2643],\n",
            "          [ 0.1382, -2.1575,  1.3159],\n",
            "          [-0.2923,  0.0660,  0.4597],\n",
            "          [ 0.8633,  1.0081,  1.0713]]]])\n",
            "False\n"
          ]
        }
      ]
    },
    {
      "cell_type": "markdown",
      "source": [
        "*3*. Given two tensors, one of shape (n, 1) and another of shape (m, ), perform an element-wise addition."
      ],
      "metadata": {
        "id": "W13ajP4aBO3v"
      }
    },
    {
      "cell_type": "code",
      "source": [
        "t1 = t.tensor([[452], [54552], [4245]])  # shape (n, 1)\n",
        "t2 = t.tensor([64, 452, 445, 94])    # shape (m, )\n",
        "\n",
        "t2 = t2[:t1.shape[0]]\n",
        "\n",
        "# Perform element-wise addition\n",
        "answer = t1 + t2\n",
        "\n",
        "# Print the result\n",
        "print(\"After element-wise addition:\")\n",
        "print(answer)\n"
      ],
      "metadata": {
        "id": "3AtpWGh1Bdpd",
        "colab": {
          "base_uri": "https://localhost:8080/"
        },
        "outputId": "b7a3ce25-7f11-4cf1-8fa2-572e7ecb126d"
      },
      "execution_count": 124,
      "outputs": [
        {
          "output_type": "stream",
          "name": "stdout",
          "text": [
            "After element-wise addition:\n",
            "tensor([[  516,   904,   897],\n",
            "        [54616, 55004, 54997],\n",
            "        [ 4309,  4697,  4690]])\n"
          ]
        }
      ]
    },
    {
      "cell_type": "markdown",
      "source": [
        "4. Given a 3D tensor of shape `(4, 4, 4)`, extract a sub-tensor of shape `(2, 2, 2)` starting from the element at index `(1, 1, 1)`"
      ],
      "metadata": {
        "id": "LnyUlwKWBeUz"
      }
    },
    {
      "cell_type": "code",
      "source": [
        "given = t.randn(4, 4, 4)\n",
        "\n",
        "print(f\"Given Tensor Shape: {tensor_3d.shape}\")\n",
        "\n",
        "sub_tensor = given[1:3, 1:3, 1:3]\n",
        "\n",
        "print(f\"\\n{sub_tensor=}\")\n"
      ],
      "metadata": {
        "id": "1oRhgDE6BqKg",
        "colab": {
          "base_uri": "https://localhost:8080/"
        },
        "outputId": "b814bfd1-0bd5-46fa-fead-03b0545e35c6"
      },
      "execution_count": 126,
      "outputs": [
        {
          "output_type": "stream",
          "name": "stdout",
          "text": [
            "Given Tensor Shape: torch.Size([5, 6, 7])\n",
            "\n",
            "sub_tensor=tensor([[[-0.0946,  1.0220],\n",
            "         [ 0.8292,  0.8875]],\n",
            "\n",
            "        [[-0.1087, -0.5549],\n",
            "         [-0.4417,  0.0131]]])\n"
          ]
        }
      ]
    },
    {
      "cell_type": "markdown",
      "source": [
        "5. Given a 2-tensor of arbitrary shape, rotate it 90 degrees anticlockwise.\n",
        "\n"
      ],
      "metadata": {
        "id": "-GJaZaZyBsaU"
      }
    },
    {
      "cell_type": "code",
      "source": [
        "t1=t.randn(size=(5,3))\n",
        "\n",
        "answer = t.rot90(t1)\n",
        "\n",
        "print(t1)\n",
        "print()\n",
        "print(answer)"
      ],
      "metadata": {
        "id": "fb5enhEsB1Um",
        "colab": {
          "base_uri": "https://localhost:8080/"
        },
        "outputId": "3d219097-8efa-4b76-9e92-c41c9769f4c8"
      },
      "execution_count": 122,
      "outputs": [
        {
          "output_type": "stream",
          "name": "stdout",
          "text": [
            "tensor([[ 0.0692,  0.9189,  0.5229],\n",
            "        [-0.3938, -0.2937,  0.9429],\n",
            "        [-0.0963, -0.3670, -0.1541],\n",
            "        [-1.1687,  0.6419,  0.8983],\n",
            "        [-1.2873,  0.3952, -0.3019]])\n",
            "\n",
            "tensor([[ 0.5229,  0.9429, -0.1541,  0.8983, -0.3019],\n",
            "        [ 0.9189, -0.2937, -0.3670,  0.6419,  0.3952],\n",
            "        [ 0.0692, -0.3938, -0.0963, -1.1687, -1.2873]])\n"
          ]
        }
      ]
    },
    {
      "cell_type": "markdown",
      "source": [
        "### **EVEN I HAD TO THINK...**"
      ],
      "metadata": {
        "id": "DNTlDxZ4C4-R"
      }
    },
    {
      "cell_type": "markdown",
      "source": [
        "1. Implement a custom operation that computes the **element-wise** **sine** of a tensor *and* its **gradient** using torch.autograd.Function.\n",
        "- You need to implement both the forward() and backward() methods.\n",
        "- For an example, look no further than the [PyTorch docs](https://pytorch.org/docs/stable/autograd.html#function)!\n",
        "- Test it out on a matrix of arbitrary size!"
      ],
      "metadata": {
        "id": "Mh71KC4rDAcY"
      }
    },
    {
      "cell_type": "code",
      "source": [
        "###pass  --> AuthorError xD"
      ],
      "metadata": {
        "id": "0Ntq8CgFC9jy"
      },
      "execution_count": null,
      "outputs": []
    },
    {
      "cell_type": "markdown",
      "source": [
        "2. One of the most important aspects of improving model performance ins normalization. Implement a custom NN normalization layer that performs either a **batch** or **layer** normalization (based on a **dim** parameter)and integrate it into a simple feedforward neural network.\n",
        "- Note that you dont need to implement any backward() here, for simplicity.\n",
        "- Consider your input tensor to the neural network as of shape (m, n) where m is num of examples, n is num of features.\n",
        "- Which value of **dim** leads to batch and layer normalization?"
      ],
      "metadata": {
        "id": "s6GDwW-dFCyT"
      }
    },
    {
      "cell_type": "code",
      "source": [
        "##will submit soon"
      ],
      "metadata": {
        "id": "KiofKZz_FgHd"
      },
      "execution_count": 135,
      "outputs": []
    },
    {
      "cell_type": "markdown",
      "source": [
        "3. Given a 4D tensor of shape (2, 3, 4, 5), create a mask that sets all elements in positions where the sum of indices is even to zero."
      ],
      "metadata": {
        "id": "YEc0BxM8GGcL"
      }
    },
    {
      "cell_type": "code",
      "source": [
        "##will submit soon"
      ],
      "metadata": {
        "id": "pJ3FD5XiGLh8"
      },
      "execution_count": 136,
      "outputs": []
    },
    {
      "cell_type": "markdown",
      "source": [
        "4. Given two tensors, one of shape `(3, 1, 4)` and another of shape `(1, 5, 1)`, compute their element-wise multiplication using broadcasting and then sum over specific axes to obtain a tensor of shape `(3, 5)`."
      ],
      "metadata": {
        "id": "Tv557NaJGMlQ"
      }
    },
    {
      "cell_type": "code",
      "source": [
        "t1 = t.randn(3, 1, 4)\n",
        "t2 = t.randn(1, 5, 1)\n",
        "\n",
        "# Perform element-wise multiplication using broadcasting\n",
        "res = t1 * t2\n",
        "\n",
        "# Sum over axes 1 and 2 to obtain shape (3, 5)\n",
        "\n",
        "res_summed = res.sum(dim=1).squeeze()\n",
        "\n",
        "# Print shapes and result\n",
        "print(\"Shape of t1:\", t1.shape)\n",
        "print()\n",
        "print(\"Shape of t2:\", t2.shape)\n",
        "print()\n",
        "print(\"Shape of element-wise product:\", res.shape)\n",
        "print()\n",
        "print(\"Shape after summation over axes 1 and 2:\", res_summed.shape)\n",
        "print()\n",
        "print(\"Result:\")\n",
        "print()\n",
        "print(res_summed)\n"
      ],
      "metadata": {
        "id": "qP3EGgyXGMMH",
        "colab": {
          "base_uri": "https://localhost:8080/"
        },
        "outputId": "9f445f9a-1b5d-44c8-8096-9a1a58955379"
      },
      "execution_count": 128,
      "outputs": [
        {
          "output_type": "stream",
          "name": "stdout",
          "text": [
            "Shape of t1: torch.Size([3, 1, 4])\n",
            "\n",
            "Shape of t2: torch.Size([1, 5, 1])\n",
            "\n",
            "Shape of element-wise product: torch.Size([3, 5, 4])\n",
            "\n",
            "Shape after summation over axes 1 and 2: torch.Size([3, 4])\n",
            "\n",
            "Result:\n",
            "\n",
            "tensor([[ 1.9582,  3.2623,  1.2423,  2.5556],\n",
            "        [-1.3900, -0.2116,  0.5591, -0.1344],\n",
            "        [-3.9499,  1.5888, -3.8395,  0.6340]])\n"
          ]
        }
      ]
    }
  ]
}