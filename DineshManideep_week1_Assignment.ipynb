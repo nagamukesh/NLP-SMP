{
  "cells": [
    {
      "cell_type": "markdown",
      "metadata": {
        "colab_type": "text",
        "id": "view-in-github"
      },
      "source": [
        "<a href=\"https://colab.research.google.com/github/nagamukesh/NLP-SMP/blob/Dinesh_Manideep/DineshManideep_week1_Assignment.ipynb\" target=\"_parent\"><img src=\"https://colab.research.google.com/assets/colab-badge.svg\" alt=\"Open In Colab\"/></a>"
      ]
    },
    {
      "cell_type": "markdown",
      "metadata": {
        "id": "CDn9wbMS0a0r"
      },
      "source": [
        "#  **PyTorch Practice Assignment**\n",
        "**Name**: Paluvadi Dinesh Manideep\n",
        "\n",
        "**Roll Number**: 231IT047"
      ]
    },
    {
      "cell_type": "markdown",
      "metadata": {
        "id": "ENyCsRHv1gqA"
      },
      "source": [
        "## **Instructions:**\n",
        "\n",
        "- Copy this Notebook to your own Drive! You cannot directly modify it.\n",
        "- Please show the output of the cells, in case of some operation. You can specify your own **non-trivial** test-case. Also, try and make your snippets into functions to organize your logic.\n",
        "- You can use any number of cells for a question, you are not restricted to just 1 cell!\n",
        "- **No using ChatGPT for this assignment**: we highly recommend using the [Pytorch Docs](https://pytorch.org/docs/stable/index.html) as your start reference, as well as the vast internet however. You can also contact any of your mentors for some hints/help!\n",
        "- You can work on this assignment in Google Colab or on Your Local Machine!"
      ]
    },
    {
      "cell_type": "code",
      "execution_count": 2,
      "metadata": {
        "id": "yBo7HFZd5tuC"
      },
      "outputs": [],
      "source": [
        "import torch\n",
        "import torch.nn as nn\n",
        "import torch.nn.functional as F\n",
        "import numpy as np"
      ]
    },
    {
      "cell_type": "markdown",
      "metadata": {
        "id": "1tRkI1j1xGzl"
      },
      "source": [
        "### **Build Up Your Understanding**"
      ]
    },
    {
      "cell_type": "markdown",
      "metadata": {
        "id": "R75QYzJlz874"
      },
      "source": [
        "1. Write a PyTorch snippet to test whether none of the elements of a given tensor are zero."
      ]
    },
    {
      "cell_type": "code",
      "execution_count": null,
      "metadata": {
        "colab": {
          "base_uri": "https://localhost:8080/"
        },
        "id": "YrnLJibzzT0d",
        "outputId": "099f9abb-3e62-47b1-a2db-7ea362e28f58"
      },
      "outputs": [
        {
          "name": "stdout",
          "output_type": "stream",
          "text": [
            "None of the elements are equal to zero\n"
          ]
        }
      ],
      "source": [
        "p=torch.tensor([[2,3,45],[3,7,7]])\n",
        "\n",
        "if p.all():\n",
        "  print(\"None of the elements are equal to zero\")\n",
        "else:\n",
        "  print(\"some elements of the tensor are equal to zero\")"
      ]
    },
    {
      "cell_type": "markdown",
      "metadata": {
        "id": "N65zZ0B20CcN"
      },
      "source": [
        "2. Write a PyTorch snippet to test element-wise for NaN of a given tensor."
      ]
    },
    {
      "cell_type": "code",
      "execution_count": null,
      "metadata": {
        "colab": {
          "base_uri": "https://localhost:8080/"
        },
        "id": "09XtXleK0Yqx",
        "outputId": "c4a09b09-8e92-4c08-8bd3-fa33e538b99f"
      },
      "outputs": [
        {
          "data": {
            "text/plain": [
              "tensor([[False, False, False],\n",
              "        [False,  True, False]])"
            ]
          },
          "execution_count": 4,
          "metadata": {},
          "output_type": "execute_result"
        }
      ],
      "source": [
        "ten=torch.tensor([[1,2,3],[7,float('nan'),78]])\n",
        "ten.isnan()"
      ]
    },
    {
      "cell_type": "markdown",
      "metadata": {
        "id": "nPgqdCS60ZLy"
      },
      "source": [
        "3. Write a PyTorch snippet to test whether two tensors are element-wise equal within a tolerance."
      ]
    },
    {
      "cell_type": "code",
      "execution_count": null,
      "metadata": {
        "colab": {
          "base_uri": "https://localhost:8080/"
        },
        "id": "nZlp4IJh1TAG",
        "outputId": "7de57676-ae88-4842-f571-a4cc679beef7"
      },
      "outputs": [
        {
          "name": "stdout",
          "output_type": "stream",
          "text": [
            "tensor([[False, False, False, False, False],\n",
            "        [False, False, False, False, False],\n",
            "        [False, False, False, False, False]])\n",
            "the given tensors are not equal\n"
          ]
        }
      ],
      "source": [
        "a=torch.rand(3,5)\n",
        "b=torch.rand(3,5)\n",
        "print(torch.eq(a,b))\n",
        "if(torch.all(torch.eq(a,b))):\n",
        "  print(\"The two tensors are equal\")\n",
        "else:\n",
        "  print(\"the given tensors are not equal\")"
      ]
    },
    {
      "cell_type": "markdown",
      "metadata": {
        "id": "6erc53t11ToS"
      },
      "source": [
        "4. Write a PyTorch snippet to create a tensor of 10 zeros, 10 ones, and 10 fives stacked on top of each other (try & accomplish everything using nested function calls)."
      ]
    },
    {
      "cell_type": "code",
      "execution_count": null,
      "metadata": {
        "colab": {
          "base_uri": "https://localhost:8080/"
        },
        "id": "DX2o4rH81cXb",
        "outputId": "9c35c102-e4e3-4525-dc34-5dbdbe2cf6b7"
      },
      "outputs": [
        {
          "name": "stdout",
          "output_type": "stream",
          "text": [
            "tensor([[0., 0., 0., 0., 0., 0., 0., 0., 0., 0.],\n",
            "        [1., 1., 1., 1., 1., 1., 1., 1., 1., 1.],\n",
            "        [5., 5., 5., 5., 5., 5., 5., 5., 5., 5.]])\n"
          ]
        }
      ],
      "source": [
        "a = torch.cat((\n",
        "    torch.zeros(10).unsqueeze(0),\n",
        "    torch.ones(10).unsqueeze(0),\n",
        "    torch.full((1, 10), 5)\n",
        "), dim=0)\n",
        "\n",
        "print(a)"
      ]
    },
    {
      "cell_type": "markdown",
      "metadata": {
        "id": "HVZFHjER15fI"
      },
      "source": [
        "5. Write a PyTorch snippet to generate a random number between 0 and 1."
      ]
    },
    {
      "cell_type": "code",
      "execution_count": null,
      "metadata": {
        "colab": {
          "base_uri": "https://localhost:8080/"
        },
        "id": "D2sDJxaL16ev",
        "outputId": "9d70436f-f2e8-4a63-abc5-92cdd8250768"
      },
      "outputs": [
        {
          "data": {
            "text/plain": [
              "tensor([0.6172])"
            ]
          },
          "execution_count": 7,
          "metadata": {},
          "output_type": "execute_result"
        }
      ],
      "source": [
        "torch.rand(1)"
      ]
    },
    {
      "cell_type": "markdown",
      "metadata": {
        "id": "v-bl_RmJ19U2"
      },
      "source": [
        "6. Write a PyTorch snippet to generate a tensor of 15 random numbers from a standard normal distribution."
      ]
    },
    {
      "cell_type": "code",
      "execution_count": null,
      "metadata": {
        "colab": {
          "base_uri": "https://localhost:8080/"
        },
        "id": "TwOTzLLz1-Oj",
        "outputId": "ce101adc-85be-4637-b4df-2eafcfe341c5"
      },
      "outputs": [
        {
          "data": {
            "text/plain": [
              "tensor([0.0344, 0.5435, 0.3924, 0.1936, 0.8663, 0.2008, 0.8751, 0.5446, 0.4840,\n",
              "        0.0236, 0.7424, 0.7894, 0.0317, 0.4199, 0.1954])"
            ]
          },
          "execution_count": 8,
          "metadata": {},
          "output_type": "execute_result"
        }
      ],
      "source": [
        "torch.rand(15)"
      ]
    },
    {
      "cell_type": "markdown",
      "metadata": {
        "id": "QbsLwc2e1-wI"
      },
      "source": [
        "7. Write a Pytorch snippet to create a tensor of length 10 with values evenly distributed between 5 and 50."
      ]
    },
    {
      "cell_type": "code",
      "execution_count": null,
      "metadata": {
        "colab": {
          "base_uri": "https://localhost:8080/"
        },
        "id": "4x-aEGJy2F_J",
        "outputId": "85729e3e-3106-4acf-811d-be51cf01ad1c"
      },
      "outputs": [
        {
          "data": {
            "text/plain": [
              "tensor([ 5, 10, 15, 20, 25, 30, 35, 40, 45, 50])"
            ]
          },
          "execution_count": 9,
          "metadata": {},
          "output_type": "execute_result"
        }
      ],
      "source": [
        "torch.arange(5,55,5)"
      ]
    },
    {
      "cell_type": "markdown",
      "metadata": {
        "id": "z4t6r6xR2IyJ"
      },
      "source": [
        "8. Write a Pyorch program to create a tensor with values from 0 to 20 and change the sign of the numbers in the range from 9 to 15."
      ]
    },
    {
      "cell_type": "code",
      "execution_count": null,
      "metadata": {
        "colab": {
          "base_uri": "https://localhost:8080/"
        },
        "id": "2ckG-mcF2Jda",
        "outputId": "3e9b5baf-a3d2-438d-cdcc-8a95f4d601b9"
      },
      "outputs": [
        {
          "name": "stdout",
          "output_type": "stream",
          "text": [
            "tensor([  0,   1,   2,   3,   4,   5,   6,   7,   8,  -9, -10, -11, -12, -13,\n",
            "        -14, -15,  16,  17,  18,  19,  20])\n"
          ]
        }
      ],
      "source": [
        "a=torch.arange(0,21)\n",
        "a[9:16]=-a[9:16]\n",
        "print(a)"
      ]
    },
    {
      "cell_type": "markdown",
      "metadata": {
        "id": "n5piPDEY2NXK"
      },
      "source": [
        "9. Write a PyTorch snippet to create a 3x4 2-tensor filled with values from 10 to 21. Same but 12 to 24."
      ]
    },
    {
      "cell_type": "code",
      "execution_count": null,
      "metadata": {
        "colab": {
          "base_uri": "https://localhost:8080/"
        },
        "id": "zKzFvfPP2OOy",
        "outputId": "03846142-17e1-4a89-c91d-44f061f1660a"
      },
      "outputs": [
        {
          "name": "stdout",
          "output_type": "stream",
          "text": [
            "tensor([[10, 11, 12, 13],\n",
            "        [14, 15, 16, 17],\n",
            "        [18, 19, 20, 21]])\n",
            "tensor([[12, 13, 14, 15],\n",
            "        [16, 17, 18, 19],\n",
            "        [20, 21, 22, 23]])\n"
          ]
        }
      ],
      "source": [
        "b=torch.arange(10,22,1)\n",
        "b=b.reshape(3,4)\n",
        "c=torch.arange(12,24,1)\n",
        "c=c.reshape(3,4)\n",
        "print(b)\n",
        "print(c)"
      ]
    },
    {
      "cell_type": "markdown",
      "metadata": {
        "id": "BMbpvCE12UAA"
      },
      "source": [
        "10. Write a PyTorch snippet to create a 10x10 2-tensor, in which the elements on the borders will be equal to 1, and inside 0."
      ]
    },
    {
      "cell_type": "code",
      "execution_count": null,
      "metadata": {
        "colab": {
          "base_uri": "https://localhost:8080/"
        },
        "id": "-e2dvNB12Uv4",
        "outputId": "3a4dec4a-e63b-4601-d976-d3adc27ce9d1"
      },
      "outputs": [
        {
          "name": "stdout",
          "output_type": "stream",
          "text": [
            "tensor(1.)\n",
            "tensor([[1., 1., 1., 1., 1., 1., 1., 1., 1., 1.],\n",
            "        [1., 0., 0., 0., 0., 0., 0., 0., 0., 1.],\n",
            "        [1., 0., 0., 0., 0., 0., 0., 0., 0., 1.],\n",
            "        [1., 0., 0., 0., 0., 0., 0., 0., 0., 1.],\n",
            "        [1., 0., 0., 0., 0., 0., 0., 0., 0., 1.],\n",
            "        [1., 0., 0., 0., 0., 0., 0., 0., 0., 1.],\n",
            "        [1., 0., 0., 0., 0., 0., 0., 0., 0., 1.],\n",
            "        [1., 0., 0., 0., 0., 0., 0., 0., 0., 1.],\n",
            "        [1., 0., 0., 0., 0., 0., 0., 0., 0., 1.],\n",
            "        [1., 1., 1., 1., 1., 1., 1., 1., 1., 1.]])\n"
          ]
        }
      ],
      "source": [
        "z=torch.zeros(10,10)\n",
        "z[0,:]=1\n",
        "z[9,:]=1\n",
        "z[:,0]=1\n",
        "z[:,9]=1\n",
        "print(z[0,0])\n",
        "print(z)"
      ]
    },
    {
      "cell_type": "markdown",
      "metadata": {
        "id": "3pf24Y0R2YKX"
      },
      "source": [
        "11. Write a PyTorch snippet to create a 5x5 zero 2-tensor with elements on the main diagonal equal to 1, 2, 3, 4, 5."
      ]
    },
    {
      "cell_type": "code",
      "execution_count": null,
      "metadata": {
        "colab": {
          "base_uri": "https://localhost:8080/"
        },
        "id": "eb_vYa5n2Y8O",
        "outputId": "8deb0bb2-4ba1-412c-d90e-49f9ac09ac5e"
      },
      "outputs": [
        {
          "name": "stdout",
          "output_type": "stream",
          "text": [
            "tensor([[1., 0., 0., 0., 0.],\n",
            "        [0., 2., 0., 0., 0.],\n",
            "        [0., 0., 3., 0., 0.],\n",
            "        [0., 0., 0., 4., 0.],\n",
            "        [0., 0., 0., 0., 5.]])\n"
          ]
        }
      ],
      "source": [
        "p=torch.zeros(5,5)\n",
        "\n",
        "torch.diagonal(p).copy_(torch.arange(1,6))\n",
        "print(p)"
      ]
    },
    {
      "cell_type": "markdown",
      "metadata": {
        "id": "-BkVD0CA2hWL"
      },
      "source": [
        "12. Write a PyTorch snippet to save a given tensor as a binary to a given path."
      ]
    },
    {
      "cell_type": "code",
      "execution_count": null,
      "metadata": {
        "id": "DrpbNVax2igN"
      },
      "outputs": [],
      "source": [
        "path=\"data\"\n",
        "torch.save(p,path)"
      ]
    },
    {
      "cell_type": "markdown",
      "metadata": {
        "id": "1zoIfD1k2i71"
      },
      "source": [
        "13. Write a NumPy program to create a two-dimensional array of a specified format."
      ]
    },
    {
      "cell_type": "code",
      "execution_count": null,
      "metadata": {
        "colab": {
          "base_uri": "https://localhost:8080/"
        },
        "id": "xXnOECag2zvz",
        "outputId": "7585ae13-dbcc-41e8-a13f-1ec5b37dd08a"
      },
      "outputs": [
        {
          "name": "stdout",
          "output_type": "stream",
          "text": [
            "[3 5]\n"
          ]
        }
      ],
      "source": [
        "y=np.array([3,5])\n",
        "print(y)"
      ]
    },
    {
      "cell_type": "markdown",
      "metadata": {
        "id": "1V6fwGje28Ak"
      },
      "source": [
        "14. Write a PyTorch snippet to create a 2-tensor with shape (8,5) of random numbers. Select random numbers from a normal distribution (200,7) (mean, variance)."
      ]
    },
    {
      "cell_type": "code",
      "execution_count": null,
      "metadata": {
        "colab": {
          "base_uri": "https://localhost:8080/"
        },
        "id": "f5pdwN9d27Rr",
        "outputId": "cb190952-3b38-41d3-eab1-2abfe7176e48"
      },
      "outputs": [
        {
          "name": "stdout",
          "output_type": "stream",
          "text": [
            "tensor([[198.5609, 200.5960, 193.6224, 202.4721, 197.2944],\n",
            "        [199.3685, 203.4498, 197.2782, 198.2697, 199.7448],\n",
            "        [197.5080, 202.1228, 201.8537, 196.0445, 195.2853],\n",
            "        [203.2751, 200.4396, 200.1591, 200.1295, 202.4474],\n",
            "        [195.8905, 200.9134, 197.5169, 206.1516, 198.2888],\n",
            "        [199.8424, 200.3794, 197.2105, 199.4647, 199.1599],\n",
            "        [197.2578, 197.1456, 198.2422, 199.1407, 199.2640],\n",
            "        [198.4792, 202.1242, 200.7878, 198.8065, 195.0144]])\n"
          ]
        }
      ],
      "source": [
        "\n",
        "mean = 200\n",
        "var = 7\n",
        "std_dev = var ** 0.5\n",
        "t = torch.normal(mean, std_dev, size=(8, 5))\n",
        "print(t)"
      ]
    },
    {
      "cell_type": "markdown",
      "metadata": {
        "id": "hSVeltdw3IoY"
      },
      "source": [
        "15. Write a PyTorch snippet to generate a uniform, non-uniform random sample from a given vector with and without replacement (do all 4 combinations possible)."
      ]
    },
    {
      "cell_type": "code",
      "execution_count": null,
      "metadata": {
        "colab": {
          "base_uri": "https://localhost:8080/"
        },
        "id": "ZfDNMghS3Jof",
        "outputId": "8d0cacd2-eaf2-46bb-8026-407199e61fa5"
      },
      "outputs": [
        {
          "name": "stdout",
          "output_type": "stream",
          "text": [
            "Uniform with replacement: tensor([9, 2, 9])\n",
            "Uniform without replacement: tensor([2, 9, 3])\n",
            "Non-uniform with replacement: tensor([3, 3, 2])\n",
            "Non-uniform without replacement: tensor([4, 3, 6])\n"
          ]
        }
      ],
      "source": [
        "\n",
        "vector = torch.tensor([2,4,6,0,3,9])\n",
        "uniform_weights = torch.ones_like(vector, dtype=torch.float)\n",
        "non_uniform_weights = torch.tensor([1, 2, 3, 4, 5], dtype=torch.float)\n",
        "num_samples = 3\n",
        "#tensors\n",
        "uniform_with_replacement = torch.multinomial(uniform_weights, num_samples, replacement=True)\n",
        "print(\"Uniform with replacement:\", vector[uniform_with_replacement])\n",
        "uniform_without_replacement = torch.multinomial(uniform_weights, num_samples, replacement=False)\n",
        "print(\"Uniform without replacement:\", vector[uniform_without_replacement])\n",
        "non_uniform_with_replacement = torch.multinomial(non_uniform_weights, num_samples, replacement=True)\n",
        "print(\"Non-uniform with replacement:\", vector[non_uniform_with_replacement])\n",
        "non_uniform_without_replacement = torch.multinomial(non_uniform_weights, num_samples, replacement=False)\n",
        "print(\"Non-uniform without replacement:\", vector[non_uniform_without_replacement])"
      ]
    },
    {
      "cell_type": "markdown",
      "metadata": {
        "id": "DOIrjKBq3MjM"
      },
      "source": [
        "16. Write a Pyorch snippet to create an nxn(input to function) tensor with random values. Create an array from the said array swapping first and last rows."
      ]
    },
    {
      "cell_type": "code",
      "execution_count": null,
      "metadata": {
        "colab": {
          "base_uri": "https://localhost:8080/"
        },
        "id": "xFkWtcTN3MI3",
        "outputId": "bc231d02-790c-4905-da11-d70cc9599eff"
      },
      "outputs": [
        {
          "name": "stdout",
          "output_type": "stream",
          "text": [
            "tensor([[0.4741, 0.2700, 0.9948, 0.7020, 0.4998],\n",
            "        [0.6241, 0.3354, 0.7488, 0.0605, 0.6945],\n",
            "        [0.5511, 0.6207, 0.9581, 0.8376, 0.9498],\n",
            "        [0.7769, 0.8441, 0.2430, 0.4541, 0.5474],\n",
            "        [0.1435, 0.6053, 0.0908, 0.0753, 0.6932]])\n"
          ]
        }
      ],
      "source": [
        "n=5\n",
        "a=torch.rand(n,n)\n",
        "a[[0,n-1]]=a[[n-1,0]]\n",
        "print(a)"
      ]
    },
    {
      "cell_type": "markdown",
      "metadata": {
        "id": "e2yl3FJI3SOW"
      },
      "source": [
        "17. Write a PyTorch snippet to sort a given tensor (1D or 2D) in ascending order."
      ]
    },
    {
      "cell_type": "code",
      "execution_count": null,
      "metadata": {
        "colab": {
          "base_uri": "https://localhost:8080/"
        },
        "id": "FxiCfs8y3R8W",
        "outputId": "ef560b01-b52e-40d0-c9eb-3db52009f0d9"
      },
      "outputs": [
        {
          "name": "stdout",
          "output_type": "stream",
          "text": [
            "unsorted 1D tensor\n",
            "tensor([0.4550, 0.6257, 0.0476, 0.9717, 0.7690, 0.1599, 0.1633, 0.5440])\n",
            "sorted 1D tensor\n",
            "torch.return_types.sort(\n",
            "values=tensor([0.0476, 0.1599, 0.1633, 0.4550, 0.5440, 0.6257, 0.7690, 0.9717]),\n",
            "indices=tensor([2, 5, 6, 0, 7, 1, 4, 3]))\n",
            "unsorted 2D tensor\n",
            "tensor([[0.2103, 0.3666, 0.0409, 0.0986, 0.3325],\n",
            "        [0.3371, 0.0080, 0.6915, 0.0625, 0.6707],\n",
            "        [0.0167, 0.5502, 0.3582, 0.4404, 0.6113]])\n",
            "sorted 2D tensor\n",
            "torch.return_types.sort(\n",
            "values=tensor([[0.0409, 0.0986, 0.2103, 0.3325, 0.3666],\n",
            "        [0.0080, 0.0625, 0.3371, 0.6707, 0.6915],\n",
            "        [0.0167, 0.3582, 0.4404, 0.5502, 0.6113]]),\n",
            "indices=tensor([[2, 3, 0, 4, 1],\n",
            "        [1, 3, 0, 4, 2],\n",
            "        [0, 2, 3, 1, 4]]))\n"
          ]
        }
      ],
      "source": [
        "a=torch.rand(8)\n",
        "print(\"unsorted 1D tensor\")\n",
        "print(a)\n",
        "a=torch.sort(a)\n",
        "print(\"sorted 1D tensor\")\n",
        "print(a)\n",
        "a=torch.rand(3,5)\n",
        "print(\"unsorted 2D tensor\")\n",
        "print(a)\n",
        "a=torch.sort(a)\n",
        "print(\"sorted 2D tensor\")\n",
        "print(a)"
      ]
    },
    {
      "cell_type": "markdown",
      "metadata": {
        "id": "TY1htljY3X50"
      },
      "source": [
        "18. Write a PyTorch snippet to create a tensor of equal shape and data type for a given tensor (any dimensional)"
      ]
    },
    {
      "cell_type": "code",
      "execution_count": null,
      "metadata": {
        "colab": {
          "base_uri": "https://localhost:8080/"
        },
        "id": "br714aF43Xax",
        "outputId": "4c556436-1dcb-499f-a55a-1ed37e700a23"
      },
      "outputs": [
        {
          "name": "stdout",
          "output_type": "stream",
          "text": [
            "tensor([[0., 0., 0., 0., 0.],\n",
            "        [0., 0., 0., 0., 0.],\n",
            "        [0., 0., 0., 0., 0.],\n",
            "        [0., 0., 0., 0., 0.],\n",
            "        [0., 0., 0., 0., 0.]])\n"
          ]
        }
      ],
      "source": [
        "a=torch.rand(5,5)\n",
        "p=torch.zeros_like(a)\n",
        "print(p)\n"
      ]
    },
    {
      "cell_type": "markdown",
      "metadata": {
        "id": "jWZmWlDz3kE-"
      },
      "source": [
        "19. Write a PyTorch snippet to create an 8x8 matrix and fill it with a checkerboard pattern.\n",
        "Checkerboard pattern:\n",
        "```py\n",
        "[[0 1 0 1 0 1 0 1]\n",
        "..........\n",
        "[0 1 0 1 0 1 0 1]\n",
        "[1 0 1 0 1 0 1 0]]\n",
        "```"
      ]
    },
    {
      "cell_type": "code",
      "execution_count": null,
      "metadata": {
        "colab": {
          "base_uri": "https://localhost:8080/"
        },
        "id": "gUQpw8Fg3lag",
        "outputId": "4ae7349b-2057-4796-b137-611a893b30da"
      },
      "outputs": [
        {
          "name": "stdout",
          "output_type": "stream",
          "text": [
            "tensor([[0, 0, 0, 0, 0, 0, 0, 0],\n",
            "        [0, 0, 0, 0, 0, 0, 0, 0],\n",
            "        [0, 0, 0, 0, 0, 0, 0, 0],\n",
            "        [0, 0, 0, 0, 0, 0, 0, 0],\n",
            "        [0, 0, 0, 0, 0, 0, 0, 0],\n",
            "        [0, 0, 0, 0, 0, 0, 0, 0],\n",
            "        [0, 0, 0, 0, 0, 0, 0, 0],\n",
            "        [0, 0, 0, 0, 0, 0, 0, 0]])\n",
            "tensor([[0, 1, 0, 1, 0, 1, 0, 1],\n",
            "        [1, 0, 1, 0, 1, 0, 1, 0],\n",
            "        [0, 1, 0, 1, 0, 1, 0, 1],\n",
            "        [1, 0, 1, 0, 1, 0, 1, 0],\n",
            "        [0, 1, 0, 1, 0, 1, 0, 1],\n",
            "        [1, 0, 1, 0, 1, 0, 1, 0],\n",
            "        [0, 1, 0, 1, 0, 1, 0, 1],\n",
            "        [1, 0, 1, 0, 1, 0, 1, 0]])\n"
          ]
        }
      ],
      "source": [
        "a=torch.zeros(8,8,dtype=torch.int64)\n",
        "print(a)\n",
        "for i in range(8):\n",
        "  for j in range(8):\n",
        "    if((i+j)%2==0):\n",
        "      a[i,j]=0\n",
        "    else:\n",
        "      a[i,j]=1\n",
        "\n",
        "print(a)"
      ]
    },
    {
      "cell_type": "markdown",
      "metadata": {
        "id": "yB4L7Usg364D"
      },
      "source": [
        "20. Write a Pytorch snippet to convert Centigrade to Fahrenheit and vice versa (controlled by a parameter). Ensure you operation is vectorized i.e **no explicit looping**\n",
        "\n",
        "Sample Array: `[0, 12, 45.21, 34, 99.91]`"
      ]
    },
    {
      "cell_type": "code",
      "execution_count": null,
      "metadata": {
        "colab": {
          "base_uri": "https://localhost:8080/"
        },
        "id": "IPTecJEQ3_JC",
        "outputId": "991a0957-a7e6-49d9-fa45-f9e77ca34074"
      },
      "outputs": [
        {
          "name": "stdout",
          "output_type": "stream",
          "text": [
            "tensor([ 32.0000,  53.6000, 113.3780,  93.2000, 211.8380])\n"
          ]
        }
      ],
      "source": [
        "a=[0, 12, 45.21, 34, 99.91]\n",
        "a=torch.tensor(a)\n",
        "a=a*9/5\n",
        "a=a+32\n",
        "print(a)"
      ]
    },
    {
      "cell_type": "markdown",
      "metadata": {
        "id": "n8dqXvMZ4oFb"
      },
      "source": [
        "21. Write a PyTorch snippet to get the values of the elements that are bigger than a given *number* in a given tensor.\n",
        "\n",
        "Original tensor:\n",
        "```\n",
        "[[ 0 10 20]\n",
        "[20 30 40]]\n",
        "```\n",
        "Number: 10\n",
        "\n",
        "Values bigger than 10 = `[20 20 30 40]`"
      ]
    },
    {
      "cell_type": "code",
      "execution_count": null,
      "metadata": {
        "colab": {
          "base_uri": "https://localhost:8080/"
        },
        "id": "HwoDL-Kr4ww4",
        "outputId": "ce3d0c14-dad9-4819-b4e4-883c9b3355c3"
      },
      "outputs": [
        {
          "name": "stdout",
          "output_type": "stream",
          "text": [
            "tensor([20, 20, 30, 40])\n"
          ]
        }
      ],
      "source": [
        "k=[[ 0, 10, 20],\n",
        "[20, 30 ,40]]\n",
        "k=torch.tensor(k)\n",
        "ans=k[k>10]\n",
        "print(ans)"
      ]
    },
    {
      "cell_type": "markdown",
      "metadata": {
        "id": "QmR9luYk4xaa"
      },
      "source": [
        "22. Write a PyTorch snippet to create another shape from an array without changing its data. After carrying out the operation, change the data in one place and see if the other tensor changes\n",
        "\n",
        "Reshape 3x2:\n",
        "```\n",
        "[[1 2]\n",
        "[3 4]\n",
        "[5 6]]\n",
        "```\n",
        "Reshape 2x3:\n",
        "```\n",
        "[[1 2 3]\n",
        "[4 5 6]]\n",
        "```"
      ]
    },
    {
      "cell_type": "code",
      "execution_count": null,
      "metadata": {
        "colab": {
          "base_uri": "https://localhost:8080/"
        },
        "id": "oUvXdmtV5ZRJ",
        "outputId": "42c61333-4cd3-48a2-acf8-010ac2244ccf"
      },
      "outputs": [
        {
          "name": "stdout",
          "output_type": "stream",
          "text": [
            "before change\n",
            "tensor([[1, 2, 3],\n",
            "        [4, 5, 6]])\n",
            "tensor([[1, 2],\n",
            "        [3, 4],\n",
            "        [5, 6]])\n",
            "after change\n",
            "tensor([[9, 2, 3],\n",
            "        [4, 5, 6]])\n",
            "tensor([[9, 2],\n",
            "        [3, 4],\n",
            "        [5, 6]])\n"
          ]
        }
      ],
      "source": [
        "a=[[1, 2],\n",
        "[3, 4],\n",
        "[5, 6]]\n",
        "a=torch.tensor(a)\n",
        "z=a.reshape(2,3)\n",
        "print(\"before change\")\n",
        "print(z)\n",
        "print(a)\n",
        "\n",
        "z[0,0]=9\n",
        "print(\"after change\")\n",
        "print(z)\n",
        "print(a)\n",
        "\n",
        "#the original tensor changes with change in new tensor"
      ]
    },
    {
      "cell_type": "markdown",
      "metadata": {
        "id": "ew1n8aUg5QZA"
      },
      "source": [
        "23. Write a PyTorch snipppet to change an tensor's data type.\n",
        "```\n",
        "[[ 2 4 6]\n",
        "[ 6 8 10]]\n",
        "```\n",
        "Data type of the array x is: `int32`\n",
        "\n",
        "New Type: `float64`\n",
        "```\n",
        "[[ 2. 4. 6.]\n",
        "[ 6. 8. 10.]]\n",
        "```"
      ]
    },
    {
      "cell_type": "code",
      "execution_count": 4,
      "metadata": {
        "colab": {
          "base_uri": "https://localhost:8080/"
        },
        "id": "4ZE4P__az7HJ",
        "outputId": "8556f53e-e61e-4ac4-8fa2-c200164e36c1"
      },
      "outputs": [
        {
          "name": "stdout",
          "output_type": "stream",
          "text": [
            "torch.int32\n",
            "torch.float32\n"
          ]
        }
      ],
      "source": [
        "k=[[ 2, 4, 6],\n",
        "[ 6 ,8 ,10]]\n",
        "k=torch.tensor(k,dtype=torch.int32)\n",
        "print(k.dtype)\n",
        "k=k.to(torch.float32)\n",
        "print(k.dtype)\n"
      ]
    },
    {
      "cell_type": "markdown",
      "metadata": {
        "id": "0hf1vOk75-Df"
      },
      "source": [
        "24. Write a PyTorch snippet to insert a new axis within a 2-tensor, based on a **parameter**.\n",
        "\n",
        "Ex: If 2-tensor has shape (3, 4).\n",
        "\n",
        "Then, new shape can be (1, 3, 4), (3, 1, 4), or (3, 4, 1) depending on...."
      ]
    },
    {
      "cell_type": "code",
      "execution_count": null,
      "metadata": {
        "colab": {
          "base_uri": "https://localhost:8080/"
        },
        "id": "38vF5Dwk5Dbi",
        "outputId": "cd09c791-3423-4c3d-dd3a-7387d05f4627"
      },
      "outputs": [
        {
          "name": "stdout",
          "output_type": "stream",
          "text": [
            "tensor([[0.7981, 0.3776, 0.0074, 0.9615, 0.8834],\n",
            "        [0.8521, 0.6848, 0.5445, 0.9314, 0.3998],\n",
            "        [0.9037, 0.1409, 0.4357, 0.5268, 0.0185]])\n",
            "torch.Size([3, 5])\n",
            "tensor([[[0.7981, 0.3776, 0.0074, 0.9615, 0.8834],\n",
            "         [0.8521, 0.6848, 0.5445, 0.9314, 0.3998],\n",
            "         [0.9037, 0.1409, 0.4357, 0.5268, 0.0185]]])\n",
            "torch.Size([1, 3, 5])\n",
            "tensor([[[0.7981],\n",
            "         [0.3776],\n",
            "         [0.0074],\n",
            "         [0.9615],\n",
            "         [0.8834]],\n",
            "\n",
            "        [[0.8521],\n",
            "         [0.6848],\n",
            "         [0.5445],\n",
            "         [0.9314],\n",
            "         [0.3998]],\n",
            "\n",
            "        [[0.9037],\n",
            "         [0.1409],\n",
            "         [0.4357],\n",
            "         [0.5268],\n",
            "         [0.0185]]])\n",
            "torch.Size([3, 5, 1])\n"
          ]
        }
      ],
      "source": [
        "q=torch.rand(3,5)\n",
        "print(q)\n",
        "print(q.size())\n",
        "z=torch.unsqueeze(q,0)\n",
        "print(z)\n",
        "print(z.size())\n",
        "z=torch.unsqueeze(q,2)\n",
        "print(z)\n",
        "print(z.size())"
      ]
    },
    {
      "cell_type": "markdown",
      "metadata": {
        "id": "K4GeygLp7wAt"
      },
      "source": [
        "25. Write a PyTorch snippet to stack tensors based on a parameter, **axis**.\n",
        "First discover what this means with 2-tensors, then extend it to 3-tensors. Print your findings.\n",
        "\n",
        "Sample Output:\n",
        "\n",
        "Original tensors:\n",
        "\n",
        "Tensor-1\n",
        "```\n",
        "[[0 1 2]\n",
        "[3 4 5]\n",
        "[6 7 8]]\n",
        "```\n",
        "Tensor-2\n",
        "```\n",
        "[[ 0 3 6]\n",
        "[ 9 12 15]\n",
        "[18 21 24]]\n",
        "```\n",
        "Stack tensors such that axis=1:\n",
        "```\n",
        "[[ 0 1 2 0 3 6]\n",
        "[ 3 4 5 9 12 15]\n",
        "[ 6 7 8 18 21 24]]\n",
        "```"
      ]
    },
    {
      "cell_type": "code",
      "execution_count": null,
      "metadata": {
        "colab": {
          "base_uri": "https://localhost:8080/"
        },
        "id": "-37mCkKH75fN",
        "outputId": "13cb50cd-b120-4c21-b1a6-cf28fc749c8f"
      },
      "outputs": [
        {
          "name": "stdout",
          "output_type": "stream",
          "text": [
            "tensor([[ 0,  1,  2,  0,  3,  6],\n",
            "        [ 3,  4,  5,  9, 12, 15],\n",
            "        [ 6,  7,  8, 18, 21, 24]])\n",
            "tensor([[ 0,  1,  2,  0,  3,  6,  0,  3,  6],\n",
            "        [ 3,  4,  5,  9, 12, 15,  9, 12, 15],\n",
            "        [ 6,  7,  8, 18, 21, 24, 18, 21, 24]])\n",
            "with three tensors it works similar to 2 tensor\n"
          ]
        }
      ],
      "source": [
        "ten_1=[[0, 1, 2],\n",
        "[3, 4, 5],\n",
        "[6, 7, 8]]\n",
        "ten_1=torch.tensor(ten_1)\n",
        "ten_2=[[ 0, 3, 6],\n",
        "[ 9, 12, 15],\n",
        "[18, 21, 24]]\n",
        "ten_2=torch.tensor(ten_2)\n",
        "\n",
        "axis=1\n",
        "\n",
        "ans=torch.cat((ten_1,ten_2),axis)\n",
        "print(ans)\n",
        "\n",
        "ten_3=[[ 0, 3, 6],\n",
        "[ 9, 12, 15],\n",
        "[18, 21, 24]]\n",
        "ten_3=torch.tensor(ten_3)\n",
        "\n",
        "a=torch.cat((ten_1,ten_2,ten_3),axis)\n",
        "print(a)\n",
        "\n",
        "\n",
        "print(\"with three tensors it works similar to 2 tensor\")"
      ]
    },
    {
      "cell_type": "markdown",
      "metadata": {
        "id": "6kix-xlh8hFz"
      },
      "source": [
        "26. Write a PyTorch snippet to extract the **m**th to **n**th elements of the **m**th to **n**th rows from the **m**th to nth elemnts of given 3-tensor, of shape `(p, q, r)` where m, n < p, q, r.\n",
        "\n",
        "Take a 3-tensor of (say) size `(5,6,7)` and `(m, n)` = `(4, 5)` as a test case!"
      ]
    },
    {
      "cell_type": "code",
      "execution_count": null,
      "metadata": {
        "colab": {
          "base_uri": "https://localhost:8080/"
        },
        "id": "YC3FVuym04O-",
        "outputId": "5a3ead20-42fc-4c8a-ce95-465b0365a5b3"
      },
      "outputs": [
        {
          "name": "stdout",
          "output_type": "stream",
          "text": [
            "tensor([[[0.0360, 0.8920, 0.1085, 0.4015, 0.2461, 0.6903, 0.2101],\n",
            "         [0.0806, 0.8759, 0.1553, 0.3884, 0.3090, 0.5088, 0.8685],\n",
            "         [0.2747, 0.1344, 0.5189, 0.2371, 0.7033, 0.9598, 0.3147],\n",
            "         [0.6057, 0.9433, 0.7336, 0.3373, 0.4931, 0.5230, 0.0411],\n",
            "         [0.3939, 0.4364, 0.5442, 0.7958, 0.6359, 0.9710, 0.9965],\n",
            "         [0.9073, 0.9595, 0.3512, 0.9649, 0.4584, 0.3081, 0.5579]],\n",
            "\n",
            "        [[0.5222, 0.2245, 0.8617, 0.2906, 0.2356, 0.1070, 0.1478],\n",
            "         [0.1570, 0.9005, 0.9582, 0.7584, 0.9258, 0.7955, 0.6319],\n",
            "         [0.4850, 0.4500, 0.3121, 0.9610, 0.7005, 0.7664, 0.6215],\n",
            "         [0.2001, 0.2299, 0.9773, 0.0709, 0.8678, 0.2659, 0.1375],\n",
            "         [0.1077, 0.8514, 0.5896, 0.8052, 0.3690, 0.1435, 0.8500],\n",
            "         [0.3255, 0.9639, 0.4361, 0.2128, 0.2984, 0.3988, 0.8207]],\n",
            "\n",
            "        [[0.6599, 0.9686, 0.0746, 0.3541, 0.7159, 0.0272, 0.4505],\n",
            "         [0.7939, 0.1535, 0.9776, 0.7907, 0.5374, 0.6902, 0.7741],\n",
            "         [0.6266, 0.9330, 0.2202, 0.4086, 0.0100, 0.1965, 0.6183],\n",
            "         [0.7577, 0.2387, 0.4410, 0.1516, 0.9800, 0.8852, 0.9821],\n",
            "         [0.2896, 0.9509, 0.8018, 0.4394, 0.9310, 0.6796, 0.9825],\n",
            "         [0.6025, 0.0746, 0.8334, 0.7231, 0.6748, 0.4130, 0.8884]],\n",
            "\n",
            "        [[0.2635, 0.9713, 0.2895, 0.4513, 0.7215, 0.8560, 0.0968],\n",
            "         [0.4862, 0.3524, 0.2232, 0.1526, 0.8291, 0.2956, 0.3156],\n",
            "         [0.5772, 0.9225, 0.2877, 0.2072, 0.6640, 0.8513, 0.7238],\n",
            "         [0.4407, 0.6681, 0.3076, 0.1321, 0.2625, 0.4932, 0.7707],\n",
            "         [0.6524, 0.7980, 0.6684, 0.5414, 0.3753, 0.8829, 0.2095],\n",
            "         [0.4555, 0.2931, 0.3761, 0.2565, 0.8369, 0.2946, 0.3251]],\n",
            "\n",
            "        [[0.0994, 0.3794, 0.8188, 0.1716, 0.3471, 0.6171, 0.6122],\n",
            "         [0.6156, 0.5213, 0.4729, 0.7417, 0.0813, 0.9142, 0.7925],\n",
            "         [0.4186, 0.3256, 0.0923, 0.2152, 0.0586, 0.8817, 0.9237],\n",
            "         [0.7501, 0.4768, 0.1991, 0.3400, 0.3560, 0.3143, 0.4518],\n",
            "         [0.7608, 0.8918, 0.1562, 0.3440, 0.2679, 0.9368, 0.9591],\n",
            "         [0.5287, 0.4269, 0.2495, 0.5034, 0.3016, 0.3573, 0.8126]]])\n",
            "tensor([0.5287, 0.4269, 0.2495, 0.5034, 0.3016, 0.3573, 0.8126])\n"
          ]
        }
      ],
      "source": [
        "b=torch.rand(5,6,7)\n",
        "m=4\n",
        "n=5\n",
        "print(b)\n",
        "print(b[m,n,:])"
      ]
    },
    {
      "cell_type": "markdown",
      "metadata": {
        "id": "IxOFseFaxEQu"
      },
      "source": [
        "### **Test your Understanding**"
      ]
    },
    {
      "cell_type": "markdown",
      "metadata": {
        "id": "Vzbo4s_KAsE9"
      },
      "source": [
        "1. Given a 3D tensor of shape `(a, b, c)`*italicised text*, permute its axes to obtain tensors of all other shape combinations (i.e 5)."
      ]
    },
    {
      "cell_type": "code",
      "execution_count": null,
      "metadata": {
        "colab": {
          "base_uri": "https://localhost:8080/"
        },
        "id": "R791RvsIAh3O",
        "outputId": "6eadc460-5346-4207-e789-a0b72f35ec04"
      },
      "outputs": [
        {
          "name": "stdout",
          "output_type": "stream",
          "text": [
            "original tensor tensor([[[6.6459e-01, 9.2443e-01, 3.7409e-01, 9.4291e-01, 6.3707e-01],\n",
            "         [4.7361e-01, 5.1087e-01, 8.9752e-01, 7.3345e-01, 6.7849e-01],\n",
            "         [7.8552e-01, 2.0424e-01, 2.9944e-01, 3.6286e-01, 3.7256e-03],\n",
            "         [2.1634e-01, 8.2296e-01, 4.2996e-01, 6.2112e-01, 4.9642e-01]],\n",
            "\n",
            "        [[7.3193e-01, 7.4580e-01, 1.9971e-01, 5.4694e-01, 9.2835e-01],\n",
            "         [4.1596e-01, 1.9881e-01, 5.9809e-01, 8.5608e-01, 9.9739e-01],\n",
            "         [9.9440e-01, 7.1575e-01, 4.3112e-01, 2.8601e-01, 9.0608e-01],\n",
            "         [9.9052e-01, 1.7398e-01, 1.0763e-01, 8.3347e-01, 5.7019e-01]],\n",
            "\n",
            "        [[5.7545e-01, 8.3838e-01, 2.0439e-02, 9.2322e-01, 7.0294e-01],\n",
            "         [4.2581e-01, 4.4971e-01, 2.5173e-01, 2.3505e-01, 9.3164e-01],\n",
            "         [1.5920e-04, 2.3572e-01, 9.5173e-01, 6.4317e-01, 4.8725e-02],\n",
            "         [9.5768e-01, 3.3038e-01, 8.4508e-01, 9.2946e-01, 4.2310e-01]]])\n",
            "first permutation tensor([[[6.6459e-01, 4.7361e-01, 7.8552e-01, 2.1634e-01],\n",
            "         [9.2443e-01, 5.1087e-01, 2.0424e-01, 8.2296e-01],\n",
            "         [3.7409e-01, 8.9752e-01, 2.9944e-01, 4.2996e-01],\n",
            "         [9.4291e-01, 7.3345e-01, 3.6286e-01, 6.2112e-01],\n",
            "         [6.3707e-01, 6.7849e-01, 3.7256e-03, 4.9642e-01]],\n",
            "\n",
            "        [[7.3193e-01, 4.1596e-01, 9.9440e-01, 9.9052e-01],\n",
            "         [7.4580e-01, 1.9881e-01, 7.1575e-01, 1.7398e-01],\n",
            "         [1.9971e-01, 5.9809e-01, 4.3112e-01, 1.0763e-01],\n",
            "         [5.4694e-01, 8.5608e-01, 2.8601e-01, 8.3347e-01],\n",
            "         [9.2835e-01, 9.9739e-01, 9.0608e-01, 5.7019e-01]],\n",
            "\n",
            "        [[5.7545e-01, 4.2581e-01, 1.5920e-04, 9.5768e-01],\n",
            "         [8.3838e-01, 4.4971e-01, 2.3572e-01, 3.3038e-01],\n",
            "         [2.0439e-02, 2.5173e-01, 9.5173e-01, 8.4508e-01],\n",
            "         [9.2322e-01, 2.3505e-01, 6.4317e-01, 9.2946e-01],\n",
            "         [7.0294e-01, 9.3164e-01, 4.8725e-02, 4.2310e-01]]])\n",
            "second permutationtensor([[[6.6459e-01, 7.3193e-01, 5.7545e-01],\n",
            "         [9.2443e-01, 7.4580e-01, 8.3838e-01],\n",
            "         [3.7409e-01, 1.9971e-01, 2.0439e-02],\n",
            "         [9.4291e-01, 5.4694e-01, 9.2322e-01],\n",
            "         [6.3707e-01, 9.2835e-01, 7.0294e-01]],\n",
            "\n",
            "        [[4.7361e-01, 4.1596e-01, 4.2581e-01],\n",
            "         [5.1087e-01, 1.9881e-01, 4.4971e-01],\n",
            "         [8.9752e-01, 5.9809e-01, 2.5173e-01],\n",
            "         [7.3345e-01, 8.5608e-01, 2.3505e-01],\n",
            "         [6.7849e-01, 9.9739e-01, 9.3164e-01]],\n",
            "\n",
            "        [[7.8552e-01, 9.9440e-01, 1.5920e-04],\n",
            "         [2.0424e-01, 7.1575e-01, 2.3572e-01],\n",
            "         [2.9944e-01, 4.3112e-01, 9.5173e-01],\n",
            "         [3.6286e-01, 2.8601e-01, 6.4317e-01],\n",
            "         [3.7256e-03, 9.0608e-01, 4.8725e-02]],\n",
            "\n",
            "        [[2.1634e-01, 9.9052e-01, 9.5768e-01],\n",
            "         [8.2296e-01, 1.7398e-01, 3.3038e-01],\n",
            "         [4.2996e-01, 1.0763e-01, 8.4508e-01],\n",
            "         [6.2112e-01, 8.3347e-01, 9.2946e-01],\n",
            "         [4.9642e-01, 5.7019e-01, 4.2310e-01]]])\n",
            "third permutationtensor([[[6.6459e-01, 9.2443e-01, 3.7409e-01, 9.4291e-01, 6.3707e-01],\n",
            "         [4.7361e-01, 5.1087e-01, 8.9752e-01, 7.3345e-01, 6.7849e-01],\n",
            "         [7.8552e-01, 2.0424e-01, 2.9944e-01, 3.6286e-01, 3.7256e-03],\n",
            "         [2.1634e-01, 8.2296e-01, 4.2996e-01, 6.2112e-01, 4.9642e-01]],\n",
            "\n",
            "        [[7.3193e-01, 7.4580e-01, 1.9971e-01, 5.4694e-01, 9.2835e-01],\n",
            "         [4.1596e-01, 1.9881e-01, 5.9809e-01, 8.5608e-01, 9.9739e-01],\n",
            "         [9.9440e-01, 7.1575e-01, 4.3112e-01, 2.8601e-01, 9.0608e-01],\n",
            "         [9.9052e-01, 1.7398e-01, 1.0763e-01, 8.3347e-01, 5.7019e-01]],\n",
            "\n",
            "        [[5.7545e-01, 8.3838e-01, 2.0439e-02, 9.2322e-01, 7.0294e-01],\n",
            "         [4.2581e-01, 4.4971e-01, 2.5173e-01, 2.3505e-01, 9.3164e-01],\n",
            "         [1.5920e-04, 2.3572e-01, 9.5173e-01, 6.4317e-01, 4.8725e-02],\n",
            "         [9.5768e-01, 3.3038e-01, 8.4508e-01, 9.2946e-01, 4.2310e-01]]])\n",
            "fourth permutation tensor([[[6.6459e-01, 7.3193e-01, 5.7545e-01],\n",
            "         [9.2443e-01, 7.4580e-01, 8.3838e-01],\n",
            "         [3.7409e-01, 1.9971e-01, 2.0439e-02],\n",
            "         [9.4291e-01, 5.4694e-01, 9.2322e-01],\n",
            "         [6.3707e-01, 9.2835e-01, 7.0294e-01]],\n",
            "\n",
            "        [[4.7361e-01, 4.1596e-01, 4.2581e-01],\n",
            "         [5.1087e-01, 1.9881e-01, 4.4971e-01],\n",
            "         [8.9752e-01, 5.9809e-01, 2.5173e-01],\n",
            "         [7.3345e-01, 8.5608e-01, 2.3505e-01],\n",
            "         [6.7849e-01, 9.9739e-01, 9.3164e-01]],\n",
            "\n",
            "        [[7.8552e-01, 9.9440e-01, 1.5920e-04],\n",
            "         [2.0424e-01, 7.1575e-01, 2.3572e-01],\n",
            "         [2.9944e-01, 4.3112e-01, 9.5173e-01],\n",
            "         [3.6286e-01, 2.8601e-01, 6.4317e-01],\n",
            "         [3.7256e-03, 9.0608e-01, 4.8725e-02]],\n",
            "\n",
            "        [[2.1634e-01, 9.9052e-01, 9.5768e-01],\n",
            "         [8.2296e-01, 1.7398e-01, 3.3038e-01],\n",
            "         [4.2996e-01, 1.0763e-01, 8.4508e-01],\n",
            "         [6.2112e-01, 8.3347e-01, 9.2946e-01],\n",
            "         [4.9642e-01, 5.7019e-01, 4.2310e-01]]])\n",
            "fifth permutaion tensor([[[6.6459e-01, 7.3193e-01, 5.7545e-01],\n",
            "         [4.7361e-01, 4.1596e-01, 4.2581e-01],\n",
            "         [7.8552e-01, 9.9440e-01, 1.5920e-04],\n",
            "         [2.1634e-01, 9.9052e-01, 9.5768e-01]],\n",
            "\n",
            "        [[9.2443e-01, 7.4580e-01, 8.3838e-01],\n",
            "         [5.1087e-01, 1.9881e-01, 4.4971e-01],\n",
            "         [2.0424e-01, 7.1575e-01, 2.3572e-01],\n",
            "         [8.2296e-01, 1.7398e-01, 3.3038e-01]],\n",
            "\n",
            "        [[3.7409e-01, 1.9971e-01, 2.0439e-02],\n",
            "         [8.9752e-01, 5.9809e-01, 2.5173e-01],\n",
            "         [2.9944e-01, 4.3112e-01, 9.5173e-01],\n",
            "         [4.2996e-01, 1.0763e-01, 8.4508e-01]],\n",
            "\n",
            "        [[9.4291e-01, 5.4694e-01, 9.2322e-01],\n",
            "         [7.3345e-01, 8.5608e-01, 2.3505e-01],\n",
            "         [3.6286e-01, 2.8601e-01, 6.4317e-01],\n",
            "         [6.2112e-01, 8.3347e-01, 9.2946e-01]],\n",
            "\n",
            "        [[6.3707e-01, 9.2835e-01, 7.0294e-01],\n",
            "         [6.7849e-01, 9.9739e-01, 9.3164e-01],\n",
            "         [3.7256e-03, 9.0608e-01, 4.8725e-02],\n",
            "         [4.9642e-01, 5.7019e-01, 4.2310e-01]]])\n"
          ]
        }
      ],
      "source": [
        "shape=torch.rand(3,4,5)\n",
        "print(f\"original tensor {shape}\")\n",
        "shape=shape.permute((0,2,1))\n",
        "print(f\"first permutation {shape}\")\n",
        "shape=shape.permute((2,1,0))\n",
        "print(f\"second permutation{shape}\")\n",
        "shape=shape.permute((2,0,1))\n",
        "print(f\"third permutation{shape}\")\n",
        "shape=shape.permute((1,2,0))\n",
        "print(f\"fourth permutation {shape}\")\n",
        "shape=shape.permute((1,0,2))\n",
        "print(f\"fifth permutaion {shape}\")\n"
      ]
    },
    {
      "cell_type": "markdown",
      "metadata": {
        "id": "CwETJF5fAz-j"
      },
      "source": [
        "2. Given a 4D tensor of shape `(2, 3, 4, 5)`, transpose it to obtain a tensor of shape `(2, 4, 5, 3)`. Also explore what is_contiguous() means..."
      ]
    },
    {
      "cell_type": "code",
      "execution_count": null,
      "metadata": {
        "colab": {
          "base_uri": "https://localhost:8080/"
        },
        "id": "tfdlEGx3Ag2B",
        "outputId": "1b96f0b0-ec1c-41ac-b705-9cba80cbe7a3"
      },
      "outputs": [
        {
          "name": "stdout",
          "output_type": "stream",
          "text": [
            "tensor([[[[0.5360, 0.9702, 0.7171],\n",
            "          [0.9274, 0.7075, 0.5692],\n",
            "          [0.3915, 0.9585, 0.4865],\n",
            "          [0.6480, 0.2725, 0.5785],\n",
            "          [0.6180, 0.1252, 0.9104]],\n",
            "\n",
            "         [[0.0055, 0.2961, 0.2689],\n",
            "          [0.9469, 0.5507, 0.7138],\n",
            "          [0.1634, 0.1155, 0.8859],\n",
            "          [0.2759, 0.4862, 0.8614],\n",
            "          [0.9136, 0.2349, 0.2309]],\n",
            "\n",
            "         [[0.7749, 0.2346, 0.0200],\n",
            "          [0.9226, 0.9757, 0.4632],\n",
            "          [0.4766, 0.6690, 0.9909],\n",
            "          [0.9733, 0.8706, 0.3200],\n",
            "          [0.4031, 0.8658, 0.3800]],\n",
            "\n",
            "         [[0.3470, 0.6733, 0.5699],\n",
            "          [0.7106, 0.1510, 0.8775],\n",
            "          [0.4961, 0.3167, 0.2783],\n",
            "          [0.1275, 0.8977, 0.0565],\n",
            "          [0.1353, 0.5196, 0.9362]]],\n",
            "\n",
            "\n",
            "        [[[0.4023, 0.9561, 0.4321],\n",
            "          [0.8090, 0.8111, 0.9678],\n",
            "          [0.4674, 0.1901, 0.1713],\n",
            "          [0.1818, 0.0475, 0.4338],\n",
            "          [0.1452, 0.0317, 0.7130]],\n",
            "\n",
            "         [[0.8314, 0.2506, 0.6097],\n",
            "          [0.8445, 0.7322, 0.1298],\n",
            "          [0.0832, 0.1614, 0.1958],\n",
            "          [0.0014, 0.0257, 0.5921],\n",
            "          [0.0051, 0.2097, 0.0081]],\n",
            "\n",
            "         [[0.7474, 0.7635, 0.8879],\n",
            "          [0.7109, 0.4985, 0.9154],\n",
            "          [0.5345, 0.4019, 0.6111],\n",
            "          [0.2405, 0.0220, 0.0102],\n",
            "          [0.8192, 0.0823, 0.3334]],\n",
            "\n",
            "         [[0.5341, 0.6138, 0.7045],\n",
            "          [0.9921, 0.3141, 0.2348],\n",
            "          [0.8167, 0.3607, 0.0177],\n",
            "          [0.4734, 0.0817, 0.8022],\n",
            "          [0.8474, 0.3679, 0.5421]]]])\n",
            "torch.Size([2, 4, 5, 3])\n"
          ]
        }
      ],
      "source": [
        "ten=torch.rand(2,3,4,5)\n",
        "ten=ten.permute(0,2,3,1)\n",
        "print(ten)\n",
        "print(ten.shape)"
      ]
    },
    {
      "cell_type": "markdown",
      "metadata": {
        "id": "W13ajP4aBO3v"
      },
      "source": [
        "3. Given two tensors, one of shape (n, 1) and another of shape (m, ), perform an element-wise addition."
      ]
    },
    {
      "cell_type": "code",
      "execution_count": null,
      "metadata": {
        "colab": {
          "base_uri": "https://localhost:8080/"
        },
        "id": "3AtpWGh1Bdpd",
        "outputId": "a0f0110d-21f0-4c86-c819-1334a1738617"
      },
      "outputs": [
        {
          "name": "stdout",
          "output_type": "stream",
          "text": [
            "tensor_1tensor([[-0.8209],\n",
            "        [-0.7814],\n",
            "        [-0.2197],\n",
            "        [-1.8309],\n",
            "        [ 0.0318]])\n",
            "tensor_2tensor([-1.4207,  1.4746, -0.1698])\n",
            "result tensor([[-2.2416,  0.6537, -0.9907],\n",
            "        [-2.2021,  0.6932, -0.9512],\n",
            "        [-1.6404,  1.2549, -0.3895],\n",
            "        [-3.2516, -0.3563, -2.0007],\n",
            "        [-1.3889,  1.5064, -0.1380]])\n",
            "result shape torch.Size([5, 3])\n"
          ]
        }
      ],
      "source": [
        "n, m = 5, 3\n",
        "tensor1 = torch.randn(n, 1)\n",
        "tensor2 = torch.randn(m)\n",
        "\n",
        "result = tensor1 + tensor2\n",
        "print(f\"tensor_1{tensor1}\")\n",
        "print(f\"tensor_2{tensor2}\")\n",
        "print(f\"result {result}\")\n",
        "print(f\"result shape {result.size()}\")"
      ]
    },
    {
      "cell_type": "markdown",
      "metadata": {
        "id": "LnyUlwKWBeUz"
      },
      "source": [
        "4. Given a 3D tensor of shape `(4, 4, 4)`, extract a sub-tensor of shape `(2, 2, 2)` starting from the element at index `(1, 1, 1)`**bold text**."
      ]
    },
    {
      "cell_type": "code",
      "execution_count": null,
      "metadata": {
        "colab": {
          "base_uri": "https://localhost:8080/"
        },
        "id": "1oRhgDE6BqKg",
        "outputId": "b0aa8020-1dc5-46ce-9dfb-2203323cdf27"
      },
      "outputs": [
        {
          "name": "stdout",
          "output_type": "stream",
          "text": [
            "original tensor tensor([[[0.4552, 0.8978, 0.6144, 0.8943],\n",
            "         [0.9769, 0.5367, 0.5561, 0.7012],\n",
            "         [0.1736, 0.2349, 0.8525, 0.2318],\n",
            "         [0.8700, 0.0814, 0.1705, 0.8486]],\n",
            "\n",
            "        [[0.0459, 0.3290, 0.4355, 0.7830],\n",
            "         [0.3386, 0.3198, 0.0747, 0.3852],\n",
            "         [0.0128, 0.5151, 0.6174, 0.2170],\n",
            "         [0.8595, 0.5475, 0.1924, 0.9385]],\n",
            "\n",
            "        [[0.1908, 0.9321, 0.1785, 0.7736],\n",
            "         [0.1886, 0.9813, 0.2817, 0.8219],\n",
            "         [0.8467, 0.7782, 0.0998, 0.8243],\n",
            "         [0.1232, 0.3923, 0.3314, 0.7339]],\n",
            "\n",
            "        [[0.4955, 0.1150, 0.3243, 0.6364],\n",
            "         [0.2074, 0.3831, 0.2856, 0.2613],\n",
            "         [0.4126, 0.2130, 0.2610, 0.7227],\n",
            "         [0.3726, 0.0791, 0.1219, 0.8844]]])\n",
            "sub tensortensor([[[0.3198, 0.0747],\n",
            "         [0.5151, 0.6174]],\n",
            "\n",
            "        [[0.9813, 0.2817],\n",
            "         [0.7782, 0.0998]]])\n",
            "torch.Size([2, 2, 2])\n"
          ]
        }
      ],
      "source": [
        "ten=torch.rand(4,4,4)\n",
        "print(f\"original tensor {ten}\")\n",
        "sub=ten[1:3,1:3,1:3]\n",
        "print(f\"sub tensor{sub}\")\n",
        "print(sub.shape)"
      ]
    },
    {
      "cell_type": "markdown",
      "metadata": {
        "id": "-GJaZaZyBsaU"
      },
      "source": [
        "5. Given a 2-tensor of arbitrary shape, rotate it 90 degrees anticlockwise.\n",
        "\n"
      ]
    },
    {
      "cell_type": "code",
      "execution_count": null,
      "metadata": {
        "colab": {
          "base_uri": "https://localhost:8080/"
        },
        "id": "fb5enhEsB1Um",
        "outputId": "5b5b4f3a-5105-4641-d387-b53a4822554f"
      },
      "outputs": [
        {
          "name": "stdout",
          "output_type": "stream",
          "text": [
            "original tensor tensor([[0.9626, 0.0940, 0.5059, 0.5552, 0.0401],\n",
            "        [0.5279, 0.7808, 0.6768, 0.3707, 0.8917],\n",
            "        [0.8098, 0.2746, 0.2653, 0.1907, 0.5132],\n",
            "        [0.1418, 0.2241, 0.1053, 0.6440, 0.4196]])\n",
            "tensor([[0.0401, 0.8917, 0.5132, 0.4196],\n",
            "        [0.5552, 0.3707, 0.1907, 0.6440],\n",
            "        [0.5059, 0.6768, 0.2653, 0.1053],\n",
            "        [0.0940, 0.7808, 0.2746, 0.2241],\n",
            "        [0.9626, 0.5279, 0.8098, 0.1418]])\n"
          ]
        }
      ],
      "source": [
        "a=torch.rand(4,5)\n",
        "print(f\"original tensor {a}\")\n",
        "b=torch.rot90(a,1)\n",
        "print(b)"
      ]
    },
    {
      "cell_type": "markdown",
      "metadata": {
        "id": "DNTlDxZ4C4-R"
      },
      "source": [
        "### **EVEN I HAD TO THINK...**"
      ]
    },
    {
      "cell_type": "markdown",
      "metadata": {
        "id": "Mh71KC4rDAcY"
      },
      "source": [
        "1. Implement a custom operation that computes the **element-wise** **sine** of a tensor *and* its **gradient** using torch.autograd.Function.\n",
        "- You need to implement both the forward() and backward() methods.\n",
        "- For an example, look no further than the [PyTorch docs](https://pytorch.org/docs/stable/autograd.html#function)!\n",
        "- Test it out on a matrix of arbitrary size!"
      ]
    },
    {
      "cell_type": "code",
      "execution_count": null,
      "metadata": {
        "id": "0Ntq8CgFC9jy"
      },
      "outputs": [],
      "source": []
    },
    {
      "cell_type": "markdown",
      "metadata": {
        "id": "s6GDwW-dFCyT"
      },
      "source": [
        "2. One of the most important aspects of improving model performance ins normalization. Implement a custom NN normalization layer that performs either a **batch** or **layer** normalization (based on a **dim** parameter)and integrate it into a simple feedforward neural network.\n",
        "- Note that you dont need to implement any backward() here, for simplicity.\n",
        "- Consider your input tensor to the neural network as of shape (m, n) where m is num of examples, n is num of features.\n",
        "- Which value of **dim** leads to batch and layer normalization?"
      ]
    },
    {
      "cell_type": "code",
      "execution_count": 39,
      "metadata": {
        "colab": {
          "base_uri": "https://localhost:8080/"
        },
        "id": "KiofKZz_FgHd",
        "outputId": "5dcb7817-cb66-4d8c-eca2-cb427938765d"
      },
      "outputs": [
        {
          "name": "stdout",
          "output_type": "stream",
          "text": [
            "Batch Normalized:\n",
            " tensor([[-0.3935, -0.5172, -1.1634, -1.2547, -1.0160,  0.3033,  0.0401, -0.1053,\n",
            "          0.3280,  0.8198],\n",
            "        [ 0.7695, -0.1904,  0.2565,  0.1817,  0.5212, -0.8106, -0.1772,  1.7209,\n",
            "         -0.5681,  0.9507],\n",
            "        [-1.2005,  1.7697,  1.2371,  1.3734,  0.5996, -1.1759,  0.1604, -0.2878,\n",
            "          0.6691, -0.4694],\n",
            "        [ 1.2701, -0.5382, -0.8707,  0.3300, -1.1320,  0.3667,  1.3920, -0.4862,\n",
            "         -1.4453, -1.4743],\n",
            "        [-0.4456, -0.5239,  0.5405, -0.6304,  1.0272,  1.3166, -1.4154, -0.8416,\n",
            "          1.0163,  0.1732]])\n",
            "Layer Normalized:\n",
            " tensor([[-0.3079, -0.2784, -1.9602, -1.1318, -0.0142,  0.9274,  0.7199,  0.3767,\n",
            "          0.2052,  1.4634],\n",
            "        [ 0.0602, -0.6701,  0.1115,  0.3040,  0.1577, -0.7858, -0.3762,  2.2158,\n",
            "         -1.5649,  0.5478],\n",
            "        [-1.5241,  0.8839,  1.4143,  1.5195,  0.0781, -0.9549, -0.1125, -0.6675,\n",
            "         -0.2571, -0.3796],\n",
            "        [ 0.9493, -0.3555, -1.0970,  0.9418, -0.2096,  0.5609,  1.5761, -0.3471,\n",
            "         -1.6731, -0.3458],\n",
            "        [-0.7233, -0.6508,  1.1098, -0.4696,  0.9455,  1.2706, -1.3923, -1.2250,\n",
            "          0.6361,  0.4989]])\n",
            "Output:\n",
            " tensor([[ 0.5901, -0.1186],\n",
            "        [-0.0620,  1.0276],\n",
            "        [-0.1866,  0.3692],\n",
            "        [-1.0621,  0.2412],\n",
            "        [ 0.6620, -0.1496]], grad_fn=<AddmmBackward0>)\n"
          ]
        }
      ],
      "source": [
        "\n",
        "\n",
        "class CustomNormalization(nn.Module):\n",
        "    def __init__(self, dim):\n",
        "        super(CustomNormalization, self).__init__()\n",
        "        self.dim = dim\n",
        "\n",
        "    def forward(self, x):\n",
        "        if self.dim == 0:\n",
        "            # Batch normalization\n",
        "            mean = x.mean(dim=0, keepdim=True)\n",
        "            std = x.std(dim=0, keepdim=True)\n",
        "        elif self.dim == 1:\n",
        "            # Layer normalization\n",
        "            mean = x.mean(dim=1, keepdim=True)\n",
        "            std = x.std(dim=1, keepdim=True)\n",
        "        else:\n",
        "            raise ValueError(\"dim should be either 0 (batch normalization) or 1 (layer normalization)\")\n",
        "\n",
        "        normalized_x = (x - mean) / (std + 1e-5)\n",
        "        return normalized_x\n",
        "\n",
        "# Example usage:\n",
        "x = torch.randn(5, 10)  # 5 examples, 10 features\n",
        "\n",
        "# Batch normalization\n",
        "batch_norm_layer = CustomNormalization(dim=0)\n",
        "batch_normalized_x = batch_norm_layer(x)\n",
        "print(\"Batch Normalized:\\n\", batch_normalized_x)\n",
        "\n",
        "# Layer normalization\n",
        "layer_norm_layer = CustomNormalization(dim=1)\n",
        "layer_normalized_x = layer_norm_layer(x)\n",
        "print(\"Layer Normalized:\\n\", layer_normalized_x)\n",
        "\n",
        "\n",
        "\n",
        "\n",
        "class SimpleNN(nn.Module):\n",
        "    def __init__(self, input_dim, hidden_dim, output_dim, norm_dim):\n",
        "        super(SimpleNN, self).__init__()\n",
        "        self.fc1 = nn.Linear(input_dim, hidden_dim)\n",
        "        self.norm1 = CustomNormalization(dim=norm_dim)\n",
        "        self.fc2 = nn.Linear(hidden_dim, output_dim)\n",
        "\n",
        "    def forward(self, x):\n",
        "        x = self.fc1(x)\n",
        "        x = F.relu(x)\n",
        "        x = self.norm1(x)\n",
        "        x = self.fc2(x)\n",
        "        return x\n",
        "\n",
        "# Example usage:\n",
        "input_dim = 10\n",
        "hidden_dim = 5\n",
        "output_dim = 2\n",
        "norm_dim = 1  # Layer normalization\n",
        "\n",
        "model = SimpleNN(input_dim, hidden_dim, output_dim, norm_dim)\n",
        "\n",
        "\n",
        "input_data = torch.randn(5, input_dim)  # 5 examples, 10 features\n",
        "output_data = model(input_data)\n",
        "print(\"Output:\\n\", output_data)\n",
        "\n"
      ]
    },
    {
      "cell_type": "markdown",
      "metadata": {
        "id": "YEc0BxM8GGcL"
      },
      "source": [
        "3. Given a 4D tensor of shape (2, 3, 4, 5), create a mask that sets all elements in positions where the sum of indices is even to zero."
      ]
    },
    {
      "cell_type": "code",
      "execution_count": null,
      "metadata": {
        "colab": {
          "base_uri": "https://localhost:8080/"
        },
        "id": "pJ3FD5XiGLh8",
        "outputId": "c91cddec-73e6-4d0f-e2cf-b19b2e4e3656"
      },
      "outputs": [
        {
          "name": "stdout",
          "output_type": "stream",
          "text": [
            "Tensor after applying the mask:\n",
            " tensor([[[[ 0.0000,  1.6038,  0.0000,  0.6781,  0.0000],\n",
            "          [-0.4945,  0.0000,  0.4836,  0.0000,  0.5509],\n",
            "          [ 0.0000,  0.6023,  0.0000,  2.4460,  0.0000],\n",
            "          [-0.4428,  0.0000, -0.7583,  0.0000, -0.0349]],\n",
            "\n",
            "         [[ 0.5459,  0.0000,  0.8838,  0.0000, -2.2990],\n",
            "          [ 0.0000,  1.2019,  0.0000,  0.0559,  0.0000],\n",
            "          [-0.9217,  0.0000, -1.2171,  0.0000,  1.8073],\n",
            "          [ 0.0000,  1.8638,  0.0000, -0.0295,  0.0000]],\n",
            "\n",
            "         [[ 0.0000,  2.0336,  0.0000, -0.2817,  0.0000],\n",
            "          [-0.9481,  0.0000,  0.4616,  0.0000,  0.5607],\n",
            "          [ 0.0000,  0.0661,  0.0000,  0.1018,  0.0000],\n",
            "          [ 0.7582,  0.0000,  1.3591,  0.0000, -0.5934]]],\n",
            "\n",
            "\n",
            "        [[[-0.5954,  0.0000, -3.3771,  0.0000, -2.1201],\n",
            "          [ 0.0000, -0.6342,  0.0000, -2.0532,  0.0000],\n",
            "          [ 1.0365,  0.0000,  1.2197,  0.0000, -1.4299],\n",
            "          [ 0.0000,  0.8383,  0.0000,  2.3319,  0.0000]],\n",
            "\n",
            "         [[ 0.0000,  1.3096,  0.0000,  0.2440,  0.0000],\n",
            "          [ 0.3131,  0.0000, -0.5136,  0.0000,  0.0654],\n",
            "          [ 0.0000, -0.4370,  0.0000,  0.4158,  0.0000],\n",
            "          [ 2.0109,  0.0000, -1.0142,  0.0000, -0.6068]],\n",
            "\n",
            "         [[-0.0597,  0.0000, -0.3491,  0.0000,  1.0906],\n",
            "          [ 0.0000, -2.5761,  0.0000,  0.3932,  0.0000],\n",
            "          [ 0.9495,  0.0000,  0.0419,  0.0000, -1.8626],\n",
            "          [ 0.0000, -0.3171,  0.0000, -0.2874,  0.0000]]]])\n"
          ]
        }
      ],
      "source": [
        "tensor = torch.randn(2, 3, 4, 5)\n",
        "indices = torch.meshgrid(torch.arange(2), torch.arange(3), torch.arange(4), torch.arange(5), indexing='ij')\n",
        "sum_indices = indices[0] + indices[1] + indices[2] + indices[3]\n",
        "mask = (sum_indices % 2 == 0)\n",
        "tensor[mask] = 0\n",
        "print(\"Tensor after applying the mask:\\n\", tensor)\n"
      ]
    },
    {
      "cell_type": "markdown",
      "metadata": {
        "id": "Tv557NaJGMlQ"
      },
      "source": [
        "3. Given two tensors, one of shape `(3, 1, 4)` and another of shape `(1, 5, 1)`, compute their element-wise multiplication using broadcasting and then sum over specific axes to obtain a tensor of shape `(3, 5)`."
      ]
    },
    {
      "cell_type": "code",
      "execution_count": null,
      "metadata": {
        "colab": {
          "base_uri": "https://localhost:8080/"
        },
        "id": "qP3EGgyXGMMH",
        "outputId": "8c0b683c-5265-4d9d-9fda-f805b4526746"
      },
      "outputs": [
        {
          "name": "stdout",
          "output_type": "stream",
          "text": [
            "first array tensor([[[0.7124, 0.5901, 0.3329, 0.5866]],\n",
            "\n",
            "        [[0.3941, 0.7003, 0.0526, 0.9100]],\n",
            "\n",
            "        [[0.4228, 0.7916, 0.2499, 0.9410]]])\n",
            "first array tensor([[[0.6445],\n",
            "         [0.3604],\n",
            "         [0.4484],\n",
            "         [0.4534],\n",
            "         [0.1471]]])\n",
            "tensor([[[0.4591, 0.3803, 0.2146, 0.3781],\n",
            "         [0.2568, 0.2127, 0.1200, 0.2114],\n",
            "         [0.3194, 0.2646, 0.1493, 0.2630],\n",
            "         [0.3230, 0.2675, 0.1510, 0.2660],\n",
            "         [0.1048, 0.0868, 0.0490, 0.0863]],\n",
            "\n",
            "        [[0.2540, 0.4514, 0.0339, 0.5865],\n",
            "         [0.1420, 0.2524, 0.0189, 0.3280],\n",
            "         [0.1767, 0.3140, 0.0236, 0.4080],\n",
            "         [0.1787, 0.3175, 0.0238, 0.4126],\n",
            "         [0.0579, 0.1030, 0.0077, 0.1338]],\n",
            "\n",
            "        [[0.2725, 0.5102, 0.1611, 0.6064],\n",
            "         [0.1524, 0.2853, 0.0901, 0.3392],\n",
            "         [0.1896, 0.3549, 0.1121, 0.4219],\n",
            "         [0.1917, 0.3589, 0.1133, 0.4266],\n",
            "         [0.0622, 0.1164, 0.0368, 0.1384]]])\n",
            "torch.Size([3, 5, 4])\n",
            "tensor([[1.4320, 0.8009, 0.9963, 1.0075, 0.3267],\n",
            "        [1.3257, 0.7414, 0.9223, 0.9326, 0.3025],\n",
            "        [1.5502, 0.8670, 1.0785, 1.0906, 0.3537]])\n",
            "torch.Size([3, 5])\n"
          ]
        }
      ],
      "source": [
        "a=torch.rand(3,1,4)\n",
        "b=torch.rand(1,5,1)\n",
        "print(f\"first array {a}\")\n",
        "print(f\"first array {b}\")\n",
        "c=a*b\n",
        "print(c)\n",
        "print(c.size())\n",
        "c=c.sum(dim=2)\n",
        "print(c)\n",
        "print(c.size())\n"
      ]
    },
    {
      "cell_type": "code",
      "execution_count": null,
      "metadata": {
        "id": "XjU9N7yW-euH"
      },
      "outputs": [],
      "source": []
    }
  ],
  "metadata": {
    "colab": {
      "include_colab_link": true,
      "provenance": []
    },
    "kernelspec": {
      "display_name": "Python 3",
      "name": "python3"
    },
    "language_info": {
      "codemirror_mode": {
        "name": "ipython",
        "version": 3
      },
      "file_extension": ".py",
      "mimetype": "text/x-python",
      "name": "python",
      "nbconvert_exporter": "python",
      "pygments_lexer": "ipython3",
      "version": "3.12.2"
    }
  },
  "nbformat": 4,
  "nbformat_minor": 0
}
