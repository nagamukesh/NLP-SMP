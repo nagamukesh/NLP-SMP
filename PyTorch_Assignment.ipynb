{
  "nbformat": 4,
  "nbformat_minor": 0,
  "metadata": {
    "colab": {
      "provenance": [],
      "collapsed_sections": [
        "1tRkI1j1xGzl",
        "IxOFseFaxEQu",
        "DNTlDxZ4C4-R"
      ],
      "include_colab_link": true
    },
    "kernelspec": {
      "name": "python3",
      "display_name": "Python 3"
    },
    "language_info": {
      "name": "python"
    }
  },
  "cells": [
    {
      "cell_type": "markdown",
      "metadata": {
        "id": "view-in-github",
        "colab_type": "text"
      },
      "source": [
        "<a href=\"https://colab.research.google.com/github/nagamukesh/NLP-SMP/blob/vedh/PyTorch_Assignment.ipynb\" target=\"_parent\"><img src=\"https://colab.research.google.com/assets/colab-badge.svg\" alt=\"Open In Colab\"/></a>"
      ]
    },
    {
      "cell_type": "markdown",
      "source": [
        "#  **PyTorch Practice Assignment**\n",
        "**Name**: VEDH ADLA\n",
        "\n",
        "**Roll Number**: 231AI004"
      ],
      "metadata": {
        "id": "CDn9wbMS0a0r"
      }
    },
    {
      "cell_type": "markdown",
      "source": [
        "## **Instructions:**\n",
        "\n",
        "- Copy this Notebook to your own Drive! You cannot directly modify it.\n",
        "- Please show the output of the cells, in case of some operation. You can specify your own **non-trivial** test-case. Also, try and make your snippets into functions to organize your logic.\n",
        "- You can use any number of cells for a question, you are not restricted to just 1 cell!\n",
        "- **No using ChatGPT for this assignment**: we highly recommend using the [Pytorch Docs](https://pytorch.org/docs/stable/index.html) as your start reference, as well as the vast internet however. You can also contact any of your mentors for some hints/help!\n",
        "- You can work on this assignment in Google Colab or on Your Local Machine!"
      ],
      "metadata": {
        "id": "ENyCsRHv1gqA"
      }
    },
    {
      "cell_type": "markdown",
      "source": [
        "### **Build Up Your Understanding**"
      ],
      "metadata": {
        "id": "1tRkI1j1xGzl"
      }
    },
    {
      "cell_type": "markdown",
      "source": [
        "1. Write a PyTorch snippet to test whether none of the elements of a given tensor are zero."
      ],
      "metadata": {
        "id": "R75QYzJlz874"
      }
    },
    {
      "cell_type": "code",
      "execution_count": 4,
      "metadata": {
        "id": "YrnLJibzzT0d",
        "outputId": "83b3b256-db8a-4abf-ed4e-42f2ffd9a9c7",
        "colab": {
          "base_uri": "https://localhost:8080/"
        }
      },
      "outputs": [
        {
          "output_type": "stream",
          "name": "stdout",
          "text": [
            "tensor(False)\n",
            "tensor(True)\n"
          ]
        }
      ],
      "source": [
        "import torch\n",
        "tensor1 = torch.tensor([1,9,0,4])\n",
        "tensor2 = torch.tensor([2,1,34,3])\n",
        "check1 = torch.all(tensor1 != 0)\n",
        "check2 = torch.all(tensor2 !=0)\n",
        "print(check1)\n",
        "print(check2)"
      ]
    },
    {
      "cell_type": "markdown",
      "source": [
        "2. Write a PyTorch snippet to test element-wise for NaN of a given tensor."
      ],
      "metadata": {
        "id": "N65zZ0B20CcN"
      }
    },
    {
      "cell_type": "code",
      "source": [
        "tensor1 = torch.tensor([2.3,2.4,3.2,float('nan'),5.4,6.9])\n",
        "check1 = torch.isnan(tensor1)\n",
        "print(check1)"
      ],
      "metadata": {
        "id": "09XtXleK0Yqx",
        "outputId": "5d3d8737-07a2-43a7-db60-a713cbc4b000",
        "colab": {
          "base_uri": "https://localhost:8080/"
        }
      },
      "execution_count": 5,
      "outputs": [
        {
          "output_type": "stream",
          "name": "stdout",
          "text": [
            "tensor([False, False, False,  True, False, False])\n"
          ]
        }
      ]
    },
    {
      "cell_type": "markdown",
      "source": [
        "3. Write a PyTorch snippet to test whether two tensors are element-wise equal within a tolerance."
      ],
      "metadata": {
        "id": "nPgqdCS60ZLy"
      }
    },
    {
      "cell_type": "code",
      "source": [
        "tensor1 = torch.tensor([1,2,3,4])\n",
        "tensor2 = torch.tensor([1,2,4,3])\n",
        "tensor3 = torch.tensor([1,2,3,4])\n",
        "torch.equal(tensor1,tensor2) , torch.equal(tensor1,tensor3)\n",
        ""
      ],
      "metadata": {
        "id": "nZlp4IJh1TAG",
        "outputId": "e4048d1e-a359-476f-cb57-725678c5dae6",
        "colab": {
          "base_uri": "https://localhost:8080/"
        }
      },
      "execution_count": 6,
      "outputs": [
        {
          "output_type": "execute_result",
          "data": {
            "text/plain": [
              "(False, True)"
            ]
          },
          "metadata": {},
          "execution_count": 6
        }
      ]
    },
    {
      "cell_type": "markdown",
      "source": [
        "4. Write a PyTorch snippet to create a tensor of 10 zeros, 10 ones, and 10 fives stacked on top of each other (try & accomplish everything using nested function calls)."
      ],
      "metadata": {
        "id": "6erc53t11ToS"
      }
    },
    {
      "cell_type": "code",
      "source": [
        "tensor = torch.vstack((torch.zeros(10) , torch.ones(10), torch.full((10,) ,5)))\n",
        "tensor"
      ],
      "metadata": {
        "id": "DX2o4rH81cXb",
        "outputId": "0346f707-49c8-4309-a7be-36a890262cad",
        "colab": {
          "base_uri": "https://localhost:8080/"
        }
      },
      "execution_count": 7,
      "outputs": [
        {
          "output_type": "execute_result",
          "data": {
            "text/plain": [
              "tensor([[0., 0., 0., 0., 0., 0., 0., 0., 0., 0.],\n",
              "        [1., 1., 1., 1., 1., 1., 1., 1., 1., 1.],\n",
              "        [5., 5., 5., 5., 5., 5., 5., 5., 5., 5.]])"
            ]
          },
          "metadata": {},
          "execution_count": 7
        }
      ]
    },
    {
      "cell_type": "markdown",
      "source": [
        "5. Write a PyTorch snippet to generate a random number between 0 and 1."
      ],
      "metadata": {
        "id": "HVZFHjER15fI"
      }
    },
    {
      "cell_type": "code",
      "source": [
        "temp = torch.rand(1).item()\n",
        "temp"
      ],
      "metadata": {
        "id": "D2sDJxaL16ev",
        "outputId": "c15b4415-fe46-4550-ec55-37fd724fa604",
        "colab": {
          "base_uri": "https://localhost:8080/"
        }
      },
      "execution_count": 8,
      "outputs": [
        {
          "output_type": "execute_result",
          "data": {
            "text/plain": [
              "0.9471277594566345"
            ]
          },
          "metadata": {},
          "execution_count": 8
        }
      ]
    },
    {
      "cell_type": "markdown",
      "source": [
        "6. Write a PyTorch snippet to generate a tensor of 15 random numbers from a standard normal distribution."
      ],
      "metadata": {
        "id": "v-bl_RmJ19U2"
      }
    },
    {
      "cell_type": "code",
      "source": [
        "tensor = torch.randn(15)\n",
        "tensor"
      ],
      "metadata": {
        "id": "TwOTzLLz1-Oj",
        "outputId": "da0b01e5-7d23-4637-e7cb-e550a7f759f5",
        "colab": {
          "base_uri": "https://localhost:8080/"
        }
      },
      "execution_count": 9,
      "outputs": [
        {
          "output_type": "execute_result",
          "data": {
            "text/plain": [
              "tensor([-0.1147, -0.9686, -1.1091,  0.0729, -1.8293,  1.3941,  0.1574, -0.3828,\n",
              "         0.2664, -0.5455, -1.3127,  1.5737,  0.3579, -0.1459, -0.0305])"
            ]
          },
          "metadata": {},
          "execution_count": 9
        }
      ]
    },
    {
      "cell_type": "markdown",
      "source": [
        "7. Write a Pytorch snippet to create a tensor of length 10 with values evenly distributed between 5 and 50."
      ],
      "metadata": {
        "id": "QbsLwc2e1-wI"
      }
    },
    {
      "cell_type": "code",
      "source": [
        "tensor = torch.linspace(5,50,10)\n",
        "tensor"
      ],
      "metadata": {
        "id": "4x-aEGJy2F_J",
        "outputId": "5633230b-508f-4360-fa6d-034095f78b50",
        "colab": {
          "base_uri": "https://localhost:8080/"
        }
      },
      "execution_count": 10,
      "outputs": [
        {
          "output_type": "execute_result",
          "data": {
            "text/plain": [
              "tensor([ 5., 10., 15., 20., 25., 30., 35., 40., 45., 50.])"
            ]
          },
          "metadata": {},
          "execution_count": 10
        }
      ]
    },
    {
      "cell_type": "markdown",
      "source": [
        "8. Write a Pyorch program to create a tensor with values from 0 to 20 and change the sign of the numbers in the range from 9 to 15."
      ],
      "metadata": {
        "id": "z4t6r6xR2IyJ"
      }
    },
    {
      "cell_type": "code",
      "source": [
        "\n",
        "tensor = torch.arange(0,21)\n",
        "tensor[(tensor>=9) & (tensor<=15)] *= -1\n",
        "tensor"
      ],
      "metadata": {
        "id": "2ckG-mcF2Jda",
        "outputId": "0af7e739-ab5d-4a99-c77c-70fbfda85dc0",
        "colab": {
          "base_uri": "https://localhost:8080/"
        }
      },
      "execution_count": 12,
      "outputs": [
        {
          "output_type": "execute_result",
          "data": {
            "text/plain": [
              "tensor([  0,   1,   2,   3,   4,   5,   6,   7,   8,  -9, -10, -11, -12, -13,\n",
              "        -14, -15,  16,  17,  18,  19,  20])"
            ]
          },
          "metadata": {},
          "execution_count": 12
        }
      ]
    },
    {
      "cell_type": "markdown",
      "source": [
        "9. Write a PyTorch snippet to create a 3x4 2-tensor filled with values from 10 to 21. Same but 12 to 24."
      ],
      "metadata": {
        "id": "n5piPDEY2NXK"
      }
    },
    {
      "cell_type": "code",
      "source": [
        "tensor1 = torch.arange(10,22).reshape(3,4)\n",
        "tensor2 = torch.arange(12,24).reshape(3,4)\n",
        "tensor1,tensor2"
      ],
      "metadata": {
        "id": "zKzFvfPP2OOy",
        "outputId": "222ee08a-06d9-45ed-9a9a-6a00210cd6f8",
        "colab": {
          "base_uri": "https://localhost:8080/"
        }
      },
      "execution_count": 13,
      "outputs": [
        {
          "output_type": "execute_result",
          "data": {
            "text/plain": [
              "(tensor([[10, 11, 12, 13],\n",
              "         [14, 15, 16, 17],\n",
              "         [18, 19, 20, 21]]),\n",
              " tensor([[12, 13, 14, 15],\n",
              "         [16, 17, 18, 19],\n",
              "         [20, 21, 22, 23]]))"
            ]
          },
          "metadata": {},
          "execution_count": 13
        }
      ]
    },
    {
      "cell_type": "markdown",
      "source": [
        "10. Write a PyTorch snippet to create a 10x10 2-tensor, in which the elements on the borders will be equal to 1, and inside 0."
      ],
      "metadata": {
        "id": "BMbpvCE12UAA"
      }
    },
    {
      "cell_type": "code",
      "source": [
        "tensor = torch.zeros(100).reshape(10,10)\n",
        "tensor[:,0] =1\n",
        "tensor[0,:] =1\n",
        "tensor[9,:]=1\n",
        "tensor[:,9]=1\n",
        "tensor"
      ],
      "metadata": {
        "id": "-e2dvNB12Uv4",
        "outputId": "48f10522-9112-49f6-f285-e07750627cf3",
        "colab": {
          "base_uri": "https://localhost:8080/"
        }
      },
      "execution_count": 11,
      "outputs": [
        {
          "output_type": "execute_result",
          "data": {
            "text/plain": [
              "tensor([[1., 1., 1., 1., 1., 1., 1., 1., 1., 1.],\n",
              "        [1., 0., 0., 0., 0., 0., 0., 0., 0., 1.],\n",
              "        [1., 0., 0., 0., 0., 0., 0., 0., 0., 1.],\n",
              "        [1., 0., 0., 0., 0., 0., 0., 0., 0., 1.],\n",
              "        [1., 0., 0., 0., 0., 0., 0., 0., 0., 1.],\n",
              "        [1., 0., 0., 0., 0., 0., 0., 0., 0., 1.],\n",
              "        [1., 0., 0., 0., 0., 0., 0., 0., 0., 1.],\n",
              "        [1., 0., 0., 0., 0., 0., 0., 0., 0., 1.],\n",
              "        [1., 0., 0., 0., 0., 0., 0., 0., 0., 1.],\n",
              "        [1., 1., 1., 1., 1., 1., 1., 1., 1., 1.]])"
            ]
          },
          "metadata": {},
          "execution_count": 11
        }
      ]
    },
    {
      "cell_type": "markdown",
      "source": [
        "11. Write a PyTorch snippet to create a 5x5 zero 2-tensor with elements on the main diagonal equal to 1, 2, 3, 4, 5."
      ],
      "metadata": {
        "id": "3pf24Y0R2YKX"
      }
    },
    {
      "cell_type": "code",
      "source": [
        "a = torch.tensor([1,2,3,4,5])\n",
        "torch.diag(a)"
      ],
      "metadata": {
        "id": "eb_vYa5n2Y8O",
        "outputId": "a37118f6-0461-4cc8-b172-9345d20ab4b8",
        "colab": {
          "base_uri": "https://localhost:8080/"
        }
      },
      "execution_count": 14,
      "outputs": [
        {
          "output_type": "execute_result",
          "data": {
            "text/plain": [
              "tensor([[1, 0, 0, 0, 0],\n",
              "        [0, 2, 0, 0, 0],\n",
              "        [0, 0, 3, 0, 0],\n",
              "        [0, 0, 0, 4, 0],\n",
              "        [0, 0, 0, 0, 5]])"
            ]
          },
          "metadata": {},
          "execution_count": 14
        }
      ]
    },
    {
      "cell_type": "markdown",
      "source": [
        "12. Write a PyTorch snippet to save a given tensor as a binary to a given path."
      ],
      "metadata": {
        "id": "-BkVD0CA2hWL"
      }
    },
    {
      "cell_type": "code",
      "source": [
        "\n",
        "tensor = torch.tensor([1,2,3])\n",
        "path = 'tensor.path'\n",
        "torch.save(tensor,path)\n",
        "print(f\"Tensor saved to {path}\")\n",
        ""
      ],
      "metadata": {
        "id": "DrpbNVax2igN",
        "outputId": "073f7057-c725-440e-927c-c18b20569dda",
        "colab": {
          "base_uri": "https://localhost:8080/"
        }
      },
      "execution_count": 15,
      "outputs": [
        {
          "output_type": "stream",
          "name": "stdout",
          "text": [
            "Tensor saved to tensor.path\n"
          ]
        }
      ]
    },
    {
      "cell_type": "markdown",
      "source": [
        "13. Write a NumPy program to create a two-dimensional array of a specified format."
      ],
      "metadata": {
        "id": "1zoIfD1k2i71"
      }
    },
    {
      "cell_type": "code",
      "source": [
        "tensor =torch.arange(0,10).reshape(2,5)\n",
        "tensor"
      ],
      "metadata": {
        "id": "xXnOECag2zvz",
        "outputId": "554b42d4-dc2a-43bf-c373-9ebe1a1b1563",
        "colab": {
          "base_uri": "https://localhost:8080/"
        }
      },
      "execution_count": 16,
      "outputs": [
        {
          "output_type": "execute_result",
          "data": {
            "text/plain": [
              "tensor([[0, 1, 2, 3, 4],\n",
              "        [5, 6, 7, 8, 9]])"
            ]
          },
          "metadata": {},
          "execution_count": 16
        }
      ]
    },
    {
      "cell_type": "markdown",
      "source": [
        "14. Write a PyTorch snippet to create a 2-tensor with shape (8,5) of random numbers. Select these random numbers (to create the tensor) from a normal distribution (200,7) (mean, variance)."
      ],
      "metadata": {
        "id": "1V6fwGje28Ak"
      }
    },
    {
      "cell_type": "code",
      "source": [
        "mean = 100\n",
        "variance =5\n",
        "std_dev = variance**0.5\n",
        "\n",
        "tensor =torch.normal(mean=mean,std=std_dev,size=(8,5))\n",
        "tensor\n",
        ""
      ],
      "metadata": {
        "id": "f5pdwN9d27Rr",
        "outputId": "dc0a4978-859e-47af-9922-bcf3be2c2291",
        "colab": {
          "base_uri": "https://localhost:8080/"
        }
      },
      "execution_count": 17,
      "outputs": [
        {
          "output_type": "execute_result",
          "data": {
            "text/plain": [
              "tensor([[ 97.3245, 101.1390,  98.9060, 100.4144,  99.8282],\n",
              "        [102.7466,  98.2947, 103.9949,  98.0626, 101.8822],\n",
              "        [100.7115, 100.3590,  98.7394, 101.4808,  98.7231],\n",
              "        [ 94.1792,  98.4813,  99.7529, 103.1524, 103.8257],\n",
              "        [ 97.6044,  98.4210, 102.0457,  99.3041,  98.0248],\n",
              "        [ 99.7888, 100.9189, 100.2761,  98.9501,  98.4718],\n",
              "        [ 97.3357,  96.2343,  94.9213, 100.4695,  99.3858],\n",
              "        [101.3405, 100.2128,  96.8253, 100.0292, 100.3733]])"
            ]
          },
          "metadata": {},
          "execution_count": 17
        }
      ]
    },
    {
      "cell_type": "markdown",
      "source": [
        "15. Write a PyTorch snippet to generate a uniform, non-uniform random sample from a given vector with and without replacement (do all 4 combinations possible)."
      ],
      "metadata": {
        "id": "hSVeltdw3IoY"
      }
    },
    {
      "cell_type": "code",
      "source": [
        "vector = torch.tensor([1,2,3,4,5,6])\n",
        "\n",
        "#1.) uniform with replacement\n",
        "tensor1 =vector[torch.randint(len(vector),(5,))]\n",
        "print(tensor1)\n",
        "\n",
        "#2.) uniform without replacement\n",
        "tensor2 = vector[torch.randperm(len(vector))[:3]]\n",
        "print(tensor2)\n",
        "\n",
        "#3.) non-uniform with replacement\n",
        "prob = torch.tensor([0.1,0.2,0.3,0.1,0.1,0.2])\n",
        "tensor3 = torch.multinomial(prob,6,replacement=True)\n",
        "tensor3 = vector[tensor3]\n",
        "print(tensor3)\n",
        "\n",
        "#4.) non-uniform without replacement\n",
        "prob = torch.tensor([0.1,0.2,0.3,0.3,0.1,0.0])\n",
        "tensor4 = torch.multinomial(prob,4,replacement=False)\n",
        "tensor4 = vector[tensor4]\n",
        "print(tensor4)"
      ],
      "metadata": {
        "id": "ZfDNMghS3Jof",
        "outputId": "8ca5ab73-06c2-4924-d5d4-faed8ceadba7",
        "colab": {
          "base_uri": "https://localhost:8080/"
        }
      },
      "execution_count": 18,
      "outputs": [
        {
          "output_type": "stream",
          "name": "stdout",
          "text": [
            "tensor([3, 1, 2, 1, 2])\n",
            "tensor([5, 4, 3])\n",
            "tensor([3, 2, 4, 3, 6, 4])\n",
            "tensor([1, 4, 3, 2])\n"
          ]
        }
      ]
    },
    {
      "cell_type": "markdown",
      "source": [
        "16. Write a Pyorch snippet to create an nxn(input to function) tensor with random values. Create an array from the said array swapping first and last rows."
      ],
      "metadata": {
        "id": "DOIrjKBq3MjM"
      }
    },
    {
      "cell_type": "code",
      "source": [
        "def create(n):\n",
        "  tensor = torch.randn(n,n)\n",
        "\n",
        "  print(tensor)\n",
        "  temp =tensor[0].clone()\n",
        "  tensor[0] = tensor[-1]\n",
        "  tensor[-1] =temp\n",
        "  print(\"\\nAfter excahnging\\n\")\n",
        "  print(tensor)\n",
        "\n",
        "n=4\n",
        "create(n)"
      ],
      "metadata": {
        "id": "xFkWtcTN3MI3",
        "outputId": "27842fba-f735-4889-950d-0b1694df169f",
        "colab": {
          "base_uri": "https://localhost:8080/"
        }
      },
      "execution_count": 19,
      "outputs": [
        {
          "output_type": "stream",
          "name": "stdout",
          "text": [
            "tensor([[ 0.9842, -0.5585,  0.6940, -1.2789],\n",
            "        [ 1.5867,  1.3790,  0.4870, -1.6523],\n",
            "        [-0.7585,  1.0766,  0.4936,  0.5006],\n",
            "        [-2.0302,  0.8649, -0.6028,  0.1823]])\n",
            "\n",
            "After excahnging\n",
            "\n",
            "tensor([[-2.0302,  0.8649, -0.6028,  0.1823],\n",
            "        [ 1.5867,  1.3790,  0.4870, -1.6523],\n",
            "        [-0.7585,  1.0766,  0.4936,  0.5006],\n",
            "        [ 0.9842, -0.5585,  0.6940, -1.2789]])\n"
          ]
        }
      ]
    },
    {
      "cell_type": "markdown",
      "source": [
        "17. Write a PyTorch snippet to sort a given tensor (1D or 2D) in ascending order."
      ],
      "metadata": {
        "id": "e2yl3FJI3SOW"
      }
    },
    {
      "cell_type": "code",
      "source": [
        "tensor1 = torch.tensor([5,54,1,46,9])\n",
        "tensor2 =torch.tensor([10,1,9,2,8,5,3,4,6,7]).reshape(2,5)\n",
        "print(torch.sort(tensor1).values)\n",
        "print(\"\\n\\n\")\n",
        "print(torch.sort(tensor2).values)\n",
        ""
      ],
      "metadata": {
        "id": "FxiCfs8y3R8W",
        "outputId": "9e9e5fe5-3b22-44b4-edcc-f490ad0b9428",
        "colab": {
          "base_uri": "https://localhost:8080/"
        }
      },
      "execution_count": 20,
      "outputs": [
        {
          "output_type": "stream",
          "name": "stdout",
          "text": [
            "tensor([ 1,  5,  9, 46, 54])\n",
            "\n",
            "\n",
            "\n",
            "tensor([[ 1,  2,  8,  9, 10],\n",
            "        [ 3,  4,  5,  6,  7]])\n"
          ]
        }
      ]
    },
    {
      "cell_type": "markdown",
      "source": [
        "18. Write a PyTorch snippet to create a tensor of equal shape and data type for a given tensor (any dimensional)"
      ],
      "metadata": {
        "id": "TY1htljY3X50"
      }
    },
    {
      "cell_type": "code",
      "source": [
        "def equal(n):\n",
        "  tensor = torch.randn(n,n)\n",
        "  print(tensor,tensor.dtype)\n",
        "\n",
        "n =3\n",
        "equal(n)\n"
      ],
      "metadata": {
        "id": "br714aF43Xax",
        "outputId": "7dcdf7d0-c379-4eef-8112-4066a2941325",
        "colab": {
          "base_uri": "https://localhost:8080/"
        }
      },
      "execution_count": 21,
      "outputs": [
        {
          "output_type": "stream",
          "name": "stdout",
          "text": [
            "tensor([[ 1.4603,  0.8513, -0.2709],\n",
            "        [-0.6372,  0.2758,  0.1029],\n",
            "        [ 1.2578,  0.1381, -0.1189]]) torch.float32\n"
          ]
        }
      ]
    },
    {
      "cell_type": "markdown",
      "source": [
        "19. Write a PyTorch snippet to create an 8x8 matrix and fill it with a checkerboard pattern.\n",
        "Checkerboard pattern:\n",
        "```py\n",
        "[[0 1 0 1 0 1 0 1]\n",
        "..........\n",
        "[0 1 0 1 0 1 0 1]\n",
        "[1 0 1 0 1 0 1 0]]\n",
        "```"
      ],
      "metadata": {
        "id": "jWZmWlDz3kE-"
      }
    },
    {
      "cell_type": "code",
      "source": [
        "tensor = torch.ones(8,8)\n",
        "\n",
        "indices = [(i,j) for i in range(8) for j in range(8) if (i+j)%2==0]\n",
        "\n",
        "rows,cols = zip(*indices)\n",
        "\n",
        "tensor[rows,cols]=0\n",
        "\n",
        "tensor"
      ],
      "metadata": {
        "id": "gUQpw8Fg3lag",
        "outputId": "73a1587f-2069-4464-ccc6-8a1c202374ab",
        "colab": {
          "base_uri": "https://localhost:8080/"
        }
      },
      "execution_count": 22,
      "outputs": [
        {
          "output_type": "execute_result",
          "data": {
            "text/plain": [
              "tensor([[0., 1., 0., 1., 0., 1., 0., 1.],\n",
              "        [1., 0., 1., 0., 1., 0., 1., 0.],\n",
              "        [0., 1., 0., 1., 0., 1., 0., 1.],\n",
              "        [1., 0., 1., 0., 1., 0., 1., 0.],\n",
              "        [0., 1., 0., 1., 0., 1., 0., 1.],\n",
              "        [1., 0., 1., 0., 1., 0., 1., 0.],\n",
              "        [0., 1., 0., 1., 0., 1., 0., 1.],\n",
              "        [1., 0., 1., 0., 1., 0., 1., 0.]])"
            ]
          },
          "metadata": {},
          "execution_count": 22
        }
      ]
    },
    {
      "cell_type": "markdown",
      "source": [
        "20. Write a Pytorch snippet to convert Centigrade to Fahrenheit and vice versa (controlled by a parameter). Ensure you operation is vectorized i.e **no explicit looping**\n",
        "\n",
        "Sample Array: `[0, 12, 45.21, 34, 99.91]`"
      ],
      "metadata": {
        "id": "yB4L7Usg364D"
      }
    },
    {
      "cell_type": "code",
      "source": [
        "Celsius = torch.tensor([0, 12, 45.21, 34, 99.91])\n",
        "Farenheit = torch.tensor([0, 12, 45.21, 34, 99.91])\n",
        "#Celsius to Fareheit\n",
        "Faren = Celsius*9/5 +32\n",
        "Cels = (Farenheit-32)*5/9\n",
        "print(Faren)\n",
        "print(Cels)"
      ],
      "metadata": {
        "id": "IPTecJEQ3_JC",
        "outputId": "7e6933d3-2fcc-41ef-eb61-0410fdf26fed",
        "colab": {
          "base_uri": "https://localhost:8080/"
        }
      },
      "execution_count": 23,
      "outputs": [
        {
          "output_type": "stream",
          "name": "stdout",
          "text": [
            "tensor([ 32.0000,  53.6000, 113.3780,  93.2000, 211.8380])\n",
            "tensor([-17.7778, -11.1111,   7.3389,   1.1111,  37.7278])\n"
          ]
        }
      ]
    },
    {
      "cell_type": "markdown",
      "source": [
        "21. Write a PyTorch snippet to get the values of the elements that are bigger than a given *number* in a given tensor.\n",
        "\n",
        "Original tensor:\n",
        "```\n",
        "[[ 0 10 20]\n",
        "[20 30 40]]\n",
        "```\n",
        "Number: 10\n",
        "\n",
        "Values bigger than 10 = `[20 20 30 40]`"
      ],
      "metadata": {
        "id": "n8dqXvMZ4oFb"
      }
    },
    {
      "cell_type": "code",
      "source": [
        "tensor = torch.tensor([[9,10,20],[20,30,40]])\n",
        "tensor[tensor>10]"
      ],
      "metadata": {
        "id": "HwoDL-Kr4ww4",
        "outputId": "b0a71a57-56ac-48b4-c6c4-d358443aba4b",
        "colab": {
          "base_uri": "https://localhost:8080/"
        }
      },
      "execution_count": 24,
      "outputs": [
        {
          "output_type": "execute_result",
          "data": {
            "text/plain": [
              "tensor([20, 20, 30, 40])"
            ]
          },
          "metadata": {},
          "execution_count": 24
        }
      ]
    },
    {
      "cell_type": "markdown",
      "source": [
        "22. Write a PyTorch snippet to create another shape from an array without changing its data. After carrying out the operation, change the data in one place and see if the other tensor changes\n",
        "\n",
        "Reshape 3x2:\n",
        "```\n",
        "[[1 2]\n",
        "[3 4]\n",
        "[5 6]]\n",
        "```\n",
        "Reshape 2x3:\n",
        "```\n",
        "[[1 2 3]\n",
        "[4 5 6]]\n",
        "```"
      ],
      "metadata": {
        "id": "QmR9luYk4xaa"
      }
    },
    {
      "cell_type": "code",
      "source": [
        "tensor = torch.arange(1,7).reshape(3,2)\n",
        "print(tensor)\n",
        "tensor.reshape(2,3)"
      ],
      "metadata": {
        "id": "oUvXdmtV5ZRJ",
        "outputId": "8dde02f1-fa2b-41dc-f3e1-a717778edf59",
        "colab": {
          "base_uri": "https://localhost:8080/"
        }
      },
      "execution_count": 25,
      "outputs": [
        {
          "output_type": "stream",
          "name": "stdout",
          "text": [
            "tensor([[1, 2],\n",
            "        [3, 4],\n",
            "        [5, 6]])\n"
          ]
        },
        {
          "output_type": "execute_result",
          "data": {
            "text/plain": [
              "tensor([[1, 2, 3],\n",
              "        [4, 5, 6]])"
            ]
          },
          "metadata": {},
          "execution_count": 25
        }
      ]
    },
    {
      "cell_type": "markdown",
      "source": [
        "23. Write a PyTorch snipppet to change an tensor's data type.\n",
        "```\n",
        "[[ 2 4 6]\n",
        "[ 6 8 10]]\n",
        "```\n",
        "Data type of the array x is: `int32`\n",
        "\n",
        "New Type: `float64`\n",
        "```\n",
        "[[ 2. 4. 6.]\n",
        "[ 6. 8. 10.]]\n",
        "```"
      ],
      "metadata": {
        "id": "ew1n8aUg5QZA"
      }
    },
    {
      "cell_type": "markdown",
      "source": [
        "24. Write a PyTorch snippet to insert a new axis within a 2-tensor, based on a **parameter**.\n",
        "\n",
        "Ex: If 2-tensor has shape (3, 4).\n",
        "\n",
        "Then, new shape can be (1, 3, 4), (3, 1, 4), or (3, 4, 1) depending on...."
      ],
      "metadata": {
        "id": "0hf1vOk75-Df"
      }
    },
    {
      "cell_type": "code",
      "source": [
        "tensor = torch.randn(3,4)\n",
        "tensor1 =torch.unsqueeze(tensor,0)\n",
        "tensor2 =torch.unsqueeze(tensor,1)\n",
        "tensor3 =torch.unsqueeze(tensor,2)\n",
        "print(tensor1.shape,tensor2.shape,tensor3.shape)\n",
        ""
      ],
      "metadata": {
        "id": "38vF5Dwk5Dbi",
        "outputId": "58e01037-3fec-475a-a1e6-bd6a14dacd4a",
        "colab": {
          "base_uri": "https://localhost:8080/"
        }
      },
      "execution_count": 26,
      "outputs": [
        {
          "output_type": "stream",
          "name": "stdout",
          "text": [
            "torch.Size([1, 3, 4]) torch.Size([3, 1, 4]) torch.Size([3, 4, 1])\n"
          ]
        }
      ]
    },
    {
      "cell_type": "markdown",
      "source": [
        "25. Write a PyTorch snippet to stack tensors based on a parameter, **axis**.\n",
        "First discover what this means with 2-tensors, then extend it to 3-tensors. Print your findings.\n",
        "\n",
        "Sample Output:\n",
        "\n",
        "Original tensors:\n",
        "\n",
        "Tensor-1\n",
        "```\n",
        "[[0 1 2]\n",
        "[3 4 5]\n",
        "[6 7 8]]\n",
        "```\n",
        "Tensor-2\n",
        "```\n",
        "[[ 0 3 6]\n",
        "[ 9 12 15]\n",
        "[18 21 24]]\n",
        "```\n",
        "Stack tensors such that axis=1:\n",
        "```\n",
        "[[ 0 1 2 0 3 6]\n",
        "[ 3 4 5 9 12 15]\n",
        "[ 6 7 8 18 21 24]]\n",
        "```"
      ],
      "metadata": {
        "id": "K4GeygLp7wAt"
      }
    },
    {
      "cell_type": "code",
      "source": [
        "tensor1 = torch.tensor([[0, 1, 2],\n",
        "                        [3, 4, 5],\n",
        "                        [6, 7, 8]])\n",
        "\n",
        "tensor2 = torch.tensor([[ 0 ,3, 6],\n",
        "                        [ 9 ,12 ,15],\n",
        "                        [18, 21, 24]])\n",
        "tensor = torch.hstack((tensor1,tensor2))\n",
        "tensor"
      ],
      "metadata": {
        "id": "-37mCkKH75fN",
        "outputId": "380b699b-c1e7-43bd-d362-5ca71fa5dd31",
        "colab": {
          "base_uri": "https://localhost:8080/"
        }
      },
      "execution_count": 27,
      "outputs": [
        {
          "output_type": "execute_result",
          "data": {
            "text/plain": [
              "tensor([[ 0,  1,  2,  0,  3,  6],\n",
              "        [ 3,  4,  5,  9, 12, 15],\n",
              "        [ 6,  7,  8, 18, 21, 24]])"
            ]
          },
          "metadata": {},
          "execution_count": 27
        }
      ]
    },
    {
      "cell_type": "markdown",
      "source": [
        "26. Write a PyTorch snippet to extract the **m**th to **n**th elements of the **m**th to **n**th rows from the **m**th to nth elemnts of given 3-tensor, of shape `(p, q, r)` where m, n < p, q, r.\n",
        "\n",
        "Take a 3-tensor of (say) size `(5,6,7)` and `(m, n)` = `(4, 5)` as a test case!"
      ],
      "metadata": {
        "id": "6kix-xlh8hFz"
      }
    },
    {
      "cell_type": "code",
      "source": [
        "tensor =torch.randn(3,4,5)\n",
        "print(tensor)\n",
        "tensor[:,:,4:5]\n",
        ""
      ],
      "metadata": {
        "id": "kc2VEvndeiJe",
        "outputId": "11bffa55-26c5-4e38-9a4a-1a4b9d3c68d1",
        "colab": {
          "base_uri": "https://localhost:8080/"
        }
      },
      "execution_count": 28,
      "outputs": [
        {
          "output_type": "stream",
          "name": "stdout",
          "text": [
            "tensor([[[ 0.9720,  0.9479,  0.6521,  0.4660,  1.1860],\n",
            "         [-0.7718, -0.3991, -0.6023,  1.3383,  0.1568],\n",
            "         [ 0.1202, -0.8339, -0.5142,  0.0847,  0.3879],\n",
            "         [ 0.4600, -1.7999,  0.6513, -0.3862, -1.2778]],\n",
            "\n",
            "        [[ 0.1922, -0.2616,  0.0687,  1.2591, -0.4633],\n",
            "         [ 0.5040, -0.4333,  1.3600, -1.7822, -0.9354],\n",
            "         [ 1.0861,  0.4948, -0.2196,  0.6617,  0.8910],\n",
            "         [ 0.8244,  0.1097,  2.0245, -2.3931, -1.0113]],\n",
            "\n",
            "        [[ 0.4610,  0.0374,  0.5106,  0.3945,  1.1833],\n",
            "         [ 1.4653, -0.5597, -0.2940,  0.3636, -0.8084],\n",
            "         [-0.6797,  0.1243,  0.3129,  0.1099, -2.4462],\n",
            "         [-1.9726,  2.6365,  1.1013,  1.0841,  0.4997]]])\n"
          ]
        },
        {
          "output_type": "execute_result",
          "data": {
            "text/plain": [
              "tensor([[[ 1.1860],\n",
              "         [ 0.1568],\n",
              "         [ 0.3879],\n",
              "         [-1.2778]],\n",
              "\n",
              "        [[-0.4633],\n",
              "         [-0.9354],\n",
              "         [ 0.8910],\n",
              "         [-1.0113]],\n",
              "\n",
              "        [[ 1.1833],\n",
              "         [-0.8084],\n",
              "         [-2.4462],\n",
              "         [ 0.4997]]])"
            ]
          },
          "metadata": {},
          "execution_count": 28
        }
      ]
    },
    {
      "cell_type": "markdown",
      "source": [
        "### **Test your Understanding**"
      ],
      "metadata": {
        "id": "IxOFseFaxEQu"
      }
    },
    {
      "cell_type": "markdown",
      "source": [
        "1. Given a 3D tensor of shape `(a, b, c)`*italicised text*, permute its axes to obtain tensors of all other shape combinations (i.e 5)."
      ],
      "metadata": {
        "id": "Vzbo4s_KAsE9"
      }
    },
    {
      "cell_type": "code",
      "source": [
        "ensor = torch.randn(2, 3, 4)\n",
        "\n",
        "# Permute the 3 axes\n",
        "permutations = [(0, 1, 2), (0, 2, 1), (1, 0, 2), (1, 2, 0), (2, 0, 1), (2, 1, 0)]\n",
        "\n",
        "for permutation in permutations:\n",
        "  print(tensor.permute(permutation))"
      ],
      "metadata": {
        "id": "R791RvsIAh3O",
        "outputId": "7675219d-acbf-438b-b681-b4cac5a1262c",
        "colab": {
          "base_uri": "https://localhost:8080/"
        }
      },
      "execution_count": 29,
      "outputs": [
        {
          "output_type": "stream",
          "name": "stdout",
          "text": [
            "tensor([[[ 0.9720,  0.9479,  0.6521,  0.4660,  1.1860],\n",
            "         [-0.7718, -0.3991, -0.6023,  1.3383,  0.1568],\n",
            "         [ 0.1202, -0.8339, -0.5142,  0.0847,  0.3879],\n",
            "         [ 0.4600, -1.7999,  0.6513, -0.3862, -1.2778]],\n",
            "\n",
            "        [[ 0.1922, -0.2616,  0.0687,  1.2591, -0.4633],\n",
            "         [ 0.5040, -0.4333,  1.3600, -1.7822, -0.9354],\n",
            "         [ 1.0861,  0.4948, -0.2196,  0.6617,  0.8910],\n",
            "         [ 0.8244,  0.1097,  2.0245, -2.3931, -1.0113]],\n",
            "\n",
            "        [[ 0.4610,  0.0374,  0.5106,  0.3945,  1.1833],\n",
            "         [ 1.4653, -0.5597, -0.2940,  0.3636, -0.8084],\n",
            "         [-0.6797,  0.1243,  0.3129,  0.1099, -2.4462],\n",
            "         [-1.9726,  2.6365,  1.1013,  1.0841,  0.4997]]])\n",
            "tensor([[[ 0.9720, -0.7718,  0.1202,  0.4600],\n",
            "         [ 0.9479, -0.3991, -0.8339, -1.7999],\n",
            "         [ 0.6521, -0.6023, -0.5142,  0.6513],\n",
            "         [ 0.4660,  1.3383,  0.0847, -0.3862],\n",
            "         [ 1.1860,  0.1568,  0.3879, -1.2778]],\n",
            "\n",
            "        [[ 0.1922,  0.5040,  1.0861,  0.8244],\n",
            "         [-0.2616, -0.4333,  0.4948,  0.1097],\n",
            "         [ 0.0687,  1.3600, -0.2196,  2.0245],\n",
            "         [ 1.2591, -1.7822,  0.6617, -2.3931],\n",
            "         [-0.4633, -0.9354,  0.8910, -1.0113]],\n",
            "\n",
            "        [[ 0.4610,  1.4653, -0.6797, -1.9726],\n",
            "         [ 0.0374, -0.5597,  0.1243,  2.6365],\n",
            "         [ 0.5106, -0.2940,  0.3129,  1.1013],\n",
            "         [ 0.3945,  0.3636,  0.1099,  1.0841],\n",
            "         [ 1.1833, -0.8084, -2.4462,  0.4997]]])\n",
            "tensor([[[ 0.9720,  0.9479,  0.6521,  0.4660,  1.1860],\n",
            "         [ 0.1922, -0.2616,  0.0687,  1.2591, -0.4633],\n",
            "         [ 0.4610,  0.0374,  0.5106,  0.3945,  1.1833]],\n",
            "\n",
            "        [[-0.7718, -0.3991, -0.6023,  1.3383,  0.1568],\n",
            "         [ 0.5040, -0.4333,  1.3600, -1.7822, -0.9354],\n",
            "         [ 1.4653, -0.5597, -0.2940,  0.3636, -0.8084]],\n",
            "\n",
            "        [[ 0.1202, -0.8339, -0.5142,  0.0847,  0.3879],\n",
            "         [ 1.0861,  0.4948, -0.2196,  0.6617,  0.8910],\n",
            "         [-0.6797,  0.1243,  0.3129,  0.1099, -2.4462]],\n",
            "\n",
            "        [[ 0.4600, -1.7999,  0.6513, -0.3862, -1.2778],\n",
            "         [ 0.8244,  0.1097,  2.0245, -2.3931, -1.0113],\n",
            "         [-1.9726,  2.6365,  1.1013,  1.0841,  0.4997]]])\n",
            "tensor([[[ 0.9720,  0.1922,  0.4610],\n",
            "         [ 0.9479, -0.2616,  0.0374],\n",
            "         [ 0.6521,  0.0687,  0.5106],\n",
            "         [ 0.4660,  1.2591,  0.3945],\n",
            "         [ 1.1860, -0.4633,  1.1833]],\n",
            "\n",
            "        [[-0.7718,  0.5040,  1.4653],\n",
            "         [-0.3991, -0.4333, -0.5597],\n",
            "         [-0.6023,  1.3600, -0.2940],\n",
            "         [ 1.3383, -1.7822,  0.3636],\n",
            "         [ 0.1568, -0.9354, -0.8084]],\n",
            "\n",
            "        [[ 0.1202,  1.0861, -0.6797],\n",
            "         [-0.8339,  0.4948,  0.1243],\n",
            "         [-0.5142, -0.2196,  0.3129],\n",
            "         [ 0.0847,  0.6617,  0.1099],\n",
            "         [ 0.3879,  0.8910, -2.4462]],\n",
            "\n",
            "        [[ 0.4600,  0.8244, -1.9726],\n",
            "         [-1.7999,  0.1097,  2.6365],\n",
            "         [ 0.6513,  2.0245,  1.1013],\n",
            "         [-0.3862, -2.3931,  1.0841],\n",
            "         [-1.2778, -1.0113,  0.4997]]])\n",
            "tensor([[[ 0.9720, -0.7718,  0.1202,  0.4600],\n",
            "         [ 0.1922,  0.5040,  1.0861,  0.8244],\n",
            "         [ 0.4610,  1.4653, -0.6797, -1.9726]],\n",
            "\n",
            "        [[ 0.9479, -0.3991, -0.8339, -1.7999],\n",
            "         [-0.2616, -0.4333,  0.4948,  0.1097],\n",
            "         [ 0.0374, -0.5597,  0.1243,  2.6365]],\n",
            "\n",
            "        [[ 0.6521, -0.6023, -0.5142,  0.6513],\n",
            "         [ 0.0687,  1.3600, -0.2196,  2.0245],\n",
            "         [ 0.5106, -0.2940,  0.3129,  1.1013]],\n",
            "\n",
            "        [[ 0.4660,  1.3383,  0.0847, -0.3862],\n",
            "         [ 1.2591, -1.7822,  0.6617, -2.3931],\n",
            "         [ 0.3945,  0.3636,  0.1099,  1.0841]],\n",
            "\n",
            "        [[ 1.1860,  0.1568,  0.3879, -1.2778],\n",
            "         [-0.4633, -0.9354,  0.8910, -1.0113],\n",
            "         [ 1.1833, -0.8084, -2.4462,  0.4997]]])\n",
            "tensor([[[ 0.9720,  0.1922,  0.4610],\n",
            "         [-0.7718,  0.5040,  1.4653],\n",
            "         [ 0.1202,  1.0861, -0.6797],\n",
            "         [ 0.4600,  0.8244, -1.9726]],\n",
            "\n",
            "        [[ 0.9479, -0.2616,  0.0374],\n",
            "         [-0.3991, -0.4333, -0.5597],\n",
            "         [-0.8339,  0.4948,  0.1243],\n",
            "         [-1.7999,  0.1097,  2.6365]],\n",
            "\n",
            "        [[ 0.6521,  0.0687,  0.5106],\n",
            "         [-0.6023,  1.3600, -0.2940],\n",
            "         [-0.5142, -0.2196,  0.3129],\n",
            "         [ 0.6513,  2.0245,  1.1013]],\n",
            "\n",
            "        [[ 0.4660,  1.2591,  0.3945],\n",
            "         [ 1.3383, -1.7822,  0.3636],\n",
            "         [ 0.0847,  0.6617,  0.1099],\n",
            "         [-0.3862, -2.3931,  1.0841]],\n",
            "\n",
            "        [[ 1.1860, -0.4633,  1.1833],\n",
            "         [ 0.1568, -0.9354, -0.8084],\n",
            "         [ 0.3879,  0.8910, -2.4462],\n",
            "         [-1.2778, -1.0113,  0.4997]]])\n"
          ]
        }
      ]
    },
    {
      "cell_type": "markdown",
      "source": [
        "2. Given a 4D tensor of shape `(2, 3, 4, 5)`, transpose it to obtain a tensor of shape `(2, 4, 5, 3)`. Also explore what is_contiguous() means..."
      ],
      "metadata": {
        "id": "CwETJF5fAz-j"
      }
    },
    {
      "cell_type": "code",
      "source": [
        "\n",
        "tensor = torch.randn(2, 3, 4, 5)\n",
        "\n",
        "#transpose\n",
        "transposed_tensor = tensor.transpose(1, 2)\n",
        "\n",
        "print(\"Original tensor shape:\", tensor.shape)\n",
        "print(\"Transposed tensor shape:\", transposed_tensor.shape)\n",
        "\n",
        "print(\"\\n\\n\")\n",
        "\n",
        "# Check\n",
        "print(\"Is the transposed tensor contiguous?\", transposed_tensor.is_contiguous())\n",
        "\n",
        "print(\"Is the original tensor contiguous?\", tensor.is_contiguous())\n"
      ],
      "metadata": {
        "id": "tfdlEGx3Ag2B",
        "outputId": "3fc7fec0-02f2-41f5-ca23-c1afc26a61eb",
        "colab": {
          "base_uri": "https://localhost:8080/"
        }
      },
      "execution_count": 30,
      "outputs": [
        {
          "output_type": "stream",
          "name": "stdout",
          "text": [
            "Original tensor shape: torch.Size([2, 3, 4, 5])\n",
            "Transposed tensor shape: torch.Size([2, 4, 3, 5])\n",
            "\n",
            "\n",
            "\n",
            "Is the transposed tensor contiguous? False\n",
            "Is the original tensor contiguous? True\n"
          ]
        }
      ]
    },
    {
      "cell_type": "markdown",
      "source": [
        "3. Given two tensors, one of shape (n, 1) and another of shape (m, ), perform an element-wise addition **manually**. Then, test out what direct addition does and compare your results!"
      ],
      "metadata": {
        "id": "W13ajP4aBO3v"
      }
    },
    {
      "cell_type": "code",
      "source": [
        "n=3\n",
        "m=2\n",
        "tensor1 = torch.randn(n,1)\n",
        "tensor2 = torch.randn(m)\n",
        "print(tensor1)\n",
        "print(tensor2)\n",
        "tensor = tensor1 + tensor2\n",
        "print(\"\\n\\n\")\n",
        "print(tensor)\n",
        "\n",
        "manual_tensor1 = tensor1.expand(n,m)\n",
        "manual_tensor2 = tensor2.expand(n,m)\n",
        "manual_tensor = manual_tensor1 + manual_tensor2\n",
        "print(\"\\n\\n\")\n",
        "print(manual_tensor)\n",
        "print(\"\\n\\n\")\n",
        "\n",
        "torch.equal(tensor,manual_tensor)"
      ],
      "metadata": {
        "id": "3AtpWGh1Bdpd",
        "outputId": "26270c30-a9fd-4b5e-8180-463baf9457d3",
        "colab": {
          "base_uri": "https://localhost:8080/"
        }
      },
      "execution_count": 31,
      "outputs": [
        {
          "output_type": "stream",
          "name": "stdout",
          "text": [
            "tensor([[ 0.8210],\n",
            "        [-0.8038],\n",
            "        [ 1.7009]])\n",
            "tensor([-0.2325,  1.2342])\n",
            "\n",
            "\n",
            "\n",
            "tensor([[ 0.5885,  2.0552],\n",
            "        [-1.0362,  0.4305],\n",
            "        [ 1.4684,  2.9352]])\n",
            "\n",
            "\n",
            "\n",
            "tensor([[ 0.5885,  2.0552],\n",
            "        [-1.0362,  0.4305],\n",
            "        [ 1.4684,  2.9352]])\n",
            "\n",
            "\n",
            "\n"
          ]
        },
        {
          "output_type": "execute_result",
          "data": {
            "text/plain": [
              "True"
            ]
          },
          "metadata": {},
          "execution_count": 31
        }
      ]
    },
    {
      "cell_type": "markdown",
      "source": [
        "4. Given a 3D tensor of shape `(4, 4, 4)`, extract a sub-tensor of shape `(2, 2, 2)` starting from the element at index `(1, 1, 1)`**bold text**."
      ],
      "metadata": {
        "id": "LnyUlwKWBeUz"
      }
    },
    {
      "cell_type": "code",
      "source": [
        "tensor = torch.randn(4, 4, 4)\n",
        "sub_tensor = tensor[1:3, 1:3, 1:3]\n",
        "print(sub_tensor)"
      ],
      "metadata": {
        "id": "1oRhgDE6BqKg",
        "outputId": "6ed8a333-dc12-4f1a-b723-4be36ac4611d",
        "colab": {
          "base_uri": "https://localhost:8080/"
        }
      },
      "execution_count": 32,
      "outputs": [
        {
          "output_type": "stream",
          "name": "stdout",
          "text": [
            "tensor([[[-1.2798, -0.5552],\n",
            "         [ 0.3249,  0.7982]],\n",
            "\n",
            "        [[ 1.2052, -1.3532],\n",
            "         [ 3.1477,  2.1114]]])\n"
          ]
        }
      ]
    },
    {
      "cell_type": "markdown",
      "source": [
        "5. Given a 2-tensor of arbitrary shape, rotate it 90 degrees anticlockwise.\n",
        "\n"
      ],
      "metadata": {
        "id": "-GJaZaZyBsaU"
      }
    },
    {
      "cell_type": "code",
      "source": [
        "tensor = torch.randn(3,4)\n",
        "print(tensor)\n",
        "print(\"\\n\\n\")\n",
        "tensor = torch.rot90(tensor,3) #3 means rotating clockwise 3 times\n",
        "print(tensor)"
      ],
      "metadata": {
        "id": "fb5enhEsB1Um",
        "outputId": "f24cca2e-901b-4927-a2b6-82471ceb53fb",
        "colab": {
          "base_uri": "https://localhost:8080/"
        }
      },
      "execution_count": 33,
      "outputs": [
        {
          "output_type": "stream",
          "name": "stdout",
          "text": [
            "tensor([[ 0.0898, -2.3222,  1.1285, -0.7734],\n",
            "        [-0.2061,  0.4672, -0.5706, -0.0225],\n",
            "        [ 1.2154,  0.2715,  1.4083,  1.1021]])\n",
            "\n",
            "\n",
            "\n",
            "tensor([[ 1.2154, -0.2061,  0.0898],\n",
            "        [ 0.2715,  0.4672, -2.3222],\n",
            "        [ 1.4083, -0.5706,  1.1285],\n",
            "        [ 1.1021, -0.0225, -0.7734]])\n"
          ]
        }
      ]
    },
    {
      "cell_type": "markdown",
      "source": [
        "### **EVEN I HAD TO THINK...**"
      ],
      "metadata": {
        "id": "DNTlDxZ4C4-R"
      }
    },
    {
      "cell_type": "markdown",
      "source": [
        "1. Implement a custom operation that computes the **element-wise** **sine** of a tensor *and* its **gradient** using torch.autograd.Function.\n",
        "- You need to implement both the forward() and backward() methods.\n",
        "- For an example, look no further than the [PyTorch docs](https://pytorch.org/docs/stable/autograd.html#function)!\n",
        "- Test it out on a matrix of arbitrary size!"
      ],
      "metadata": {
        "id": "Mh71KC4rDAcY"
      }
    },
    {
      "cell_type": "code",
      "source": [],
      "metadata": {
        "id": "0Ntq8CgFC9jy"
      },
      "execution_count": null,
      "outputs": []
    },
    {
      "cell_type": "markdown",
      "source": [
        "2. One of the most important aspects of improving model performance ins normalization. Implement a custom NN normalization layer that performs either a **batch** or **layer** normalization (based on a **dim** parameter)and integrate it into a simple feedforward neural network.\n",
        "- Note that you dont need to implement any backward() here, for simplicity.\n",
        "- Consider your input tensor to the neural network as of shape (m, n) where m is num of examples, n is num of features.\n",
        "- Which value of **dim** leads to batch and layer normalization?"
      ],
      "metadata": {
        "id": "s6GDwW-dFCyT"
      }
    },
    {
      "cell_type": "code",
      "source": [
        "import torch\n",
        "import torch.nn as nn\n",
        "\n",
        "class normalization(nn.Module):\n",
        "  def __init__(self,dim):\n",
        "    super(normalization,self).__init__()\n",
        "    self.dim =dim\n",
        "\n",
        "  def forward(self,x):\n",
        "    if self.dim ==0:\n",
        "      mean = x.mean(dim=0,keepdim=True)\n",
        "      std = x.std(dim=0,keepdim=True)\n",
        "\n",
        "    elif self.dim==1:\n",
        "      mean = x.mean(dim=1,keepdim=True)\n",
        "      std = x.std(dim=1,keepdim=1)\n",
        "\n",
        "    else:\n",
        "      raise ValueError(\"Not Correct\")\n",
        "\n",
        "    x_norm = (x-mean)/(std+1e-5)\n",
        "    return x_norm\n",
        "\n",
        "class SimpleNN(nn.Module):\n",
        "  def __init__(self,input_size,hidden_size,output_size,norm_dim):\n",
        "    super(SimpleNN,self).__init__()\n",
        "    self.fc1 = nn.Linear(input_size,hidden_size)\n",
        "    self.norm = normalization(norm_dim)\n",
        "    self.relu = nn.ReLU()\n",
        "    self.fc2 = nn.Linear(hidden_size,output_size)\n",
        "\n",
        "  def forward(self,x):\n",
        "    x = self.fc1(x)\n",
        "    x = self.norm(x)\n",
        "    x = self.relu(x)\n",
        "    x = self.fc2(x)\n",
        "    return x\n",
        "\n",
        "if __name__ == \"__main__\":\n",
        "  m,n =5,3\n",
        "  tensor = torch.randn(5,3)\n",
        "\n",
        "  #batch\n",
        "  model_batch = SimpleNN(input_size=n,hidden_size=4,output_size=2,norm_dim=0)\n",
        "  output_batch = model_batch(tensor)\n",
        "  print(output_batch)\n",
        "\n",
        "  print(\"\\n\\n\")\n",
        "\n",
        "  #layer\n",
        "  model_layer = SimpleNN(input_size=n,hidden_size=4,output_size=2,norm_dim=0)\n",
        "  output_layer = model_layer(tensor)\n",
        "  print(output_layer)"
      ],
      "metadata": {
        "id": "KiofKZz_FgHd",
        "outputId": "1228e99e-0708-407c-a8b9-7e9955f9aa29",
        "colab": {
          "base_uri": "https://localhost:8080/"
        }
      },
      "execution_count": 34,
      "outputs": [
        {
          "output_type": "stream",
          "name": "stdout",
          "text": [
            "tensor([[-0.0592,  1.2750],\n",
            "        [-0.2473,  0.2331],\n",
            "        [ 0.1036,  1.1715],\n",
            "        [-0.1791,  0.3176],\n",
            "        [-0.8226, -0.5026]], grad_fn=<AddmmBackward0>)\n",
            "\n",
            "\n",
            "\n",
            "tensor([[ 0.3340, -0.1965],\n",
            "        [-0.0983, -0.6730],\n",
            "        [ 0.2544, -0.0654],\n",
            "        [-0.3093, -0.4969],\n",
            "        [ 1.5090, -1.4989]], grad_fn=<AddmmBackward0>)\n"
          ]
        }
      ]
    },
    {
      "cell_type": "markdown",
      "source": [
        "3. Given a 4D tensor of shape (2, 3, 4, 5), create a mask that sets all elements in positions where the sum of indices is even to zero."
      ],
      "metadata": {
        "id": "YEc0BxM8GGcL"
      }
    },
    {
      "cell_type": "code",
      "source": [
        "tensor = torch.randn(2,3,4,5)\n",
        "i = torch.arange(2).view(-1, 1, 1, 1)\n",
        "j = torch.arange(3).view(1, -1, 1, 1)\n",
        "k = torch.arange(4).view(1, 1, -1, 1)\n",
        "l = torch.arange(5).view(1, 1, 1, -1)\n",
        "\n",
        "index_sum = i+j+k+l\n",
        "\n",
        "mask = (index_sum%2==0)\n",
        "tensor[mask] =0\n",
        "\n",
        "print(tensor)\n",
        ""
      ],
      "metadata": {
        "id": "pJ3FD5XiGLh8",
        "outputId": "35561cfc-6dc3-405d-8b9c-4949beb08337",
        "colab": {
          "base_uri": "https://localhost:8080/"
        }
      },
      "execution_count": 35,
      "outputs": [
        {
          "output_type": "stream",
          "name": "stdout",
          "text": [
            "tensor([[[[ 0.0000, -1.6475,  0.0000, -0.5387,  0.0000],\n",
            "          [ 0.0697,  0.0000,  0.5631,  0.0000,  1.6045],\n",
            "          [ 0.0000, -0.2592,  0.0000,  0.0337,  0.0000],\n",
            "          [ 0.3270,  0.0000, -0.4858,  0.0000, -0.6199]],\n",
            "\n",
            "         [[ 0.8279,  0.0000, -1.1658,  0.0000,  0.0081],\n",
            "          [ 0.0000,  1.3926,  0.0000, -0.3098,  0.0000],\n",
            "          [ 0.2183,  0.0000, -1.4111,  0.0000,  0.5677],\n",
            "          [ 0.0000,  0.0384,  0.0000, -1.5945,  0.0000]],\n",
            "\n",
            "         [[ 0.0000, -0.1669,  0.0000,  0.8992,  0.0000],\n",
            "          [-0.0738,  0.0000, -0.2106,  0.0000,  0.2936],\n",
            "          [ 0.0000,  0.2517,  0.0000,  0.2960,  0.0000],\n",
            "          [-0.9834,  0.0000, -0.0791,  0.0000,  0.2900]]],\n",
            "\n",
            "\n",
            "        [[[ 0.3692,  0.0000, -0.0204,  0.0000,  0.4495],\n",
            "          [ 0.0000,  0.0578,  0.0000, -0.5097,  0.0000],\n",
            "          [ 0.0727,  0.0000,  0.3776,  0.0000,  0.7413],\n",
            "          [ 0.0000, -2.4670,  0.0000,  0.6007,  0.0000]],\n",
            "\n",
            "         [[ 0.0000,  0.7961,  0.0000, -0.3215,  0.0000],\n",
            "          [-0.5923,  0.0000, -0.2432,  0.0000,  1.0484],\n",
            "          [ 0.0000, -0.1614,  0.0000, -0.2453,  0.0000],\n",
            "          [-0.8786,  0.0000,  0.7254,  0.0000,  0.4751]],\n",
            "\n",
            "         [[ 0.1255,  0.0000, -1.8097,  0.0000, -0.0747],\n",
            "          [ 0.0000, -0.6904,  0.0000, -0.3801,  0.0000],\n",
            "          [ 0.1122,  0.0000, -0.3997,  0.0000, -2.3782],\n",
            "          [ 0.0000,  0.3256,  0.0000,  0.7703,  0.0000]]]])\n"
          ]
        }
      ]
    },
    {
      "cell_type": "markdown",
      "source": [
        "3. Given two tensors, one of shape `(3, 1, 4)` and another of shape `(1, 5, 1)`, compute their element-wise multiplication using broadcasting and then sum over specific axes to obtain a tensor of shape `(3, 5)`."
      ],
      "metadata": {
        "id": "Tv557NaJGMlQ"
      }
    },
    {
      "cell_type": "code",
      "source": [
        "\n",
        "tensor1 =torch.randn(3,1,4)\n",
        "tensor2 = torch.randn(1,5,1)\n",
        "\n",
        "resultant = tensor1*tensor2\n",
        "\n",
        "summed = resultant.sum(dim=2)\n",
        "print(tensor1)\n",
        "print(\"\\n\")\n",
        "print(tensor2)\n",
        "print(\"\\n\")\n",
        "print(resultant)\n",
        "print(\"\\n\")\n",
        "print(summed)\n",
        "print(\"\\n\")"
      ],
      "metadata": {
        "id": "qP3EGgyXGMMH",
        "outputId": "fdcdcee7-4e88-4dfd-a086-9e6c19ffa4ec",
        "colab": {
          "base_uri": "https://localhost:8080/"
        }
      },
      "execution_count": 36,
      "outputs": [
        {
          "output_type": "stream",
          "name": "stdout",
          "text": [
            "tensor([[[-1.6828, -0.6164,  0.6536,  1.4282]],\n",
            "\n",
            "        [[ 0.1375, -0.6794, -0.9313,  0.5996]],\n",
            "\n",
            "        [[-0.0821,  0.0272, -0.8441,  0.9502]]])\n",
            "\n",
            "\n",
            "tensor([[[ 1.0385],\n",
            "         [ 0.6847],\n",
            "         [-1.1113],\n",
            "         [ 0.6025],\n",
            "         [-0.4667]]])\n",
            "\n",
            "\n",
            "tensor([[[-1.7475, -0.6402,  0.6787,  1.4831],\n",
            "         [-1.1523, -0.4221,  0.4475,  0.9779],\n",
            "         [ 1.8700,  0.6850, -0.7263, -1.5871],\n",
            "         [-1.0139, -0.3714,  0.3938,  0.8605],\n",
            "         [ 0.7853,  0.2877, -0.3050, -0.6665]],\n",
            "\n",
            "        [[ 0.1428, -0.7056, -0.9671,  0.6226],\n",
            "         [ 0.0942, -0.4652, -0.6377,  0.4105],\n",
            "         [-0.1528,  0.7550,  1.0349, -0.6663],\n",
            "         [ 0.0828, -0.4094, -0.5611,  0.3613],\n",
            "         [-0.0642,  0.3171,  0.4346, -0.2798]],\n",
            "\n",
            "        [[-0.0852,  0.0283, -0.8765,  0.9868],\n",
            "         [-0.0562,  0.0186, -0.5780,  0.6506],\n",
            "         [ 0.0912, -0.0303,  0.9380, -1.0559],\n",
            "         [-0.0495,  0.0164, -0.5086,  0.5725],\n",
            "         [ 0.0383, -0.0127,  0.3939, -0.4434]]])\n",
            "\n",
            "\n",
            "tensor([[-0.2259, -0.1489,  0.2417, -0.1311,  0.1015],\n",
            "        [-0.9072, -0.5982,  0.9708, -0.5264,  0.4077],\n",
            "        [ 0.0533,  0.0351, -0.0570,  0.0309, -0.0239]])\n",
            "\n",
            "\n"
          ]
        }
      ]
    }
  ]
}