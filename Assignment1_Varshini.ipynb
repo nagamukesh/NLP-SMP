{
  "nbformat": 4,
  "nbformat_minor": 0,
  "metadata": {
    "colab": {
      "provenance": []
    },
    "kernelspec": {
      "name": "python3",
      "display_name": "Python 3"
    },
    "language_info": {
      "name": "python"
    }
  },
  "cells": [
    {
      "cell_type": "code",
      "source": [],
      "metadata": {
        "id": "P0owVr1-vQIL"
      },
      "execution_count": null,
      "outputs": []
    },
    {
      "cell_type": "markdown",
      "source": [
        "#  **PyTorch Practice Assignment**\n",
        "**Name**: VARSHINI ADURTI\n",
        "\n",
        "**Roll Number**: 231CS204"
      ],
      "metadata": {
        "id": "CDn9wbMS0a0r"
      }
    },
    {
      "cell_type": "markdown",
      "source": [
        "## **Instructions:**\n",
        "\n",
        "- Copy this Notebook to your own Drive! You cannot directly modify it.\n",
        "- Please show the output of the cells, in case of some operation. You can specify your own **non-trivial** test-case. Also, try and make your snippets into functions to organize your logic.\n",
        "- You can use any number of cells for a question, you are not restricted to just 1 cell!\n",
        "- **No using ChatGPT for this assignment**: we highly recommend using the [Pytorch Docs](https://pytorch.org/docs/stable/index.html) as your start reference, as well as the vast internet however. You can also contact any of your mentors for some hints/help!\n",
        "- You can work on this assignment in Google Colab or on Your Local Machine!"
      ],
      "metadata": {
        "id": "ENyCsRHv1gqA"
      }
    },
    {
      "cell_type": "markdown",
      "source": [
        "### **Build Up Your Understanding**"
      ],
      "metadata": {
        "id": "1tRkI1j1xGzl"
      }
    },
    {
      "cell_type": "code",
      "source": [
        "import torch as tc\n",
        "from torch import nn\n",
        "\n",
        "import numpy as np"
      ],
      "metadata": {
        "id": "JSaZwze5UXY2"
      },
      "execution_count": null,
      "outputs": []
    },
    {
      "cell_type": "markdown",
      "source": [
        "1. Write a PyTorch snippet to test whether none of the elements of a given tensor are zero."
      ],
      "metadata": {
        "id": "R75QYzJlz874"
      }
    },
    {
      "cell_type": "code",
      "execution_count": null,
      "metadata": {
        "id": "YrnLJibzzT0d",
        "outputId": "f6fe6bd9-a460-4060-ce58-9b77b305a501",
        "colab": {
          "base_uri": "https://localhost:8080/"
        }
      },
      "outputs": [
        {
          "output_type": "stream",
          "name": "stdout",
          "text": [
            "tensor([[ 0.2030,  0.1400, -1.4749,  1.6737],\n",
            "        [-0.1718, -0.3296,  0.6378, -0.1123],\n",
            "        [ 0.7588,  0.7525, -0.2821,  0.8061]])\n",
            "no zeroes\n"
          ]
        }
      ],
      "source": [
        "#input\n",
        "test=tc.randn(size=(3,4))\n",
        "print(test)\n",
        "\n",
        "# test[0][1]=0\n",
        "result = tc.count_nonzero(test)\n",
        "\n",
        "if(result==tc.numel(test)):\n",
        "  print(\"no zeroes\")\n",
        "else:\n",
        "  print(\"Some zeroes present\")\n",
        "\n",
        "\n",
        "# Alternate code:\n",
        "# test=tc.randn(size=(3,4))\n",
        "\n",
        "# train = tc.zeros_like(test)\n",
        "# # test[0][1]=0\n",
        "# result = tc.eq(test,train)\n",
        "\n",
        "# if(True in result):\n",
        "#   print(\"There are some zeroes\")\n",
        "# else:\n",
        "#   print(\"no zeroes\")\n"
      ]
    },
    {
      "cell_type": "markdown",
      "source": [
        "2. Write a PyTorch snippet to test element-wise for NaN of a given tensor."
      ],
      "metadata": {
        "id": "N65zZ0B20CcN"
      }
    },
    {
      "cell_type": "code",
      "source": [
        "test=tc.randn(size=(3,4))\n",
        "\n",
        "result=tc.isnan(test)\n",
        "\n",
        "print(test, result)\n"
      ],
      "metadata": {
        "id": "09XtXleK0Yqx",
        "colab": {
          "base_uri": "https://localhost:8080/"
        },
        "outputId": "e96705c5-f6da-4583-90ee-a3a2cc1a1c84"
      },
      "execution_count": null,
      "outputs": [
        {
          "output_type": "stream",
          "name": "stdout",
          "text": [
            "tensor([[-2.0961, -0.1995,  1.0458,  0.0628],\n",
            "        [ 0.2742,  0.5377, -0.5743,  1.0240],\n",
            "        [ 1.1709, -0.8252,  0.4810, -0.5100]]) tensor([[False, False, False, False],\n",
            "        [False, False, False, False],\n",
            "        [False, False, False, False]])\n"
          ]
        }
      ]
    },
    {
      "cell_type": "markdown",
      "source": [
        "3. Write a PyTorch snippet to test whether two tensors are element-wise equal within a tolerance."
      ],
      "metadata": {
        "id": "nPgqdCS60ZLy"
      }
    },
    {
      "cell_type": "code",
      "source": [
        "t1=tc.randn(size=(3,4))\n",
        "t2=tc.randn(size=(3,4))\n",
        "result=tc.eq(t1, t2)\n",
        "if(False in result):\n",
        "  print(\"They are not equal\")\n",
        "else:\n",
        "  print(\"Equal\")\n"
      ],
      "metadata": {
        "id": "nZlp4IJh1TAG",
        "colab": {
          "base_uri": "https://localhost:8080/"
        },
        "outputId": "b53426d8-d931-4b96-d46e-140a63b7bdb2"
      },
      "execution_count": null,
      "outputs": [
        {
          "output_type": "stream",
          "name": "stdout",
          "text": [
            "They are not equal\n"
          ]
        }
      ]
    },
    {
      "cell_type": "markdown",
      "source": [
        "4. Write a PyTorch snippet to create a tensor of 10 zeros, 10 ones, and 10 fives stacked on top of each other (try & accomplish everything using nested function calls)."
      ],
      "metadata": {
        "id": "6erc53t11ToS"
      }
    },
    {
      "cell_type": "code",
      "source": [
        "def stacking(arr, axis, num:int):\n",
        "  new=tc.full(size=(10,), fill_value=num, dtype=float)\n",
        "  arr.append(new)\n",
        "  ans=tc.stack((arr), axis)\n",
        "\n",
        "  return ans\n",
        "\n",
        "\n",
        "arr=[]\n",
        "t1=stacking(arr, axis=0, num=0)\n",
        "\n",
        "t1=stacking(arr, axis=0, num=1)\n",
        "t1=stacking(arr, axis=0, num=5)\n",
        "\n",
        "\n",
        "print(t1)\n",
        "\n"
      ],
      "metadata": {
        "id": "DX2o4rH81cXb",
        "colab": {
          "base_uri": "https://localhost:8080/"
        },
        "outputId": "37635b35-87b1-4fa8-d50a-a029849d1bc8"
      },
      "execution_count": null,
      "outputs": [
        {
          "output_type": "stream",
          "name": "stdout",
          "text": [
            "tensor([[0., 0., 0., 0., 0., 0., 0., 0., 0., 0.],\n",
            "        [1., 1., 1., 1., 1., 1., 1., 1., 1., 1.],\n",
            "        [5., 5., 5., 5., 5., 5., 5., 5., 5., 5.]], dtype=torch.float64)\n"
          ]
        }
      ]
    },
    {
      "cell_type": "markdown",
      "source": [
        "5. Write a PyTorch snippet to generate a random number between 0 and 1."
      ],
      "metadata": {
        "id": "HVZFHjER15fI"
      }
    },
    {
      "cell_type": "code",
      "source": [
        "num=tc.rand(size=(1,)).item()\n",
        "print(num)\n"
      ],
      "metadata": {
        "id": "D2sDJxaL16ev",
        "colab": {
          "base_uri": "https://localhost:8080/"
        },
        "outputId": "95da823e-da29-4100-d11e-2eeba69c8d14"
      },
      "execution_count": null,
      "outputs": [
        {
          "output_type": "stream",
          "name": "stdout",
          "text": [
            "0.778657853603363\n"
          ]
        }
      ]
    },
    {
      "cell_type": "markdown",
      "source": [
        "6. Write a PyTorch snippet to generate a tensor of 15 random numbers from a standard normal distribution."
      ],
      "metadata": {
        "id": "v-bl_RmJ19U2"
      }
    },
    {
      "cell_type": "code",
      "source": [
        "ans=tc.randn(size=(15,))\n",
        "print(ans)"
      ],
      "metadata": {
        "id": "TwOTzLLz1-Oj",
        "colab": {
          "base_uri": "https://localhost:8080/"
        },
        "outputId": "121e80cc-7068-4ff3-d7b9-6454c1bf355a"
      },
      "execution_count": null,
      "outputs": [
        {
          "output_type": "stream",
          "name": "stdout",
          "text": [
            "tensor([ 1.4081,  1.7233, -0.6273, -0.0723, -0.7009,  0.1105, -0.2497, -1.4081,\n",
            "         0.1046,  0.9490, -1.9557, -0.3186,  1.1614, -0.5529, -1.9708])\n"
          ]
        }
      ]
    },
    {
      "cell_type": "markdown",
      "source": [
        "7. Write a Pytorch snippet to create a tensor of length 10 with values evenly distributed between 5 and 50."
      ],
      "metadata": {
        "id": "QbsLwc2e1-wI"
      }
    },
    {
      "cell_type": "code",
      "source": [
        "from torch.distributions.uniform import Uniform\n",
        "\n",
        "shape=(10,)\n",
        "r1, r2= 5,51\n",
        "\n",
        "ans=Uniform(r1, r2).sample(shape)\n",
        "print(ans)\n",
        "\n",
        "\n",
        "# r1=5\n",
        "# r2=50\n",
        "\n",
        "# t1=(r2-r1)*tc.rand(10,) + r1\n",
        "# print(t1)\n",
        "\n",
        "\n",
        "# https://stackoverflow.com/questions/44328530/how-to-get-a-uniform-distribution-in-a-range-r1-r2-in-pytorch"
      ],
      "metadata": {
        "id": "4x-aEGJy2F_J",
        "colab": {
          "base_uri": "https://localhost:8080/"
        },
        "outputId": "d307da2f-1596-4c08-d17a-582afc6556f9"
      },
      "execution_count": null,
      "outputs": [
        {
          "output_type": "stream",
          "name": "stdout",
          "text": [
            "tensor([48.5023, 29.7287, 43.3740, 33.3932, 46.2488, 23.9584, 23.4242, 50.2578,\n",
            "        38.8644, 47.7617])\n"
          ]
        }
      ]
    },
    {
      "cell_type": "markdown",
      "source": [
        "*8*. Write a Pytorch program to create a tensor with values from 0 to 20 and change the sign of the numbers in the range from 9 to 15."
      ],
      "metadata": {
        "id": "z4t6r6xR2IyJ"
      }
    },
    {
      "cell_type": "code",
      "source": [
        "num=tc.arange(0,21)\n",
        "# print(num[9:16])\n",
        "\n",
        "for i in range(9,16):\n",
        "  num[i]=0-num[i]\n",
        "\n",
        "print(num)\n"
      ],
      "metadata": {
        "id": "2ckG-mcF2Jda",
        "colab": {
          "base_uri": "https://localhost:8080/"
        },
        "outputId": "0f0231c9-8a3f-4e1a-d67a-b446e29c0a17"
      },
      "execution_count": null,
      "outputs": [
        {
          "output_type": "stream",
          "name": "stdout",
          "text": [
            "tensor([  0,   1,   2,   3,   4,   5,   6,   7,   8,  -9, -10, -11, -12, -13,\n",
            "        -14, -15,  16,  17,  18,  19,  20])\n"
          ]
        }
      ]
    },
    {
      "cell_type": "markdown",
      "source": [
        "9. Write a PyTorch snippet to create a 3x4 2-tensor filled with values from 10 to 21. Same but 12 to 24."
      ],
      "metadata": {
        "id": "n5piPDEY2NXK"
      }
    },
    {
      "cell_type": "code",
      "source": [
        "t1=tc.arange(10,22)\n",
        "t1=t1.reshape([3,4])\n",
        "print(t1)\n",
        "\n",
        "t2=tc.arange(12,24)\n",
        "t2=t2.reshape([3,4])\n",
        "print(t2)"
      ],
      "metadata": {
        "id": "zKzFvfPP2OOy",
        "colab": {
          "base_uri": "https://localhost:8080/"
        },
        "outputId": "159f3b6b-2221-4ad8-84fa-a9e407a260cc"
      },
      "execution_count": null,
      "outputs": [
        {
          "output_type": "stream",
          "name": "stdout",
          "text": [
            "tensor([[10, 11, 12, 13],\n",
            "        [14, 15, 16, 17],\n",
            "        [18, 19, 20, 21]])\n",
            "tensor([[12, 13, 14, 15],\n",
            "        [16, 17, 18, 19],\n",
            "        [20, 21, 22, 23]])\n"
          ]
        }
      ]
    },
    {
      "cell_type": "markdown",
      "source": [
        "10. Write a PyTorch snippet to create a 10x10 2-tensor, in which the elements on the borders will be equal to 1, and inside 0."
      ],
      "metadata": {
        "id": "BMbpvCE12UAA"
      }
    },
    {
      "cell_type": "code",
      "source": [
        "t1=tc.zeros(size=(10,10))\n",
        "t1[:, 0]=1\n",
        "t1[:, 9]=1\n",
        "t1[0,:]=1\n",
        "t1[9,:]=1\n",
        "t1"
      ],
      "metadata": {
        "id": "-e2dvNB12Uv4",
        "colab": {
          "base_uri": "https://localhost:8080/"
        },
        "outputId": "93dd78c7-b374-4d55-f752-7186ebb1c132"
      },
      "execution_count": null,
      "outputs": [
        {
          "output_type": "execute_result",
          "data": {
            "text/plain": [
              "tensor([[1., 1., 1., 1., 1., 1., 1., 1., 1., 1.],\n",
              "        [1., 0., 0., 0., 0., 0., 0., 0., 0., 1.],\n",
              "        [1., 0., 0., 0., 0., 0., 0., 0., 0., 1.],\n",
              "        [1., 0., 0., 0., 0., 0., 0., 0., 0., 1.],\n",
              "        [1., 0., 0., 0., 0., 0., 0., 0., 0., 1.],\n",
              "        [1., 0., 0., 0., 0., 0., 0., 0., 0., 1.],\n",
              "        [1., 0., 0., 0., 0., 0., 0., 0., 0., 1.],\n",
              "        [1., 0., 0., 0., 0., 0., 0., 0., 0., 1.],\n",
              "        [1., 0., 0., 0., 0., 0., 0., 0., 0., 1.],\n",
              "        [1., 1., 1., 1., 1., 1., 1., 1., 1., 1.]])"
            ]
          },
          "metadata": {},
          "execution_count": 13
        }
      ]
    },
    {
      "cell_type": "markdown",
      "source": [
        "11. Write a PyTorch snippet to create a 5x5 zero 2-tensor with elements on the main diagonal equal to 1, 2, 3, 4, 5."
      ],
      "metadata": {
        "id": "3pf24Y0R2YKX"
      }
    },
    {
      "cell_type": "code",
      "source": [
        "t1=tc.zeros(size=(5,5))\n",
        "for i in range(5):\n",
        "  t1[i][i]=i+1\n",
        "\n",
        "t1"
      ],
      "metadata": {
        "id": "eb_vYa5n2Y8O",
        "colab": {
          "base_uri": "https://localhost:8080/"
        },
        "outputId": "7df97d8e-3401-41d2-d195-ff53cbd7871e"
      },
      "execution_count": null,
      "outputs": [
        {
          "output_type": "execute_result",
          "data": {
            "text/plain": [
              "tensor([[1., 0., 0., 0., 0.],\n",
              "        [0., 2., 0., 0., 0.],\n",
              "        [0., 0., 3., 0., 0.],\n",
              "        [0., 0., 0., 4., 0.],\n",
              "        [0., 0., 0., 0., 5.]])"
            ]
          },
          "metadata": {},
          "execution_count": 14
        }
      ]
    },
    {
      "cell_type": "markdown",
      "source": [
        "12. Write a PyTorch snippet to save a given tensor as a binary to a given path."
      ],
      "metadata": {
        "id": "-BkVD0CA2hWL"
      }
    },
    {
      "cell_type": "code",
      "source": [
        "from pathlib import Path\n",
        "\n",
        "t1=tc.randn(size=(3,4))\n",
        "\n",
        "\n",
        "save_path = Path(\"tensors.path\")\n",
        "save_path.mkdir(parents=True, exist_ok=True)\n",
        "\n",
        "\n",
        "file_name=\"tens.bin\"\n",
        "\n",
        "new_path=save_path/file_name\n",
        "\n",
        "\n",
        "tc.save(obj=t1, f=new_path)"
      ],
      "metadata": {
        "id": "DrpbNVax2igN"
      },
      "execution_count": null,
      "outputs": []
    },
    {
      "cell_type": "markdown",
      "source": [
        "13. Write a NumPy program to create a two-dimensional array of a specified format."
      ],
      "metadata": {
        "id": "1zoIfD1k2i71"
      }
    },
    {
      "cell_type": "code",
      "source": [
        "size= tuple(map(int, input().split()))\n",
        "arr=np.empty(shape=size)\n",
        "arr"
      ],
      "metadata": {
        "id": "xXnOECag2zvz",
        "colab": {
          "base_uri": "https://localhost:8080/"
        },
        "outputId": "794297a4-a8e7-4109-a0de-8e3dc59a5ee0"
      },
      "execution_count": null,
      "outputs": [
        {
          "name": "stdout",
          "output_type": "stream",
          "text": [
            "3 4\n"
          ]
        },
        {
          "output_type": "execute_result",
          "data": {
            "text/plain": [
              "array([[4.66645851e-310, 0.00000000e+000, 0.00000000e+000,\n",
              "        0.00000000e+000],\n",
              "       [0.00000000e+000, 0.00000000e+000, 0.00000000e+000,\n",
              "        0.00000000e+000],\n",
              "       [0.00000000e+000, 0.00000000e+000, 0.00000000e+000,\n",
              "        0.00000000e+000]])"
            ]
          },
          "metadata": {},
          "execution_count": 16
        }
      ]
    },
    {
      "cell_type": "markdown",
      "source": [
        "##14. Write a PyTorch snippet to create a 2-tensor with shape (8,5) of random numbers. Select random numbers from a normal distribution (200,7) (mean, variance)."
      ],
      "metadata": {
        "id": "1V6fwGje28Ak"
      }
    },
    {
      "cell_type": "code",
      "source": [
        "# Uniform distribution\n",
        "\n",
        "t1=tc.randn(size=(8,5))\n",
        "\n",
        "# Distribution with given mean and std\n",
        "t2=tc.normal(200,7, (8,5))\n",
        "\n",
        "print(t2)\n",
        "\n",
        "# var=7 ** 0.5\n",
        "# print(var)\n",
        "# mn=200\n",
        "\n",
        "# y= var*tc.randn(8,5)+mn\n",
        "\n",
        "\n",
        "# y=y.reshape(shape=(8,5))\n",
        "\n",
        "# print(tc.mean(y), tc.var(y))"
      ],
      "metadata": {
        "id": "f5pdwN9d27Rr",
        "colab": {
          "base_uri": "https://localhost:8080/"
        },
        "outputId": "278a28b4-2f2c-4505-aa92-3ff2004b0e7d"
      },
      "execution_count": null,
      "outputs": [
        {
          "output_type": "stream",
          "name": "stdout",
          "text": [
            "tensor([[192.9569, 206.5600, 204.5108, 197.5021, 209.7686],\n",
            "        [199.3325, 196.2979, 201.5356, 186.6583, 190.9865],\n",
            "        [192.1010, 203.5999, 206.9476, 209.1567, 209.0872],\n",
            "        [198.9530, 203.1093, 206.2218, 211.7365, 201.3796],\n",
            "        [191.6052, 206.1056, 199.6261, 198.1174, 200.3393],\n",
            "        [198.0579, 200.7947, 206.6887, 206.8273, 200.9063],\n",
            "        [210.2998, 202.2010, 199.5327, 201.4570, 198.1192],\n",
            "        [189.4437, 195.4313, 192.5443, 193.3524, 200.6173]])\n"
          ]
        }
      ]
    },
    {
      "cell_type": "markdown",
      "source": [
        "15. Write a PyTorch snippet to generate a uniform, non-uniform random sample from a given vector with and without replacement (do all 4 combinations possible)."
      ],
      "metadata": {
        "id": "hSVeltdw3IoY"
      }
    },
    {
      "cell_type": "code",
      "source": [
        "import torch\n",
        "\n",
        "# Example tensor\n",
        "tensor = tc.randn(size=(8,))\n",
        "\n",
        "num_samples=5\n",
        "\n",
        "#uniform sampling:\n",
        "#With replacement\n",
        "ans1_uni= tensor[tc.randint(0,8, size=(num_samples,))]\n",
        "#Without replacement\n",
        "ans2_uni= tensor[tc.randperm(8)[0:5,]]\n",
        "\n",
        "print(f\"{tensor}\\n\\n{ans1_uni}\\n\\n{ans2_uni}\")\n",
        "\n",
        "#Non-uniform-sampling\n",
        "\n",
        "prob=tc.tensor([0.1, 0.2, 0.3, 0.2, 0.2])\n",
        "\n",
        "#With replacement:\n",
        "ans3_Nuni=tensor[tc.multinomial(prob, num_samples=num_samples,replacement=True)]\n",
        "#Without replacement\n",
        "ans4_Nuni=tensor[tc.multinomial(prob, num_samples=num_samples,replacement=False)]\n",
        "\n",
        "\n",
        "print(f\"{ans3_Nuni}\\n\\n{ans4_Nuni}\")\n",
        "\n",
        "\n"
      ],
      "metadata": {
        "colab": {
          "base_uri": "https://localhost:8080/"
        },
        "id": "LVXDST6Br1CP",
        "outputId": "b96e2c60-a943-4b91-b138-eb92fe9fd959"
      },
      "execution_count": null,
      "outputs": [
        {
          "output_type": "stream",
          "name": "stdout",
          "text": [
            "tensor([-0.6846,  0.3703,  1.7985,  0.3001, -0.8019, -1.8462, -0.5595,  2.0138])\n",
            "\n",
            "tensor([ 2.0138,  1.7985,  0.3001, -0.6846,  0.3001])\n",
            "\n",
            "tensor([ 2.0138,  0.3703, -1.8462, -0.6846,  1.7985])\n",
            "tensor([ 1.7985,  0.3703,  1.7985, -0.8019, -0.6846])\n",
            "\n",
            "tensor([ 0.3703, -0.8019,  0.3001, -0.6846,  1.7985])\n"
          ]
        }
      ]
    },
    {
      "cell_type": "markdown",
      "source": [
        "16. Write a Pyorch snippet to create an nxn(input to function) tensor with random values. Create an array from the said array swapping first and last rows."
      ],
      "metadata": {
        "id": "DOIrjKBq3MjM"
      }
    },
    {
      "cell_type": "code",
      "source": [
        "n=int(input())\n",
        "arr=tc.randn(n,n)\n",
        "result=arr.clone()\n",
        "temp=result[0].clone()\n",
        "result[0]=result[n-1]\n",
        "\n",
        "result[n-1]=temp\n",
        "\n",
        "print(arr, result)"
      ],
      "metadata": {
        "id": "xFkWtcTN3MI3"
      },
      "execution_count": null,
      "outputs": []
    },
    {
      "cell_type": "markdown",
      "source": [
        "17. Write a PyTorch snippet to sort a given tensor (1D or 2D) in ascending order."
      ],
      "metadata": {
        "id": "e2yl3FJI3SOW"
      }
    },
    {
      "cell_type": "code",
      "source": [
        "t1=tc.randn(3,4)\n",
        "format=t1.shape\n",
        "print(t1)\n",
        "t1=t1.reshape(t1.numel(),)\n",
        "t1=(tc.sort(t1)).values\n",
        "ans=t1.reshape(shape=(format))\n",
        "print(ans)"
      ],
      "metadata": {
        "id": "FxiCfs8y3R8W"
      },
      "execution_count": null,
      "outputs": []
    },
    {
      "cell_type": "markdown",
      "source": [
        "18. Write a PyTorch snippet to create a tensor of equal shape and data type for a given tensor (any dimensional)"
      ],
      "metadata": {
        "id": "TY1htljY3X50"
      }
    },
    {
      "cell_type": "code",
      "source": [
        "t1=tc.randn(3,4, dtype=tc.float16)\n",
        "t2=tc.randn(*(t1.shape), dtype=t1.dtype)\n",
        "print(t2.shape, t2.dtype)"
      ],
      "metadata": {
        "id": "br714aF43Xax"
      },
      "execution_count": null,
      "outputs": []
    },
    {
      "cell_type": "markdown",
      "source": [
        "19. Write a PyTorch snippet to create an 8x8 matrix and fill it with a checkerboard pattern.\n",
        "Checkerboard pattern:\n",
        "```py\n",
        "[[0 1 0 1 0 1 0 1]\n",
        "..........\n",
        "[0 1 0 1 0 1 0 1]\n",
        "[1 0 1 0 1 0 1 0]]\n",
        "```"
      ],
      "metadata": {
        "id": "jWZmWlDz3kE-"
      }
    },
    {
      "cell_type": "code",
      "source": [
        "ans=tc.randn(8,8)\n",
        "\n",
        "for i in range(8):\n",
        "  if(i%2==0):\n",
        "    ans[i]=tc.tensor([0,1,0,1,0,1,0,1])\n",
        "\n",
        "  else:\n",
        "    ans[i]=tc.tensor([1,0,1,0,1,0,1,0])\n",
        "\n",
        "print(ans)\n"
      ],
      "metadata": {
        "id": "gUQpw8Fg3lag"
      },
      "execution_count": null,
      "outputs": []
    },
    {
      "cell_type": "markdown",
      "source": [
        "20. Write a Pytorch snippet to convert Centigrade to Fahrenheit and vice versa (controlled by a parameter). Ensure you operation is vectorized i.e **no explicit looping**\n",
        "\n",
        "Sample Array: `[0, 12, 45.21, 34, 99.91]`"
      ],
      "metadata": {
        "id": "yB4L7Usg364D"
      }
    },
    {
      "cell_type": "code",
      "source": [
        "scale=input(\"Enter input scale (cel or far)\\n\")\n",
        "sample=tc.tensor([0, 12, 45.21, 34, 99.91])\n",
        "\n",
        "\n",
        "def convert(arr:tc.Tensor(), deg:str):\n",
        "  if(deg==\"cel\"):\n",
        "    new=(arr * 9)/5 + 32\n",
        "\n",
        "  elif(deg==\"far\"):\n",
        "\n",
        "    new=((arr-32)*5)/9\n",
        "\n",
        "\n",
        "  return new\n",
        "\n",
        "\n",
        "print(convert(sample, scale))\n"
      ],
      "metadata": {
        "id": "IPTecJEQ3_JC"
      },
      "execution_count": null,
      "outputs": []
    },
    {
      "cell_type": "markdown",
      "source": [
        "21. Write a PyTorch snippet to get the values of the elements that are bigger than a given *number* in a given tensor.\n",
        "\n",
        "Original tensor:\n",
        "```\n",
        "[[ 0 10 20]\n",
        "[20 30 40]]\n",
        "```\n",
        "Number: 10\n",
        "\n",
        "Values bigger than 10 = `[20 20 30 40]`"
      ],
      "metadata": {
        "id": "n8dqXvMZ4oFb"
      }
    },
    {
      "cell_type": "code",
      "source": [
        "t1=tc.tensor([[ 0,10,20],[20, 30, 40]])\n",
        "num=int(input())\n",
        "\n",
        "def check(tens, num):\n",
        "  ans=t1[t1>10]\n",
        "\n",
        "  return ans\n",
        "\n",
        "print(check(t1, num))"
      ],
      "metadata": {
        "id": "HwoDL-Kr4ww4"
      },
      "execution_count": null,
      "outputs": []
    },
    {
      "cell_type": "markdown",
      "source": [
        "22. Write a PyTorch snippet to create another shape from an array without changing its data. After carrying out the operation, change the data in one place and see if the other tensor changes\n",
        "\n",
        "Reshape 3x2:\n",
        "```\n",
        "[[1 2]\n",
        "[3 4]\n",
        "[5 6]]\n",
        "```\n",
        "Reshape 2x3:\n",
        "```\n",
        "[[1 2 3]\n",
        "[4 5 6]]\n",
        "```"
      ],
      "metadata": {
        "id": "QmR9luYk4xaa"
      }
    },
    {
      "cell_type": "code",
      "source": [
        "t1=tc.tensor([[1,2],[3,4],[5,6]])\n",
        "t2=t1.reshape(shape=(2,3))\n",
        "t2[1][0]=54\n",
        "print(t2, t1)\n",
        "\n",
        "\n",
        "#Value changes when you use reshape"
      ],
      "metadata": {
        "id": "oUvXdmtV5ZRJ"
      },
      "execution_count": null,
      "outputs": []
    },
    {
      "cell_type": "markdown",
      "source": [
        "23. Write a PyTorch snipppet to change an tensor's data type.\n",
        "```\n",
        "[[ 2 4 6]\n",
        "[ 6 8 10]]\n",
        "```\n",
        "Data type of the array x is: `int32`\n",
        "\n",
        "New Type: `float64`\n",
        "```\n",
        "[[ 2. 4. 6.]\n",
        "[ 6. 8. 10.]]\n",
        "```"
      ],
      "metadata": {
        "id": "ew1n8aUg5QZA"
      }
    },
    {
      "cell_type": "code",
      "source": [
        "t1=tc.tensor([[2, 4, 6],[ 6,8,10]], dtype=tc.float64)\n",
        "\n",
        "print(t1)\n",
        "\n",
        "#or\n",
        "\n",
        "t1=tc.tensor([[2, 4, 6],[ 6,8,10]])\n",
        "t1=t1.type(tc.float64)\n",
        "print(t1)\n",
        "\n"
      ],
      "metadata": {
        "id": "rle47-WsDZH1"
      },
      "execution_count": null,
      "outputs": []
    },
    {
      "cell_type": "markdown",
      "source": [
        "24. Write a PyTorch snippet to insert a new axis within a 2-tensor, based on a **parameter**.\n",
        "\n",
        "Ex: If 2-tensor has shape (3, 4).\n",
        "\n",
        "Then, new shape can be (1, 3, 4), (3, 1, 4), or (3, 4, 1) depending on...."
      ],
      "metadata": {
        "id": "0hf1vOk75-Df"
      }
    },
    {
      "cell_type": "code",
      "source": [
        "t1=tc.randn(3,4)\n",
        "param=int(input(\"Enter values between 1 to 3\\n\"))\n",
        "\n",
        "def newdim(tens, para):\n",
        "  if(para==1):\n",
        "    ans=t1[None, ]\n",
        "  elif(para==2):\n",
        "    ans=t1[:, None, ]\n",
        "  else:\n",
        "    ans=t1[:, :, None]\n",
        "\n",
        "  return ans\n",
        "\n",
        "print(newdim(t1, param).shape)"
      ],
      "metadata": {
        "id": "38vF5Dwk5Dbi"
      },
      "execution_count": null,
      "outputs": []
    },
    {
      "cell_type": "markdown",
      "source": [
        "25. Write a PyTorch snippet to stack tensors based on a parameter, **axis**.\n",
        "First discover what this means with 2-tensors, then extend it to 3-tensors. Print your findings.\n",
        "\n",
        "Sample Output:\n",
        "\n",
        "Original tensors:\n",
        "\n",
        "Tensor-1\n",
        "```\n",
        "[[0 1 2]\n",
        "[3 4 5]\n",
        "[6 7 8]]\n",
        "```\n",
        "Tensor-2\n",
        "```\n",
        "[[ 0 3 6]\n",
        "[ 9 12 15]\n",
        "[18 21 24]]\n",
        "```\n",
        "Stack tensors such that axis=1:\n",
        "```\n",
        "[[ 0 1 2 0 3 6]\n",
        "[ 3 4 5 9 12 15]\n",
        "[ 6 7 8 18 21 24]]\n",
        "```"
      ],
      "metadata": {
        "id": "K4GeygLp7wAt"
      }
    },
    {
      "cell_type": "code",
      "source": [
        "#In 2D\n",
        "t1=tc.tensor([[0, 1, 2],[3, 4, 5],[6, 7, 8]])\n",
        "t2=tc.tensor([[ 0, 3, 6],[ 9, 12, 15],[18, 21, 24]])\n",
        "print(t1,t2)\n",
        "ax=int(input(\"Enter 0 or 1 \\n\"))\n",
        "\n",
        "def stacking(tens:tuple, axis:int):\n",
        "  new=tc.cat(tens, axis=axis) #Use tc.stack(same syntax) for stacking, however this adds another dimension while cat()stacks the tensors along an existing dimension\n",
        "\n",
        "  return new\n",
        "\n",
        "\n",
        "print(stacking((t1,t2), ax))\n",
        "print(\"\\n\")\n",
        "#In 3D\n",
        "t1=tc.tensor([[[0, 1, 2],[3, 4, 5],[6, 7, 8]], [[45,54,71],[48,65,91],[75,235,64]]])\n",
        "t2=tc.tensor([[[ 0, 3, 6],[ 9, 12, 15],[18, 21, 24]], [[7,1,3],[11,55,81],[9,23,14]]])\n",
        "print(t1,t2)\n",
        "ax=int(input(\"Enter 0 or 1 or 2\\n\"))\n",
        "\n",
        "print(stacking((t1,t2), ax))\n"
      ],
      "metadata": {
        "id": "-37mCkKH75fN"
      },
      "execution_count": null,
      "outputs": []
    },
    {
      "cell_type": "markdown",
      "source": [
        "26. Write a PyTorch snippet to extract the **m**th to **n**th elements of the **m**th to **n**th rows from the **m**th to nth elemnts of given 3-tensor, of shape `(p, q, r)` where m, n < p, q, r.\n",
        "\n",
        "Take a 3-tensor of (say) size `(5,6,7)` and `(m, n)` = `(4, 5)` as a test case!"
      ],
      "metadata": {
        "id": "6kix-xlh8hFz"
      }
    },
    {
      "cell_type": "code",
      "source": [
        "sample=tc.randn(size=(5,6,7))\n",
        "(m,n)=(2,4)\n",
        "m-=1\n",
        "n-=1\n",
        "\n",
        "arr=sample[m:n, m:n, m:n]\n",
        "\n",
        "\n",
        "print(sample)\n",
        "\n",
        "print(\"\\n\\n\")\n",
        "\n",
        "print(arr)\n",
        "\n"
      ],
      "metadata": {
        "id": "w-rnFTIwW-f9"
      },
      "execution_count": null,
      "outputs": []
    },
    {
      "cell_type": "markdown",
      "source": [
        "### **Test your Understanding**"
      ],
      "metadata": {
        "id": "IxOFseFaxEQu"
      }
    },
    {
      "cell_type": "markdown",
      "source": [
        "1. Given a 3D tensor of shape `(a, b, c)`*italicised text*, permute its axes to obtain tensors of all other shape combinations (i.e 5)."
      ],
      "metadata": {
        "id": "Vzbo4s_KAsE9"
      }
    },
    {
      "cell_type": "code",
      "source": [
        "from itertools import permutations\n",
        "a,b,c = map(int,input().split())\n",
        "\n",
        "t=tc.randn(size=(a,b,c))\n",
        "print(t)\n",
        "order=permutations([0,1,2])\n",
        "\n",
        "final=[]\n",
        "\n",
        "for i in order:\n",
        "  t1=tc.permute(t, tuple(i))\n",
        "  final.append(t1)\n",
        "\n",
        "\n",
        "print(\"\\n\")\n",
        "\n",
        "for i in final:\n",
        "  print(i, i.shape)\n"
      ],
      "metadata": {
        "id": "R791RvsIAh3O"
      },
      "execution_count": null,
      "outputs": []
    },
    {
      "cell_type": "markdown",
      "source": [
        "2. Given a 4D tensor of shape `(2, 3, 4, 5)`, transpose it to obtain a tensor of shape `(2, 4, 5, 3)`. Also explore what is_contiguous() means..."
      ],
      "metadata": {
        "id": "CwETJF5fAz-j"
      }
    },
    {
      "cell_type": "code",
      "source": [
        "t=tc.randn(size=(2,3,4,5))\n",
        "\n",
        "ans=tc.permute(t, (0,2,3,1))\n",
        "\n",
        "print(ans.shape)\n",
        "\n",
        "\n",
        "#or\n",
        "\n",
        "new= tc.transpose(t,1,2)\n",
        "new=tc.transpose(new, 2,3)\n",
        "\n",
        "print(new.shape)\n"
      ],
      "metadata": {
        "id": "tfdlEGx3Ag2B"
      },
      "execution_count": null,
      "outputs": []
    },
    {
      "cell_type": "markdown",
      "source": [
        "3. Given two tensors, one of shape (n, 1) and another of shape (m, ), perform an element-wise addition."
      ],
      "metadata": {
        "id": "W13ajP4aBO3v"
      }
    },
    {
      "cell_type": "code",
      "source": [
        "m,n = map(int, input().split())\n",
        "\n",
        "t1=tc.randn(size=(m,))\n",
        "t2=tc.randn(size=(n,1))\n",
        "print(t1, t2)\n",
        "\n",
        "\n",
        "def add(t1, t2, n, m):\n",
        "  new1=t1.repeat(n, 1)\n",
        "  new2=t2.repeat(1, m)\n",
        "\n",
        "  ans=new1+new2\n",
        "\n",
        "  return ans\n",
        "\n",
        "\n",
        "\n",
        "manual_add=add(t1, t2, n, m)  #BY MANUAL BROADCASTING\n",
        "print(manual_add)\n",
        "\n",
        "print(\"\\n\")\n",
        "simple_add=t1+t2\n",
        "print(simple_add)\n"
      ],
      "metadata": {
        "id": "3AtpWGh1Bdpd"
      },
      "execution_count": null,
      "outputs": []
    },
    {
      "cell_type": "markdown",
      "source": [
        "4. Given a 3D tensor of shape `(4, 4, 4)`, extract a sub-tensor of shape `(2, 2, 2)` starting from the element at index `(1, 1, 1)`**bold text**."
      ],
      "metadata": {
        "id": "LnyUlwKWBeUz"
      }
    },
    {
      "cell_type": "code",
      "source": [
        "arr=tc.randn(size=(4,4,4))\n",
        "\n",
        "arr2= arr[1:, 1:, 1:]\n",
        "\n",
        "final=arr2[0:2, 0:2, :]\n",
        "\n",
        "print(f\"{arr}\\n{arr2}\\n\\n\\n{final}\")\n",
        "\n"
      ],
      "metadata": {
        "id": "1oRhgDE6BqKg"
      },
      "execution_count": null,
      "outputs": []
    },
    {
      "cell_type": "markdown",
      "source": [
        "5. Given a 2-tensor of arbitrary shape, rotate it 90 degrees anticlockwise.\n",
        "\n"
      ],
      "metadata": {
        "id": "-GJaZaZyBsaU"
      }
    },
    {
      "cell_type": "code",
      "source": [
        "t1=tc.randn(size=(3,4))\n",
        "\n",
        "ans=tc.rot90(t1)\n",
        "print(t1,ans)"
      ],
      "metadata": {
        "id": "fb5enhEsB1Um"
      },
      "execution_count": null,
      "outputs": []
    },
    {
      "cell_type": "markdown",
      "source": [
        "### **EVEN I HAD TO THINK...**"
      ],
      "metadata": {
        "id": "DNTlDxZ4C4-R"
      }
    },
    {
      "cell_type": "markdown",
      "source": [
        "1. Implement a custom operation that computes the **element-wise** **sine** of a tensor *and* its **gradient** using torch.autograd.Function.\n",
        "- You need to implement both the forward() and backward() methods.\n",
        "- For an example, look no further than the [PyTorch docs](https://pytorch.org/docs/stable/autograd.html#function)!\n",
        "- Test it out on a matrix of arbitrary size!"
      ],
      "metadata": {
        "id": "Mh71KC4rDAcY"
      }
    },
    {
      "cell_type": "code",
      "source": [
        "tc.manual_seed(42)\n",
        "test= tc.randn(size=(3,4), requires_grad=True)\n",
        "\n",
        "sine= tc.sin(test)\n",
        "print(sine)\n",
        "\n",
        "out= tc.sum(sine)\n",
        "\n",
        "# final=tc.autograd.grad(out, test)\n",
        "\n",
        "# print(final)\n",
        "\n",
        "\n",
        "final=tc.autograd.backward(out, inputs=test)\n",
        "print(final)\n",
        "\n"
      ],
      "metadata": {
        "id": "0Ntq8CgFC9jy"
      },
      "execution_count": null,
      "outputs": []
    },
    {
      "cell_type": "markdown",
      "source": [
        "2. One of the most important aspects of improving model performance ins normalization. Implement a custom NN normalization layer that performs either a **batch** or **layer** normalization (based on a **dim** parameter)and integrate it into a simple feedforward neural network.\n",
        "- Note that you dont need to implement any backward() here, for simplicity.\n",
        "- Consider your input tensor to the neural network as of shape (m, n) where m is num of examples, n is num of features.\n",
        "- Which value of **dim** leads to batch and layer normalization?"
      ],
      "metadata": {
        "id": "s6GDwW-dFCyT"
      }
    },
    {
      "cell_type": "code",
      "source": [
        "sample=tc.rand(size=(3,4))\n",
        "\n",
        "#Batch Normalisation, dim=1\n",
        "\n",
        "batch=tc.nn.functional.normalize(sample, dim=1)\n",
        "\n",
        "#Layer Normalisation\n",
        "\n",
        "layer=tc.nn.functional.normalize(sample, dim=0)\n",
        "\n",
        "# print(f\"sample: \\n{sample}\\nBatch Normalised:\\n{batch}\\nLayer Normalised:\\n{layer}\")\n",
        "\n",
        "\n",
        "class model(nn.Module):\n",
        "  def __init__(self, inp):\n",
        "    super().__init__()\n",
        "    self.input=(inp.shape)[1]\n",
        "\n",
        "\n",
        "    self.linear=nn.Sequential(\n",
        "        nn.Linear(\n",
        "          in_features=self.input,\n",
        "          out_features=6\n",
        "     ),\n",
        "        nn.Linear(\n",
        "          in_features=6,\n",
        "          out_features=1\n",
        "      )\n",
        "    )\n",
        "\n",
        "  def forward(self, inp):\n",
        "    return self.linear(inp)\n",
        "\n",
        "\n",
        "ans=model(batch)\n",
        "\n",
        "ans.state_dict()\n"
      ],
      "metadata": {
        "id": "I7T62ZcaUNEP"
      },
      "execution_count": null,
      "outputs": []
    },
    {
      "cell_type": "markdown",
      "source": [
        "3. Given a 4D tensor of shape (2, 3, 4, 5), create a mask that sets all elements in positions where the sum of indices is even to zero."
      ],
      "metadata": {
        "id": "YEc0BxM8GGcL"
      }
    },
    {
      "cell_type": "code",
      "source": [
        "sample=tc.randn(size=(2,3,4,5))\n",
        "\n",
        "indices=tc.nonzero(sample)\n",
        "indices\n",
        "\n",
        "\n",
        "for index in indices:\n",
        "  if(index.sum()%2==0):\n",
        "    sample[list(index)]=0\n",
        "\n",
        "\n",
        "sample\n"
      ],
      "metadata": {
        "id": "pJ3FD5XiGLh8"
      },
      "execution_count": null,
      "outputs": []
    },
    {
      "cell_type": "markdown",
      "source": [
        "4. Given two tensors, one of shape `(3, 1, 4)` and another of shape `(1, 5, 1)`, compute their element-wise multiplication using broadcasting and then sum over specific axes to obtain a tensor of shape `(3, 5)`."
      ],
      "metadata": {
        "id": "Tv557NaJGMlQ"
      }
    },
    {
      "cell_type": "code",
      "source": [
        "#Element wise multiplication\n",
        "\n",
        "t1=tc.randn(size=(3,1,4))\n",
        "t2=tc.randn(size=(1,5,1))\n",
        "\n",
        "simple_mult=t1*t2\n",
        "\n",
        "new1=t1.repeat(1,5,1)\n",
        "new2=t2.repeat(3,1,4)\n",
        "\n",
        "manual_mult= new1*new2\n",
        "\n",
        "\n",
        "print(f\"{simple_mult}\\n{manual_mult}\")\n",
        "\n",
        "\n",
        "#Sum to get the shape (3,5)\n",
        "ans=tc.sum(simple_mult, dim=2)\n",
        "final=ans.squeeze()\n",
        "\n",
        "print(\"\\n\")\n",
        "\n",
        "print(final)\n",
        "\n"
      ],
      "metadata": {
        "id": "qP3EGgyXGMMH"
      },
      "execution_count": null,
      "outputs": []
    },
    {
      "cell_type": "code",
      "source": [],
      "metadata": {
        "id": "JF2j-oAy8dEI"
      },
      "execution_count": null,
      "outputs": []
    }
  ]
}