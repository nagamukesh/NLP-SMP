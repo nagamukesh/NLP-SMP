{
  "nbformat": 4,
  "nbformat_minor": 0,
  "metadata": {
    "colab": {
      "provenance": []
    },
    "kernelspec": {
      "name": "python3",
      "display_name": "Python 3"
    },
    "language_info": {
      "name": "python"
    }
  },
  "cells": [
    {
      "cell_type": "code",
      "source": [],
      "metadata": {
        "id": "P0owVr1-vQIL"
      },
      "execution_count": null,
      "outputs": []
    },
    {
      "cell_type": "markdown",
      "source": [
        "#  **PyTorch Practice Assignment**\n",
        "**Name**: VARSHINI ADURTI\n",
        "\n",
        "**Roll Number**: 231CS204"
      ],
      "metadata": {
        "id": "CDn9wbMS0a0r"
      }
    },
    {
      "cell_type": "markdown",
      "source": [
        "## **Instructions:**\n",
        "\n",
        "- Copy this Notebook to your own Drive! You cannot directly modify it.\n",
        "- Please show the output of the cells, in case of some operation. You can specify your own **non-trivial** test-case. Also, try and make your snippets into functions to organize your logic.\n",
        "- You can use any number of cells for a question, you are not restricted to just 1 cell!\n",
        "- **No using ChatGPT for this assignment**: we highly recommend using the [Pytorch Docs](https://pytorch.org/docs/stable/index.html) as your start reference, as well as the vast internet however. You can also contact any of your mentors for some hints/help!\n",
        "- You can work on this assignment in Google Colab or on Your Local Machine!"
      ],
      "metadata": {
        "id": "ENyCsRHv1gqA"
      }
    },
    {
      "cell_type": "markdown",
      "source": [
        "### **Build Up Your Understanding**"
      ],
      "metadata": {
        "id": "1tRkI1j1xGzl"
      }
    },
    {
      "cell_type": "code",
      "source": [
        "import torch as tc\n",
        "from torch import nn\n",
        "\n",
        "import numpy as np"
      ],
      "metadata": {
        "id": "JSaZwze5UXY2"
      },
      "execution_count": 1,
      "outputs": []
    },
    {
      "cell_type": "markdown",
      "source": [
        "1. Write a PyTorch snippet to test whether none of the elements of a given tensor are zero."
      ],
      "metadata": {
        "id": "R75QYzJlz874"
      }
    },
    {
      "cell_type": "code",
      "execution_count": 2,
      "metadata": {
        "id": "YrnLJibzzT0d",
        "outputId": "057e5f9e-3ed3-4b0d-f437-012cac00e32d",
        "colab": {
          "base_uri": "https://localhost:8080/"
        }
      },
      "outputs": [
        {
          "output_type": "stream",
          "name": "stdout",
          "text": [
            "tensor([[ 1.0144,  0.9565,  1.9864,  0.8527],\n",
            "        [ 0.4993,  0.0433, -0.3678, -1.1502],\n",
            "        [-1.5243,  1.7736,  1.7259, -0.6722]])\n",
            "no zeroes\n"
          ]
        }
      ],
      "source": [
        "#input\n",
        "test=tc.randn(size=(3,4))\n",
        "print(test)\n",
        "\n",
        "# test[0][1]=0\n",
        "result = tc.count_nonzero(test)\n",
        "\n",
        "if(result==tc.numel(test)):\n",
        "  print(\"no zeroes\")\n",
        "else:\n",
        "  print(\"Some zeroes present\")\n",
        "\n",
        "\n",
        "# Alternate code:\n",
        "# test=tc.randn(size=(3,4))\n",
        "\n",
        "# train = tc.zeros_like(test)\n",
        "# # test[0][1]=0\n",
        "# result = tc.eq(test,train)\n",
        "\n",
        "# if(True in result):\n",
        "#   print(\"There are some zeroes\")\n",
        "# else:\n",
        "#   print(\"no zeroes\")\n"
      ]
    },
    {
      "cell_type": "markdown",
      "source": [
        "2. Write a PyTorch snippet to test element-wise for NaN of a given tensor."
      ],
      "metadata": {
        "id": "N65zZ0B20CcN"
      }
    },
    {
      "cell_type": "code",
      "source": [
        "test=tc.randn(size=(3,4))\n",
        "\n",
        "result=tc.isnan(test)\n",
        "\n",
        "print(f\"{test}\\n\\n{result}\")\n"
      ],
      "metadata": {
        "id": "09XtXleK0Yqx",
        "colab": {
          "base_uri": "https://localhost:8080/"
        },
        "outputId": "db68c74e-5a6f-4d77-8a0e-3dc510dccec0"
      },
      "execution_count": 39,
      "outputs": [
        {
          "output_type": "stream",
          "name": "stdout",
          "text": [
            "tensor([[ 1.1103, -1.6898, -0.9890,  0.9580],\n",
            "        [ 1.3221,  0.8172, -0.7658, -0.7506],\n",
            "        [ 1.3525,  0.6863, -0.3278,  0.7950]])\n",
            "\n",
            "tensor([[False, False, False, False],\n",
            "        [False, False, False, False],\n",
            "        [False, False, False, False]])\n"
          ]
        }
      ]
    },
    {
      "cell_type": "markdown",
      "source": [
        "3. Write a PyTorch snippet to test whether two tensors are element-wise equal within a tolerance."
      ],
      "metadata": {
        "id": "nPgqdCS60ZLy"
      }
    },
    {
      "cell_type": "code",
      "source": [
        "t1=tc.randn(size=(3,4))\n",
        "t2=tc.randn(size=(3,4))\n",
        "result=tc.eq(t1, t2)\n",
        "if(False in result):\n",
        "  print(\"They are not equal\")\n",
        "else:\n",
        "  print(\"Equal\")\n"
      ],
      "metadata": {
        "id": "nZlp4IJh1TAG",
        "colab": {
          "base_uri": "https://localhost:8080/"
        },
        "outputId": "6cf64014-0732-479f-9740-34f15d812433"
      },
      "execution_count": 4,
      "outputs": [
        {
          "output_type": "stream",
          "name": "stdout",
          "text": [
            "They are not equal\n"
          ]
        }
      ]
    },
    {
      "cell_type": "markdown",
      "source": [
        "4. Write a PyTorch snippet to create a tensor of 10 zeros, 10 ones, and 10 fives stacked on top of each other (try & accomplish everything using nested function calls)."
      ],
      "metadata": {
        "id": "6erc53t11ToS"
      }
    },
    {
      "cell_type": "code",
      "source": [
        "def stacking(arr, axis, num:int):\n",
        "  new=tc.full(size=(10,), fill_value=num, dtype=float)\n",
        "  arr.append(new)\n",
        "  ans=tc.stack((arr), axis)\n",
        "\n",
        "  return ans\n",
        "\n",
        "\n",
        "arr=[]\n",
        "t1=stacking(arr, axis=0, num=0)\n",
        "\n",
        "t1=stacking(arr, axis=0, num=1)\n",
        "t1=stacking(arr, axis=0, num=5)\n",
        "\n",
        "\n",
        "print(t1)\n",
        "\n"
      ],
      "metadata": {
        "id": "DX2o4rH81cXb",
        "colab": {
          "base_uri": "https://localhost:8080/"
        },
        "outputId": "9b6f4923-581f-494a-c452-9c09694a399a"
      },
      "execution_count": 5,
      "outputs": [
        {
          "output_type": "stream",
          "name": "stdout",
          "text": [
            "tensor([[0., 0., 0., 0., 0., 0., 0., 0., 0., 0.],\n",
            "        [1., 1., 1., 1., 1., 1., 1., 1., 1., 1.],\n",
            "        [5., 5., 5., 5., 5., 5., 5., 5., 5., 5.]], dtype=torch.float64)\n"
          ]
        }
      ]
    },
    {
      "cell_type": "markdown",
      "source": [
        "5. Write a PyTorch snippet to generate a random number between 0 and 1."
      ],
      "metadata": {
        "id": "HVZFHjER15fI"
      }
    },
    {
      "cell_type": "code",
      "source": [
        "num=tc.rand(size=(1,)).item()\n",
        "print(num)\n"
      ],
      "metadata": {
        "id": "D2sDJxaL16ev",
        "colab": {
          "base_uri": "https://localhost:8080/"
        },
        "outputId": "33c66223-8058-4667-a753-339fe5c57f4b"
      },
      "execution_count": 6,
      "outputs": [
        {
          "output_type": "stream",
          "name": "stdout",
          "text": [
            "0.1410195231437683\n"
          ]
        }
      ]
    },
    {
      "cell_type": "markdown",
      "source": [
        "6. Write a PyTorch snippet to generate a tensor of 15 random numbers from a standard normal distribution."
      ],
      "metadata": {
        "id": "v-bl_RmJ19U2"
      }
    },
    {
      "cell_type": "code",
      "source": [
        "ans=tc.randn(size=(15,))\n",
        "print(ans)"
      ],
      "metadata": {
        "id": "TwOTzLLz1-Oj",
        "colab": {
          "base_uri": "https://localhost:8080/"
        },
        "outputId": "8f2ddc79-d4bc-4919-f410-79db98ccea0d"
      },
      "execution_count": 7,
      "outputs": [
        {
          "output_type": "stream",
          "name": "stdout",
          "text": [
            "tensor([-0.6220,  0.3187,  0.7281,  0.8472, -0.4706, -0.5721, -1.0903, -0.8078,\n",
            "        -3.1339,  0.1146,  0.2151, -1.7511, -0.5169, -0.3382, -1.1940])\n"
          ]
        }
      ]
    },
    {
      "cell_type": "markdown",
      "source": [
        "7. Write a Pytorch snippet to create a tensor of length 10 with values evenly distributed between 5 and 50."
      ],
      "metadata": {
        "id": "QbsLwc2e1-wI"
      }
    },
    {
      "cell_type": "code",
      "source": [
        "from torch.distributions.uniform import Uniform\n",
        "\n",
        "shape=(10,)\n",
        "r1, r2= 5,51\n",
        "\n",
        "ans=Uniform(r1, r2).sample(shape)\n",
        "print(ans)\n",
        "\n",
        "\n",
        "# r1=5\n",
        "# r2=50\n",
        "\n",
        "# t1=(r2-r1)*tc.rand(10,) + r1\n",
        "# print(t1)\n",
        "\n",
        "\n",
        "# https://stackoverflow.com/questions/44328530/how-to-get-a-uniform-distribution-in-a-range-r1-r2-in-pytorch"
      ],
      "metadata": {
        "id": "4x-aEGJy2F_J",
        "colab": {
          "base_uri": "https://localhost:8080/"
        },
        "outputId": "c1e37e6a-f5be-4039-89c2-54e81fe0204e"
      },
      "execution_count": 8,
      "outputs": [
        {
          "output_type": "stream",
          "name": "stdout",
          "text": [
            "tensor([38.2089, 25.1407, 11.2827, 40.0873, 16.5614, 30.3959, 35.9377, 43.7285,\n",
            "         7.0866, 13.2682])\n"
          ]
        }
      ]
    },
    {
      "cell_type": "markdown",
      "source": [
        "*8*. Write a Pytorch program to create a tensor with values from 0 to 20 and change the sign of the numbers in the range from 9 to 15."
      ],
      "metadata": {
        "id": "z4t6r6xR2IyJ"
      }
    },
    {
      "cell_type": "code",
      "source": [
        "num=tc.arange(0,21)\n",
        "# print(num[9:16])\n",
        "\n",
        "for i in range(9,16):\n",
        "  num[i]=0-num[i]\n",
        "\n",
        "print(num)\n"
      ],
      "metadata": {
        "id": "2ckG-mcF2Jda",
        "colab": {
          "base_uri": "https://localhost:8080/"
        },
        "outputId": "8154223c-db7a-473f-8c2b-9e168f8ca43e"
      },
      "execution_count": 9,
      "outputs": [
        {
          "output_type": "stream",
          "name": "stdout",
          "text": [
            "tensor([  0,   1,   2,   3,   4,   5,   6,   7,   8,  -9, -10, -11, -12, -13,\n",
            "        -14, -15,  16,  17,  18,  19,  20])\n"
          ]
        }
      ]
    },
    {
      "cell_type": "markdown",
      "source": [
        "9. Write a PyTorch snippet to create a 3x4 2-tensor filled with values from 10 to 21. Same but 12 to 24."
      ],
      "metadata": {
        "id": "n5piPDEY2NXK"
      }
    },
    {
      "cell_type": "code",
      "source": [
        "t1=tc.arange(10,22)\n",
        "t1=t1.reshape([3,4])\n",
        "print(t1)\n",
        "\n",
        "t2=tc.arange(12,24)\n",
        "t2=t2.reshape([3,4])\n",
        "print(t2)"
      ],
      "metadata": {
        "id": "zKzFvfPP2OOy",
        "colab": {
          "base_uri": "https://localhost:8080/"
        },
        "outputId": "acd73fb6-7ec8-4ae4-e1a9-40e45e8a4316"
      },
      "execution_count": 10,
      "outputs": [
        {
          "output_type": "stream",
          "name": "stdout",
          "text": [
            "tensor([[10, 11, 12, 13],\n",
            "        [14, 15, 16, 17],\n",
            "        [18, 19, 20, 21]])\n",
            "tensor([[12, 13, 14, 15],\n",
            "        [16, 17, 18, 19],\n",
            "        [20, 21, 22, 23]])\n"
          ]
        }
      ]
    },
    {
      "cell_type": "markdown",
      "source": [
        "10. Write a PyTorch snippet to create a 10x10 2-tensor, in which the elements on the borders will be equal to 1, and inside 0."
      ],
      "metadata": {
        "id": "BMbpvCE12UAA"
      }
    },
    {
      "cell_type": "code",
      "source": [
        "t1=tc.zeros(size=(10,10))\n",
        "t1[:, 0]=1\n",
        "t1[:, 9]=1\n",
        "t1[0,:]=1\n",
        "t1[9,:]=1\n",
        "t1"
      ],
      "metadata": {
        "id": "-e2dvNB12Uv4",
        "colab": {
          "base_uri": "https://localhost:8080/"
        },
        "outputId": "db92b243-49db-42cf-e90b-38f14f66c6dd"
      },
      "execution_count": 11,
      "outputs": [
        {
          "output_type": "execute_result",
          "data": {
            "text/plain": [
              "tensor([[1., 1., 1., 1., 1., 1., 1., 1., 1., 1.],\n",
              "        [1., 0., 0., 0., 0., 0., 0., 0., 0., 1.],\n",
              "        [1., 0., 0., 0., 0., 0., 0., 0., 0., 1.],\n",
              "        [1., 0., 0., 0., 0., 0., 0., 0., 0., 1.],\n",
              "        [1., 0., 0., 0., 0., 0., 0., 0., 0., 1.],\n",
              "        [1., 0., 0., 0., 0., 0., 0., 0., 0., 1.],\n",
              "        [1., 0., 0., 0., 0., 0., 0., 0., 0., 1.],\n",
              "        [1., 0., 0., 0., 0., 0., 0., 0., 0., 1.],\n",
              "        [1., 0., 0., 0., 0., 0., 0., 0., 0., 1.],\n",
              "        [1., 1., 1., 1., 1., 1., 1., 1., 1., 1.]])"
            ]
          },
          "metadata": {},
          "execution_count": 11
        }
      ]
    },
    {
      "cell_type": "markdown",
      "source": [
        "11. Write a PyTorch snippet to create a 5x5 zero 2-tensor with elements on the main diagonal equal to 1, 2, 3, 4, 5."
      ],
      "metadata": {
        "id": "3pf24Y0R2YKX"
      }
    },
    {
      "cell_type": "code",
      "source": [
        "t1=tc.zeros(size=(5,5))\n",
        "for i in range(5):\n",
        "  t1[i][i]=i+1\n",
        "\n",
        "t1"
      ],
      "metadata": {
        "id": "eb_vYa5n2Y8O",
        "colab": {
          "base_uri": "https://localhost:8080/"
        },
        "outputId": "c7888c46-ea07-4947-901e-3942c6d5e9a9"
      },
      "execution_count": 12,
      "outputs": [
        {
          "output_type": "execute_result",
          "data": {
            "text/plain": [
              "tensor([[1., 0., 0., 0., 0.],\n",
              "        [0., 2., 0., 0., 0.],\n",
              "        [0., 0., 3., 0., 0.],\n",
              "        [0., 0., 0., 4., 0.],\n",
              "        [0., 0., 0., 0., 5.]])"
            ]
          },
          "metadata": {},
          "execution_count": 12
        }
      ]
    },
    {
      "cell_type": "markdown",
      "source": [
        "12. Write a PyTorch snippet to save a given tensor as a binary to a given path."
      ],
      "metadata": {
        "id": "-BkVD0CA2hWL"
      }
    },
    {
      "cell_type": "code",
      "source": [
        "from pathlib import Path\n",
        "\n",
        "t1=tc.randn(size=(3,4))\n",
        "\n",
        "\n",
        "save_path = Path(\"tensors.path\")\n",
        "save_path.mkdir(parents=True, exist_ok=True)\n",
        "\n",
        "\n",
        "file_name=\"tens.bin\"\n",
        "\n",
        "new_path=save_path/file_name\n",
        "\n",
        "\n",
        "tc.save(obj=t1, f=new_path)"
      ],
      "metadata": {
        "id": "DrpbNVax2igN"
      },
      "execution_count": 13,
      "outputs": []
    },
    {
      "cell_type": "markdown",
      "source": [
        "13. Write a NumPy program to create a two-dimensional array of a specified format."
      ],
      "metadata": {
        "id": "1zoIfD1k2i71"
      }
    },
    {
      "cell_type": "code",
      "source": [
        "size= tuple(map(int, input().split()))\n",
        "arr=np.empty(shape=size)\n",
        "arr"
      ],
      "metadata": {
        "id": "xXnOECag2zvz",
        "colab": {
          "base_uri": "https://localhost:8080/"
        },
        "outputId": "e26680c4-cc50-4bff-d828-4a41c7f4e731"
      },
      "execution_count": 14,
      "outputs": [
        {
          "name": "stdout",
          "output_type": "stream",
          "text": [
            "3 4\n"
          ]
        },
        {
          "output_type": "execute_result",
          "data": {
            "text/plain": [
              "array([[4.93916717e-310, 0.00000000e+000, 0.00000000e+000,\n",
              "        0.00000000e+000],\n",
              "       [0.00000000e+000, 0.00000000e+000, 0.00000000e+000,\n",
              "        0.00000000e+000],\n",
              "       [0.00000000e+000, 0.00000000e+000, 0.00000000e+000,\n",
              "        0.00000000e+000]])"
            ]
          },
          "metadata": {},
          "execution_count": 14
        }
      ]
    },
    {
      "cell_type": "markdown",
      "source": [
        "##14. Write a PyTorch snippet to create a 2-tensor with shape (8,5) of random numbers. Select random numbers from a normal distribution (200,7) (mean, variance)."
      ],
      "metadata": {
        "id": "1V6fwGje28Ak"
      }
    },
    {
      "cell_type": "code",
      "source": [
        "# Uniform distribution\n",
        "\n",
        "t1=tc.randn(size=(8,5))\n",
        "\n",
        "# Distribution with given mean and std\n",
        "t2=tc.normal(200,7, (8,5))\n",
        "\n",
        "print(t2)\n",
        "\n",
        "\n",
        "# Distribution based on statistical shift of mean\n",
        "\n",
        "# var=7 ** 0.5\n",
        "# print(var)\n",
        "# mn=200\n",
        "\n",
        "# y= var*tc.randn(8,5)+mn\n",
        "\n",
        "\n",
        "# y=y.reshape(shape=(8,5))\n",
        "\n",
        "# print(tc.mean(y), tc.var(y))"
      ],
      "metadata": {
        "id": "f5pdwN9d27Rr",
        "colab": {
          "base_uri": "https://localhost:8080/"
        },
        "outputId": "7a20993a-66a0-465b-c7ee-b0dc92cffcc9"
      },
      "execution_count": 15,
      "outputs": [
        {
          "output_type": "stream",
          "name": "stdout",
          "text": [
            "tensor([[209.3774, 208.8614, 202.6273, 192.6426, 202.2129],\n",
            "        [201.9743, 210.3168, 205.0779, 187.6713, 205.9248],\n",
            "        [215.9234, 198.7880, 206.2254, 199.6873, 202.1508],\n",
            "        [211.8183, 207.1766, 199.6304, 196.2781, 209.6219],\n",
            "        [210.1761, 199.5057, 201.4819, 196.8323, 199.8885],\n",
            "        [200.3951, 208.2974, 189.8376, 203.2557, 199.5739],\n",
            "        [203.4971, 199.1128, 207.3694, 190.0287, 205.6943],\n",
            "        [191.6687, 214.0622, 193.1835, 207.3233, 197.2845]])\n"
          ]
        }
      ]
    },
    {
      "cell_type": "markdown",
      "source": [
        "15. Write a PyTorch snippet to generate a uniform, non-uniform random sample from a given vector with and without replacement (do all 4 combinations possible)."
      ],
      "metadata": {
        "id": "hSVeltdw3IoY"
      }
    },
    {
      "cell_type": "code",
      "source": [
        "import torch\n",
        "\n",
        "# Example tensor\n",
        "tensor = tc.randn(size=(8,))\n",
        "\n",
        "num_samples=5\n",
        "\n",
        "#uniform sampling:\n",
        "#With replacement\n",
        "ans1_uni= tensor[tc.randint(0,8, size=(num_samples,))]\n",
        "#Without replacement\n",
        "ans2_uni= tensor[tc.randperm(8)[0:5,]]\n",
        "\n",
        "print(f\"{tensor}\\n\\n{ans1_uni}\\n\\n{ans2_uni}\")\n",
        "\n",
        "#Non-uniform-sampling\n",
        "\n",
        "prob=tc.tensor([0.1, 0.2, 0.3, 0.2, 0.2])\n",
        "\n",
        "#With replacement:\n",
        "ans3_Nuni=tensor[tc.multinomial(prob, num_samples=num_samples,replacement=True)]\n",
        "#Without replacement\n",
        "ans4_Nuni=tensor[tc.multinomial(prob, num_samples=num_samples,replacement=False)]\n",
        "\n",
        "\n",
        "print(f\"{ans3_Nuni}\\n\\n{ans4_Nuni}\")\n",
        "\n",
        "\n"
      ],
      "metadata": {
        "colab": {
          "base_uri": "https://localhost:8080/"
        },
        "id": "LVXDST6Br1CP",
        "outputId": "deabd9da-d905-4f31-b288-c8491bad3780"
      },
      "execution_count": 16,
      "outputs": [
        {
          "output_type": "stream",
          "name": "stdout",
          "text": [
            "tensor([-0.7979,  0.3001, -1.9764, -1.0615, -3.3129, -0.5538, -0.6444, -0.1064])\n",
            "\n",
            "tensor([-3.3129, -0.6444, -1.0615, -0.1064, -0.1064])\n",
            "\n",
            "tensor([-1.0615,  0.3001, -0.6444, -3.3129, -0.7979])\n",
            "tensor([-1.0615, -1.9764, -1.9764, -0.7979, -1.9764])\n",
            "\n",
            "tensor([-3.3129,  0.3001, -0.7979, -1.9764, -1.0615])\n"
          ]
        }
      ]
    },
    {
      "cell_type": "markdown",
      "source": [
        "16. Write a Pytorch snippet to create an nxn(input to function) tensor with random values. Create an array from the said array swapping first and last rows."
      ],
      "metadata": {
        "id": "DOIrjKBq3MjM"
      }
    },
    {
      "cell_type": "code",
      "source": [
        "n=int(input())\n",
        "arr=tc.randn(n,n)\n",
        "result=arr.clone()\n",
        "temp=result[0].clone()\n",
        "result[0]=result[n-1]\n",
        "\n",
        "result[n-1]=temp\n",
        "\n",
        "print(arr, result)"
      ],
      "metadata": {
        "id": "xFkWtcTN3MI3",
        "colab": {
          "base_uri": "https://localhost:8080/"
        },
        "outputId": "e84adceb-c063-4d50-c1dc-09324383c0a8"
      },
      "execution_count": 17,
      "outputs": [
        {
          "output_type": "stream",
          "name": "stdout",
          "text": [
            "3\n",
            "tensor([[ 0.0726,  0.4240, -0.3933],\n",
            "        [-0.9028, -0.2852, -0.7708],\n",
            "        [-0.4246, -0.4911, -2.3789]]) tensor([[-0.4246, -0.4911, -2.3789],\n",
            "        [-0.9028, -0.2852, -0.7708],\n",
            "        [ 0.0726,  0.4240, -0.3933]])\n"
          ]
        }
      ]
    },
    {
      "cell_type": "markdown",
      "source": [
        "17. Write a PyTorch snippet to sort a given tensor (1D or 2D) in ascending order."
      ],
      "metadata": {
        "id": "e2yl3FJI3SOW"
      }
    },
    {
      "cell_type": "code",
      "source": [
        "t1=tc.randn(3,4)\n",
        "format=t1.shape\n",
        "print(t1)\n",
        "t1=t1.reshape(t1.numel(),)\n",
        "t1=(tc.sort(t1)).values\n",
        "ans=t1.reshape(shape=(format))\n",
        "print(ans)"
      ],
      "metadata": {
        "id": "FxiCfs8y3R8W",
        "colab": {
          "base_uri": "https://localhost:8080/"
        },
        "outputId": "094922b5-84b9-4a47-abff-f86b160faae2"
      },
      "execution_count": 18,
      "outputs": [
        {
          "output_type": "stream",
          "name": "stdout",
          "text": [
            "tensor([[ 1.0162,  2.0946, -0.5422, -0.4814],\n",
            "        [ 1.0479,  1.6513, -0.0446, -0.2596],\n",
            "        [ 0.6500,  1.3906,  1.2291, -1.3055]])\n",
            "tensor([[-1.3055, -0.5422, -0.4814, -0.2596],\n",
            "        [-0.0446,  0.6500,  1.0162,  1.0479],\n",
            "        [ 1.2291,  1.3906,  1.6513,  2.0946]])\n"
          ]
        }
      ]
    },
    {
      "cell_type": "markdown",
      "source": [
        "18. Write a PyTorch snippet to create a tensor of equal shape and data type for a given tensor (any dimensional)"
      ],
      "metadata": {
        "id": "TY1htljY3X50"
      }
    },
    {
      "cell_type": "code",
      "source": [
        "t1=tc.randn(3,4, dtype=tc.float16)\n",
        "t2=tc.randn(*(t1.shape), dtype=t1.dtype)\n",
        "print(t2.shape, t2.dtype)"
      ],
      "metadata": {
        "id": "br714aF43Xax",
        "colab": {
          "base_uri": "https://localhost:8080/"
        },
        "outputId": "b2802888-8168-4702-b656-c8786c01d0e6"
      },
      "execution_count": 19,
      "outputs": [
        {
          "output_type": "stream",
          "name": "stdout",
          "text": [
            "torch.Size([3, 4]) torch.float16\n"
          ]
        }
      ]
    },
    {
      "cell_type": "markdown",
      "source": [
        "19. Write a PyTorch snippet to create an 8x8 matrix and fill it with a checkerboard pattern.\n",
        "Checkerboard pattern:\n",
        "```py\n",
        "[[0 1 0 1 0 1 0 1]\n",
        "..........\n",
        "[0 1 0 1 0 1 0 1]\n",
        "[1 0 1 0 1 0 1 0]]\n",
        "```"
      ],
      "metadata": {
        "id": "jWZmWlDz3kE-"
      }
    },
    {
      "cell_type": "code",
      "source": [
        "ans=tc.randn(8,8)\n",
        "\n",
        "for i in range(8):\n",
        "  if(i%2==0):\n",
        "    ans[i]=tc.tensor([0,1,0,1,0,1,0,1])\n",
        "\n",
        "  else:\n",
        "    ans[i]=tc.tensor([1,0,1,0,1,0,1,0])\n",
        "\n",
        "print(ans)\n"
      ],
      "metadata": {
        "id": "gUQpw8Fg3lag",
        "colab": {
          "base_uri": "https://localhost:8080/"
        },
        "outputId": "e2166ecf-4e64-4a5d-d9a8-6058630b5523"
      },
      "execution_count": 20,
      "outputs": [
        {
          "output_type": "stream",
          "name": "stdout",
          "text": [
            "tensor([[0., 1., 0., 1., 0., 1., 0., 1.],\n",
            "        [1., 0., 1., 0., 1., 0., 1., 0.],\n",
            "        [0., 1., 0., 1., 0., 1., 0., 1.],\n",
            "        [1., 0., 1., 0., 1., 0., 1., 0.],\n",
            "        [0., 1., 0., 1., 0., 1., 0., 1.],\n",
            "        [1., 0., 1., 0., 1., 0., 1., 0.],\n",
            "        [0., 1., 0., 1., 0., 1., 0., 1.],\n",
            "        [1., 0., 1., 0., 1., 0., 1., 0.]])\n"
          ]
        }
      ]
    },
    {
      "cell_type": "markdown",
      "source": [
        "20. Write a Pytorch snippet to convert Centigrade to Fahrenheit and vice versa (controlled by a parameter). Ensure you operation is vectorized i.e **no explicit looping**\n",
        "\n",
        "Sample Array: `[0, 12, 45.21, 34, 99.91]`"
      ],
      "metadata": {
        "id": "yB4L7Usg364D"
      }
    },
    {
      "cell_type": "code",
      "source": [
        "scale=input(\"Enter input scale (cel or far)\\n\")\n",
        "sample=tc.tensor([0, 12, 45.21, 34, 99.91])\n",
        "\n",
        "\n",
        "def convert(arr:tc.Tensor(), deg:str):\n",
        "  if(deg==\"cel\"):\n",
        "    new=(arr * 9)/5 + 32\n",
        "\n",
        "  elif(deg==\"far\"):\n",
        "\n",
        "    new=((arr-32)*5)/9\n",
        "\n",
        "\n",
        "  return new\n",
        "\n",
        "\n",
        "print(convert(sample, scale))\n"
      ],
      "metadata": {
        "id": "IPTecJEQ3_JC",
        "colab": {
          "base_uri": "https://localhost:8080/"
        },
        "outputId": "16c59266-b0d1-483d-ca0e-7d77eaa20307"
      },
      "execution_count": 21,
      "outputs": [
        {
          "output_type": "stream",
          "name": "stdout",
          "text": [
            "Enter input scale (cel or far)\n",
            "far\n",
            "tensor([-17.7778, -11.1111,   7.3389,   1.1111,  37.7278])\n"
          ]
        }
      ]
    },
    {
      "cell_type": "markdown",
      "source": [
        "21. Write a PyTorch snippet to get the values of the elements that are bigger than a given *number* in a given tensor.\n",
        "\n",
        "Original tensor:\n",
        "```\n",
        "[[ 0 10 20]\n",
        "[20 30 40]]\n",
        "```\n",
        "Number: 10\n",
        "\n",
        "Values bigger than 10 = `[20 20 30 40]`"
      ],
      "metadata": {
        "id": "n8dqXvMZ4oFb"
      }
    },
    {
      "cell_type": "code",
      "source": [
        "t1=tc.tensor([[ 0,10,20],[20, 30, 40]])\n",
        "num=int(input())\n",
        "\n",
        "def check(tens, num):\n",
        "  ans=t1[t1>10]\n",
        "\n",
        "  return ans\n",
        "\n",
        "print(check(t1, num))"
      ],
      "metadata": {
        "id": "HwoDL-Kr4ww4",
        "colab": {
          "base_uri": "https://localhost:8080/"
        },
        "outputId": "d5cc7f2c-24f9-48ae-f8d1-b9e04f516f2d"
      },
      "execution_count": 22,
      "outputs": [
        {
          "output_type": "stream",
          "name": "stdout",
          "text": [
            "10\n",
            "tensor([20, 20, 30, 40])\n"
          ]
        }
      ]
    },
    {
      "cell_type": "markdown",
      "source": [
        "22. Write a PyTorch snippet to create another shape from an array without changing its data. After carrying out the operation, change the data in one place and see if the other tensor changes\n",
        "\n",
        "Reshape 3x2:\n",
        "```\n",
        "[[1 2]\n",
        "[3 4]\n",
        "[5 6]]\n",
        "```\n",
        "Reshape 2x3:\n",
        "```\n",
        "[[1 2 3]\n",
        "[4 5 6]]\n",
        "```"
      ],
      "metadata": {
        "id": "QmR9luYk4xaa"
      }
    },
    {
      "cell_type": "code",
      "source": [
        "t1=tc.tensor([[1,2],[3,4],[5,6]])\n",
        "t2=t1.reshape(shape=(2,3))\n",
        "\n",
        "#Value changes when you use reshape\n",
        "\n",
        "t2[1][0]=54\n",
        "print(f\"{t2}\\n\\n{t1}\")\n"
      ],
      "metadata": {
        "id": "oUvXdmtV5ZRJ",
        "colab": {
          "base_uri": "https://localhost:8080/"
        },
        "outputId": "b1b115cc-c985-4240-950b-e72c5cfba847"
      },
      "execution_count": 41,
      "outputs": [
        {
          "output_type": "stream",
          "name": "stdout",
          "text": [
            "tensor([[ 1,  2,  3],\n",
            "        [54,  5,  6]])\n",
            "\n",
            "tensor([[ 1,  2],\n",
            "        [ 3, 54],\n",
            "        [ 5,  6]])\n"
          ]
        }
      ]
    },
    {
      "cell_type": "markdown",
      "source": [
        "23. Write a PyTorch snipppet to change an tensor's data type.\n",
        "```\n",
        "[[ 2 4 6]\n",
        "[ 6 8 10]]\n",
        "```\n",
        "Data type of the array x is: `int32`\n",
        "\n",
        "New Type: `float64`\n",
        "```\n",
        "[[ 2. 4. 6.]\n",
        "[ 6. 8. 10.]]\n",
        "```"
      ],
      "metadata": {
        "id": "ew1n8aUg5QZA"
      }
    },
    {
      "cell_type": "code",
      "source": [
        "t1=tc.tensor([[2, 4, 6],[ 6,8,10]], dtype=tc.float64)\n",
        "\n",
        "print(t1)\n",
        "\n",
        "#or\n",
        "\n",
        "t1=tc.tensor([[2, 4, 6],[ 6,8,10]])\n",
        "t1=t1.type(tc.float64)\n",
        "print(t1)\n",
        "\n"
      ],
      "metadata": {
        "id": "rle47-WsDZH1",
        "colab": {
          "base_uri": "https://localhost:8080/"
        },
        "outputId": "deb073c6-db1c-407e-8e53-82b68aa62033"
      },
      "execution_count": 24,
      "outputs": [
        {
          "output_type": "stream",
          "name": "stdout",
          "text": [
            "tensor([[ 2.,  4.,  6.],\n",
            "        [ 6.,  8., 10.]], dtype=torch.float64)\n",
            "tensor([[ 2.,  4.,  6.],\n",
            "        [ 6.,  8., 10.]], dtype=torch.float64)\n"
          ]
        }
      ]
    },
    {
      "cell_type": "markdown",
      "source": [
        "24. Write a PyTorch snippet to insert a new axis within a 2-tensor, based on a **parameter**.\n",
        "\n",
        "Ex: If 2-tensor has shape (3, 4).\n",
        "\n",
        "Then, new shape can be (1, 3, 4), (3, 1, 4), or (3, 4, 1) depending on...."
      ],
      "metadata": {
        "id": "0hf1vOk75-Df"
      }
    },
    {
      "cell_type": "code",
      "source": [
        "t1=tc.randn(3,4)\n",
        "param=int(input(\"Enter values between 1 to 3\\n\"))\n",
        "\n",
        "def newdim(tens, para):\n",
        "  if(para==1):\n",
        "    ans=t1[None, ]\n",
        "  elif(para==2):\n",
        "    ans=t1[:, None, ]\n",
        "  else:\n",
        "    ans=t1[:, :, None]\n",
        "\n",
        "  return ans\n",
        "\n",
        "print(newdim(t1, param).shape)"
      ],
      "metadata": {
        "id": "38vF5Dwk5Dbi",
        "colab": {
          "base_uri": "https://localhost:8080/"
        },
        "outputId": "9bd74702-d1c3-43bd-f1a3-def99afa8e1e"
      },
      "execution_count": 25,
      "outputs": [
        {
          "output_type": "stream",
          "name": "stdout",
          "text": [
            "Enter values between 1 to 3\n",
            "2\n",
            "torch.Size([3, 1, 4])\n"
          ]
        }
      ]
    },
    {
      "cell_type": "markdown",
      "source": [
        "25. Write a PyTorch snippet to stack tensors based on a parameter, **axis**.\n",
        "First discover what this means with 2-tensors, then extend it to 3-tensors. Print your findings.\n",
        "\n",
        "Sample Output:\n",
        "\n",
        "Original tensors:\n",
        "\n",
        "Tensor-1\n",
        "```\n",
        "[[0 1 2]\n",
        "[3 4 5]\n",
        "[6 7 8]]\n",
        "```\n",
        "Tensor-2\n",
        "```\n",
        "[[ 0 3 6]\n",
        "[ 9 12 15]\n",
        "[18 21 24]]\n",
        "```\n",
        "Stack tensors such that axis=1:\n",
        "```\n",
        "[[ 0 1 2 0 3 6]\n",
        "[ 3 4 5 9 12 15]\n",
        "[ 6 7 8 18 21 24]]\n",
        "```"
      ],
      "metadata": {
        "id": "K4GeygLp7wAt"
      }
    },
    {
      "cell_type": "code",
      "source": [
        "#In 2D\n",
        "t1=tc.tensor([[0, 1, 2],[3, 4, 5],[6, 7, 8]])\n",
        "t2=tc.tensor([[ 0, 3, 6],[ 9, 12, 15],[18, 21, 24]])\n",
        "print(t1,t2)\n",
        "ax=int(input(\"Enter 0 or 1 \\n\"))\n",
        "\n",
        "def stacking(tens:tuple, axis:int):\n",
        "  new=tc.cat(tens, axis=axis) #Use tc.stack(same syntax) for stacking, however this adds another dimension while cat()stacks the tensors along an existing dimension\n",
        "\n",
        "  return new\n",
        "\n",
        "\n",
        "print(stacking((t1,t2), ax))\n",
        "print(\"\\n\")\n",
        "#In 3D\n",
        "t1=tc.tensor([[[0, 1, 2],[3, 4, 5],[6, 7, 8]], [[45,54,71],[48,65,91],[75,235,64]]])\n",
        "t2=tc.tensor([[[ 0, 3, 6],[ 9, 12, 15],[18, 21, 24]], [[7,1,3],[11,55,81],[9,23,14]]])\n",
        "print(t1,t2)\n",
        "ax=int(input(\"Enter 0 or 1 or 2\\n\"))\n",
        "\n",
        "print(stacking((t1,t2), ax))\n"
      ],
      "metadata": {
        "id": "-37mCkKH75fN",
        "colab": {
          "base_uri": "https://localhost:8080/"
        },
        "outputId": "32749402-8f6e-4883-b6bf-016db1227b6b"
      },
      "execution_count": 26,
      "outputs": [
        {
          "output_type": "stream",
          "name": "stdout",
          "text": [
            "tensor([[0, 1, 2],\n",
            "        [3, 4, 5],\n",
            "        [6, 7, 8]]) tensor([[ 0,  3,  6],\n",
            "        [ 9, 12, 15],\n",
            "        [18, 21, 24]])\n",
            "Enter 0 or 1 \n",
            "0\n",
            "tensor([[ 0,  1,  2],\n",
            "        [ 3,  4,  5],\n",
            "        [ 6,  7,  8],\n",
            "        [ 0,  3,  6],\n",
            "        [ 9, 12, 15],\n",
            "        [18, 21, 24]])\n",
            "\n",
            "\n",
            "tensor([[[  0,   1,   2],\n",
            "         [  3,   4,   5],\n",
            "         [  6,   7,   8]],\n",
            "\n",
            "        [[ 45,  54,  71],\n",
            "         [ 48,  65,  91],\n",
            "         [ 75, 235,  64]]]) tensor([[[ 0,  3,  6],\n",
            "         [ 9, 12, 15],\n",
            "         [18, 21, 24]],\n",
            "\n",
            "        [[ 7,  1,  3],\n",
            "         [11, 55, 81],\n",
            "         [ 9, 23, 14]]])\n",
            "Enter 0 or 1 or 2\n",
            "1\n",
            "tensor([[[  0,   1,   2],\n",
            "         [  3,   4,   5],\n",
            "         [  6,   7,   8],\n",
            "         [  0,   3,   6],\n",
            "         [  9,  12,  15],\n",
            "         [ 18,  21,  24]],\n",
            "\n",
            "        [[ 45,  54,  71],\n",
            "         [ 48,  65,  91],\n",
            "         [ 75, 235,  64],\n",
            "         [  7,   1,   3],\n",
            "         [ 11,  55,  81],\n",
            "         [  9,  23,  14]]])\n"
          ]
        }
      ]
    },
    {
      "cell_type": "markdown",
      "source": [
        "26. Write a PyTorch snippet to extract the **m**th to **n**th elements of the **m**th to **n**th rows from the **m**th to nth elemnts of given 3-tensor, of shape `(p, q, r)` where m, n < p, q, r.\n",
        "\n",
        "Take a 3-tensor of (say) size `(5,6,7)` and `(m, n)` = `(4, 5)` as a test case!"
      ],
      "metadata": {
        "id": "6kix-xlh8hFz"
      }
    },
    {
      "cell_type": "code",
      "source": [
        "sample=tc.randn(size=(5,6,7))\n",
        "(m,n)=(2,4)\n",
        "m-=1\n",
        "n-=1\n",
        "\n",
        "arr=sample[m:n, m:n, m:n]\n",
        "\n",
        "\n",
        "print(sample)\n",
        "\n",
        "print(\"\\n\\n\")\n",
        "\n",
        "print(arr)\n",
        "\n"
      ],
      "metadata": {
        "id": "w-rnFTIwW-f9",
        "colab": {
          "base_uri": "https://localhost:8080/"
        },
        "outputId": "c106d245-cd98-44eb-8e3a-2409c1709fe5"
      },
      "execution_count": 27,
      "outputs": [
        {
          "output_type": "stream",
          "name": "stdout",
          "text": [
            "tensor([[[ 1.6337e+00,  4.6636e-01, -4.7153e-01,  3.5461e-01,  7.3759e-01,\n",
            "           7.0501e-01, -1.6186e+00],\n",
            "         [-1.2594e-01,  1.4455e-02,  1.8289e-01, -1.0222e+00,  3.4774e-01,\n",
            "          -1.6351e-01,  4.2645e-01],\n",
            "         [-1.5246e+00, -2.1017e+00,  8.3022e-01, -2.0500e-01, -1.0110e+00,\n",
            "           1.4844e+00,  1.7373e+00],\n",
            "         [-5.9176e-01, -2.3493e+00,  6.3538e-01, -1.8763e+00,  1.7783e-01,\n",
            "           1.6679e+00, -1.0878e+00],\n",
            "         [ 3.6839e-01, -2.6967e-01, -7.5996e-01, -1.6249e-01, -5.7505e-01,\n",
            "           5.6767e-01, -3.0083e-01],\n",
            "         [-9.6388e-01, -6.4135e-01, -6.9288e-01,  7.8985e-01, -1.5494e+00,\n",
            "           1.5265e+00, -3.1350e-01]],\n",
            "\n",
            "        [[ 5.0856e-02, -8.2889e-01, -1.9748e-01,  6.8333e-02,  8.2427e-01,\n",
            "           9.5042e-01,  4.4906e-01],\n",
            "         [ 3.2686e-01, -5.5988e-01,  8.5687e-01,  1.1872e+00,  1.1286e+00,\n",
            "          -9.9874e-01, -7.3667e-01],\n",
            "         [ 8.4084e-01, -3.2274e+00,  2.2593e-01,  2.0444e-01,  8.2178e-02,\n",
            "           3.3186e-01,  4.1957e-01],\n",
            "         [-1.5679e+00,  3.1673e-02,  1.7772e+00, -5.0450e-01, -1.0937e+00,\n",
            "           5.2736e-01, -6.6799e-01],\n",
            "         [ 9.9262e-01, -3.2219e-01, -1.0524e+00, -6.0381e-01,  3.4578e-01,\n",
            "          -5.3925e-01,  1.2342e+00],\n",
            "         [ 5.4516e-01,  5.2636e-01,  6.4005e-01,  1.9366e+00,  7.8429e-01,\n",
            "          -5.3126e-01,  1.2243e-01]],\n",
            "\n",
            "        [[-1.4601e+00, -5.2595e-01,  1.7093e-01, -1.1557e-03,  1.3495e+00,\n",
            "          -1.2656e+00,  2.6782e-01],\n",
            "         [ 4.9259e-01, -8.6340e-01, -3.5907e-01, -2.6468e-01,  4.7119e-02,\n",
            "          -8.8923e-01,  3.7650e-01],\n",
            "         [-5.7359e-01, -2.4553e-01, -1.6113e+00,  6.2846e-02, -3.0122e-01,\n",
            "           1.0978e+00, -3.6232e-02],\n",
            "         [ 2.2783e+00, -2.1064e-01, -2.0495e+00,  1.9482e-01,  1.2333e-01,\n",
            "          -3.6038e-01,  8.5117e-01],\n",
            "         [ 3.3393e-01, -9.8701e-01, -8.5872e-01,  1.3313e+00, -5.1640e-01,\n",
            "          -1.3922e+00, -9.7811e-01],\n",
            "         [ 8.9657e-01, -1.3536e+00, -1.6541e-01, -8.9424e-01, -7.5864e-01,\n",
            "           1.9169e+00,  8.6325e-01]],\n",
            "\n",
            "        [[-1.0264e+00, -1.6722e+00,  2.2562e-01,  6.4064e-02, -1.2430e+00,\n",
            "           2.0717e+00,  8.7994e-01],\n",
            "         [ 5.9265e-01, -2.1085e+00, -2.5060e-02, -3.1786e-01, -1.6656e-01,\n",
            "           1.9208e+00, -6.6016e-01],\n",
            "         [ 1.3786e-01, -8.7509e-01, -1.3733e+00,  1.4799e+00,  2.7003e-01,\n",
            "           1.0477e-01,  1.4161e+00],\n",
            "         [ 1.6406e+00,  1.9104e-01,  4.3171e-01, -6.8539e-01,  8.6225e-01,\n",
            "          -1.0876e-01, -1.0670e+00],\n",
            "         [-3.4772e-01, -2.0827e+00,  3.9535e-01,  8.0046e-01, -7.0998e-01,\n",
            "          -1.1898e+00,  1.2650e+00],\n",
            "         [ 9.7891e-03, -3.1356e-01,  2.1004e+00,  1.1749e-01,  9.7025e-01,\n",
            "           8.0849e-01,  5.7134e-01]],\n",
            "\n",
            "        [[ 8.9609e-01,  1.6284e+00,  2.2409e+00, -1.9041e-01, -1.4547e+00,\n",
            "          -1.3679e-01, -1.0681e+00],\n",
            "         [-2.4042e-01,  1.0485e+00,  1.6254e-01,  8.9524e-01, -3.4242e-01,\n",
            "           5.4473e-01, -2.2760e+00],\n",
            "         [-6.9351e-01, -2.5686e-01,  1.2580e-01, -3.7123e-01,  8.7194e-01,\n",
            "          -7.6359e-01,  6.7720e-01],\n",
            "         [ 1.0682e+00,  5.0074e-01,  2.0054e-01,  4.3635e-01,  2.0055e+00,\n",
            "           4.5055e-01,  8.3638e-01],\n",
            "         [ 1.2787e+00, -2.0335e-01,  1.6745e+00,  2.1271e+00, -1.8515e-01,\n",
            "           7.9524e-01,  7.2041e-01],\n",
            "         [ 2.7792e-01,  4.4152e-01, -1.4535e+00, -7.7637e-02,  2.4722e+00,\n",
            "          -1.6271e-01, -3.6999e-01]]])\n",
            "\n",
            "\n",
            "\n",
            "tensor([[[-0.5599,  0.8569],\n",
            "         [-3.2274,  0.2259]],\n",
            "\n",
            "        [[-0.8634, -0.3591],\n",
            "         [-0.2455, -1.6113]]])\n"
          ]
        }
      ]
    },
    {
      "cell_type": "markdown",
      "source": [
        "### **Test your Understanding**"
      ],
      "metadata": {
        "id": "IxOFseFaxEQu"
      }
    },
    {
      "cell_type": "markdown",
      "source": [
        "1. Given a 3D tensor of shape `(a, b, c)`*italicised text*, permute its axes to obtain tensors of all other shape combinations (i.e 5)."
      ],
      "metadata": {
        "id": "Vzbo4s_KAsE9"
      }
    },
    {
      "cell_type": "code",
      "source": [
        "from itertools import permutations\n",
        "a,b,c = map(int,input().split())\n",
        "\n",
        "t=tc.randn(size=(a,b,c))\n",
        "print(t)\n",
        "order=permutations([0,1,2])\n",
        "\n",
        "final=[]\n",
        "\n",
        "for i in order:\n",
        "  t1=tc.permute(t, tuple(i))\n",
        "  final.append(t1)\n",
        "\n",
        "\n",
        "print(\"\\n\")\n",
        "\n",
        "for i in final:\n",
        "  print(i, i.shape)\n"
      ],
      "metadata": {
        "id": "R791RvsIAh3O",
        "colab": {
          "base_uri": "https://localhost:8080/"
        },
        "outputId": "539618cf-8e99-4f86-c63e-31090b88f242"
      },
      "execution_count": 28,
      "outputs": [
        {
          "output_type": "stream",
          "name": "stdout",
          "text": [
            "1 2 3\n",
            "tensor([[[ 0.0134, -0.7579,  0.4591],\n",
            "         [ 0.8340,  0.0587,  1.2154]]])\n",
            "\n",
            "\n",
            "tensor([[[ 0.0134, -0.7579,  0.4591],\n",
            "         [ 0.8340,  0.0587,  1.2154]]]) torch.Size([1, 2, 3])\n",
            "tensor([[[ 0.0134,  0.8340],\n",
            "         [-0.7579,  0.0587],\n",
            "         [ 0.4591,  1.2154]]]) torch.Size([1, 3, 2])\n",
            "tensor([[[ 0.0134, -0.7579,  0.4591]],\n",
            "\n",
            "        [[ 0.8340,  0.0587,  1.2154]]]) torch.Size([2, 1, 3])\n",
            "tensor([[[ 0.0134],\n",
            "         [-0.7579],\n",
            "         [ 0.4591]],\n",
            "\n",
            "        [[ 0.8340],\n",
            "         [ 0.0587],\n",
            "         [ 1.2154]]]) torch.Size([2, 3, 1])\n",
            "tensor([[[ 0.0134,  0.8340]],\n",
            "\n",
            "        [[-0.7579,  0.0587]],\n",
            "\n",
            "        [[ 0.4591,  1.2154]]]) torch.Size([3, 1, 2])\n",
            "tensor([[[ 0.0134],\n",
            "         [ 0.8340]],\n",
            "\n",
            "        [[-0.7579],\n",
            "         [ 0.0587]],\n",
            "\n",
            "        [[ 0.4591],\n",
            "         [ 1.2154]]]) torch.Size([3, 2, 1])\n"
          ]
        }
      ]
    },
    {
      "cell_type": "markdown",
      "source": [
        "2. Given a 4D tensor of shape `(2, 3, 4, 5)`, transpose it to obtain a tensor of shape `(2, 4, 5, 3)`. Also explore what is_contiguous() means..."
      ],
      "metadata": {
        "id": "CwETJF5fAz-j"
      }
    },
    {
      "cell_type": "code",
      "source": [
        "t=tc.randn(size=(2,3,4,5))\n",
        "\n",
        "ans=tc.permute(t, (0,2,3,1))\n",
        "\n",
        "print(ans.shape)\n",
        "\n",
        "\n",
        "#or\n",
        "\n",
        "new= tc.transpose(t,1,2)\n",
        "new=tc.transpose(new, 2,3)\n",
        "\n",
        "print(new.shape)\n"
      ],
      "metadata": {
        "id": "tfdlEGx3Ag2B",
        "colab": {
          "base_uri": "https://localhost:8080/"
        },
        "outputId": "9bf60e79-3776-4c2c-c120-4bd79b773b84"
      },
      "execution_count": 29,
      "outputs": [
        {
          "output_type": "stream",
          "name": "stdout",
          "text": [
            "torch.Size([2, 4, 5, 3])\n",
            "torch.Size([2, 4, 5, 3])\n"
          ]
        }
      ]
    },
    {
      "cell_type": "markdown",
      "source": [
        "3. Given two tensors, one of shape (n, 1) and another of shape (m, ), perform an element-wise addition."
      ],
      "metadata": {
        "id": "W13ajP4aBO3v"
      }
    },
    {
      "cell_type": "code",
      "source": [
        "m,n = map(int, input().split())\n",
        "\n",
        "t1=tc.randn(size=(m,))\n",
        "t2=tc.randn(size=(n,1))\n",
        "print(t1, t2)\n",
        "\n",
        "\n",
        "def add(t1, t2, n, m):\n",
        "  new1=t1.repeat(n, 1)\n",
        "  new2=t2.repeat(1, m)\n",
        "\n",
        "  ans=new1+new2\n",
        "\n",
        "  return ans\n",
        "\n",
        "\n",
        "\n",
        "manual_add=add(t1, t2, n, m)  #BY MANUAL BROADCASTING\n",
        "print(manual_add)\n",
        "\n",
        "print(\"\\n\")\n",
        "simple_add=t1+t2\n",
        "print(simple_add)\n"
      ],
      "metadata": {
        "id": "3AtpWGh1Bdpd",
        "colab": {
          "base_uri": "https://localhost:8080/"
        },
        "outputId": "10829aa5-ca82-4f11-e41b-e5f657385ade"
      },
      "execution_count": 30,
      "outputs": [
        {
          "output_type": "stream",
          "name": "stdout",
          "text": [
            "3 4\n",
            "tensor([-0.7824,  0.9722,  0.1129]) tensor([[ 0.7828],\n",
            "        [ 0.3813],\n",
            "        [ 1.3984],\n",
            "        [-0.3211]])\n",
            "tensor([[ 4.1699e-04,  1.7550e+00,  8.9573e-01],\n",
            "        [-4.0106e-01,  1.3535e+00,  4.9426e-01],\n",
            "        [ 6.1603e-01,  2.3706e+00,  1.5113e+00],\n",
            "        [-1.1035e+00,  6.5107e-01, -2.0815e-01]])\n",
            "\n",
            "\n",
            "tensor([[ 4.1699e-04,  1.7550e+00,  8.9573e-01],\n",
            "        [-4.0106e-01,  1.3535e+00,  4.9426e-01],\n",
            "        [ 6.1603e-01,  2.3706e+00,  1.5113e+00],\n",
            "        [-1.1035e+00,  6.5107e-01, -2.0815e-01]])\n"
          ]
        }
      ]
    },
    {
      "cell_type": "markdown",
      "source": [
        "4. Given a 3D tensor of shape `(4, 4, 4)`, extract a sub-tensor of shape `(2, 2, 2)` starting from the element at index `(1, 1, 1)`**bold text**."
      ],
      "metadata": {
        "id": "LnyUlwKWBeUz"
      }
    },
    {
      "cell_type": "code",
      "source": [
        "arr=tc.randn(size=(4,4,4))\n",
        "\n",
        "arr2= arr[1:, 1:, 1:]\n",
        "\n",
        "final=arr2[0:2, 0:2, :]\n",
        "\n",
        "print(f\"{arr}\\n{arr2}\\n\\n\\n{final}\")\n",
        "\n"
      ],
      "metadata": {
        "id": "1oRhgDE6BqKg",
        "colab": {
          "base_uri": "https://localhost:8080/"
        },
        "outputId": "3b853c74-e77c-41d5-90b0-5afb92fc3ec3"
      },
      "execution_count": 31,
      "outputs": [
        {
          "output_type": "stream",
          "name": "stdout",
          "text": [
            "tensor([[[-0.7994, -0.5145,  0.2102, -0.5786],\n",
            "         [ 0.1324, -0.8170,  0.8421,  1.5708],\n",
            "         [-1.2188,  0.5896,  1.0460,  0.8398],\n",
            "         [ 1.1214, -0.4229, -0.1382,  1.4361]],\n",
            "\n",
            "        [[-0.3380,  1.3103, -0.3974,  0.1228],\n",
            "         [ 0.2562, -0.1541,  0.8296, -0.2543],\n",
            "         [ 0.5239,  0.5825, -1.0726, -1.3173],\n",
            "         [-0.2211, -0.1549, -0.8843, -2.5094]],\n",
            "\n",
            "        [[ 0.3866, -0.9141,  1.3633,  1.3031],\n",
            "         [ 0.0140, -0.8112, -0.3374,  2.5187],\n",
            "         [ 0.1167, -0.0609, -0.4546,  0.0210],\n",
            "         [ 0.7924,  0.6178,  0.1336, -1.0222]],\n",
            "\n",
            "        [[-0.1406, -0.7860, -0.5676, -1.2570],\n",
            "         [-0.9740,  0.8304, -2.3408, -1.1310],\n",
            "         [-0.5440, -1.4671, -0.6841, -1.5797],\n",
            "         [ 0.4907, -1.3621, -0.0225,  0.5943]]])\n",
            "tensor([[[-0.1541,  0.8296, -0.2543],\n",
            "         [ 0.5825, -1.0726, -1.3173],\n",
            "         [-0.1549, -0.8843, -2.5094]],\n",
            "\n",
            "        [[-0.8112, -0.3374,  2.5187],\n",
            "         [-0.0609, -0.4546,  0.0210],\n",
            "         [ 0.6178,  0.1336, -1.0222]],\n",
            "\n",
            "        [[ 0.8304, -2.3408, -1.1310],\n",
            "         [-1.4671, -0.6841, -1.5797],\n",
            "         [-1.3621, -0.0225,  0.5943]]])\n",
            "\n",
            "\n",
            "tensor([[[-0.1541,  0.8296, -0.2543],\n",
            "         [ 0.5825, -1.0726, -1.3173]],\n",
            "\n",
            "        [[-0.8112, -0.3374,  2.5187],\n",
            "         [-0.0609, -0.4546,  0.0210]]])\n"
          ]
        }
      ]
    },
    {
      "cell_type": "markdown",
      "source": [
        "5. Given a 2-tensor of arbitrary shape, rotate it 90 degrees anticlockwise.\n",
        "\n"
      ],
      "metadata": {
        "id": "-GJaZaZyBsaU"
      }
    },
    {
      "cell_type": "code",
      "source": [
        "t1=tc.randn(size=(3,4))\n",
        "\n",
        "ans=tc.rot90(t1)\n",
        "print(t1,ans)"
      ],
      "metadata": {
        "id": "fb5enhEsB1Um",
        "colab": {
          "base_uri": "https://localhost:8080/"
        },
        "outputId": "d6c2d2b2-4b76-4a40-88c6-3580f4498ea4"
      },
      "execution_count": 32,
      "outputs": [
        {
          "output_type": "stream",
          "name": "stdout",
          "text": [
            "tensor([[ 0.8605, -0.1232, -0.3610,  0.1043],\n",
            "        [-0.4352, -0.2973,  0.1562, -0.3996],\n",
            "        [ 0.0327,  1.1134,  0.8950, -1.2411]]) tensor([[ 0.1043, -0.3996, -1.2411],\n",
            "        [-0.3610,  0.1562,  0.8950],\n",
            "        [-0.1232, -0.2973,  1.1134],\n",
            "        [ 0.8605, -0.4352,  0.0327]])\n"
          ]
        }
      ]
    },
    {
      "cell_type": "markdown",
      "source": [
        "### **EVEN I HAD TO THINK...**"
      ],
      "metadata": {
        "id": "DNTlDxZ4C4-R"
      }
    },
    {
      "cell_type": "markdown",
      "source": [
        "1. Implement a custom operation that computes the **element-wise** **sine** of a tensor *and* its **gradient** using torch.autograd.Function.\n",
        "- You need to implement both the forward() and backward() methods.\n",
        "- For an example, look no further than the [PyTorch docs](https://pytorch.org/docs/stable/autograd.html#function)!\n",
        "- Test it out on a matrix of arbitrary size!"
      ],
      "metadata": {
        "id": "Mh71KC4rDAcY"
      }
    },
    {
      "cell_type": "code",
      "source": [
        "tc.manual_seed(42)\n",
        "test= tc.randn(size=(3,4), requires_grad=True)\n",
        "\n",
        "sine= tc.sin(test)\n",
        "print(sine)\n",
        "\n",
        "out= tc.sum(sine)\n",
        "\n",
        "out.backward()\n",
        "\n",
        "final=test.grad\n",
        "\n",
        "print(final)\n",
        "\n",
        "# or\n",
        "#Forward pass using torch.autograd\n",
        "\n",
        "# final=tc.autograd.grad(out, test)\n",
        "# print(final)\n",
        "\n",
        "\n"
      ],
      "metadata": {
        "id": "0Ntq8CgFC9jy",
        "colab": {
          "base_uri": "https://localhost:8080/"
        },
        "outputId": "b9f1651b-50d6-4208-e3de-4830cc38f588"
      },
      "execution_count": 43,
      "outputs": [
        {
          "output_type": "stream",
          "name": "stdout",
          "text": [
            "tensor([[ 0.3304,  0.1285,  0.2323,  0.2283],\n",
            "        [-0.9013, -0.1853,  0.8036, -0.5956],\n",
            "        [ 0.4454,  0.2642,  0.5098,  0.7238]], grad_fn=<SinBackward0>)\n",
            "(tensor([[ 0.9439,  0.9917,  0.9726,  0.9736],\n",
            "        [ 0.4331,  0.9827, -0.5951,  0.8033],\n",
            "        [ 0.8953,  0.9645,  0.8603,  0.6900]]),)\n"
          ]
        }
      ]
    },
    {
      "cell_type": "markdown",
      "source": [
        "2. One of the most important aspects of improving model performance ins normalization. Implement a custom NN normalization layer that performs either a **batch** or **layer** normalization (based on a **dim** parameter)and integrate it into a simple feedforward neural network.\n",
        "- Note that you dont need to implement any backward() here, for simplicity.\n",
        "- Consider your input tensor to the neural network as of shape (m, n) where m is num of examples, n is num of features.\n",
        "- Which value of **dim** leads to batch and layer normalization?"
      ],
      "metadata": {
        "id": "s6GDwW-dFCyT"
      }
    },
    {
      "cell_type": "code",
      "source": [
        "sample=tc.rand(size=(3,4))\n",
        "\n",
        "#Batch Normalisation, dim=1\n",
        "\n",
        "batch=tc.nn.functional.normalize(sample, dim=1)\n",
        "\n",
        "#Layer Normalisation\n",
        "\n",
        "layer=tc.nn.functional.normalize(sample, dim=0)\n",
        "\n",
        "# print(f\"sample: \\n{sample}\\nBatch Normalised:\\n{batch}\\nLayer Normalised:\\n{layer}\")\n",
        "\n",
        "\n",
        "class model(nn.Module):\n",
        "  def __init__(self, inp):\n",
        "    super().__init__()\n",
        "    self.input=(inp.shape)[1]\n",
        "\n",
        "\n",
        "    self.linear=nn.Sequential(\n",
        "        nn.Linear(\n",
        "          in_features=self.input,\n",
        "          out_features=6\n",
        "     ),\n",
        "        nn.Linear(\n",
        "          in_features=6,\n",
        "          out_features=1\n",
        "      )\n",
        "    )\n",
        "\n",
        "  def forward(self, inp):\n",
        "    return self.linear(inp)\n",
        "\n",
        "\n",
        "ans=model(batch)\n",
        "\n",
        "ans.state_dict()\n"
      ],
      "metadata": {
        "id": "I7T62ZcaUNEP",
        "colab": {
          "base_uri": "https://localhost:8080/"
        },
        "outputId": "2b9b2671-a7ed-4c09-f980-da014eba28c7"
      },
      "execution_count": 34,
      "outputs": [
        {
          "output_type": "execute_result",
          "data": {
            "text/plain": [
              "OrderedDict([('linear.0.weight',\n",
              "              tensor([[ 0.0779,  0.4040,  0.0547, -0.1577],\n",
              "                      [ 0.1343, -0.1356,  0.2104,  0.4464],\n",
              "                      [ 0.2890, -0.2186,  0.2886,  0.0895],\n",
              "                      [ 0.2539, -0.3048, -0.4950, -0.1932],\n",
              "                      [-0.3835,  0.4103,  0.1440,  0.2071],\n",
              "                      [ 0.1581, -0.0087,  0.3913, -0.3553]])),\n",
              "             ('linear.0.bias',\n",
              "              tensor([ 0.0315, -0.3413,  0.1542, -0.1722,  0.1532, -0.1042])),\n",
              "             ('linear.1.weight',\n",
              "              tensor([[ 0.3386, -0.2420, -0.2435, -0.2435,  0.3672,  0.1360]])),\n",
              "             ('linear.1.bias', tensor([0.3928]))])"
            ]
          },
          "metadata": {},
          "execution_count": 34
        }
      ]
    },
    {
      "cell_type": "markdown",
      "source": [
        "3. Given a 4D tensor of shape (2, 3, 4, 5), create a mask that sets all elements in positions where the sum of indices is even to zero."
      ],
      "metadata": {
        "id": "YEc0BxM8GGcL"
      }
    },
    {
      "cell_type": "code",
      "source": [
        "sample=tc.randn(size=(2,3,4,5))\n",
        "\n",
        "indices=tc.nonzero(sample)\n",
        "indices\n",
        "\n",
        "\n",
        "for index in indices:\n",
        "  if(index.sum()%2==0):\n",
        "    sample[list(index)]=0\n",
        "\n",
        "\n",
        "sample\n"
      ],
      "metadata": {
        "id": "pJ3FD5XiGLh8",
        "colab": {
          "base_uri": "https://localhost:8080/"
        },
        "outputId": "586f3bf6-7ecf-47a2-b1d4-897b76d04ed9"
      },
      "execution_count": 35,
      "outputs": [
        {
          "output_type": "execute_result",
          "data": {
            "text/plain": [
              "tensor([[[[ 0.0000,  0.0087,  0.0000,  0.1971,  0.0000],\n",
              "          [ 0.3383,  0.0000,  0.0109,  0.0000, -0.0898],\n",
              "          [ 0.0000, -0.5644,  0.0000, -1.4692,  0.0000],\n",
              "          [ 0.7440,  0.0000, -0.6021,  0.0000,  0.4048]],\n",
              "\n",
              "         [[-1.3543,  0.0000,  0.4747,  0.0000,  1.2683],\n",
              "          [ 0.0000,  0.0981,  0.0000, -1.3527,  0.0000],\n",
              "          [ 0.5526,  0.0000,  0.5743,  0.0000, -0.3576],\n",
              "          [ 0.0000,  0.5886,  0.0000,  0.4098,  0.0000]],\n",
              "\n",
              "         [[ 0.0000,  0.3499,  0.0000, -0.1693,  0.0000],\n",
              "          [ 4.0356,  0.0000, -0.0127,  0.0000,  1.0131],\n",
              "          [ 0.0000,  0.5177,  0.0000, -0.5797,  0.0000],\n",
              "          [ 1.9312,  0.0000, -0.4752,  0.0000,  0.2704]]],\n",
              "\n",
              "\n",
              "        [[[-0.5628,  0.0000,  0.4405,  0.0000, -0.0606],\n",
              "          [ 0.0000,  0.8187,  0.0000,  0.3449,  0.0000],\n",
              "          [-0.1163,  0.0000, -0.0467,  0.0000, -0.5665],\n",
              "          [ 0.0000,  0.2625,  0.0000,  0.5214,  0.0000]],\n",
              "\n",
              "         [[ 0.0000, -2.2933,  0.0000, -0.4257,  0.0000],\n",
              "          [-0.1933,  0.0000, -1.9006,  0.0000, -0.9808],\n",
              "          [ 0.0000, -1.6535,  0.0000,  1.4611,  0.0000],\n",
              "          [-1.6022,  0.0000,  0.5712,  0.0000, -1.2956]],\n",
              "\n",
              "         [[ 0.0503,  0.0000, -0.3900,  0.0000, -0.9216],\n",
              "          [ 0.0000, -0.3370,  0.0000,  0.3581,  0.0000],\n",
              "          [ 1.3537,  0.0000,  2.1120,  0.0000, -0.9320],\n",
              "          [ 0.0000,  1.0687,  0.0000,  0.4598,  0.0000]]]])"
            ]
          },
          "metadata": {},
          "execution_count": 35
        }
      ]
    },
    {
      "cell_type": "markdown",
      "source": [
        "4. Given two tensors, one of shape `(3, 1, 4)` and another of shape `(1, 5, 1)`, compute their element-wise multiplication using broadcasting and then sum over specific axes to obtain a tensor of shape `(3, 5)`."
      ],
      "metadata": {
        "id": "Tv557NaJGMlQ"
      }
    },
    {
      "cell_type": "code",
      "source": [
        "#Element wise multiplication\n",
        "\n",
        "t1=tc.randn(size=(3,1,4))\n",
        "t2=tc.randn(size=(1,5,1))\n",
        "\n",
        "simple_mult=t1*t2\n",
        "\n",
        "new1=t1.repeat(1,5,1)\n",
        "new2=t2.repeat(3,1,4)\n",
        "\n",
        "manual_mult= new1*new2\n",
        "\n",
        "\n",
        "print(f\"{simple_mult}\\n{manual_mult}\")\n",
        "\n",
        "\n",
        "#Sum to get the shape (3,5)\n",
        "ans=tc.sum(simple_mult, dim=2)\n",
        "final=ans.squeeze()\n",
        "\n",
        "print(\"\\n\")\n",
        "\n",
        "print(final)\n",
        "\n"
      ],
      "metadata": {
        "id": "qP3EGgyXGMMH",
        "colab": {
          "base_uri": "https://localhost:8080/"
        },
        "outputId": "5fca0b83-359d-4527-9481-91ba9c0555e2"
      },
      "execution_count": 36,
      "outputs": [
        {
          "output_type": "stream",
          "name": "stdout",
          "text": [
            "tensor([[[ 0.1205, -0.1641,  0.1757,  0.1187],\n",
            "         [-0.1349,  0.1837, -0.1968, -0.1329],\n",
            "         [-0.8562,  1.1659, -1.2486, -0.8434],\n",
            "         [ 0.2315, -0.3152,  0.3376,  0.2280],\n",
            "         [-1.7287,  2.3538, -2.5209, -1.7028]],\n",
            "\n",
            "        [[-0.1165,  0.0267, -0.0611,  0.0338],\n",
            "         [ 0.1305, -0.0299,  0.0684, -0.0379],\n",
            "         [ 0.8281, -0.1899,  0.4342, -0.2403],\n",
            "         [-0.2239,  0.0513, -0.1174,  0.0650],\n",
            "         [ 1.6719, -0.3835,  0.8767, -0.4852]],\n",
            "\n",
            "        [[ 0.0514,  0.1043, -0.2836, -0.0966],\n",
            "         [-0.0576, -0.1168,  0.3175,  0.1081],\n",
            "         [-0.3655, -0.7411,  2.0151,  0.6863],\n",
            "         [ 0.0988,  0.2003, -0.5448, -0.1855],\n",
            "         [-0.7378, -1.4962,  4.0684,  1.3855]]])\n",
            "tensor([[[ 0.1205, -0.1641,  0.1757,  0.1187],\n",
            "         [-0.1349,  0.1837, -0.1968, -0.1329],\n",
            "         [-0.8562,  1.1659, -1.2486, -0.8434],\n",
            "         [ 0.2315, -0.3152,  0.3376,  0.2280],\n",
            "         [-1.7287,  2.3538, -2.5209, -1.7028]],\n",
            "\n",
            "        [[-0.1165,  0.0267, -0.0611,  0.0338],\n",
            "         [ 0.1305, -0.0299,  0.0684, -0.0379],\n",
            "         [ 0.8281, -0.1899,  0.4342, -0.2403],\n",
            "         [-0.2239,  0.0513, -0.1174,  0.0650],\n",
            "         [ 1.6719, -0.3835,  0.8767, -0.4852]],\n",
            "\n",
            "        [[ 0.0514,  0.1043, -0.2836, -0.0966],\n",
            "         [-0.0576, -0.1168,  0.3175,  0.1081],\n",
            "         [-0.3655, -0.7411,  2.0151,  0.6863],\n",
            "         [ 0.0988,  0.2003, -0.5448, -0.1855],\n",
            "         [-0.7378, -1.4962,  4.0684,  1.3855]]])\n",
            "\n",
            "\n",
            "tensor([[ 0.2508, -0.2809, -1.7824,  0.4819, -3.5986],\n",
            "        [-0.1171,  0.1311,  0.8321, -0.2250,  1.6799],\n",
            "        [-0.2244,  0.2513,  1.5949, -0.4312,  3.2200]])\n"
          ]
        }
      ]
    },
    {
      "cell_type": "code",
      "source": [],
      "metadata": {
        "id": "JF2j-oAy8dEI"
      },
      "execution_count": 36,
      "outputs": []
    }
  ]
}